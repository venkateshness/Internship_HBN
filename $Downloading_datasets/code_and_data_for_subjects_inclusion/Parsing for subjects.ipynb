{
 "cells": [
  {
   "cell_type": "code",
   "execution_count": 1,
   "metadata": {},
   "outputs": [],
   "source": [
    "import scipy\n",
    "from scipy import io\n",
    "import numpy as np\n",
    "import os\n",
    "mat = scipy.io.loadmat('subject_list.mat')"
   ]
  },
  {
   "cell_type": "code",
   "execution_count": 2,
   "metadata": {},
   "outputs": [],
   "source": [
    "import pandas as pd\n",
    "df = pd.DataFrame(mat['good_EEG'])\n",
    "df1 = pd.DataFrame(mat['not_bad_EEG'])\n",
    "df_sliced = [df.values[i][0][0] for i in range(len(df))]\n",
    "df_sliced2 = [df1.values[i][0][0] for i in range(len(df1))]\n",
    "df_total = list(set(df_sliced).union(set(df_sliced2)))"
   ]
  },
  {
   "cell_type": "code",
   "execution_count": 3,
   "metadata": {},
   "outputs": [
    {
     "data": {
      "text/plain": [
       "1330"
      ]
     },
     "execution_count": 3,
     "metadata": {},
     "output_type": "execute_result"
    }
   ],
   "source": [
    "len(df_total)"
   ]
  },
  {
   "cell_type": "code",
   "execution_count": 17,
   "metadata": {},
   "outputs": [
    {
     "data": {
      "text/plain": [
       "229"
      ]
     },
     "execution_count": 17,
     "metadata": {},
     "output_type": "execute_result"
    }
   ],
   "source": [
    "df_SI =pd.read_csv('participants_SI.tsv')\n",
    "df_RU =pd.read_csv('participants_RU.tsv',sep='\\t')\n",
    "df_CUNY =pd.read_csv('participants CUNY.tsv',sep='\\t')\n",
    "df_CBIC =pd.read_csv('participants_CBIC .tsv',sep='\\t')\n",
    "\n",
    "subjects_aged = list()\n",
    "\n",
    "\n",
    "def find_subject_age(which_df,which_age):\n",
    "        subjects_aged.append (which_df[which_df['Age']>=which_age]['participant_id'].values)\n",
    "\n",
    "age = 16\n",
    "find_subject_age(df_SI,age)\n",
    "find_subject_age(df_RU,age)\n",
    "find_subject_age(df_CUNY,age)\n",
    "find_subject_age(df_CBIC,age)\n",
    "\n",
    "\n",
    "subjects_aged = np.hstack(subjects_aged)\n",
    "len(subjects_aged)\n",
    "\n"
   ]
  },
  {
   "cell_type": "code",
   "execution_count": 18,
   "metadata": {},
   "outputs": [],
   "source": [
    "import ezodf\n",
    "import csv\n",
    "\n",
    "def read_ods(filename, sheet_no=0, header=0):\n",
    "    tab = ezodf.opendoc(filename=filename).sheets[sheet_no]\n",
    "    return pd.DataFrame({col[header+1].value:[x.value for x in col[header+1:]]\n",
    "                         for col in tab.columns()})\n",
    "\n",
    "df_dwi = read_ods('dwi-subject_list.ods',0,0)\n",
    "df_freesurfer = read_ods('subjects_freesurfer.ods')"
   ]
  },
  {
   "cell_type": "code",
   "execution_count": 19,
   "metadata": {},
   "outputs": [],
   "source": [
    "df_freesurfer_sliced = [ df_freesurfer[df_freesurfer.columns[0]].values[i][31:-1] for i in range(1,len(df_freesurfer))]\n",
    "df_freesurfer_sliced.append('NDARAD481FXF')\n",
    "df_dwi_sliced = [ df_dwi[df_dwi.columns[0]].values[i][31:] for i in range(0,len(df_dwi))]\n",
    "\n",
    "subjects_aged_sliced = [subjects_aged[i][4:] for i in range(0,len(subjects_aged))]\n"
   ]
  },
  {
   "cell_type": "code",
   "execution_count": 20,
   "metadata": {},
   "outputs": [],
   "source": [
    "good_EEG = list(set(df_dwi_sliced).intersection( set(df_sliced).intersection(set(subjects_aged_sliced))))"
   ]
  },
  {
   "cell_type": "code",
   "execution_count": 21,
   "metadata": {},
   "outputs": [
    {
     "data": {
      "text/plain": [
       "30"
      ]
     },
     "execution_count": 21,
     "metadata": {},
     "output_type": "execute_result"
    }
   ],
   "source": [
    "len(good_EEG)"
   ]
  },
  {
   "cell_type": "code",
   "execution_count": 22,
   "metadata": {},
   "outputs": [],
   "source": [
    "data_present = list()\n",
    "for i in range(1, len(good_EEG)+1):\n",
    "    path_to_file = '/users2/local/Venkatesh/HBN/%s/RestingState_data.csv' % good_EEG[i-1]\n",
    "    path_to_file_video = '/users2/local/Venkatesh/HBN/%s/Video3_event.csv' % good_EEG[i-1]\n",
    "\n",
    "    if (os.path.isfile(path_to_file) and os.path.isfile(path_to_file_video)):\n",
    "        data_present.append (good_EEG[i-1])"
   ]
  },
  {
   "cell_type": "code",
   "execution_count": 26,
   "metadata": {},
   "outputs": [],
   "source": [
    "with open('/users2/local/Venkatesh/HBN/subjects_25.txt', 'w') as f:\n",
    "    for item in sorted(data_present):\n",
    "        f.write(\"%s\\n\" % item)"
   ]
  },
  {
   "cell_type": "code",
   "execution_count": null,
   "metadata": {},
   "outputs": [],
   "source": []
  },
  {
   "cell_type": "code",
   "execution_count": null,
   "metadata": {},
   "outputs": [],
   "source": []
  }
 ],
 "metadata": {
  "kernelspec": {
   "display_name": "Python 3",
   "language": "python",
   "name": "python3"
  },
  "language_info": {
   "codemirror_mode": {
    "name": "ipython",
    "version": 3
   },
   "file_extension": ".py",
   "mimetype": "text/x-python",
   "name": "python",
   "nbconvert_exporter": "python",
   "pygments_lexer": "ipython3",
   "version": "3.8.10"
  }
 },
 "nbformat": 4,
 "nbformat_minor": 4
}
