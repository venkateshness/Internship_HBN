{
 "cells": [
  {
   "cell_type": "code",
   "execution_count": 1,
   "metadata": {},
   "outputs": [],
   "source": [
    "import numpy as np\n",
    "total_no_of_events = '30_events'\n",
    "sdi = np.load(f'/users2/local/Venkatesh/Generated_Data/25_subjects_new/SDI/{total_no_of_events}.npz')\n"
   ]
  },
  {
   "cell_type": "code",
   "execution_count": 2,
   "metadata": {},
   "outputs": [],
   "source": [
    "surrogate_SDI = np.load('/users2/local/Venkatesh/Generated_Data/25_subjects_new/SDI/surrogate_SDI_baseline_vanilla.npz')\n",
    "empirical_SDI = np.load('/users2/local/Venkatesh/Generated_Data/25_subjects_new/SDI/SDI_baseline_vanilla.npz')"
   ]
  },
  {
   "cell_type": "code",
   "execution_count": 118,
   "metadata": {},
   "outputs": [],
   "source": [
    "empirical_one_band = empirical_SDI['high_beta']\n",
    "surrogate_one_band = surrogate_SDI['high_beta']\n",
    "band = 'high_beta'\n",
    "event_group = 2\n",
    "clusters = np.load(\n",
    "f\"/homes/v20subra/S4B2/AutoAnnotation/dict_of_clustered_events_{total_no_of_events}.npz\"\n",
    ")\n",
    "a = list()\n",
    "\n",
    "a.append(clusters['0'])\n",
    "a.append(clusters['1'])\n",
    "a.append(clusters['2'])\n",
    "\n",
    "index = list()\n",
    "for i in sorted(np.hstack(a)):\n",
    "\n",
    "    if i in a[0]:\n",
    "        index.append(0)\n",
    "    if i in a[1]:\n",
    "        index.append(1)\n",
    "    if i in a[2]:\n",
    "        index.append(2)\n",
    "\n",
    "empirical_one_band = empirical_SDI[f'{band}'][np.where(np.array(index) ==event_group)[0]]\n",
    "surrogate_one_band = surrogate_SDI[f'{band}'][np.where(np.array(index) ==event_group)[0]]\n"
   ]
  },
  {
   "cell_type": "code",
   "execution_count": 119,
   "metadata": {},
   "outputs": [
    {
     "data": {
      "text/plain": [
       "(7, 25, 360)"
      ]
     },
     "execution_count": 119,
     "metadata": {},
     "output_type": "execute_result"
    }
   ],
   "source": [
    "empirical_one_band.shape"
   ]
  },
  {
   "cell_type": "code",
   "execution_count": 120,
   "metadata": {},
   "outputs": [
    {
     "data": {
      "application/vnd.jupyter.widget-view+json": {
       "model_id": "ef31d34ee1ad40478d9a016550894649",
       "version_major": 2,
       "version_minor": 0
      },
      "text/plain": [
       "  0%|          | 0/25 [00:00<?, ?it/s]"
      ]
     },
     "metadata": {},
     "output_type": "display_data"
    }
   ],
   "source": [
    "import matplotlib.pyplot as plt\n",
    "from scipy.stats import wilcoxon, mannwhitneyu, rankdata, ttest_1samp\n",
    "from tqdm.notebook import tqdm\n",
    "\n",
    "n_subjects = 25\n",
    "n_events = 7\n",
    "n_roi = 360\n",
    "n_surrogate = 19\n",
    "\n",
    "test_stats = list()\n",
    "\n",
    "for subject in tqdm(range(n_subjects)):\n",
    "    event_level_p = list()\n",
    "\n",
    "\n",
    "    for event in range(n_events):\n",
    "        roi_level_p = list()\n",
    "\n",
    "        \n",
    "        for roi in range(n_roi):\n",
    "\n",
    "            data_empirical = empirical_one_band[event, subject, roi]\n",
    "            data_surrogate = surrogate_one_band[event, :, subject, roi]\n",
    "            \n",
    "            stat_test = sum(rankdata(np.abs(data_empirical - data_surrogate))*np.sign(data_empirical - data_surrogate))\n",
    "            stat_test_normalized = stat_test / n_surrogate\n",
    "            \n",
    "\n",
    "            roi_level_p.append(stat_test_normalized)\n",
    "\n",
    "\n",
    "        event_level_p.append(roi_level_p)\n",
    "\n",
    "    \n",
    "    test_stats.append(event_level_p)\n"
   ]
  },
  {
   "cell_type": "markdown",
   "metadata": {},
   "source": [
    "# Step 2: Test for effect of events"
   ]
  },
  {
   "cell_type": "code",
   "execution_count": 144,
   "metadata": {},
   "outputs": [],
   "source": [
    "pvalues_step2 = list()\n",
    "tvalues_step2 = list()\n",
    "\n",
    "for sub in range(n_subjects):\n",
    "    sub_wise_p = list()\n",
    "    sub_wise_t = list()\n",
    "\n",
    "    for roi in range(n_roi):\n",
    "        data = np.array(test_stats)[sub, :, roi]\n",
    "\n",
    "        t, p = ttest_1samp(data, popmean = 0)\n",
    "        if t == np.inf:\n",
    "            t=0\n",
    "        if t == -np.inf:\n",
    "            t=0\n",
    "\n",
    "        if p == np.inf:\n",
    "            p=1\n",
    "        if p == -np.inf:\n",
    "            p=1\n",
    "        sub_wise_p.append(p)\n",
    "        sub_wise_t.append(t)\n",
    "    \n",
    "    pvalues_step2.append(sub_wise_p)\n",
    "    tvalues_step2.append(sub_wise_t)\n",
    "\n"
   ]
  },
  {
   "cell_type": "code",
   "execution_count": 146,
   "metadata": {},
   "outputs": [
    {
     "data": {
      "text/plain": [
       "(360,)"
      ]
     },
     "execution_count": 146,
     "metadata": {},
     "output_type": "execute_result"
    }
   ],
   "source": [
    "thresholded_pvals.shape"
   ]
  },
  {
   "cell_type": "code",
   "execution_count": null,
   "metadata": {},
   "outputs": [],
   "source": [
    "\n",
    "from nilearn.regions import signals_to_img_labels\n",
    "from nilearn.datasets import fetch_icbm152_2009\n",
    "from nilearn import image, plotting\n",
    "path_Glasser = \"/homes/v20subra/S4B2/GSP/Glasser_masker.nii.gz\"\n",
    "\n",
    "mnitemp = fetch_icbm152_2009()\n",
    "\n",
    "for i in range(n_subjects):\n",
    "\n",
    "    thresholded_pvals = (np.array(pvalues_step2)[i] < 0.05) * tvalues_step2[i]\n",
    "    signal = np.expand_dims(thresholded_pvals, axis =(1,2))\n",
    "\n",
    "\n",
    "    U0_brain = signals_to_img_labels(signal, path_Glasser, mnitemp[\"mask\"])\n",
    "\n",
    "    plot = plotting.plot_img_on_surf(\n",
    "        U0_brain, title = f'tvalues (uncorrected) for subj {i}', threshold = 0.1)\n",
    "\n",
    "    plt.show()\n"
   ]
  },
  {
   "cell_type": "markdown",
   "metadata": {},
   "source": [
    "## Step 3: Second level Model"
   ]
  },
  {
   "cell_type": "code",
   "execution_count": 138,
   "metadata": {},
   "outputs": [
    {
     "data": {
      "text/plain": [
       "0"
      ]
     },
     "execution_count": 138,
     "metadata": {},
     "output_type": "execute_result"
    }
   ],
   "source": [
    "np.min(tvalues_step2)"
   ]
  },
  {
   "cell_type": "code",
   "execution_count": null,
   "metadata": {},
   "outputs": [],
   "source": [
    "final_p, final_t = list(), []\n",
    "for roi in range(n_roi):\n",
    "    tvals, pvals = ttest_1samp(np.array(tvalues_step2)[:, roi], popmean=0)\n",
    "\n",
    "    final_p.append(pvals)\n",
    "    final_t.append(tvals)\n"
   ]
  },
  {
   "cell_type": "code",
   "execution_count": 148,
   "metadata": {},
   "outputs": [
    {
     "name": "stdout",
     "output_type": "stream",
     "text": [
      "Permuting 9999 times...\n"
     ]
    },
    {
     "name": "stderr",
     "output_type": "stream",
     "text": [
      "[Parallel(n_jobs=1)]: Using backend SequentialBackend with 1 concurrent workers.\n",
      "[Parallel(n_jobs=1)]: Done   1 out of   1 | elapsed:    0.1s remaining:    0.0s\n",
      "[Parallel(n_jobs=1)]: Done   1 out of   1 | elapsed:    0.1s finished\n"
     ]
    },
    {
     "data": {
      "image/png": "[encoded data removed]",
      "text/plain": [
       "<Figure size 288x360 with 5 Axes>"
      ]
     },
     "metadata": {
      "needs_background": "light"
     },
     "output_type": "display_data"
    }
   ],
   "source": [
    "import mne\n",
    "from nilearn.regions import signals_to_img_labels\n",
    "from nilearn.datasets import fetch_icbm152_2009\n",
    "from nilearn import image, plotting\n",
    "\n",
    "secondlevel_t, secondlevel_p, _ = mne.stats.permutation_t_test(np.array(np.array(tvalues_step2)))\n",
    "\n",
    "path_Glasser = \"/homes/v20subra/S4B2/GSP/Glasser_masker.nii.gz\"\n",
    "\n",
    "mnitemp = fetch_icbm152_2009()\n",
    "mask_mni = image.load_img(mnitemp[\"mask\"])\n",
    "glasser_atlas = image.load_img(path_Glasser)\n",
    "\n",
    "for i in range(1):\n",
    "\n",
    "    thresholded_tvals = (np.array(secondlevel_p) < 0.05) * np.array(secondlevel_t)\n",
    "\n",
    "    signal = np.expand_dims(thresholded_tvals, axis =(1,2))\n",
    "   \n",
    "    \n",
    "    U0_brain = signals_to_img_labels(signal, path_Glasser, mnitemp[\"mask\"])\n",
    "\n",
    "    plot,_ = plotting.plot_img_on_surf(\n",
    "        U0_brain, title = f'2nd level; tvalues; perm-corrected; high_beta = 0.05', threshold=0.1, engine=engine)\n",
    "        \n",
    "    # U0_brain.to_filename('2nd_level_map_perm_corrected_stat.nii.gz')\n",
    "    plot.show()"
   ]
  },
  {
   "cell_type": "markdown",
   "metadata": {},
   "source": [
    "## More Stringent correction"
   ]
  },
  {
   "cell_type": "code",
   "execution_count": null,
   "metadata": {},
   "outputs": [],
   "source": [
    "from nilearn.plotting import find_parcellation_cut_coords, plot_img_on_surf, plot_connectome\n",
    "\n",
    "coord = find_parcellation_cut_coords(glasser_atlas, label_hemisphere = 'left')\n"
   ]
  },
  {
   "cell_type": "code",
   "execution_count": null,
   "metadata": {},
   "outputs": [],
   "source": []
  },
  {
   "cell_type": "markdown",
   "metadata": {},
   "source": [
    "## Neighbor-based Graph"
   ]
  },
  {
   "cell_type": "code",
   "execution_count": null,
   "metadata": {},
   "outputs": [],
   "source": [
    "n = [3]\n",
    "\n",
    "from sklearn.neighbors import kneighbors_graph\n",
    "\n",
    "for i in n:\n",
    "    graph = kneighbors_graph(coord, n_neighbors=i, mode = 'connectivity').toarray()\n",
    "    # adjacency[0,:] \n",
    "\n",
    "    step2 = graph + graph.T\n",
    "    adjacency = step2 - (step2>1)*1 \n",
    "\n",
    "\n",
    "    signal = np.expand_dims(adjacency[27], axis =(0,2))\n",
    "\n",
    "    U0_brain = signals_to_img_labels(signal, path_Glasser, mnitemp[\"mask\"])\n",
    "\n",
    "\n",
    "    plot_img_on_surf(U0_brain, threshold = 0.1, title=f'{i} neighbors for STG')\n",
    "    plt.show()\n",
    "\n",
    "import scipy\n",
    "t_obs, clusterlist, p_cluster, _ = mne.stats.permutation_cluster_1samp_test(X = np.array(tvalues_step2), adjacency =scipy.sparse.csr_matrix( adjacency), tail = 0)\n",
    "\n",
    "\n",
    "final_cluster = np.array(clusterlist)[p_cluster<0.05]\n",
    "\n",
    "for i in range(len(final_cluster)):\n",
    "    zeros = np.zeros(360,)\n",
    "    zeros[np.hstack(final_cluster[i])] = 1\n",
    "    signal = np.expand_dims(zeros, axis =(0,2))\n",
    "\n",
    "    U0_brain = signals_to_img_labels(signal, path_Glasser, mnitemp[\"mask\"])\n",
    "\n",
    "\n",
    "    plot_img_on_surf(U0_brain, threshold = 0.1, title = f'Cluster {i}')\n",
    "    plt.show()"
   ]
  },
  {
   "cell_type": "markdown",
   "metadata": {},
   "source": [
    "## Radius-based Graph"
   ]
  },
  {
   "cell_type": "code",
   "execution_count": null,
   "metadata": {},
   "outputs": [],
   "source": [
    "from sklearn.neighbors import radius_neighbors_graph\n",
    "\n",
    "\n",
    "for i in n:\n",
    "    graph = radius_neighbors_graph(coord, radius=5, mode = 'connectivity').toarray()\n",
    "    # adjacency[0,:] \n",
    "\n",
    "    # step2 = graph + graph.T\n",
    "    # adjacency = step2 - (step2>1)*1 \n",
    "\n",
    "\n",
    "    signal = np.expand_dims(graph[27], axis =(0,2))\n",
    "\n",
    "    U0_brain = signals_to_img_labels(signal, path_Glasser, mnitemp[\"mask\"])\n",
    "\n",
    "\n",
    "    plot_img_on_surf(U0_brain, threshold = 0.1, title=f'{i} neighbors for STG')\n",
    "    plt.show()\n",
    "\n",
    "\n",
    "t_obs, clusterlist, p_cluster, _ = mne.stats.permutation_cluster_1samp_test(X = np.array(tvalues_step2), adjacency =scipy.sparse.csr_matrix( adjacency), tail = 0, threshold=0.01)\n",
    "sum(p_cluster<0.05)\n",
    "\n",
    "# final_cluster = np.array(clusterlist)[p_cluster<0.05]\n",
    "\n",
    "# for i in range(len(final_cluster)):\n",
    "#     zeros = np.zeros(360,)\n",
    "#     zeros[np.hstack(final_cluster[i])] = 1\n",
    "#     signal = np.expand_dims(zeros, axis =(0,2))\n",
    "\n",
    "#     U0_brain = signals_to_img_labels(signal, path_Glasser, mnitemp[\"mask\"])\n",
    "\n",
    "\n",
    "#     plot_img_on_surf(U0_brain, threshold = 0.1, title = f'Cluster {i}')\n",
    "#     plt.show()\n"
   ]
  },
  {
   "cell_type": "code",
   "execution_count": 115,
   "metadata": {},
   "outputs": [],
   "source": [
    "a =np.random.rand(265,1)\n",
    "a[0]=0\n",
    "a[23]=0\n",
    "a[24]=0"
   ]
  },
  {
   "cell_type": "code",
   "execution_count": 116,
   "metadata": {},
   "outputs": [],
   "source": [
    "a[np.argwhere(a==0)]=1"
   ]
  },
  {
   "cell_type": "code",
   "execution_count": 117,
   "metadata": {},
   "outputs": [
    {
     "data": {
      "text/plain": [
       "array([3])"
      ]
     },
     "execution_count": 117,
     "metadata": {},
     "output_type": "execute_result"
    }
   ],
   "source": [
    "sum(a==1)"
   ]
  },
  {
   "cell_type": "code",
   "execution_count": null,
   "metadata": {},
   "outputs": [],
   "source": []
  }
 ],
 "metadata": {
  "interpreter": {
   "hash": "efe6c67f6304a6b945c77842a19820b093f93a7087cca5d871effb2b9455b0d2"
  },
  "kernelspec": {
   "display_name": "Python 3.8.10 64-bit",
   "language": "python",
   "name": "python3"
  },
  "language_info": {
   "codemirror_mode": {
    "name": "ipython",
    "version": 3
   },
   "file_extension": ".py",
   "mimetype": "text/x-python",
   "name": "python",
   "nbconvert_exporter": "python",
   "pygments_lexer": "ipython3",
   "version": "3.10.6"
  },
  "orig_nbformat": 4
 },
 "nbformat": 4,
 "nbformat_minor": 2
}
