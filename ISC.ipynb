{
 "cells": [
  {
   "cell_type": "code",
   "execution_count": 1,
   "source": [
    "import mne\n",
    "import pathlib\n",
    "from mne.externals.pymatreader import read_mat\n",
    "import numpy as np\n",
    "import matplotlib.pyplot as plt\n",
    "import pandas as pd\n",
    "from mpl_toolkits.mplot3d import axes3d\n",
    "##"
   ],
   "outputs": [],
   "metadata": {}
  },
  {
   "cell_type": "code",
   "execution_count": 2,
   "source": [
    "from warnings import simplefilter \n",
    "simplefilter(action='ignore', category=DeprecationWarning)"
   ],
   "outputs": [],
   "metadata": {}
  },
  {
   "cell_type": "code",
   "execution_count": 3,
   "source": [
    "import os\n",
    "os.chdir(r'/usr/slurm/venkatesh/HBN/')\n",
    "subjs = sorted(os.listdir())[1:-2]\n",
    "#cd\n"
   ],
   "outputs": [],
   "metadata": {}
  },
  {
   "cell_type": "code",
   "execution_count": 4,
   "source": [
    "cd"
   ],
   "outputs": [
    {
     "output_type": "stream",
     "name": "stdout",
     "text": [
      "/homes/v20subra\n"
     ]
    }
   ],
   "metadata": {}
  },
  {
   "cell_type": "markdown",
   "source": [
    "# Importing the data"
   ],
   "metadata": {}
  },
  {
   "cell_type": "code",
   "execution_count": null,
   "source": [
    "def csv_to_raw_mne(path_to_file,path_to_montage_ses,fs,path_to_events,filename,montage = 'GSN-HydroCel-129'):\n",
    "    ''' Load csv files of data, chan locations and events and return a raw mne instance'''\n",
    "    data = np.loadtxt(path_to_file,delimiter =',')\n",
    "    chans = pd.read_csv(path_to_montage_ses,sep = ',',header = None)\n",
    "    ch_list=['E1', 'E8', 'E14', 'E17', 'E21', 'E25', 'E32', 'E38', 'E43', 'E44', 'E48', 'E49', 'E56', 'E57', 'E63', 'E64', 'E69', 'E73', 'E74', 'E81', 'E82', 'E88', 'E89', 'E94', 'E95', 'E99', 'E100', 'E107', 'E113', 'E114', 'E119', 'E120', 'E121', 'E125', 'E126', 'E127', 'E128']\n",
    "    ch_names = list(chans.values[1:,0])\n",
    "#print(type(ch_names))\n",
    "    #ch_names_appended = list(np.append(ch_names,'stim_channel'))\n",
    "    #print(len(data[0]))\n",
    "    types = ['eeg']*(len(ch_names))\n",
    "    #types.append('stim')\n",
    "    #data2 = np.zeros([1,len(data[0])]) #len(raw.times)\n",
    "    #data_appended = np.append(data,data2,axis = 0)\n",
    "\n",
    "    #print(np.shape(data_appended))\n",
    "#print(len(types))\n",
    "\n",
    "#types\n",
    "    info = mne.create_info(ch_names,sfreq = fs,ch_types = types)\n",
    "#raw=mne.io.RawArray(data, info)\n",
    "\n",
    "#mne.find_events(raw,stim_channel='stim')\n",
    "    raw = mne.io.RawArray(data, info)\n",
    "    \n",
    "    # set standard montage\n",
    "    if montage:\n",
    "        raw.set_montage(montage)\n",
    "\n",
    "    # events array shape must be (n_events,3)The first column specifies the sample number of each event,\n",
    "    # the second column is ignored, and the third column provides the event value.\n",
    "    # If events already exist in the Raw instance at the given sample numbers, the event values will be added together.\n",
    "\n",
    "    if path_to_events:\n",
    "        # parse events file\n",
    "        raw_events = pd.read_csv(path_to_events, sep = r'\\s*,\\s*', header = None, engine = 'python')\n",
    "        values = raw_events[0].to_list()\n",
    "        \n",
    "        # identify markers start and stop recording\n",
    "        idx = [i for i, e in enumerate(values) if e == 'break cnt']\n",
    "        \n",
    "         \n",
    "        if filename == 'NDARDX770PJK':\n",
    "           \n",
    "            values.extend([\"break cnt\"])\n",
    "            \n",
    "            idx = [i for i, e in enumerate(values) if e == 'break cnt']\n",
    "        \n",
    "        samples = raw_events[1][1:idx[0]].to_numpy(dtype = int)\n",
    "        # slicing until '-1' means that we will not know about the last state. Hence removed.\n",
    "        event_values = raw_events[0][1:idx[0]].to_numpy(dtype = int)\n",
    "\n",
    "        \n",
    "        # append a last value for end of paradigm\n",
    "        ## I think 1 acts as an explicit EOF, but having this slicing until '-1' as indicated\n",
    "        # in the previous comment would not let us know the last state\n",
    "        # event_values = np.append(event_values, 1)\n",
    "\n",
    "        # Creating an array of len(samples)-1 would not have the sufficient length to add the \n",
    "        # sample's last row.\n",
    "        events = np.zeros((len(samples), 3))\n",
    "        \n",
    "        events = events.astype('int')\n",
    "        events[:, 0] = samples\n",
    "        events[:, 2] = event_values\n",
    "        \n",
    "        # Appending one row of 'ones'. Will be easier to stop parsing once we hit 1\n",
    "        events_final = np.append(events,np.ones((1, 3)),axis = 0).astype('int')\n",
    "        raw = exclude_channels_from_raw(raw, ch_list)\n",
    "        \n",
    "    return raw,events_final\n",
    "\n",
    "def exclude_channels_from_raw(raw,ch_to_exclude):\n",
    "    '''Return a raw structure where ch_to_exclude are removed'''\n",
    "    idx_keep = mne.pick_channels(raw.ch_names,include = raw.ch_names,exclude = ch_to_exclude)\n",
    "    raw.pick_channels([raw.ch_names[pick] for pick in idx_keep])\n",
    "    return raw\n",
    "\n",
    "\n",
    "\n",
    "def preparation(filename):\n",
    "    path_to_file = '/usr/slurm/venkatesh/HBN/%s/EEG/preprocessed/csv_format/Video3_data.csv'% filename\n",
    "    path_to_events = '/usr/slurm/venkatesh/HBN/%s/EEG/preprocessed/csv_format/Video3_event.csv' %filename\n",
    "    path_to_montage_glob = '/S4B2/GSN_HydroCel_129_hbn.sfp'\n",
    "    path_to_montage_ses = '/usr/slurm/venkatesh/HBN/%s/EEG/preprocessed/csv_format/Video3_chanlocs.csv' %filename\n",
    "    fs = 500\n",
    "    chans_glob = mne.channels.read_custom_montage(fname = 'S4B2/GSN_HydroCel_129_hbn.sfp') # read_montage is deprecated\n",
    "# channels to exclude because noisy (Nentwich paper)\n",
    "\n",
    "\n",
    "    raw, events = csv_to_raw_mne(path_to_file,path_to_montage_ses,fs,path_to_events,filename,montage = 'GSN-HydroCel-129')\n",
    "    #raw.add_events(events, stim_channel = 'stim_channel',replace = False)\n",
    "    return raw,events\n",
    "\n",
    "\n",
    "sub1_raw,sub1_events = preparation(subjs[0])\n",
    "sub2_raw,sub2_events = preparation(subjs[1])\n",
    "sub3_raw,sub3_events = preparation(subjs[2])\n",
    "sub4_raw,sub4_events = preparation(subjs[3])\n",
    "sub5_raw,sub5_events = preparation(subjs[4])\n",
    "sub6_raw,sub6_events = preparation(subjs[5])\n",
    "sub7_raw,sub7_events = preparation(subjs[6])\n",
    "sub8_raw,sub8_events = preparation(subjs[7])\n",
    "sub9_raw,sub9_events = preparation(subjs[8])\n",
    "sub10_raw,sub10_events = preparation(subjs[9])"
   ],
   "outputs": [],
   "metadata": {
    "scrolled": false
   }
  },
  {
   "cell_type": "markdown",
   "source": [
    "# Picking Event of interest"
   ],
   "metadata": {}
  },
  {
   "cell_type": "code",
   "execution_count": 6,
   "source": [
    "def epochs(subject_raw,subject_events):\n",
    "\n",
    "    epochs = mne.Epochs(subject_raw, subject_events, [83,103,9999], tmin=0, tmax=170,preload=True,baseline=(0,None))\n",
    "    epochs_resampled = epochs#.resample(250) # Downsampling to 250Hz\n",
    "    \n",
    "    return epochs_resampled['83']\n",
    "\n"
   ],
   "outputs": [],
   "metadata": {}
  },
  {
   "cell_type": "markdown",
   "source": [
    "# CCA"
   ],
   "metadata": {}
  },
  {
   "cell_type": "code",
   "execution_count": 7,
   "source": [
    "import numpy as np\n",
    "from scipy.linalg import eigh\n",
    "from timeit import default_timer\n",
    "\n",
    "\n",
    "def train_cca(data):\n",
    "    \"\"\"Run Correlated Component Analysis on your training data.\n",
    "        Parameters:\n",
    "        ----------\n",
    "        data : dict\n",
    "            Dictionary with keys are names of conditions and values are numpy\n",
    "            arrays structured like (subjects, channels, samples).\n",
    "            The number of channels must be the same between all conditions!\n",
    "        Returns:\n",
    "        -------\n",
    "        W : np.array\n",
    "            Columns are spatial filters. They are sorted in descending order, it means that first column-vector maximize\n",
    "            correlation the most.\n",
    "        ISC : np.array\n",
    "            Inter-subject correlation sorted in descending order\n",
    "    \"\"\"\n",
    "\n",
    "    start = default_timer()\n",
    "\n",
    "    C = len(data.keys())\n",
    "    print(f'train_cca - calculations started. There are {C} conditions')\n",
    "\n",
    "    gamma = 0.1\n",
    "    Rw, Rb = 0, 0\n",
    "    for cond in data.values():\n",
    "        N, D, T, = cond.shape\n",
    "        print(f'Condition has {N} subjects, {D} sensors and {T} samples')\n",
    "        cond = cond.reshape(D * N, T)\n",
    "\n",
    "        # Rij\n",
    "        Rij = np.swapaxes(np.reshape(np.cov(cond), (N, D, N, D)), 1, 2)\n",
    "        \n",
    "        # Rw\n",
    "        Rw = Rw + np.mean([Rij[i, i, :, :]\n",
    "                           for i in range(0, N)], axis=0)\n",
    "        \n",
    "        # Rb\n",
    "        Rb = Rb + np.mean([Rij[i, j, :, :]\n",
    "                           for i in range(0, N)\n",
    "                           for j in range(0, N) if i != j], axis=0)\n",
    "        covariance = np.cov(cond)\n",
    "    # Divide by number of condition\n",
    "    Rw, Rb = Rw/C, Rb/C\n",
    "\n",
    "    # Regularization\n",
    "    Rw_reg = (1 - gamma) * Rw + gamma * np.mean(eigh(Rw)[0]) * np.identity(Rw.shape[0])\n",
    "\n",
    "    # ISCs and Ws\n",
    "    [ISC, W] = eigh(Rb, Rw_reg) #Eigen values, W matrix\n",
    "    \n",
    "    # Make descending order\n",
    "    ISC, W = ISC[::-1], W[:, ::-1] \n",
    "    #print(ISC[0])\n",
    "    stop = default_timer()\n",
    "\n",
    "    print(f'Elapsed time: {round(stop - start)} seconds.')\n",
    "    return W, ISC\n",
    "\n",
    "\n",
    "def apply_cca(X, W, fs):\n",
    "    \"\"\"Applying precomputed spatial filters to your data.\n",
    "        Parameters:\n",
    "        ----------\n",
    "        X : ndarray\n",
    "            3-D numpy array structured like (subject, channel, sample)\n",
    "        W : ndarray\n",
    "            Spatial filters.\n",
    "        fs : int\n",
    "            Frequency sampling.\n",
    "        Returns:\n",
    "        -------\n",
    "        ISC : ndarray\n",
    "            Inter-subject correlations values are sorted in descending order.\n",
    "        ISC_persecond : ndarray\n",
    "            Inter-subject correlations values per second where first row is the most correlated.\n",
    "        ISC_bysubject : ndarray\n",
    "            Description goes here.\n",
    "        A : ndarray\n",
    "            Scalp projections of ISC.\n",
    "    \"\"\"\n",
    "\n",
    "    start = default_timer()\n",
    "    print('apply_cca - calculations started')\n",
    "\n",
    "    N, D, T = X.shape\n",
    "    # gamma = 0.1\n",
    "    window_sec = 5\n",
    "    X = X.reshape(D * N, T)\n",
    "    \n",
    "    # Rij\n",
    "    Rij = np.swapaxes(np.reshape(np.cov(X), (N, D, N, D)), 1, 2)\n",
    "    print(Rij.shape)\n",
    "    # Rw\n",
    "    Rw = np.mean([Rij[i, i, :, :]\n",
    "                  for i in range(0, N)], axis=0)\n",
    "    # Rw_reg = (1 - gamma) * Rw + gamma * np.mean(eigh(Rw)[0]) * np.identity(Rw.shape[0])\n",
    "\n",
    "    # Rb\n",
    "    Rb = np.mean([Rij[i, j, :, :]\n",
    "                  for i in range(0, N)\n",
    "                  for j in range(0, N) if i != j], axis=0)\n",
    "\n",
    "    # ISCs\n",
    "    ISC = np.sort(np.diag(np.transpose(W) @ Rb @ W) / np.diag(np.transpose(W) @ Rw @ W))[::-1]\n",
    "\n",
    "    # Scalp projections\n",
    "    A = np.linalg.solve(Rw @ W, np.transpose(W) @ Rw @ W)  # a, b. \n",
    "    \n",
    "    # ISC by subject\n",
    "    print('by subject is calculating')\n",
    "    ISC_bysubject = np.empty((D, N))\n",
    "\n",
    "    for subj_k in range(0, N):\n",
    "        Rw, Rb = 0, 0\n",
    "        Rw = np.mean([Rw + 1 / (N - 1) * (Rij[subj_k, subj_k, :, :] + Rij[subj_l, subj_l, :, :])\n",
    "                      for subj_l in range(0, N) if subj_k != subj_l], axis=0)\n",
    "        Rb = np.mean([Rb + 1 / (N - 1) * (Rij[subj_k, subj_l, :, :] + Rij[subj_l, subj_k, :, :])\n",
    "                      for subj_l in range(0, N) if subj_k != subj_l], axis=0)\n",
    "\n",
    "        ISC_bysubject[:, subj_k] = np.diag(np.transpose(W) @ Rb @ W) / np.diag(np.transpose(W) @ Rw @ W)\n",
    "\n",
    "    # ISC per second\n",
    "    print('by persecond is calculating')\n",
    "    ISC_persecond = np.empty((D, int(T / fs) ))\n",
    "    window_i = 0\n",
    "\n",
    "    for t in range(0, T, fs):\n",
    "\n",
    "        Xt = X[:, t:t+window_sec*fs] #[subj 1, subj 2........subj 10]\n",
    "       \n",
    "        # the covariance\n",
    "        Rij = np.cov(Xt) #910, 910for all the subjects \n",
    "        # <----10 subjects---->\n",
    "        #  [sub1, sub2... sub10 ] sub 1\n",
    "        #  [sub1, sub2... sub10 ] sub 2\n",
    "        #  [sub1, sub2... sub10 ] ..\n",
    "        #  [sub1, sub2... sub10 ] ..\n",
    "        #   [sub1, sub2... sub10 ] sub 10\n",
    "        \n",
    "        \n",
    "        \n",
    "        Rw = np.mean([Rij[i:i + D, i:i + D] # Correlation diagonally (itself)\n",
    "                      for i in range(0, D * N, D)], axis=0) \n",
    "        \n",
    "        Rb = np.mean([Rij[i:i + D, j:j + D]\n",
    "                      for i in range(0, D * N, D)\n",
    "                      for j in range(0, D * N, D) if i != j], axis=0) #Correlation with other subjects\n",
    "        \n",
    "        ISC_persecond[:, window_i] = np.diag(np.transpose(W) @ Rb @ W) / np.diag(np.transpose(W) @ Rw @ W)\n",
    "        window_i += 1\n",
    "        \n",
    "    stop = default_timer()\n",
    "    print(f'Elapsed time: {round(stop - start)} seconds.')\n",
    "\n",
    "    return ISC, ISC_persecond, ISC_bysubject, A"
   ],
   "outputs": [],
   "metadata": {}
  },
  {
   "cell_type": "markdown",
   "source": [
    "# Preparation to perform CCA"
   ],
   "metadata": {}
  },
  {
   "cell_type": "code",
   "execution_count": 8,
   "source": [
    "dic = dict()\n",
    "\n",
    "dic['condition1'] = np.append(sub1_raw.get_data()[:91,516:85516].reshape(1,91,85000),sub2_raw.get_data()[:91,516:85516].reshape(1,91,85000) ,axis=0)\n",
    "\n",
    "#for i in range(2,10):\n",
    "#    dic['condition1'] = np.append(dic['condition1'],sub[i].get_data()[:,:86030].reshape(1,92,86030) ,axis=0)\n",
    "\n",
    "dic['condition1'] = np.append(dic['condition1'],sub3_raw.get_data()[:91,516:85516].reshape(1,91,85000) ,axis=0)\n",
    "dic['condition1'] = np.append(dic['condition1'],sub4_raw.get_data()[:91,516:85516].reshape(1,91,85000) ,axis=0)\n",
    "dic['condition1'] = np.append(dic['condition1'],sub5_raw.get_data()[:91,516:85516].reshape(1,91,85000) ,axis=0)\n",
    "dic['condition1'] = np.append(dic['condition1'],sub6_raw.get_data()[:91,516:85516].reshape(1,91,85000) ,axis=0)\n",
    "dic['condition1'] = np.append(dic['condition1'],sub7_raw.get_data()[:91,516:85516].reshape(1,91,85000) ,axis=0)\n",
    "dic['condition1'] = np.append(dic['condition1'],sub8_raw.get_data()[:91,516:85516].reshape(1,91,85000) ,axis=0)\n",
    "dic['condition1'] = np.append(dic['condition1'],sub9_raw.get_data()[:91,516:85516].reshape(1,91,85000) ,axis=0)\n",
    "dic['condition1'] = np.append(dic['condition1'],sub10_raw.get_data()[:91,516:85516].reshape(1,91,85000) ,axis=0)    "
   ],
   "outputs": [],
   "metadata": {}
  },
  {
   "cell_type": "code",
   "execution_count": 9,
   "source": [
    "[W,ISC] = train_cca(dic)\n",
    "#np.shape( sub1_raw.get_data() )\n",
    "\n",
    "isc_results = dict()\n",
    "for cond_key, cond_values in dic.items():\n",
    "    isc_results[str(cond_key)] = dict(zip(['ISC', 'ISC_persecond', 'ISC_bysubject', 'A'], apply_cca(cond_values, W, 500)))\n"
   ],
   "outputs": [
    {
     "output_type": "stream",
     "name": "stdout",
     "text": [
      "train_cca - calculations started. There are 1 conditions\n",
      "Condition has 10 subjects, 91 sensors and 85000 samples\n",
      "Elapsed time: 3 seconds.\n",
      "apply_cca - calculations started\n",
      "(10, 10, 91, 91)\n",
      "by subject is calculating\n",
      "by persecond is calculating\n",
      "Elapsed time: 7 seconds.\n"
     ]
    }
   ],
   "metadata": {
    "scrolled": true
   }
  },
  {
   "cell_type": "code",
   "execution_count": 10,
   "source": [
    "vals = np.reshape( ((np.random.rand(100,10) * np.random.rand(100,10)).T), [10,1,100])\n",
    "\n",
    "\n",
    "#print(f'Elapsed time: {round(stop - start)} seconds.')\n"
   ],
   "outputs": [],
   "metadata": {}
  },
  {
   "cell_type": "markdown",
   "source": [
    "# Intra-subject Study Results"
   ],
   "metadata": {}
  },
  {
   "cell_type": "code",
   "execution_count": 11,
   "source": [
    "plt.matshow( (isc_results['condition1']['ISC_bysubject']).T)\n",
    "plt.title('Intra Subject Study')\n",
    "plt.ylabel('Subjects')\n",
    "plt.xlabel('Components')\n",
    "\n",
    "cb =plt.colorbar()\n",
    "cb.ax.set_title('ISC')"
   ],
   "outputs": [
    {
     "output_type": "execute_result",
     "data": {
      "text/plain": [
       "Text(0.5, 1.0, 'ISC')"
      ]
     },
     "metadata": {},
     "execution_count": 11
    },
    {
     "output_type": "display_data",
     "data": {
      "image/png": "[encoded data removed]",
      "text/plain": [
       "<Figure size 1152x144 with 2 Axes>"
      ]
     },
     "metadata": {
      "needs_background": "light"
     }
    }
   ],
   "metadata": {}
  },
  {
   "cell_type": "markdown",
   "source": [
    "# ISC results"
   ],
   "metadata": {}
  },
  {
   "cell_type": "code",
   "execution_count": 11,
   "source": [
    "import matplotlib.pyplot as plt\n",
    "import numpy as np\n",
    "import scipy.signal\n",
    "\n",
    "def plot_isc(isc_all):\n",
    "    # plot ISC as a bar chart\n",
    "    plt.figure()\n",
    "    comp1 = [cond['ISC'][0] for cond in isc_all.values()]\n",
    "    comp2 = [cond['ISC'][1] for cond in isc_all.values()]\n",
    "    comp3 = [cond['ISC'][2] for cond in isc_all.values()]\n",
    "    barWidth = 0.2\n",
    "    r1 = np.arange(len(comp1))\n",
    "    r2 = [x + barWidth for x in r1]\n",
    "    r3 = [x + barWidth for x in r2]\n",
    "    plt.bar(r1, comp1, color='gray', width=barWidth, edgecolor='white', label='Comp1')\n",
    "    plt.bar(r2, comp2, color='green', width=barWidth, edgecolor='white', label='Comp2')\n",
    "    plt.bar(r3, comp3, color='blue', width=barWidth, edgecolor='white', label='Comp3')\n",
    "    plt.xticks([r + barWidth for r in range(len(comp1))], isc_all.keys())\n",
    "    plt.ylabel('ISC', fontweight='bold')\n",
    "    plt.title('ISC for each condition')\n",
    "    plt.legend()\n",
    "    plt.show()\n",
    "\n",
    "    # plot ISC_persecond\n",
    "    for cond in isc_all.values():\n",
    "        for comp_i in range(0, 3):\n",
    "            plt.subplot(3, 1, comp_i+1)\n",
    "            plt.plot(cond['ISC_persecond'][comp_i])\n",
    "            #plt.plot ((np.array(vals)[:,comp_i,:]).T)\n",
    "            #peaks = scipy.signal.find_peaks(isc_results['condition1']['ISC_persecond'][comp_i],distance=15)\n",
    "            plt.subplots_adjust(hspace=1)\n",
    "\n",
    "            plt.plot(isc_results['condition1']['ISC_persecond'][comp_i])\n",
    "            #plt.plot(peaks[0],isc_results['condition1']['ISC_persecond'][comp_i][peaks[0]],marker='o', ls=\"\")\n",
    "\n",
    "            \n",
    "            plt.xlabel('Time (s)')\n",
    "            plt.ylabel('ISC')\n",
    "            \n",
    "\n",
    "            #plt.title('ISC per second for each condition')\n",
    "\n",
    "\n",
    "    \n",
    "plot_isc(isc_results)\n"
   ],
   "outputs": [
    {
     "output_type": "display_data",
     "data": {
      "image/png": "[encoded data removed]",
      "text/plain": [
       "<Figure size 432x288 with 1 Axes>"
      ]
     },
     "metadata": {
      "needs_background": "light"
     }
    },
    {
     "output_type": "display_data",
     "data": {
      "image/png": "[encoded data removed]",
      "text/plain": [
       "<Figure size 432x288 with 3 Axes>"
      ]
     },
     "metadata": {
      "needs_background": "light"
     }
    }
   ],
   "metadata": {}
  },
  {
   "cell_type": "markdown",
   "source": [
    "# Noise Floor"
   ],
   "metadata": {}
  },
  {
   "cell_type": "code",
   "execution_count": 8,
   "source": [
    "#a = list(range(100))\n",
    "import random\n",
    "\n",
    "from tqdm.notebook import tqdm\n",
    "\n",
    "def shuffle(a):\n",
    "    \n",
    "    for i in (range(10)):\n",
    "        for j in range(91):\n",
    "            np.random.seed(i)\n",
    "            \n",
    "            chunked = chunks(a['condition1'][i][j][:85000])\n",
    "            np.random.shuffle(chunked[0])\n",
    "            chunked = np.reshape(chunked,[85000,])\n",
    "            \n",
    "    return a\n",
    "\n",
    "def chunks(chunk):\n",
    "    chunked = chunk[:85000]\n",
    "    chunked= chunked.reshape(1,34,2500)\n",
    "    return chunked\n",
    "\n",
    "valstest = []\n",
    "for i in tqdm(range(1000)):\n",
    "    shuffled = shuffle(dic)\n",
    "    isc_resultstest_ = dict()\n",
    "    print('step {}'.format(i))\n",
    "    for cond_key, cond_values in shuffled.items():\n",
    "        isc_resultstest_[str(cond_key)] = dict(zip(['ISC', 'ISC_persecond', 'ISC_bysubject', 'A'], apply_cca(cond_values, W, 500)))\n",
    "        #print(np.mean(isc_results['condition1']['ISC_persecond'][0]))\n",
    "        valstest.append(isc_resultstest_['condition1']['ISC_persecond'])\n",
    "        #print(np.shape(isc_resultstest_['condition1']['ISC_persecond']))\n",
    "#np.append(sub1_raw.get_data()[:91,516:85779].reshape(1,91,85263),sub2_raw.get_data()[:91,516:85779].reshape(1,91,85263) ,axis=0)"
   ],
   "outputs": [
    {
     "output_type": "display_data",
     "data": {
      "application/vnd.jupyter.widget-view+json": {
       "model_id": "6c7395f35d5648fcaa2a7449bde673fa",
       "version_major": 2,
       "version_minor": 0
      },
      "text/plain": [
       "  0%|          | 0/1000 [00:00<?, ?it/s]"
      ]
     },
     "metadata": {}
    },
    {
     "output_type": "error",
     "ename": "NameError",
     "evalue": "name 'dic' is not defined",
     "traceback": [
      "\u001b[0;31m---------------------------------------------------------------------------\u001b[0m",
      "\u001b[0;31mNameError\u001b[0m                                 Traceback (most recent call last)",
      "\u001b[0;32m<ipython-input-8-1988d9f69fc9>\u001b[0m in \u001b[0;36m<module>\u001b[0;34m\u001b[0m\n\u001b[1;32m     23\u001b[0m \u001b[0mvalstest\u001b[0m \u001b[0;34m=\u001b[0m \u001b[0;34m[\u001b[0m\u001b[0;34m]\u001b[0m\u001b[0;34m\u001b[0m\u001b[0;34m\u001b[0m\u001b[0m\n\u001b[1;32m     24\u001b[0m \u001b[0;32mfor\u001b[0m \u001b[0mi\u001b[0m \u001b[0;32min\u001b[0m \u001b[0mtqdm\u001b[0m\u001b[0;34m(\u001b[0m\u001b[0mrange\u001b[0m\u001b[0;34m(\u001b[0m\u001b[0;36m1000\u001b[0m\u001b[0;34m)\u001b[0m\u001b[0;34m)\u001b[0m\u001b[0;34m:\u001b[0m\u001b[0;34m\u001b[0m\u001b[0;34m\u001b[0m\u001b[0m\n\u001b[0;32m---> 25\u001b[0;31m     \u001b[0mshuffled\u001b[0m \u001b[0;34m=\u001b[0m \u001b[0mshuffle\u001b[0m\u001b[0;34m(\u001b[0m\u001b[0mdic\u001b[0m\u001b[0;34m)\u001b[0m\u001b[0;34m\u001b[0m\u001b[0;34m\u001b[0m\u001b[0m\n\u001b[0m\u001b[1;32m     26\u001b[0m     \u001b[0misc_resultstest_\u001b[0m \u001b[0;34m=\u001b[0m \u001b[0mdict\u001b[0m\u001b[0;34m(\u001b[0m\u001b[0;34m)\u001b[0m\u001b[0;34m\u001b[0m\u001b[0;34m\u001b[0m\u001b[0m\n\u001b[1;32m     27\u001b[0m     \u001b[0mprint\u001b[0m\u001b[0;34m(\u001b[0m\u001b[0;34m'step {}'\u001b[0m\u001b[0;34m.\u001b[0m\u001b[0mformat\u001b[0m\u001b[0;34m(\u001b[0m\u001b[0mi\u001b[0m\u001b[0;34m)\u001b[0m\u001b[0;34m)\u001b[0m\u001b[0;34m\u001b[0m\u001b[0;34m\u001b[0m\u001b[0m\n",
      "\u001b[0;31mNameError\u001b[0m: name 'dic' is not defined"
     ]
    }
   ],
   "metadata": {}
  },
  {
   "cell_type": "code",
   "execution_count": 7,
   "source": [
    "len(valstest)"
   ],
   "outputs": [
    {
     "output_type": "error",
     "ename": "NameError",
     "evalue": "name 'valstest' is not defined",
     "traceback": [
      "\u001b[0;31m---------------------------------------------------------------------------\u001b[0m",
      "\u001b[0;31mNameError\u001b[0m                                 Traceback (most recent call last)",
      "\u001b[0;32m<ipython-input-7-8ad045d1506d>\u001b[0m in \u001b[0;36m<module>\u001b[0;34m\u001b[0m\n\u001b[0;32m----> 1\u001b[0;31m \u001b[0mlen\u001b[0m\u001b[0;34m(\u001b[0m\u001b[0mvalstest\u001b[0m\u001b[0;34m)\u001b[0m\u001b[0;34m\u001b[0m\u001b[0;34m\u001b[0m\u001b[0m\n\u001b[0m",
      "\u001b[0;31mNameError\u001b[0m: name 'valstest' is not defined"
     ]
    }
   ],
   "metadata": {}
  },
  {
   "cell_type": "markdown",
   "source": [
    "## Results"
   ],
   "metadata": {}
  },
  {
   "cell_type": "code",
   "execution_count": 91,
   "source": [
    "import seaborn as sns\n",
    "sns.set_theme()\n",
    "\n",
    "significance = np.where(np.max(np.array(valstest)[:,0,:],axis=0)<isc_results['condition1']['ISC_persecond'][0])\n",
    "\n",
    "\n",
    "plt.plot(isc_results['condition1']['ISC_persecond'][0])\n",
    "plt.plot (np.max(np.array(valstest)[:,0,:],axis=0).T,color='grey')\n",
    "plt.plot(np.reshape(significance,(21,)),isc_results['condition1']['ISC_persecond'][0][significance],marker='o', ls=\"\",color='red')\n",
    "#duration = (np.sum(isc_results['condition1']['ISC_persecond'][0]>np.max(vals,axis=0)[0])/170)\n",
    "#plt.title('First Component, %.2f perc of duration above the significance' %(duration*100))\n",
    "plt.title('First component with 5-seconds block')\n",
    "plt.xlabel('time (s)')\n",
    "plt.ylabel('ISC')\n"
   ],
   "outputs": [
    {
     "output_type": "error",
     "ename": "NameError",
     "evalue": "name 'valstest' is not defined",
     "traceback": [
      "\u001b[0;31m---------------------------------------------------------------------------\u001b[0m",
      "\u001b[0;31mNameError\u001b[0m                                 Traceback (most recent call last)",
      "\u001b[0;32m<ipython-input-91-3208ef7b8c93>\u001b[0m in \u001b[0;36m<module>\u001b[0;34m\u001b[0m\n\u001b[1;32m      2\u001b[0m \u001b[0msns\u001b[0m\u001b[0;34m.\u001b[0m\u001b[0mset_theme\u001b[0m\u001b[0;34m(\u001b[0m\u001b[0;34m)\u001b[0m\u001b[0;34m\u001b[0m\u001b[0;34m\u001b[0m\u001b[0m\n\u001b[1;32m      3\u001b[0m \u001b[0;34m\u001b[0m\u001b[0m\n\u001b[0;32m----> 4\u001b[0;31m \u001b[0msignificance\u001b[0m \u001b[0;34m=\u001b[0m \u001b[0mnp\u001b[0m\u001b[0;34m.\u001b[0m\u001b[0mwhere\u001b[0m\u001b[0;34m(\u001b[0m\u001b[0mnp\u001b[0m\u001b[0;34m.\u001b[0m\u001b[0mmax\u001b[0m\u001b[0;34m(\u001b[0m\u001b[0mnp\u001b[0m\u001b[0;34m.\u001b[0m\u001b[0marray\u001b[0m\u001b[0;34m(\u001b[0m\u001b[0mvalstest\u001b[0m\u001b[0;34m)\u001b[0m\u001b[0;34m[\u001b[0m\u001b[0;34m:\u001b[0m\u001b[0;34m,\u001b[0m\u001b[0;36m0\u001b[0m\u001b[0;34m,\u001b[0m\u001b[0;34m:\u001b[0m\u001b[0;34m]\u001b[0m\u001b[0;34m,\u001b[0m\u001b[0maxis\u001b[0m\u001b[0;34m=\u001b[0m\u001b[0;36m0\u001b[0m\u001b[0;34m)\u001b[0m\u001b[0;34m<\u001b[0m\u001b[0misc_results\u001b[0m\u001b[0;34m[\u001b[0m\u001b[0;34m'condition1'\u001b[0m\u001b[0;34m]\u001b[0m\u001b[0;34m[\u001b[0m\u001b[0;34m'ISC_persecond'\u001b[0m\u001b[0;34m]\u001b[0m\u001b[0;34m[\u001b[0m\u001b[0;36m0\u001b[0m\u001b[0;34m]\u001b[0m\u001b[0;34m)\u001b[0m\u001b[0;34m\u001b[0m\u001b[0;34m\u001b[0m\u001b[0m\n\u001b[0m\u001b[1;32m      5\u001b[0m \u001b[0;34m\u001b[0m\u001b[0m\n\u001b[1;32m      6\u001b[0m \u001b[0;34m\u001b[0m\u001b[0m\n",
      "\u001b[0;31mNameError\u001b[0m: name 'valstest' is not defined"
     ]
    }
   ],
   "metadata": {
    "scrolled": true
   }
  },
  {
   "cell_type": "markdown",
   "source": [
    "# Source Inversion"
   ],
   "metadata": {}
  },
  {
   "cell_type": "markdown",
   "source": [
    "## Source Inversion on ISC"
   ],
   "metadata": {}
  },
  {
   "cell_type": "code",
   "execution_count": 11,
   "source": [
    "#mne.viz.plot_topomap(isc_results['condition1']['A'][2,:],pos=sub1_raw.info,vmin=-0.8472,vmax=0.21,ch_type='eeg',cmap='inferno')\n",
    "(isc_results['condition1']['ISC_persecond'][0])[102]"
   ],
   "outputs": [
    {
     "output_type": "execute_result",
     "data": {
      "text/plain": [
       "0.008659540069938524"
      ]
     },
     "metadata": {},
     "execution_count": 11
    }
   ],
   "metadata": {}
  },
  {
   "cell_type": "code",
   "execution_count": 12,
   "source": [
    "epochs_ISC = mne.EpochsArray(np.reshape(isc_results['condition1']['A'][:],[1,91,91]),mne.create_info(sub1_raw.info['ch_names'],sfreq=1,ch_types = 'eeg'))\n",
    "#np.shape(isc_results['condition1']['A'][:])"
   ],
   "outputs": [
    {
     "output_type": "stream",
     "name": "stdout",
     "text": [
      "Not setting metadata\n",
      "Not setting metadata\n",
      "1 matching events found\n",
      "No baseline correction applied\n",
      "0 projection items activated\n",
      "0 bad epochs dropped\n"
     ]
    }
   ],
   "metadata": {
    "scrolled": true
   }
  },
  {
   "cell_type": "code",
   "execution_count": 13,
   "source": [
    "cov_isc =mne.compute_covariance(epochs_ISC)"
   ],
   "outputs": [
    {
     "output_type": "stream",
     "name": "stdout",
     "text": [
      "Computing rank from data with rank=None\n"
     ]
    },
    {
     "output_type": "stream",
     "name": "stderr",
     "text": [
      "<ipython-input-13-d680cd4d598b>:1: RuntimeWarning: Epochs are not baseline corrected, covariance matrix may be inaccurate\n",
      "  cov_isc =mne.compute_covariance(epochs_ISC)\n",
      "<ipython-input-13-d680cd4d598b>:1: RuntimeWarning: Too few samples (required : 460 got : 91), covariance estimate may be unreliable\n",
      "  cov_isc =mne.compute_covariance(epochs_ISC)\n"
     ]
    },
    {
     "output_type": "stream",
     "name": "stdout",
     "text": [
      "    Using tolerance 4.6e-06 (2.2e-16 eps * 91 dim * 2.3e+08  max singular value)\n",
      "    Estimated rank (eeg): 91\n",
      "    EEG: rank 91 computed from 91 data channels with 0 projectors\n",
      "Reducing data rank from 91 -> 91\n",
      "Estimating covariance using EMPIRICAL\n",
      "Done.\n",
      "Number of samples used : 91\n",
      "[done]\n"
     ]
    }
   ],
   "metadata": {
    "scrolled": true
   }
  },
  {
   "cell_type": "code",
   "execution_count": 14,
   "source": [
    "from mne.datasets import fetch_fsaverage\n",
    "\n",
    "import os.path as op\n",
    "fs_dir = fetch_fsaverage(verbose=True)\n",
    "subjects_dir = op.dirname(fs_dir)\n",
    "\n",
    "\n",
    "subject = 'fsaverage' # Subject ID for the MRI-head transformation\n",
    "trans = 'fsaverage'  # MNE has a built-in fsaverage transformation\n",
    "source_space = op.join(fs_dir, 'bem', 'fsaverage-ico-5-src.fif') \n",
    "bem = op.join(fs_dir, 'bem', 'fsaverage-5120-5120-5120-bem-sol.fif')"
   ],
   "outputs": [
    {
     "output_type": "stream",
     "name": "stdout",
     "text": [
      "0 files missing from root.txt in /homes/v20subra/mne_data/MNE-fsaverage-data\n",
      "0 files missing from bem.txt in /homes/v20subra/mne_data/MNE-fsaverage-data/fsaverage\n"
     ]
    }
   ],
   "metadata": {}
  },
  {
   "cell_type": "code",
   "execution_count": 15,
   "source": [
    "fwd_model_isc = mne.make_forward_solution(sub1_raw.info, trans=trans, src=source_space, bem=bem, eeg=True, mindist=5.0)"
   ],
   "outputs": [
    {
     "output_type": "stream",
     "name": "stdout",
     "text": [
      "Source space          : /homes/v20subra/mne_data/MNE-fsaverage-data/fsaverage/bem/fsaverage-ico-5-src.fif\n",
      "MRI -> head transform : /homes/v20subra/.local/lib/python3.8/site-packages/mne/data/fsaverage/fsaverage-trans.fif\n",
      "Measurement data      : instance of Info\n",
      "Conductor model   : /homes/v20subra/mne_data/MNE-fsaverage-data/fsaverage/bem/fsaverage-5120-5120-5120-bem-sol.fif\n",
      "Accurate field computations\n",
      "Do computations in head coordinates\n",
      "Free source orientations\n",
      "\n",
      "Reading /homes/v20subra/mne_data/MNE-fsaverage-data/fsaverage/bem/fsaverage-ico-5-src.fif...\n",
      "Read 2 source spaces a total of 20484 active source locations\n",
      "\n",
      "Coordinate transformation: MRI (surface RAS) -> head\n",
      "     0.999994  0.003552  0.000202      -1.76 mm\n",
      "    -0.003558  0.998389  0.056626      31.09 mm\n",
      "    -0.000001 -0.056626  0.998395      39.60 mm\n",
      "     0.000000  0.000000  0.000000       1.00\n",
      "\n",
      "Read  91 EEG channels from info\n",
      "Head coordinate coil definitions created.\n",
      "Source spaces are now in head coordinates.\n",
      "\n",
      "Setting up the BEM model using /homes/v20subra/mne_data/MNE-fsaverage-data/fsaverage/bem/fsaverage-5120-5120-5120-bem-sol.fif...\n",
      "\n",
      "Loading surfaces...\n",
      "\n",
      "Loading the solution matrix...\n",
      "\n",
      "Three-layer model surfaces loaded.\n",
      "Loaded linear_collocation BEM solution from /homes/v20subra/mne_data/MNE-fsaverage-data/fsaverage/bem/fsaverage-5120-5120-5120-bem-sol.fif\n",
      "Employing the head->MRI coordinate transform with the BEM model.\n",
      "BEM model fsaverage-5120-5120-5120-bem-sol.fif is now set up\n",
      "\n",
      "Source spaces are in head coordinates.\n",
      "Checking that the sources are inside the surface and at least    5.0 mm away (will take a few...)\n",
      "    Skipping interior check for 2433 sources that fit inside a sphere of radius   47.7 mm\n",
      "    Skipping solid angle check for 0 points using Qhull\n",
      "    Skipping interior check for 2241 sources that fit inside a sphere of radius   47.7 mm\n",
      "    Skipping solid angle check for 0 points using Qhull\n",
      "\n",
      "Setting up for EEG...\n",
      "Computing EEG at 20484 source locations (free orientations)...\n",
      "\n",
      "Finished.\n"
     ]
    }
   ],
   "metadata": {
    "scrolled": true
   }
  },
  {
   "cell_type": "code",
   "execution_count": 16,
   "source": [
    "from mne.minimum_norm import make_inverse_operator, apply_inverse, apply_inverse_epochs\n",
    "\n",
    "inverse_operator_isc = make_inverse_operator(sub1_raw.info, fwd_model_isc, cov_isc)\n",
    "\n"
   ],
   "outputs": [
    {
     "output_type": "stream",
     "name": "stdout",
     "text": [
      "Converting forward solution to surface orientation\n",
      "    No patch info available. The standard source space normals will be employed in the rotation to the local surface coordinates....\n",
      "    Converting to surface-based source orientations...\n",
      "    [done]\n",
      "Computing inverse operator with 91 channels.\n",
      "    91 out of 91 channels remain after picking\n",
      "Selected 91 channels\n",
      "Creating the depth weighting matrix...\n",
      "    91 EEG channels\n",
      "    limit = 20485/20484 = 2.194331\n",
      "    scale = 146509 exp = 0.8\n",
      "Applying loose dipole orientations to surface source spaces: 0.2\n",
      "Whitening the forward solution.\n",
      "Computing rank from covariance with rank=None\n",
      "    Using tolerance 0.12 (2.2e-16 eps * 91 dim * 5.7e+12  max singular value)\n",
      "    Estimated rank (eeg): 91\n",
      "    EEG: rank 91 computed from 91 data channels with 0 projectors\n",
      "    Setting small EEG eigenvalues to zero (without PCA)\n",
      "Creating the source covariance matrix\n",
      "Adjusting source covariance matrix.\n",
      "Computing SVD of whitened and weighted lead field matrix.\n"
     ]
    },
    {
     "output_type": "stream",
     "name": "stderr",
     "text": [
      "<ipython-input-16-130cdc2383ee>:3: RuntimeWarning: No average EEG reference present in info[\"projs\"], covariance may be adversely affected. Consider recomputing covariance using with an average eeg reference projector added.\n",
      "  inverse_operator_isc = make_inverse_operator(sub1_raw.info, fwd_model_isc, cov_isc)\n",
      "<ipython-input-16-130cdc2383ee>:3: RuntimeWarning: No average EEG reference present in info[\"projs\"], covariance may be adversely affected. Consider recomputing covariance using with an average eeg reference projector added.\n",
      "  inverse_operator_isc = make_inverse_operator(sub1_raw.info, fwd_model_isc, cov_isc)\n"
     ]
    },
    {
     "output_type": "stream",
     "name": "stdout",
     "text": [
      "    largest singular value = 9.53834\n",
      "    scaling factor to adjust the trace = 8.79532e+16 (nchan = 91 nzero = 0)\n"
     ]
    }
   ],
   "metadata": {}
  },
  {
   "cell_type": "code",
   "execution_count": null,
   "source": [],
   "outputs": [],
   "metadata": {}
  },
  {
   "cell_type": "code",
   "execution_count": null,
   "source": [],
   "outputs": [],
   "metadata": {}
  },
  {
   "cell_type": "code",
   "execution_count": 17,
   "source": [
    "method = \"eLORETA\"\n",
    "snr = 3.\n",
    "lambda2 = 1. / snr ** 2\n",
    "\n",
    "\n",
    "epochs_ISC_2 = mne.EpochsArray(np.reshape(isc_results['condition1']['A'][0],[1,91,1]),mne.create_info(sub1_raw.info['ch_names'],sfreq=1,ch_types = 'eeg'))\n",
    "\n",
    "# epochs['30'].average() = Averaged evoked response for the event 30\n",
    "stc_isc = apply_inverse_epochs(epochs_ISC_2, inverse_operator_isc, lambda2,\n",
    "                             method=method, pick_ori=None, verbose=True)\n",
    "stc_isc"
   ],
   "outputs": [
    {
     "output_type": "stream",
     "name": "stdout",
     "text": [
      "Not setting metadata\n",
      "Not setting metadata\n",
      "1 matching events found\n",
      "No baseline correction applied\n",
      "0 projection items activated\n",
      "0 bad epochs dropped\n",
      "Preparing the inverse operator for use...\n",
      "    Scaled noise and source covariance from nave = 1 to nave = 1\n",
      "    Created the regularized inverter\n",
      "    The projection vectors do not apply to these channels.\n",
      "    Created the whitener using a noise covariance matrix with rank 91 (0 small eigenvalues omitted)\n",
      "    Computing optimized source covariance (eLORETA)...\n",
      "        Using independent orientation weights\n",
      "        Fitting up to 20 iterations (this make take a while)...\n",
      "        Converged on iteration 5 (1.3e-07 < 1e-06)\n",
      "        Updating inverse with weighted eigen leads\n",
      "[done]\n",
      "Picked 91 channels from the data\n",
      "Computing inverse...\n",
      "    Eigenleads already weighted ... \n",
      "Processing epoch : 1 / 1\n",
      "combining the current components...\n",
      "[done]\n"
     ]
    },
    {
     "output_type": "execute_result",
     "data": {
      "text/plain": [
       "[<SourceEstimate | 20484 vertices, subject : fsaverage, tmin : 0.0 (ms), tmax : 0.0 (ms), tstep : 1000.0 (ms), data shape : (20484, 1), ~320 kB>]"
      ]
     },
     "metadata": {},
     "execution_count": 17
    }
   ],
   "metadata": {
    "scrolled": true
   }
  },
  {
   "cell_type": "code",
   "execution_count": null,
   "source": [
    "stc_isc"
   ],
   "outputs": [],
   "metadata": {}
  },
  {
   "cell_type": "code",
   "execution_count": 105,
   "source": [
    "from sklearn import preprocessing\n",
    "\n",
    "scaler = preprocessing.MinMaxScaler(feature_range=(-1,1)).fit(stc_isc[0].data)\n",
    "\n",
    "plt.title('Distribution of the eLORETA source inversion on spatial filter')\n",
    "scaled = scaler.transform(stc_isc[0].data)\n",
    "plt.hist(scaled,bins=100)"
   ],
   "outputs": [
    {
     "output_type": "execute_result",
     "data": {
      "text/plain": [
       "(array([  5.,   9.,  15.,  27.,  26.,  90., 114., 187., 297., 408., 418.,\n",
       "        378., 330., 291., 272., 266., 234., 247., 214., 245., 226., 182.,\n",
       "        201., 174., 143., 183., 162., 164., 174., 171., 188., 174., 171.,\n",
       "        172., 176., 162., 161., 175., 178., 189., 169., 171., 171., 183.,\n",
       "        187., 162., 186., 183., 175., 173., 184., 182., 180., 193., 228.,\n",
       "        201., 203., 213., 221., 207., 184., 207., 214., 210., 235., 237.,\n",
       "        235., 223., 240., 249., 259., 267., 296., 304., 292., 307., 342.,\n",
       "        319., 356., 349., 346., 393., 350., 349., 355., 324., 336., 333.,\n",
       "        278., 212., 220., 140.,  73.,  29.,  19.,   8.,  15.,   5.,   2.,\n",
       "          1.]),\n",
       " array([-1.00000000e+00, -9.80000000e-01, -9.60000000e-01, -9.40000000e-01,\n",
       "        -9.20000000e-01, -9.00000000e-01, -8.80000000e-01, -8.60000000e-01,\n",
       "        -8.40000000e-01, -8.20000000e-01, -8.00000000e-01, -7.80000000e-01,\n",
       "        -7.60000000e-01, -7.40000000e-01, -7.20000000e-01, -7.00000000e-01,\n",
       "        -6.80000000e-01, -6.60000000e-01, -6.40000000e-01, -6.20000000e-01,\n",
       "        -6.00000000e-01, -5.80000000e-01, -5.60000000e-01, -5.40000000e-01,\n",
       "        -5.20000000e-01, -5.00000000e-01, -4.80000000e-01, -4.60000000e-01,\n",
       "        -4.40000000e-01, -4.20000000e-01, -4.00000000e-01, -3.80000000e-01,\n",
       "        -3.60000000e-01, -3.40000000e-01, -3.20000000e-01, -3.00000000e-01,\n",
       "        -2.80000000e-01, -2.60000000e-01, -2.40000000e-01, -2.20000000e-01,\n",
       "        -2.00000000e-01, -1.80000000e-01, -1.60000000e-01, -1.40000000e-01,\n",
       "        -1.20000000e-01, -1.00000000e-01, -8.00000000e-02, -6.00000000e-02,\n",
       "        -4.00000000e-02, -2.00000000e-02,  2.22044605e-16,  2.00000000e-02,\n",
       "         4.00000000e-02,  6.00000000e-02,  8.00000000e-02,  1.00000000e-01,\n",
       "         1.20000000e-01,  1.40000000e-01,  1.60000000e-01,  1.80000000e-01,\n",
       "         2.00000000e-01,  2.20000000e-01,  2.40000000e-01,  2.60000000e-01,\n",
       "         2.80000000e-01,  3.00000000e-01,  3.20000000e-01,  3.40000000e-01,\n",
       "         3.60000000e-01,  3.80000000e-01,  4.00000000e-01,  4.20000000e-01,\n",
       "         4.40000000e-01,  4.60000000e-01,  4.80000000e-01,  5.00000000e-01,\n",
       "         5.20000000e-01,  5.40000000e-01,  5.60000000e-01,  5.80000000e-01,\n",
       "         6.00000000e-01,  6.20000000e-01,  6.40000000e-01,  6.60000000e-01,\n",
       "         6.80000000e-01,  7.00000000e-01,  7.20000000e-01,  7.40000000e-01,\n",
       "         7.60000000e-01,  7.80000000e-01,  8.00000000e-01,  8.20000000e-01,\n",
       "         8.40000000e-01,  8.60000000e-01,  8.80000000e-01,  9.00000000e-01,\n",
       "         9.20000000e-01,  9.40000000e-01,  9.60000000e-01,  9.80000000e-01,\n",
       "         1.00000000e+00]),\n",
       " <BarContainer object of 100 artists>)"
      ]
     },
     "metadata": {},
     "execution_count": 105
    },
    {
     "output_type": "display_data",
     "data": {
      "image/png": "[encoded data removed]",
      "text/plain": [
       "<Figure size 432x288 with 1 Axes>"
      ]
     },
     "metadata": {}
    }
   ],
   "metadata": {
    "scrolled": true
   }
  },
  {
   "cell_type": "code",
   "execution_count": 111,
   "source": [
    "index = np.where( np.logical_or(scaled<-0.5, scaled>0.5))[0]\n",
    "scaled[list(set(list(range(20484)))-set(index))] =0\n"
   ],
   "outputs": [],
   "metadata": {}
  },
  {
   "cell_type": "code",
   "execution_count": 1,
   "source": [
    "import brainspace.mesh\n",
    "\n",
    "mesh = brainspace.mesh.mesh_io.read_surface('S4B2/brainnotation/tpl-fsaverage_den-10k_hemi-L_pial.surf.gii')\n",
    "mesh2 = brainspace.mesh.mesh_io.read_surface('S4B2/brainnotation/tpl-fsaverage_den-10k_hemi-R_pial.surf.gii')\n",
    "\n",
    "\n",
    "from surfplot import Plot\n",
    "%matplotlib qt\n",
    "%gui qt\n",
    "\n",
    "p = Plot(mesh,mesh2, zoom=1.2, views='lateral')\n",
    "\n",
    "p.add_layer(scaled, color_range=None,cmap = 'seismic')\n",
    "fig = p.build()\n",
    "plt.title('1st spatial filter using eLORETA (after the threshold on range)')\n",
    "fig.show()\n"
   ],
   "outputs": [
    {
     "output_type": "error",
     "ename": "NameError",
     "evalue": "name 'reload' is not defined",
     "traceback": [
      "\u001b[0;31m---------------------------------------------------------------------------\u001b[0m",
      "\u001b[0;31mNameError\u001b[0m                                 Traceback (most recent call last)",
      "\u001b[0;32m<ipython-input-1-0809744c4a29>\u001b[0m in \u001b[0;36m<module>\u001b[0;34m\u001b[0m\n\u001b[1;32m      1\u001b[0m \u001b[0;32mimport\u001b[0m \u001b[0mbrainspace\u001b[0m\u001b[0;34m.\u001b[0m\u001b[0mmesh\u001b[0m\u001b[0;34m\u001b[0m\u001b[0;34m\u001b[0m\u001b[0m\n\u001b[0;32m----> 2\u001b[0;31m \u001b[0mreload\u001b[0m\u001b[0;34m(\u001b[0m\u001b[0msurface_plot\u001b[0m\u001b[0;34m)\u001b[0m\u001b[0;34m\u001b[0m\u001b[0;34m\u001b[0m\u001b[0m\n\u001b[0m\u001b[1;32m      3\u001b[0m \u001b[0mmesh\u001b[0m \u001b[0;34m=\u001b[0m \u001b[0mbrainspace\u001b[0m\u001b[0;34m.\u001b[0m\u001b[0mmesh\u001b[0m\u001b[0;34m.\u001b[0m\u001b[0mmesh_io\u001b[0m\u001b[0;34m.\u001b[0m\u001b[0mread_surface\u001b[0m\u001b[0;34m(\u001b[0m\u001b[0;34m'S4B2/brainnotation/tpl-fsaverage_den-10k_hemi-L_pial.surf.gii'\u001b[0m\u001b[0;34m)\u001b[0m\u001b[0;34m\u001b[0m\u001b[0;34m\u001b[0m\u001b[0m\n\u001b[1;32m      4\u001b[0m \u001b[0mmesh2\u001b[0m \u001b[0;34m=\u001b[0m \u001b[0mbrainspace\u001b[0m\u001b[0;34m.\u001b[0m\u001b[0mmesh\u001b[0m\u001b[0;34m.\u001b[0m\u001b[0mmesh_io\u001b[0m\u001b[0;34m.\u001b[0m\u001b[0mread_surface\u001b[0m\u001b[0;34m(\u001b[0m\u001b[0;34m'S4B2/brainnotation/tpl-fsaverage_den-10k_hemi-R_pial.surf.gii'\u001b[0m\u001b[0;34m)\u001b[0m\u001b[0;34m\u001b[0m\u001b[0;34m\u001b[0m\u001b[0m\n\u001b[1;32m      5\u001b[0m \u001b[0;34m\u001b[0m\u001b[0m\n",
      "\u001b[0;31mNameError\u001b[0m: name 'reload' is not defined"
     ]
    }
   ],
   "metadata": {
    "scrolled": true
   }
  },
  {
   "cell_type": "code",
   "execution_count": 24,
   "source": [
    "#src = mne.setup_source_space('fsaverage', spacing='oct6',\n",
    "#                             add_dist=False, subjects_dir=subjects_dir)#write_source_spaces('fsaverage-new-ico5-src.fif', src)\n",
    "#mne.write_source_spaces('fsaverage-new-oct6-src.fif', src)\n",
    "\n"
   ],
   "outputs": [
    {
     "output_type": "error",
     "ename": "SyntaxError",
     "evalue": "invalid syntax (<ipython-input-24-e623cb8e08ab>, line 3)",
     "traceback": [
      "\u001b[0;36m  File \u001b[0;32m\"<ipython-input-24-e623cb8e08ab>\"\u001b[0;36m, line \u001b[0;32m3\u001b[0m\n\u001b[0;31m    pip install brainspace\u001b[0m\n\u001b[0m        ^\u001b[0m\n\u001b[0;31mSyntaxError\u001b[0m\u001b[0;31m:\u001b[0m invalid syntax\n"
     ]
    }
   ],
   "metadata": {
    "scrolled": false
   }
  },
  {
   "cell_type": "code",
   "execution_count": 37,
   "source": [
    "stc_isc[0].data.min()\n"
   ],
   "outputs": [
    {
     "output_type": "execute_result",
     "data": {
      "text/plain": [
       "3.1737942383757724e-08"
      ]
     },
     "metadata": {},
     "execution_count": 37
    }
   ],
   "metadata": {}
  },
  {
   "cell_type": "code",
   "execution_count": 111,
   "source": [
    "vertno_max, time_max = stc_isc[0].get_peak()\n",
    "%matplotlib qt\n",
    "%gui qt \n",
    "from pyvistaqt import BackgroundPlotter\n",
    "fig, ax = plt.subplots()\n",
    "ax.plot(1e3 * stc_isc[0].times, stc_isc[0].data.T)\n",
    "ax.set(xlabel='time (ms)', ylabel='%s value' % method)\n",
    "brain = stc_isc[0].plot(subjects_dir=subjects_dir, initial_time=time_max,time_viewer=False,backend='pyvista')\n",
    "#surfer_kwargs = dict(\n",
    " #   hemi='both', subjects_dir=subjects_dir,\n",
    "  #  clim=dict(kind='value', lims=[8, 12, 15]), views='lateral',\n",
    "   # initial_time=time_max, time_unit='s', size=(800, 800), smoothing_steps=10)\n",
    "#brain = stc.plot(**surfer_kwargs)\n",
    "#brain.add_foci(vertno_max, coords_as_verts=True, hemi='rh', color='blue',scale_factor=0.6, alpha=0.5)\n",
    "#brain.add_foci(vertno_max, coords_as_verts=True, hemi='lh', color='red',scale_factor=0.6, alpha=0.5)\n",
    "\n",
    "brain.add_text(0.1, 0.9, 'eLORETA for the first component', 'title' ,font_size=14)\n",
    "\n"
   ],
   "outputs": [
    {
     "output_type": "stream",
     "name": "stdout",
     "text": [
      "Using pyvista 3d backend.\n",
      "\n",
      "Using control points [8.08546892e-08 8.16022916e-08 8.54160340e-08]\n",
      "Using notebook 3d backend.\n",
      "\n"
     ]
    },
    {
     "output_type": "error",
     "ename": "QtDeprecationError",
     "evalue": "`BackgroundPlotter` has moved to pyvistaqt.\n    You can install this from PyPI with: `pip install pyvistaqt`\n    Then import it via: `from pyvistaqt import BackgroundPlotter`\n    `BackgroundPlotter` is no longer accessible by `pyvista.BackgroundPlotter`\n    See https://github.com/pyvista/pyvistaqt\n",
     "traceback": [
      "\u001b[0;31m---------------------------------------------------------------------------\u001b[0m",
      "\u001b[0;31mQtDeprecationError\u001b[0m                        Traceback (most recent call last)",
      "\u001b[0;32m<ipython-input-111-fe80827e7d79>\u001b[0m in \u001b[0;36m<module>\u001b[0;34m\u001b[0m\n\u001b[1;32m      6\u001b[0m \u001b[0max\u001b[0m\u001b[0;34m.\u001b[0m\u001b[0mplot\u001b[0m\u001b[0;34m(\u001b[0m\u001b[0;36m1e3\u001b[0m \u001b[0;34m*\u001b[0m \u001b[0mstc_isc\u001b[0m\u001b[0;34m[\u001b[0m\u001b[0;36m0\u001b[0m\u001b[0;34m]\u001b[0m\u001b[0;34m.\u001b[0m\u001b[0mtimes\u001b[0m\u001b[0;34m,\u001b[0m \u001b[0mstc_isc\u001b[0m\u001b[0;34m[\u001b[0m\u001b[0;36m0\u001b[0m\u001b[0;34m]\u001b[0m\u001b[0;34m.\u001b[0m\u001b[0mdata\u001b[0m\u001b[0;34m.\u001b[0m\u001b[0mT\u001b[0m\u001b[0;34m)\u001b[0m\u001b[0;34m\u001b[0m\u001b[0;34m\u001b[0m\u001b[0m\n\u001b[1;32m      7\u001b[0m \u001b[0max\u001b[0m\u001b[0;34m.\u001b[0m\u001b[0mset\u001b[0m\u001b[0;34m(\u001b[0m\u001b[0mxlabel\u001b[0m\u001b[0;34m=\u001b[0m\u001b[0;34m'time (ms)'\u001b[0m\u001b[0;34m,\u001b[0m \u001b[0mylabel\u001b[0m\u001b[0;34m=\u001b[0m\u001b[0;34m'%s value'\u001b[0m \u001b[0;34m%\u001b[0m \u001b[0mmethod\u001b[0m\u001b[0;34m)\u001b[0m\u001b[0;34m\u001b[0m\u001b[0;34m\u001b[0m\u001b[0m\n\u001b[0;32m----> 8\u001b[0;31m \u001b[0mbrain\u001b[0m \u001b[0;34m=\u001b[0m \u001b[0mstc_isc\u001b[0m\u001b[0;34m[\u001b[0m\u001b[0;36m0\u001b[0m\u001b[0;34m]\u001b[0m\u001b[0;34m.\u001b[0m\u001b[0mplot\u001b[0m\u001b[0;34m(\u001b[0m\u001b[0msubjects_dir\u001b[0m\u001b[0;34m=\u001b[0m\u001b[0msubjects_dir\u001b[0m\u001b[0;34m,\u001b[0m \u001b[0minitial_time\u001b[0m\u001b[0;34m=\u001b[0m\u001b[0mtime_max\u001b[0m\u001b[0;34m,\u001b[0m\u001b[0mtime_viewer\u001b[0m\u001b[0;34m=\u001b[0m\u001b[0;32mFalse\u001b[0m\u001b[0;34m,\u001b[0m\u001b[0mbackend\u001b[0m\u001b[0;34m=\u001b[0m\u001b[0;34m'pyvista'\u001b[0m\u001b[0;34m)\u001b[0m\u001b[0;34m\u001b[0m\u001b[0;34m\u001b[0m\u001b[0m\n\u001b[0m\u001b[1;32m      9\u001b[0m \u001b[0;31m#surfer_kwargs = dict(\u001b[0m\u001b[0;34m\u001b[0m\u001b[0;34m\u001b[0m\u001b[0;34m\u001b[0m\u001b[0m\n\u001b[1;32m     10\u001b[0m  \u001b[0;31m#   hemi='both', subjects_dir=subjects_dir,\u001b[0m\u001b[0;34m\u001b[0m\u001b[0;34m\u001b[0m\u001b[0;34m\u001b[0m\u001b[0m\n",
      "\u001b[0;32m~/.local/lib/python3.8/site-packages/mne/source_estimate.py\u001b[0m in \u001b[0;36mplot\u001b[0;34m(self, subject, surface, hemi, colormap, time_label, smoothing_steps, transparent, alpha, time_viewer, subjects_dir, figure, views, colorbar, clim, cortex, size, background, foreground, initial_time, time_unit, backend, spacing, title, show_traces, src, volume_options, view_layout, add_data_kwargs, brain_kwargs, verbose)\u001b[0m\n\u001b[1;32m    649\u001b[0m              \u001b[0msrc\u001b[0m\u001b[0;34m=\u001b[0m\u001b[0;32mNone\u001b[0m\u001b[0;34m,\u001b[0m \u001b[0mvolume_options\u001b[0m\u001b[0;34m=\u001b[0m\u001b[0;36m1.\u001b[0m\u001b[0;34m,\u001b[0m \u001b[0mview_layout\u001b[0m\u001b[0;34m=\u001b[0m\u001b[0;34m'vertical'\u001b[0m\u001b[0;34m,\u001b[0m\u001b[0;34m\u001b[0m\u001b[0;34m\u001b[0m\u001b[0m\n\u001b[1;32m    650\u001b[0m              add_data_kwargs=None, brain_kwargs=None, verbose=None):\n\u001b[0;32m--> 651\u001b[0;31m         brain = plot_source_estimates(\n\u001b[0m\u001b[1;32m    652\u001b[0m             \u001b[0mself\u001b[0m\u001b[0;34m,\u001b[0m \u001b[0msubject\u001b[0m\u001b[0;34m,\u001b[0m \u001b[0msurface\u001b[0m\u001b[0;34m=\u001b[0m\u001b[0msurface\u001b[0m\u001b[0;34m,\u001b[0m \u001b[0mhemi\u001b[0m\u001b[0;34m=\u001b[0m\u001b[0mhemi\u001b[0m\u001b[0;34m,\u001b[0m \u001b[0mcolormap\u001b[0m\u001b[0;34m=\u001b[0m\u001b[0mcolormap\u001b[0m\u001b[0;34m,\u001b[0m\u001b[0;34m\u001b[0m\u001b[0;34m\u001b[0m\u001b[0m\n\u001b[1;32m    653\u001b[0m             \u001b[0mtime_label\u001b[0m\u001b[0;34m=\u001b[0m\u001b[0mtime_label\u001b[0m\u001b[0;34m,\u001b[0m \u001b[0msmoothing_steps\u001b[0m\u001b[0;34m=\u001b[0m\u001b[0msmoothing_steps\u001b[0m\u001b[0;34m,\u001b[0m\u001b[0;34m\u001b[0m\u001b[0;34m\u001b[0m\u001b[0m\n",
      "\u001b[0;32m<decorator-gen-153>\u001b[0m in \u001b[0;36mplot_source_estimates\u001b[0;34m(stc, subject, surface, hemi, colormap, time_label, smoothing_steps, transparent, alpha, time_viewer, subjects_dir, figure, views, colorbar, clim, cortex, size, background, foreground, initial_time, time_unit, backend, spacing, title, show_traces, src, volume_options, view_layout, add_data_kwargs, brain_kwargs, verbose)\u001b[0m\n",
      "\u001b[0;32m~/.local/lib/python3.8/site-packages/mne/viz/_3d.py\u001b[0m in \u001b[0;36mplot_source_estimates\u001b[0;34m(stc, subject, surface, hemi, colormap, time_label, smoothing_steps, transparent, alpha, time_viewer, subjects_dir, figure, views, colorbar, clim, cortex, size, background, foreground, initial_time, time_unit, backend, spacing, title, show_traces, src, volume_options, view_layout, add_data_kwargs, brain_kwargs, verbose)\u001b[0m\n\u001b[1;32m   1778\u001b[0m     \u001b[0;32melse\u001b[0m\u001b[0;34m:\u001b[0m\u001b[0;34m\u001b[0m\u001b[0;34m\u001b[0m\u001b[0m\n\u001b[1;32m   1779\u001b[0m         \u001b[0;32mwith\u001b[0m \u001b[0muse_3d_backend\u001b[0m\u001b[0;34m(\u001b[0m\u001b[0mbackend\u001b[0m\u001b[0;34m)\u001b[0m\u001b[0;34m:\u001b[0m\u001b[0;34m\u001b[0m\u001b[0;34m\u001b[0m\u001b[0m\n\u001b[0;32m-> 1780\u001b[0;31m             return _plot_stc(\n\u001b[0m\u001b[1;32m   1781\u001b[0m                 \u001b[0mstc\u001b[0m\u001b[0;34m,\u001b[0m \u001b[0moverlay_alpha\u001b[0m\u001b[0;34m=\u001b[0m\u001b[0malpha\u001b[0m\u001b[0;34m,\u001b[0m \u001b[0mbrain_alpha\u001b[0m\u001b[0;34m=\u001b[0m\u001b[0malpha\u001b[0m\u001b[0;34m,\u001b[0m\u001b[0;34m\u001b[0m\u001b[0;34m\u001b[0m\u001b[0m\n\u001b[1;32m   1782\u001b[0m                 \u001b[0mvector_alpha\u001b[0m\u001b[0;34m=\u001b[0m\u001b[0malpha\u001b[0m\u001b[0;34m,\u001b[0m \u001b[0mcortex\u001b[0m\u001b[0;34m=\u001b[0m\u001b[0mcortex\u001b[0m\u001b[0;34m,\u001b[0m \u001b[0mforeground\u001b[0m\u001b[0;34m=\u001b[0m\u001b[0mforeground\u001b[0m\u001b[0;34m,\u001b[0m\u001b[0;34m\u001b[0m\u001b[0;34m\u001b[0m\u001b[0m\n",
      "\u001b[0;32m~/.local/lib/python3.8/site-packages/mne/viz/_3d.py\u001b[0m in \u001b[0;36m_plot_stc\u001b[0;34m(stc, subject, surface, hemi, colormap, time_label, smoothing_steps, subjects_dir, views, clim, figure, initial_time, time_unit, background, time_viewer, colorbar, transparent, brain_alpha, overlay_alpha, vector_alpha, cortex, foreground, size, scale_factor, show_traces, src, volume_options, view_layout, add_data_kwargs, brain_kwargs)\u001b[0m\n\u001b[1;32m   1860\u001b[0m                              'mayavi backend')\n\u001b[1;32m   1861\u001b[0m     \u001b[0;32mwith\u001b[0m \u001b[0mwarnings\u001b[0m\u001b[0;34m.\u001b[0m\u001b[0mcatch_warnings\u001b[0m\u001b[0;34m(\u001b[0m\u001b[0mrecord\u001b[0m\u001b[0;34m=\u001b[0m\u001b[0;32mTrue\u001b[0m\u001b[0;34m)\u001b[0m\u001b[0;34m:\u001b[0m  \u001b[0;31m# traits warnings\u001b[0m\u001b[0;34m\u001b[0m\u001b[0;34m\u001b[0m\u001b[0m\n\u001b[0;32m-> 1862\u001b[0;31m         \u001b[0mbrain\u001b[0m \u001b[0;34m=\u001b[0m \u001b[0mBrain\u001b[0m\u001b[0;34m(\u001b[0m\u001b[0;34m**\u001b[0m\u001b[0mkwargs\u001b[0m\u001b[0;34m)\u001b[0m\u001b[0;34m\u001b[0m\u001b[0;34m\u001b[0m\u001b[0m\n\u001b[0m\u001b[1;32m   1863\u001b[0m     \u001b[0;32mdel\u001b[0m \u001b[0mkwargs\u001b[0m\u001b[0;34m\u001b[0m\u001b[0;34m\u001b[0m\u001b[0m\n\u001b[1;32m   1864\u001b[0m \u001b[0;34m\u001b[0m\u001b[0m\n",
      "\u001b[0;32m~/.local/lib/python3.8/site-packages/mne/viz/_brain/_brain.py\u001b[0m in \u001b[0;36m__init__\u001b[0;34m(self, subject_id, hemi, surf, title, cortex, alpha, size, background, foreground, figure, subjects_dir, views, offset, show_toolbar, offscreen, interaction, units, view_layout, silhouette, theme, show)\u001b[0m\n\u001b[1;32m    477\u001b[0m         \u001b[0mlogger\u001b[0m\u001b[0;34m.\u001b[0m\u001b[0mdebug\u001b[0m\u001b[0;34m(\u001b[0m\u001b[0;34mf'Hemi offset: {offset}'\u001b[0m\u001b[0;34m)\u001b[0m\u001b[0;34m\u001b[0m\u001b[0;34m\u001b[0m\u001b[0m\n\u001b[1;32m    478\u001b[0m \u001b[0;34m\u001b[0m\u001b[0m\n\u001b[0;32m--> 479\u001b[0;31m         self._renderer = _get_renderer(name=self._title, size=size,\n\u001b[0m\u001b[1;32m    480\u001b[0m                                        \u001b[0mbgcolor\u001b[0m\u001b[0;34m=\u001b[0m\u001b[0mbackground\u001b[0m\u001b[0;34m,\u001b[0m\u001b[0;34m\u001b[0m\u001b[0;34m\u001b[0m\u001b[0m\n\u001b[1;32m    481\u001b[0m                                        \u001b[0mshape\u001b[0m\u001b[0;34m=\u001b[0m\u001b[0mshape\u001b[0m\u001b[0;34m,\u001b[0m\u001b[0;34m\u001b[0m\u001b[0;34m\u001b[0m\u001b[0m\n",
      "\u001b[0;32m~/.local/lib/python3.8/site-packages/mne/viz/backends/renderer.py\u001b[0m in \u001b[0;36m_get_renderer\u001b[0;34m(*args, **kwargs)\u001b[0m\n\u001b[1;32m     39\u001b[0m \u001b[0;32mdef\u001b[0m \u001b[0m_get_renderer\u001b[0m\u001b[0;34m(\u001b[0m\u001b[0;34m*\u001b[0m\u001b[0margs\u001b[0m\u001b[0;34m,\u001b[0m \u001b[0;34m**\u001b[0m\u001b[0mkwargs\u001b[0m\u001b[0;34m)\u001b[0m\u001b[0;34m:\u001b[0m\u001b[0;34m\u001b[0m\u001b[0;34m\u001b[0m\u001b[0m\n\u001b[1;32m     40\u001b[0m     \u001b[0mset_3d_backend\u001b[0m\u001b[0;34m(\u001b[0m\u001b[0m_get_3d_backend\u001b[0m\u001b[0;34m(\u001b[0m\u001b[0;34m)\u001b[0m\u001b[0;34m,\u001b[0m \u001b[0mverbose\u001b[0m\u001b[0;34m=\u001b[0m\u001b[0;32mFalse\u001b[0m\u001b[0;34m)\u001b[0m\u001b[0;34m\u001b[0m\u001b[0;34m\u001b[0m\u001b[0m\n\u001b[0;32m---> 41\u001b[0;31m     \u001b[0;32mreturn\u001b[0m \u001b[0mbackend\u001b[0m\u001b[0;34m.\u001b[0m\u001b[0m_Renderer\u001b[0m\u001b[0;34m(\u001b[0m\u001b[0;34m*\u001b[0m\u001b[0margs\u001b[0m\u001b[0;34m,\u001b[0m \u001b[0;34m**\u001b[0m\u001b[0mkwargs\u001b[0m\u001b[0;34m)\u001b[0m\u001b[0;34m\u001b[0m\u001b[0;34m\u001b[0m\u001b[0m\n\u001b[0m\u001b[1;32m     42\u001b[0m \u001b[0;34m\u001b[0m\u001b[0m\n\u001b[1;32m     43\u001b[0m \u001b[0;34m\u001b[0m\u001b[0m\n",
      "\u001b[0;32m~/.local/lib/python3.8/site-packages/mne/viz/backends/_qt.py\u001b[0m in \u001b[0;36m__init__\u001b[0;34m(self, *args, **kwargs)\u001b[0m\n\u001b[1;32m    509\u001b[0m                 _QtStatusBar, _QtWindow, _QtPlayback):\n\u001b[1;32m    510\u001b[0m     \u001b[0;32mdef\u001b[0m \u001b[0m__init__\u001b[0m\u001b[0;34m(\u001b[0m\u001b[0mself\u001b[0m\u001b[0;34m,\u001b[0m \u001b[0;34m*\u001b[0m\u001b[0margs\u001b[0m\u001b[0;34m,\u001b[0m \u001b[0;34m**\u001b[0m\u001b[0mkwargs\u001b[0m\u001b[0;34m)\u001b[0m\u001b[0;34m:\u001b[0m\u001b[0;34m\u001b[0m\u001b[0;34m\u001b[0m\u001b[0m\n\u001b[0;32m--> 511\u001b[0;31m         \u001b[0msuper\u001b[0m\u001b[0;34m(\u001b[0m\u001b[0;34m)\u001b[0m\u001b[0;34m.\u001b[0m\u001b[0m__init__\u001b[0m\u001b[0;34m(\u001b[0m\u001b[0;34m*\u001b[0m\u001b[0margs\u001b[0m\u001b[0;34m,\u001b[0m \u001b[0;34m**\u001b[0m\u001b[0mkwargs\u001b[0m\u001b[0;34m)\u001b[0m\u001b[0;34m\u001b[0m\u001b[0;34m\u001b[0m\u001b[0m\n\u001b[0m\u001b[1;32m    512\u001b[0m         \u001b[0mself\u001b[0m\u001b[0;34m.\u001b[0m\u001b[0m_window_initialize\u001b[0m\u001b[0;34m(\u001b[0m\u001b[0;34m)\u001b[0m\u001b[0;34m\u001b[0m\u001b[0;34m\u001b[0m\u001b[0m\n\u001b[1;32m    513\u001b[0m \u001b[0;34m\u001b[0m\u001b[0m\n",
      "\u001b[0;32m~/.local/lib/python3.8/site-packages/mne/viz/backends/_pyvista.py\u001b[0m in \u001b[0;36m__init__\u001b[0;34m(self, fig, size, bgcolor, name, show, shape, notebook, smooth_shading)\u001b[0m\n\u001b[1;32m    178\u001b[0m                 \u001b[0mself\u001b[0m\u001b[0;34m.\u001b[0m\u001b[0mfigure\u001b[0m\u001b[0;34m.\u001b[0m\u001b[0msmooth_shading\u001b[0m \u001b[0;34m=\u001b[0m \u001b[0;32mFalse\u001b[0m\u001b[0;34m\u001b[0m\u001b[0;34m\u001b[0m\u001b[0m\n\u001b[1;32m    179\u001b[0m             \u001b[0;32mwith\u001b[0m \u001b[0m_disabled_depth_peeling\u001b[0m\u001b[0;34m(\u001b[0m\u001b[0;34m)\u001b[0m\u001b[0;34m:\u001b[0m\u001b[0;34m\u001b[0m\u001b[0;34m\u001b[0m\u001b[0m\n\u001b[0;32m--> 180\u001b[0;31m                 \u001b[0mself\u001b[0m\u001b[0;34m.\u001b[0m\u001b[0mplotter\u001b[0m \u001b[0;34m=\u001b[0m \u001b[0mself\u001b[0m\u001b[0;34m.\u001b[0m\u001b[0mfigure\u001b[0m\u001b[0;34m.\u001b[0m\u001b[0mbuild\u001b[0m\u001b[0;34m(\u001b[0m\u001b[0;34m)\u001b[0m\u001b[0;34m\u001b[0m\u001b[0;34m\u001b[0m\u001b[0m\n\u001b[0m\u001b[1;32m    181\u001b[0m             \u001b[0mself\u001b[0m\u001b[0;34m.\u001b[0m\u001b[0m_hide_axes\u001b[0m\u001b[0;34m(\u001b[0m\u001b[0;34m)\u001b[0m\u001b[0;34m\u001b[0m\u001b[0;34m\u001b[0m\u001b[0m\n\u001b[1;32m    182\u001b[0m             \u001b[0mself\u001b[0m\u001b[0;34m.\u001b[0m\u001b[0m_enable_aa\u001b[0m\u001b[0;34m(\u001b[0m\u001b[0;34m)\u001b[0m\u001b[0;34m\u001b[0m\u001b[0;34m\u001b[0m\u001b[0m\n",
      "\u001b[0;32m~/.local/lib/python3.8/site-packages/mne/viz/backends/_pyvista.py\u001b[0m in \u001b[0;36mbuild\u001b[0;34m(self)\u001b[0m\n\u001b[1;32m     92\u001b[0m                     \u001b[0mapp\u001b[0m \u001b[0;34m=\u001b[0m \u001b[0mQApplication\u001b[0m\u001b[0;34m(\u001b[0m\u001b[0;34m[\u001b[0m\u001b[0;34m\"MNE\"\u001b[0m\u001b[0;34m]\u001b[0m\u001b[0;34m)\u001b[0m\u001b[0;34m\u001b[0m\u001b[0;34m\u001b[0m\u001b[0m\n\u001b[1;32m     93\u001b[0m                 \u001b[0mself\u001b[0m\u001b[0;34m.\u001b[0m\u001b[0mstore\u001b[0m\u001b[0;34m[\u001b[0m\u001b[0;34m'app'\u001b[0m\u001b[0;34m]\u001b[0m \u001b[0;34m=\u001b[0m \u001b[0mapp\u001b[0m\u001b[0;34m\u001b[0m\u001b[0;34m\u001b[0m\u001b[0m\n\u001b[0;32m---> 94\u001b[0;31m             \u001b[0mplotter\u001b[0m \u001b[0;34m=\u001b[0m \u001b[0mplotter_class\u001b[0m\u001b[0;34m(\u001b[0m\u001b[0;34m**\u001b[0m\u001b[0mself\u001b[0m\u001b[0;34m.\u001b[0m\u001b[0mstore\u001b[0m\u001b[0;34m)\u001b[0m\u001b[0;34m\u001b[0m\u001b[0;34m\u001b[0m\u001b[0m\n\u001b[0m\u001b[1;32m     95\u001b[0m             \u001b[0mplotter\u001b[0m\u001b[0;34m.\u001b[0m\u001b[0mbackground_color\u001b[0m \u001b[0;34m=\u001b[0m \u001b[0mself\u001b[0m\u001b[0;34m.\u001b[0m\u001b[0mbackground_color\u001b[0m\u001b[0;34m\u001b[0m\u001b[0;34m\u001b[0m\u001b[0m\n\u001b[1;32m     96\u001b[0m             \u001b[0mself\u001b[0m\u001b[0;34m.\u001b[0m\u001b[0mplotter\u001b[0m \u001b[0;34m=\u001b[0m \u001b[0mplotter\u001b[0m\u001b[0;34m\u001b[0m\u001b[0;34m\u001b[0m\u001b[0m\n",
      "\u001b[0;32m~/.local/lib/python3.8/site-packages/pyvista/plotting/__init__.py\u001b[0m in \u001b[0;36m__init__\u001b[0;34m(self, *args, **kwargs)\u001b[0m\n\u001b[1;32m     37\u001b[0m     \u001b[0;32mdef\u001b[0m \u001b[0m__init__\u001b[0m\u001b[0;34m(\u001b[0m\u001b[0mself\u001b[0m\u001b[0;34m,\u001b[0m \u001b[0;34m*\u001b[0m\u001b[0margs\u001b[0m\u001b[0;34m,\u001b[0m \u001b[0;34m**\u001b[0m\u001b[0mkwargs\u001b[0m\u001b[0;34m)\u001b[0m\u001b[0;34m:\u001b[0m\u001b[0;34m\u001b[0m\u001b[0;34m\u001b[0m\u001b[0m\n\u001b[1;32m     38\u001b[0m         \u001b[0;34m\"\"\"Empty init.\"\"\"\u001b[0m\u001b[0;34m\u001b[0m\u001b[0;34m\u001b[0m\u001b[0m\n\u001b[0;32m---> 39\u001b[0;31m         \u001b[0;32mraise\u001b[0m \u001b[0mQtDeprecationError\u001b[0m\u001b[0;34m(\u001b[0m\u001b[0;34m'BackgroundPlotter'\u001b[0m\u001b[0;34m)\u001b[0m\u001b[0;34m\u001b[0m\u001b[0;34m\u001b[0m\u001b[0m\n\u001b[0m\u001b[1;32m     40\u001b[0m \u001b[0;34m\u001b[0m\u001b[0m\n\u001b[1;32m     41\u001b[0m \u001b[0;34m\u001b[0m\u001b[0m\n",
      "\u001b[0;31mQtDeprecationError\u001b[0m: `BackgroundPlotter` has moved to pyvistaqt.\n    You can install this from PyPI with: `pip install pyvistaqt`\n    Then import it via: `from pyvistaqt import BackgroundPlotter`\n    `BackgroundPlotter` is no longer accessible by `pyvista.BackgroundPlotter`\n    See https://github.com/pyvista/pyvistaqt\n"
     ]
    }
   ],
   "metadata": {
    "scrolled": true
   }
  },
  {
   "cell_type": "markdown",
   "source": [
    "# Source Estimation on ISC with time-series"
   ],
   "metadata": {}
  },
  {
   "cell_type": "markdown",
   "source": [
    "## Picking necessary chunks of time-series data"
   ],
   "metadata": {}
  },
  {
   "cell_type": "code",
   "execution_count": 11,
   "source": [
    "#[29,33],[67,71],[77,83],[130,135],[155,164]]]\n",
    "\n",
    "#np.max(valstest,axis=0)\n",
    "\n",
    "#significance\n",
    "indexes = np.hstack([np.arange(159*500-1000,159*500+1060)])#,np.arange(67*500,72*500),np.arange(77*500,84*500),np.arange(130*500,136*500),np.arange(155*500,165*500)])\n",
    "indexes2 = np.hstack([np.arange(100*500-1000,100*500+1060)])\n",
    "#np.where(isc_results['condition1']['ISC_persecond'][0] == isc_results['condition1']['ISC_persecond'][0].max())"
   ],
   "outputs": [],
   "metadata": {}
  },
  {
   "cell_type": "code",
   "execution_count": null,
   "source": [],
   "outputs": [],
   "metadata": {}
  },
  {
   "cell_type": "code",
   "execution_count": 12,
   "source": [
    "#isc_results['condition1']['A'][0]\n",
    "#sub1_trial = isc_results['condition1']['A'][0] @ sub1_raw.get_data()\n",
    "import tqdm\n",
    "#sub1_trial = np.zeros([91,85001])\n",
    "#a = [sub1_trial[:,i] (sub1_raw.get_data()[:,i]*isc_results['condition1']['A'][0]) for i in tqdm.tqdm(range(86040))]\n",
    " #sub1_trial[:,i] = (sub1_raw.get_data()[:,i]*isc_results['condition1']['A'][0])   \n",
    "\n",
    "def element_wise_multi(epochs):\n",
    "    subjects = isc_results['condition1']['A'][0].T @ epochs\n",
    "    return subjects\n",
    "\n",
    "def spatial_filter(epochs):\n",
    "    subjects = np.multiply(epochs.T,isc_results['condition1']['A'][0])\n",
    "    print(np.shape(subjects))\n",
    "    subjects_final = np.reshape(subjects,[1,91,2060])\n",
    "    return subjects_final\n",
    "#np.shape(element_wise_multi(epochs1_ISC_ts.get_data()[:,:,indexes]))\n",
    "\n",
    "#np.shape(isc_results['condition1']['A'][0],sub1_raw.get_data())"
   ],
   "outputs": [],
   "metadata": {}
  },
  {
   "cell_type": "code",
   "execution_count": 13,
   "source": [
    "np.shape( spatial_filter(np.reshape( epochs1_ISC_ts.get_data()[:,:,indexes], [91,2060])) )"
   ],
   "outputs": [
    {
     "output_type": "error",
     "ename": "NameError",
     "evalue": "name 'epochs1_ISC_ts' is not defined",
     "traceback": [
      "\u001b[0;31m---------------------------------------------------------------------------\u001b[0m",
      "\u001b[0;31mNameError\u001b[0m                                 Traceback (most recent call last)",
      "\u001b[0;32m<ipython-input-13-bf43da96cf9c>\u001b[0m in \u001b[0;36m<module>\u001b[0;34m\u001b[0m\n\u001b[0;32m----> 1\u001b[0;31m \u001b[0mnp\u001b[0m\u001b[0;34m.\u001b[0m\u001b[0mshape\u001b[0m\u001b[0;34m(\u001b[0m \u001b[0mspatial_filter\u001b[0m\u001b[0;34m(\u001b[0m\u001b[0mnp\u001b[0m\u001b[0;34m.\u001b[0m\u001b[0mreshape\u001b[0m\u001b[0;34m(\u001b[0m \u001b[0mepochs1_ISC_ts\u001b[0m\u001b[0;34m.\u001b[0m\u001b[0mget_data\u001b[0m\u001b[0;34m(\u001b[0m\u001b[0;34m)\u001b[0m\u001b[0;34m[\u001b[0m\u001b[0;34m:\u001b[0m\u001b[0;34m,\u001b[0m\u001b[0;34m:\u001b[0m\u001b[0;34m,\u001b[0m\u001b[0mindexes\u001b[0m\u001b[0;34m]\u001b[0m\u001b[0;34m,\u001b[0m \u001b[0;34m[\u001b[0m\u001b[0;36m91\u001b[0m\u001b[0;34m,\u001b[0m\u001b[0;36m2060\u001b[0m\u001b[0;34m]\u001b[0m\u001b[0;34m)\u001b[0m\u001b[0;34m)\u001b[0m \u001b[0;34m)\u001b[0m\u001b[0;34m\u001b[0m\u001b[0;34m\u001b[0m\u001b[0m\n\u001b[0m",
      "\u001b[0;31mNameError\u001b[0m: name 'epochs1_ISC_ts' is not defined"
     ]
    }
   ],
   "metadata": {}
  },
  {
   "cell_type": "code",
   "execution_count": 14,
   "source": [
    "epochs1_ISC_ts = epochs(sub1_raw,sub1_events)\n",
    "epochs2_ISC_ts = epochs(sub2_raw,sub2_events)\n",
    "epochs3_ISC_ts = epochs(sub3_raw,sub3_events)\n",
    "epochs4_ISC_ts = epochs(sub4_raw,sub4_events)\n",
    "epochs5_ISC_ts = epochs(sub5_raw,sub5_events)\n",
    "epochs6_ISC_ts = epochs(sub6_raw,sub6_events)\n",
    "epochs7_ISC_ts = epochs(sub7_raw,sub7_events)\n",
    "epochs8_ISC_ts = epochs(sub8_raw,sub8_events)\n",
    "epochs9_ISC_ts = epochs(sub9_raw,sub9_events)\n",
    "epochs10_ISC_ts = epochs(sub10_raw,sub10_events)\n"
   ],
   "outputs": [
    {
     "output_type": "stream",
     "name": "stdout",
     "text": [
      "Not setting metadata\n",
      "Not setting metadata\n",
      "3 matching events found\n",
      "Setting baseline interval to [0.0, 170.0] sec\n",
      "Applying baseline correction (mode: mean)\n",
      "0 projection items activated\n",
      "Loading data for 3 events and 85001 original time points ...\n",
      "1 bad epochs dropped\n",
      "Not setting metadata\n",
      "Not setting metadata\n",
      "3 matching events found\n",
      "Setting baseline interval to [0.0, 170.0] sec\n",
      "Applying baseline correction (mode: mean)\n",
      "0 projection items activated\n",
      "Loading data for 3 events and 85001 original time points ...\n",
      "1 bad epochs dropped\n",
      "Not setting metadata\n",
      "Not setting metadata\n",
      "3 matching events found\n",
      "Setting baseline interval to [0.0, 170.0] sec\n",
      "Applying baseline correction (mode: mean)\n",
      "0 projection items activated\n",
      "Loading data for 3 events and 85001 original time points ...\n",
      "1 bad epochs dropped\n",
      "Not setting metadata\n",
      "Not setting metadata\n",
      "3 matching events found\n",
      "Setting baseline interval to [0.0, 170.0] sec\n",
      "Applying baseline correction (mode: mean)\n",
      "0 projection items activated\n",
      "Loading data for 3 events and 85001 original time points ...\n",
      "1 bad epochs dropped\n",
      "Not setting metadata\n",
      "Not setting metadata\n",
      "3 matching events found\n",
      "Setting baseline interval to [0.0, 170.0] sec\n",
      "Applying baseline correction (mode: mean)\n",
      "0 projection items activated\n",
      "Loading data for 3 events and 85001 original time points ...\n",
      "1 bad epochs dropped\n",
      "Not setting metadata\n",
      "Not setting metadata\n",
      "3 matching events found\n",
      "Setting baseline interval to [0.0, 170.0] sec\n",
      "Applying baseline correction (mode: mean)\n",
      "0 projection items activated\n",
      "Loading data for 3 events and 85001 original time points ...\n",
      "1 bad epochs dropped\n",
      "Not setting metadata\n",
      "Not setting metadata\n",
      "3 matching events found\n",
      "Setting baseline interval to [0.0, 170.0] sec\n",
      "Applying baseline correction (mode: mean)\n",
      "0 projection items activated\n",
      "Loading data for 3 events and 85001 original time points ...\n",
      "1 bad epochs dropped\n",
      "Not setting metadata\n",
      "Not setting metadata\n",
      "3 matching events found\n",
      "Setting baseline interval to [0.0, 170.0] sec\n",
      "Applying baseline correction (mode: mean)\n",
      "0 projection items activated\n",
      "Loading data for 3 events and 85001 original time points ...\n",
      "1 bad epochs dropped\n",
      "Not setting metadata\n",
      "Not setting metadata\n",
      "3 matching events found\n",
      "Setting baseline interval to [0.0, 170.0] sec\n",
      "Applying baseline correction (mode: mean)\n",
      "0 projection items activated\n",
      "Loading data for 3 events and 85001 original time points ...\n",
      "1 bad epochs dropped\n",
      "Not setting metadata\n",
      "Not setting metadata\n",
      "3 matching events found\n",
      "Setting baseline interval to [0.0, 170.0] sec\n",
      "Applying baseline correction (mode: mean)\n",
      "0 projection items activated\n",
      "Loading data for 3 events and 85001 original time points ...\n",
      "1 bad epochs dropped\n"
     ]
    }
   ],
   "metadata": {
    "scrolled": true
   }
  },
  {
   "cell_type": "code",
   "execution_count": null,
   "source": [],
   "outputs": [],
   "metadata": {}
  },
  {
   "cell_type": "code",
   "execution_count": 24,
   "source": [
    "epochs_averaged_ISC_ts = np.average(epochs1_ISC_ts.get_data()[:,:,indexes]+\n",
    "epochs2_ISC_ts.get_data()[:,:,indexes]+\n",
    "epochs3_ISC_ts.get_data()[:,:,indexes]+\n",
    "epochs4_ISC_ts.get_data()[:,:,indexes]+\n",
    "epochs5_ISC_ts.get_data()[:,:,indexes]+\n",
    "epochs6_ISC_ts.get_data()[:,:,indexes]+\n",
    "epochs7_ISC_ts.get_data()[:,:,indexes]+\n",
    "epochs8_ISC_ts.get_data()[:,:,indexes]+\n",
    "epochs9_ISC_ts.get_data()[:,:,indexes]+\n",
    "epochs10_ISC_ts.get_data()[:,:,indexes],axis=0)"
   ],
   "outputs": [],
   "metadata": {}
  },
  {
   "cell_type": "code",
   "execution_count": null,
   "source": [],
   "outputs": [],
   "metadata": {}
  },
  {
   "cell_type": "code",
   "execution_count": 14,
   "source": [
    "#np.shape(epochs_averaged)\n",
    "epochs_ready_ISC_ts = np.reshape(epochs_averaged_ISC_ts,[1,91,2060])"
   ],
   "outputs": [
    {
     "output_type": "error",
     "ename": "NameError",
     "evalue": "name 'epochs_averaged_ISC_ts' is not defined",
     "traceback": [
      "\u001b[0;31m---------------------------------------------------------------------------\u001b[0m",
      "\u001b[0;31mNameError\u001b[0m                                 Traceback (most recent call last)",
      "\u001b[0;32m<ipython-input-14-0f896991385f>\u001b[0m in \u001b[0;36m<module>\u001b[0;34m\u001b[0m\n\u001b[1;32m      1\u001b[0m \u001b[0;31m#np.shape(epochs_averaged)\u001b[0m\u001b[0;34m\u001b[0m\u001b[0;34m\u001b[0m\u001b[0;34m\u001b[0m\u001b[0m\n\u001b[0;32m----> 2\u001b[0;31m \u001b[0mepochs_ready_ISC_ts\u001b[0m \u001b[0;34m=\u001b[0m \u001b[0mnp\u001b[0m\u001b[0;34m.\u001b[0m\u001b[0mreshape\u001b[0m\u001b[0;34m(\u001b[0m\u001b[0mepochs_averaged_ISC_ts\u001b[0m\u001b[0;34m,\u001b[0m\u001b[0;34m[\u001b[0m\u001b[0;36m1\u001b[0m\u001b[0;34m,\u001b[0m\u001b[0;36m91\u001b[0m\u001b[0;34m,\u001b[0m\u001b[0;36m2060\u001b[0m\u001b[0;34m]\u001b[0m\u001b[0;34m)\u001b[0m\u001b[0;34m\u001b[0m\u001b[0;34m\u001b[0m\u001b[0m\n\u001b[0m",
      "\u001b[0;31mNameError\u001b[0m: name 'epochs_averaged_ISC_ts' is not defined"
     ]
    }
   ],
   "metadata": {}
  },
  {
   "cell_type": "code",
   "execution_count": 15,
   "source": [
    "events = np.zeros([2,3],dtype=int)\n",
    "#def ISCed_inversion(subject,events):\n",
    " #   e = epochs(subject,events)\n",
    "events[0][0] = 1\n",
    "events[0][2] = 83\n",
    "def get_raw_epochs_data(epochs):\n",
    "\n",
    "    info = mne.create_info(sub1_raw.info['ch_names'],sfreq=500,ch_types = 'eeg')\n",
    "\n",
    "    raw = mne.io.RawArray(epochs.reshape(91,2060),info)\n",
    "    ep = mne.EpochsArray(epochs.reshape(1,91,2060),info)\n",
    "    raw.set_montage('GSN-HydroCel-129')\n",
    "    return info, raw, ep\n",
    "def get_raw_epochs_data_elem(epochs):\n",
    "\n",
    "    info = mne.create_info(['E1'],sfreq=500,ch_types = 'eeg')\n",
    "\n",
    "    raw = mne.io.RawArray(epochs.reshape(1,2060),info)\n",
    "    ep = mne.EpochsArray(epochs.reshape(1,1,2060),info)\n",
    "    raw.set_montage('GSN-HydroCel-129')\n",
    "    return info, raw, ep\n"
   ],
   "outputs": [],
   "metadata": {
    "scrolled": true
   }
  },
  {
   "cell_type": "code",
   "execution_count": 16,
   "source": [
    "_,raw,ep = get_raw_epochs_data(epochs10_ISC_ts.get_data()[:,:,indexes])\n",
    "ep.get_data()\n",
    "#len(sub1_raw.info['ch_names'])"
   ],
   "outputs": [
    {
     "output_type": "stream",
     "name": "stdout",
     "text": [
      "Creating RawArray with float64 data, n_channels=91, n_times=2060\n",
      "    Range : 0 ... 2059 =      0.000 ...     4.118 secs\n",
      "Ready.\n",
      "Not setting metadata\n",
      "Not setting metadata\n",
      "1 matching events found\n",
      "No baseline correction applied\n",
      "0 projection items activated\n",
      "0 bad epochs dropped\n"
     ]
    },
    {
     "output_type": "execute_result",
     "data": {
      "text/plain": [
       "array([[[-0.31305919, -0.63792919, -6.25223919, ...,  6.01316081,\n",
       "          7.18516081,  2.45126081],\n",
       "        [ 3.8630745 ,  5.2375745 ,  3.4244745 , ..., -2.0977255 ,\n",
       "          0.1929145 , -1.0340255 ],\n",
       "        [ 1.93559318,  2.12469318,  0.91879318, ..., -1.53620682,\n",
       "          0.39555318, -1.21270682],\n",
       "        ...,\n",
       "        [ 3.05465712,  4.60575712, -1.31774288, ...,  2.90945712,\n",
       "          5.71985712,  1.34145712],\n",
       "        [ 4.72146177,  6.15346177,  0.21646177, ...,  3.61416177,\n",
       "          6.05816177,  1.68836177],\n",
       "        [-1.76420078, -1.25500078, -0.94985078, ...,  0.15394922,\n",
       "          0.67629922,  1.13419922]]])"
      ]
     },
     "metadata": {},
     "execution_count": 16
    }
   ],
   "metadata": {
    "scrolled": true
   }
  },
  {
   "cell_type": "code",
   "execution_count": 17,
   "source": [
    "#mne.make_fixed_length_events(raw,start=0,duration = 0.5)\n",
    "#raw.set_montage('GSN-HydroCel-129')"
   ],
   "outputs": [],
   "metadata": {}
  },
  {
   "cell_type": "markdown",
   "source": [
    "## Modeling begins"
   ],
   "metadata": {}
  },
  {
   "cell_type": "code",
   "execution_count": 17,
   "source": [
    "from mne.datasets import fetch_fsaverage\n",
    "\n",
    "import os.path as op\n",
    "fs_dir = fetch_fsaverage(verbose=True)\n",
    "subjects_dir = op.dirname(fs_dir)\n",
    "\n",
    "\n",
    "subject = 'fsaverage' # Subject ID for the MRI-head transformation\n",
    "trans = 'fsaverage'  # MNE has a built-in fsaverage transformation\n",
    "source_space = op.join(fs_dir, 'bem', 'fsaverage-ico-5-src.fif') \n",
    "\n",
    "bem = op.join(fs_dir, 'bem', 'fsaverage-5120-5120-5120-bem-sol.fif')"
   ],
   "outputs": [
    {
     "output_type": "stream",
     "name": "stdout",
     "text": [
      "0 files missing from root.txt in /homes/v20subra/mne_data/MNE-fsaverage-data\n",
      "0 files missing from bem.txt in /homes/v20subra/mne_data/MNE-fsaverage-data/fsaverage\n"
     ]
    }
   ],
   "metadata": {}
  },
  {
   "cell_type": "code",
   "execution_count": 15,
   "source": [
    "cov_isc_ts =mne.compute_covariance(ep)"
   ],
   "outputs": [
    {
     "output_type": "error",
     "ename": "NameError",
     "evalue": "name 'ep' is not defined",
     "traceback": [
      "\u001b[0;31m---------------------------------------------------------------------------\u001b[0m",
      "\u001b[0;31mNameError\u001b[0m                                 Traceback (most recent call last)",
      "\u001b[0;32m<ipython-input-15-89bc93e67692>\u001b[0m in \u001b[0;36m<module>\u001b[0;34m\u001b[0m\n\u001b[0;32m----> 1\u001b[0;31m \u001b[0mcov_isc_ts\u001b[0m \u001b[0;34m=\u001b[0m\u001b[0mmne\u001b[0m\u001b[0;34m.\u001b[0m\u001b[0mcompute_covariance\u001b[0m\u001b[0;34m(\u001b[0m\u001b[0mep\u001b[0m\u001b[0;34m)\u001b[0m\u001b[0;34m\u001b[0m\u001b[0;34m\u001b[0m\u001b[0m\n\u001b[0m",
      "\u001b[0;31mNameError\u001b[0m: name 'ep' is not defined"
     ]
    }
   ],
   "metadata": {
    "scrolled": true
   }
  },
  {
   "cell_type": "code",
   "execution_count": 18,
   "source": [
    "from mne.minimum_norm import make_inverse_operator, apply_inverse, apply_inverse_epochs\n",
    "\n",
    "fwd_model = mne.make_forward_solution(sub1_raw.info, trans=trans, src=source_space, bem=bem, eeg=True, mindist=5.0)\n",
    "inverse_operator = make_inverse_operator(raw.info, fwd_model, cov_isc_ts)\n"
   ],
   "outputs": [
    {
     "output_type": "stream",
     "name": "stdout",
     "text": [
      "Source space          : /homes/v20subra/mne_data/MNE-fsaverage-data/fsaverage/bem/fsaverage-ico-5-src.fif\n",
      "MRI -> head transform : /homes/v20subra/.local/lib/python3.8/site-packages/mne/data/fsaverage/fsaverage-trans.fif\n",
      "Measurement data      : instance of Info\n",
      "Conductor model   : /homes/v20subra/mne_data/MNE-fsaverage-data/fsaverage/bem/fsaverage-5120-5120-5120-bem-sol.fif\n",
      "Accurate field computations\n",
      "Do computations in head coordinates\n",
      "Free source orientations\n",
      "\n",
      "Reading /homes/v20subra/mne_data/MNE-fsaverage-data/fsaverage/bem/fsaverage-ico-5-src.fif...\n",
      "Read 2 source spaces a total of 20484 active source locations\n",
      "\n",
      "Coordinate transformation: MRI (surface RAS) -> head\n",
      "     0.999994  0.003552  0.000202      -1.76 mm\n",
      "    -0.003558  0.998389  0.056626      31.09 mm\n",
      "    -0.000001 -0.056626  0.998395      39.60 mm\n",
      "     0.000000  0.000000  0.000000       1.00\n",
      "\n",
      "Read  91 EEG channels from info\n",
      "Head coordinate coil definitions created.\n",
      "Source spaces are now in head coordinates.\n",
      "\n",
      "Setting up the BEM model using /homes/v20subra/mne_data/MNE-fsaverage-data/fsaverage/bem/fsaverage-5120-5120-5120-bem-sol.fif...\n",
      "\n",
      "Loading surfaces...\n",
      "\n",
      "Loading the solution matrix...\n",
      "\n",
      "Three-layer model surfaces loaded.\n",
      "Loaded linear_collocation BEM solution from /homes/v20subra/mne_data/MNE-fsaverage-data/fsaverage/bem/fsaverage-5120-5120-5120-bem-sol.fif\n",
      "Employing the head->MRI coordinate transform with the BEM model.\n",
      "BEM model fsaverage-5120-5120-5120-bem-sol.fif is now set up\n",
      "\n",
      "Source spaces are in head coordinates.\n",
      "Checking that the sources are inside the surface and at least    5.0 mm away (will take a few...)\n",
      "    Skipping interior check for 2433 sources that fit inside a sphere of radius   47.7 mm\n",
      "    Skipping solid angle check for 0 points using Qhull\n",
      "    Skipping interior check for 2241 sources that fit inside a sphere of radius   47.7 mm\n",
      "    Skipping solid angle check for 0 points using Qhull\n",
      "\n",
      "Setting up for EEG...\n",
      "Computing EEG at 20484 source locations (free orientations)...\n",
      "\n",
      "Finished.\n"
     ]
    },
    {
     "output_type": "error",
     "ename": "NameError",
     "evalue": "name 'cov_isc_ts' is not defined",
     "traceback": [
      "\u001b[0;31m---------------------------------------------------------------------------\u001b[0m",
      "\u001b[0;31mNameError\u001b[0m                                 Traceback (most recent call last)",
      "\u001b[0;32m<ipython-input-18-b27b51623d7e>\u001b[0m in \u001b[0;36m<module>\u001b[0;34m\u001b[0m\n\u001b[1;32m      2\u001b[0m \u001b[0;34m\u001b[0m\u001b[0m\n\u001b[1;32m      3\u001b[0m \u001b[0mfwd_model\u001b[0m \u001b[0;34m=\u001b[0m \u001b[0mmne\u001b[0m\u001b[0;34m.\u001b[0m\u001b[0mmake_forward_solution\u001b[0m\u001b[0;34m(\u001b[0m\u001b[0msub1_raw\u001b[0m\u001b[0;34m.\u001b[0m\u001b[0minfo\u001b[0m\u001b[0;34m,\u001b[0m \u001b[0mtrans\u001b[0m\u001b[0;34m=\u001b[0m\u001b[0mtrans\u001b[0m\u001b[0;34m,\u001b[0m \u001b[0msrc\u001b[0m\u001b[0;34m=\u001b[0m\u001b[0msource_space\u001b[0m\u001b[0;34m,\u001b[0m \u001b[0mbem\u001b[0m\u001b[0;34m=\u001b[0m\u001b[0mbem\u001b[0m\u001b[0;34m,\u001b[0m \u001b[0meeg\u001b[0m\u001b[0;34m=\u001b[0m\u001b[0;32mTrue\u001b[0m\u001b[0;34m,\u001b[0m \u001b[0mmindist\u001b[0m\u001b[0;34m=\u001b[0m\u001b[0;36m5.0\u001b[0m\u001b[0;34m)\u001b[0m\u001b[0;34m\u001b[0m\u001b[0;34m\u001b[0m\u001b[0m\n\u001b[0;32m----> 4\u001b[0;31m \u001b[0minverse_operator\u001b[0m \u001b[0;34m=\u001b[0m \u001b[0mmake_inverse_operator\u001b[0m\u001b[0;34m(\u001b[0m\u001b[0mraw\u001b[0m\u001b[0;34m.\u001b[0m\u001b[0minfo\u001b[0m\u001b[0;34m,\u001b[0m \u001b[0mfwd_model\u001b[0m\u001b[0;34m,\u001b[0m \u001b[0mcov_isc_ts\u001b[0m\u001b[0;34m)\u001b[0m\u001b[0;34m\u001b[0m\u001b[0;34m\u001b[0m\u001b[0m\n\u001b[0m",
      "\u001b[0;31mNameError\u001b[0m: name 'cov_isc_ts' is not defined"
     ]
    }
   ],
   "metadata": {
    "scrolled": true
   }
  },
  {
   "cell_type": "code",
   "execution_count": 23,
   "source": [
    "method = \"eLORETA\"\n",
    "snr = 3.\n",
    "lambda2 = 1. / snr ** 2\n",
    "\n",
    "# epochs['30'].average() = Averaged evoked response for the event 30\n",
    "#stc = apply_inverse_epochs(epochs_resampled, inverse_operator, lambda2,\n",
    " #                            method=method, pick_ori=None, verbose=True)\n",
    "#    return stc"
   ],
   "outputs": [],
   "metadata": {}
  },
  {
   "cell_type": "code",
   "execution_count": null,
   "source": [
    "vertno_max, time_max = stc[0].get_peak()\n",
    "%matplotlib qt\n",
    "%gui qt \n",
    "\n",
    "fig, ax = plt.subplots()\n",
    "ax.plot(1e3 * stc[0].times, stc[0].data.T)\n",
    "ax.set(xlabel='time (ms)', ylabel='%s value' % method)\n",
    "brain = stc[0].plot(subjects_dir=subjects_dir, initial_time=time_max, time_unit='s',hemi='split',views=['lat'], transparent=True)\n",
    "#surfer_kwargs = dict(\n",
    " #   hemi='both', subjects_dir=subjects_dir,\n",
    "  #  clim=dict(kind='value', lims=[8, 12, 15]), views='lateral',\n",
    "   # initial_time=time_max, time_unit='s', size=(800, 800), smoothing_steps=10)\n",
    "#brain = stc.plot(**surfer_kwargs)\n",
    "#brain.add_foci(vertno_max, coords_as_verts=True, hemi='rh', color='blue',scale_factor=0.6, alpha=0.5)\n",
    "#brain.add_foci(vertno_max, coords_as_verts=True, hemi='lh', color='red',scale_factor=0.6, alpha=0.5)\n",
    "\n",
    "brain.add_text(0.1, 0.9, 'eLORETA for the peak of the peak', 'title' ,font_size=14)\n",
    "\n"
   ],
   "outputs": [],
   "metadata": {
    "scrolled": false
   }
  },
  {
   "cell_type": "markdown",
   "source": [
    "## Computing Source PSD "
   ],
   "metadata": {}
  },
  {
   "cell_type": "code",
   "execution_count": 128,
   "source": [
    "data_path = sample.data_path()\n",
    "label_name ='Vis-rh.label'\n",
    "fname_label = data_path + '/MEG/sample/labels/%s' % label_name\n",
    "label_name2 = 'Vis-lh.label'\n",
    "fname_label2 = data_path + '/MEG/sample/labels/%s' % label_name2\n",
    "label = mne.read_label(fname_label)\n",
    "label2 = mne.read_label(fname_label2)\n",
    "mne.BiHemiLabel(label,label2)"
   ],
   "outputs": [
    {
     "output_type": "execute_result",
     "data": {
      "text/plain": [
       "<BiHemiLabel | unknown, unnamed, lh : 623 vertices,  rh : 1253 vertices>"
      ]
     },
     "metadata": {},
     "execution_count": 128
    }
   ],
   "metadata": {}
  },
  {
   "cell_type": "code",
   "execution_count": 19,
   "source": [
    "def comp_source_psd(raw):\n",
    " \n",
    "    noise_cov = mne.compute_raw_covariance(raw)\n",
    "    inverse_operator = mne.minimum_norm.make_inverse_operator(\n",
    "        raw.info, forward=fwd_model, noise_cov=noise_cov, verbose=True)\n",
    "\n",
    "    stc_psd, sensor_psd = mne.minimum_norm.compute_source_psd(\n",
    "        raw, inverse_operator, lambda2=lambda2,method=method,fmax=40,\n",
    "        dB=False, return_sensor=True, verbose=True)\n",
    "    \n",
    "\n",
    "\n",
    "    freq_bands = dict(\n",
    "        delta=(2, 4), theta=(5, 7), alpha=(8, 13), beta=(15, 29), gamma=(30, 40))\n",
    "    topos = dict(vv=dict(), opm=dict())\n",
    "    stcs_dict = dict(vv=dict(), opm=dict())\n",
    "    \n",
    "    \n",
    "    topo_norm = sensor_psd.data.sum(axis=1, keepdims=True)\n",
    "    stc_norm = stc_psd.sum() \n",
    "\n",
    "    for band, limits in freq_bands.items():\n",
    "        data = sensor_psd.copy().crop(*limits).data.sum(axis=1, keepdims=True)\n",
    "        topos[band] = mne.EvokedArray(\n",
    "            100 * data / topo_norm, sensor_psd.info)\n",
    "        stcs_dict[band] = \\\n",
    "            100 * stc_psd.copy().crop(*limits).sum() / stc_norm.data\n",
    "    \n",
    "    return stcs_dict"
   ],
   "outputs": [],
   "metadata": {
    "scrolled": true
   }
  },
  {
   "cell_type": "code",
   "execution_count": 20,
   "source": [
    "#mne.read_labels_from_annot(subject, parc='aparc2008µ')\n"
   ],
   "outputs": [],
   "metadata": {}
  },
  {
   "cell_type": "code",
   "execution_count": null,
   "source": [],
   "outputs": [],
   "metadata": {}
  },
  {
   "cell_type": "code",
   "execution_count": 18,
   "source": [
    "#mne.read_labels_from_annot(subject, parc='aparc.a2009s') # 13k\n",
    "#mne.read_labels_from_annot(subject, parc='HCPMMP1') # 13k\n",
    "#mne.read_labels_from_annot(subject, parc='rh.cortex.label',surf_name='pial') \n",
    "stc1 = comp_source_psd(raw1)"
   ],
   "outputs": [
    {
     "output_type": "stream",
     "name": "stdout",
     "text": [
      "Using up to 20 segments\n",
      "Number of samples used : 2000\n",
      "[done]\n",
      "Converting forward solution to surface orientation\n",
      "    No patch info available. The standard source space normals will be employed in the rotation to the local surface coordinates....\n",
      "    Converting to surface-based source orientations...\n",
      "    [done]\n",
      "Computing inverse operator with 91 channels.\n",
      "    91 out of 91 channels remain after picking\n",
      "Selected 91 channels\n",
      "Creating the depth weighting matrix...\n",
      "    91 EEG channels\n",
      "    limit = 20485/20484 = 2.194331\n",
      "    scale = 146509 exp = 0.8\n",
      "Applying loose dipole orientations to surface source spaces: 0.2\n",
      "Whitening the forward solution.\n",
      "Computing rank from covariance with rank=None\n",
      "    Using tolerance 0.17 (2.2e-16 eps * 91 dim * 8.2e+12  max singular value)\n",
      "    Estimated rank (eeg): 91\n",
      "    EEG: rank 91 computed from 91 data channels with 0 projectors\n",
      "    Setting small EEG eigenvalues to zero (without PCA)\n",
      "Creating the source covariance matrix\n",
      "Adjusting source covariance matrix.\n",
      "Computing SVD of whitened and weighted lead field matrix.\n"
     ]
    },
    {
     "output_type": "stream",
     "name": "stderr",
     "text": [
      "<ipython-input-16-555f416cc34f>:4: RuntimeWarning: No average EEG reference present in info[\"projs\"], covariance may be adversely affected. Consider recomputing covariance using with an average eeg reference projector added.\n",
      "  inverse_operator = mne.minimum_norm.make_inverse_operator(\n",
      "<ipython-input-16-555f416cc34f>:4: RuntimeWarning: No average EEG reference present in info[\"projs\"], covariance may be adversely affected. Consider recomputing covariance using with an average eeg reference projector added.\n",
      "  inverse_operator = mne.minimum_norm.make_inverse_operator(\n"
     ]
    },
    {
     "output_type": "stream",
     "name": "stdout",
     "text": [
      "    largest singular value = 4.38321\n",
      "    scaling factor to adjust the trace = 4.95251e+16 (nchan = 91 nzero = 0)\n",
      "Not setting metadata\n",
      "Not setting metadata\n",
      "2 matching events found\n",
      "No baseline correction applied\n",
      "0 projection items activated\n",
      "Considering frequencies 0 ... 40 Hz\n",
      "Preparing the inverse operator for use...\n",
      "    Scaled noise and source covariance from nave = 1 to nave = 1\n",
      "    Created the regularized inverter\n",
      "    The projection vectors do not apply to these channels.\n",
      "    Created the whitener using a noise covariance matrix with rank 91 (0 small eigenvalues omitted)\n",
      "    Computing optimized source covariance (eLORETA)...\n",
      "        Using independent orientation weights\n",
      "        Fitting up to 20 iterations (this make take a while)...\n",
      "        Converged on iteration 9 (2.8e-07 < 1e-06)\n",
      "        Updating inverse with weighted eigen leads\n",
      "[done]\n",
      "Picked 91 channels from the data\n",
      "Computing inverse...\n",
      "    Eigenleads already weighted ... \n",
      "Reducing data rank 91 -> 63\n",
      "Using hann windowing on at most 2 epochs\n"
     ]
    },
    {
     "output_type": "display_data",
     "data": {
      "application/vnd.jupyter.widget-view+json": {
       "model_id": "7b7cbf33cd824f9c9e6db7a4cd8f71c0",
       "version_major": 2,
       "version_minor": 0
      },
      "text/plain": [
       "  0%|          |  : 0/2 [00:00<?,       ?it/s]"
      ]
     },
     "metadata": {}
    },
    {
     "output_type": "stream",
     "name": "stderr",
     "text": [
      "<ipython-input-16-555f416cc34f>:23: RuntimeWarning: tmax is not in Evoked time interval. tmax is set to evoked.tmax (39.7949 sec)\n",
      "  data = sensor_psd.copy().crop(*limits).data.sum(axis=1, keepdims=True)\n"
     ]
    }
   ],
   "metadata": {
    "scrolled": true
   }
  },
  {
   "cell_type": "markdown",
   "source": [
    "## High ISC\n"
   ],
   "metadata": {}
  },
  {
   "cell_type": "code",
   "execution_count": 21,
   "source": [
    "\n",
    "#epochs1_ISC_ts_filtered_high = element_wise_multi(epochs1_ISC_ts.get_data()[:,:,indexes])\n",
    "# call element_wise_multi for the spatially filtered\n",
    "\n",
    "epochs1_ISC_ts_filtered_high = spatial_filter(np.reshape( epochs1_ISC_ts.get_data()[:,:,indexes], [91,2060]))\n",
    "epochs2_ISC_ts_filtered_high = spatial_filter(np.reshape( epochs2_ISC_ts.get_data()[:,:,indexes], [91,2060]))\n",
    "epochs3_ISC_ts_filtered_high = spatial_filter(np.reshape( epochs3_ISC_ts.get_data()[:,:,indexes], [91,2060]))\n",
    "epochs4_ISC_ts_filtered_high = spatial_filter(np.reshape( epochs4_ISC_ts.get_data()[:,:,indexes], [91,2060]))\n",
    "epochs5_ISC_ts_filtered_high = spatial_filter(np.reshape( epochs5_ISC_ts.get_data()[:,:,indexes], [91,2060]))\n",
    "epochs6_ISC_ts_filtered_high = spatial_filter(np.reshape( epochs6_ISC_ts.get_data()[:,:,indexes], [91,2060]))\n",
    "epochs7_ISC_ts_filtered_high = spatial_filter(np.reshape( epochs7_ISC_ts.get_data()[:,:,indexes], [91,2060]))\n",
    "epochs8_ISC_ts_filtered_high = spatial_filter(np.reshape( epochs8_ISC_ts.get_data()[:,:,indexes], [91,2060]))\n",
    "epochs9_ISC_ts_filtered_high = spatial_filter(np.reshape( epochs9_ISC_ts.get_data()[:,:,indexes], [91,2060]))\n",
    "epochs10_ISC_ts_filtered_high = spatial_filter(np.reshape( epochs10_ISC_ts.get_data()[:,:,indexes], [91,2060]))\n",
    "#(epochs10_ISC_ts.get_data()[:,:,indexes])\n",
    "\n",
    "\n",
    "\n",
    "\n",
    "info1,raw1,ep1 = get_raw_epochs_data(epochs1_ISC_ts_filtered_high)\n",
    "info2,raw2,ep2 = get_raw_epochs_data(epochs2_ISC_ts_filtered_high)\n",
    "info3,raw3,ep3 = get_raw_epochs_data(epochs3_ISC_ts_filtered_high)\n",
    "info4,raw4,ep4 = get_raw_epochs_data(epochs4_ISC_ts_filtered_high)\n",
    "info5,raw5,ep5 = get_raw_epochs_data(epochs5_ISC_ts_filtered_high)\n",
    "info6,raw6,ep6 = get_raw_epochs_data(epochs6_ISC_ts_filtered_high)\n",
    "info7,raw7,ep7 = get_raw_epochs_data(epochs7_ISC_ts_filtered_high)\n",
    "info8,raw8,ep8 = get_raw_epochs_data(epochs8_ISC_ts_filtered_high)\n",
    "info9,raw9,ep9 = get_raw_epochs_data(epochs9_ISC_ts_filtered_high)\n",
    "info10,raw10,ep10 = get_raw_epochs_data(epochs10_ISC_ts_filtered_high)\n",
    "\n",
    "\n",
    "\n",
    "\n",
    "epochs1_ISC_ts_filtered_high_elem = element_wise_multi(( epochs1_ISC_ts.get_data()[:,:,indexes]))\n",
    "epochs2_ISC_ts_filtered_high_elem = element_wise_multi(( epochs2_ISC_ts.get_data()[:,:,indexes]))\n",
    "epochs3_ISC_ts_filtered_high_elem = element_wise_multi(( epochs3_ISC_ts.get_data()[:,:,indexes]))\n",
    "epochs4_ISC_ts_filtered_high_elem = element_wise_multi(( epochs4_ISC_ts.get_data()[:,:,indexes]))\n",
    "epochs5_ISC_ts_filtered_high_elem = element_wise_multi(( epochs5_ISC_ts.get_data()[:,:,indexes]))\n",
    "epochs6_ISC_ts_filtered_high_elem = element_wise_multi(( epochs6_ISC_ts.get_data()[:,:,indexes]))\n",
    "epochs7_ISC_ts_filtered_high_elem = element_wise_multi(( epochs7_ISC_ts.get_data()[:,:,indexes]))\n",
    "epochs8_ISC_ts_filtered_high_elem = element_wise_multi(( epochs8_ISC_ts.get_data()[:,:,indexes]))\n",
    "epochs9_ISC_ts_filtered_high_elem = element_wise_multi(( epochs9_ISC_ts.get_data()[:,:,indexes]))\n",
    "epochs10_ISC_ts_filtered_high_elem = element_wise_multi(( epochs10_ISC_ts.get_data()[:,:,indexes]))\n",
    "#(epochs10_ISC_ts.get_data()[:,:,indexes])\n",
    "\n",
    "\n",
    "\n",
    "\n",
    "info1,raw1_elem,ep1_elem = get_raw_epochs_data_elem(epochs1_ISC_ts_filtered_high_elem)\n",
    "info2,raw2_elem,ep2_elem = get_raw_epochs_data_elem(epochs2_ISC_ts_filtered_high_elem)\n",
    "info3,raw3_elem,ep3_elem = get_raw_epochs_data_elem(epochs3_ISC_ts_filtered_high_elem)\n",
    "info4,raw4_elem,ep4_elem = get_raw_epochs_data_elem(epochs4_ISC_ts_filtered_high_elem)\n",
    "info5,raw5_elem,ep5_elem = get_raw_epochs_data_elem(epochs5_ISC_ts_filtered_high_elem)\n",
    "info6,raw6_elem,ep6_elem = get_raw_epochs_data_elem(epochs6_ISC_ts_filtered_high_elem)\n",
    "info7,raw7_elem,ep7_elem = get_raw_epochs_data_elem(epochs7_ISC_ts_filtered_high_elem)\n",
    "info8,raw8_elem,ep8_elem = get_raw_epochs_data_elem(epochs8_ISC_ts_filtered_high_elem)\n",
    "info9,raw9_elem,ep9_elem = get_raw_epochs_data_elem(epochs9_ISC_ts_filtered_high_elem)\n",
    "info10,raw10_elem,ep10_elem = get_raw_epochs_data_elem(epochs10_ISC_ts_filtered_high_elem)\n",
    "\n",
    "\n",
    "\n",
    "\n",
    "\n",
    "\n"
   ],
   "outputs": [
    {
     "output_type": "stream",
     "name": "stdout",
     "text": [
      "(2060, 91)\n",
      "(2060, 91)\n",
      "(2060, 91)\n",
      "(2060, 91)\n",
      "(2060, 91)\n",
      "(2060, 91)\n",
      "(2060, 91)\n",
      "(2060, 91)\n",
      "(2060, 91)\n",
      "(2060, 91)\n",
      "Creating RawArray with float64 data, n_channels=91, n_times=2060\n",
      "    Range : 0 ... 2059 =      0.000 ...     4.118 secs\n",
      "Ready.\n",
      "Not setting metadata\n",
      "Not setting metadata\n",
      "1 matching events found\n",
      "No baseline correction applied\n",
      "0 projection items activated\n",
      "0 bad epochs dropped\n",
      "Creating RawArray with float64 data, n_channels=91, n_times=2060\n",
      "    Range : 0 ... 2059 =      0.000 ...     4.118 secs\n",
      "Ready.\n",
      "Not setting metadata\n",
      "Not setting metadata\n",
      "1 matching events found\n",
      "No baseline correction applied\n",
      "0 projection items activated\n",
      "0 bad epochs dropped\n",
      "Creating RawArray with float64 data, n_channels=91, n_times=2060\n",
      "    Range : 0 ... 2059 =      0.000 ...     4.118 secs\n",
      "Ready.\n",
      "Not setting metadata\n",
      "Not setting metadata\n",
      "1 matching events found\n",
      "No baseline correction applied\n",
      "0 projection items activated\n",
      "0 bad epochs dropped\n",
      "Creating RawArray with float64 data, n_channels=91, n_times=2060\n",
      "    Range : 0 ... 2059 =      0.000 ...     4.118 secs\n",
      "Ready.\n",
      "Not setting metadata\n",
      "Not setting metadata\n",
      "1 matching events found\n",
      "No baseline correction applied\n",
      "0 projection items activated\n",
      "0 bad epochs dropped\n",
      "Creating RawArray with float64 data, n_channels=91, n_times=2060\n",
      "    Range : 0 ... 2059 =      0.000 ...     4.118 secs\n",
      "Ready.\n",
      "Not setting metadata\n",
      "Not setting metadata\n",
      "1 matching events found\n",
      "No baseline correction applied\n",
      "0 projection items activated\n",
      "0 bad epochs dropped\n",
      "Creating RawArray with float64 data, n_channels=91, n_times=2060\n",
      "    Range : 0 ... 2059 =      0.000 ...     4.118 secs\n",
      "Ready.\n",
      "Not setting metadata\n",
      "Not setting metadata\n",
      "1 matching events found\n",
      "No baseline correction applied\n",
      "0 projection items activated\n",
      "0 bad epochs dropped\n",
      "Creating RawArray with float64 data, n_channels=91, n_times=2060\n",
      "    Range : 0 ... 2059 =      0.000 ...     4.118 secs\n",
      "Ready.\n",
      "Not setting metadata\n",
      "Not setting metadata\n",
      "1 matching events found\n",
      "No baseline correction applied\n",
      "0 projection items activated\n",
      "0 bad epochs dropped\n",
      "Creating RawArray with float64 data, n_channels=91, n_times=2060\n",
      "    Range : 0 ... 2059 =      0.000 ...     4.118 secs\n",
      "Ready.\n",
      "Not setting metadata\n",
      "Not setting metadata\n",
      "1 matching events found\n",
      "No baseline correction applied\n",
      "0 projection items activated\n",
      "0 bad epochs dropped\n",
      "Creating RawArray with float64 data, n_channels=91, n_times=2060\n",
      "    Range : 0 ... 2059 =      0.000 ...     4.118 secs\n",
      "Ready.\n",
      "Not setting metadata\n",
      "Not setting metadata\n",
      "1 matching events found\n",
      "No baseline correction applied\n",
      "0 projection items activated\n",
      "0 bad epochs dropped\n",
      "Creating RawArray with float64 data, n_channels=91, n_times=2060\n",
      "    Range : 0 ... 2059 =      0.000 ...     4.118 secs\n",
      "Ready.\n",
      "Not setting metadata\n",
      "Not setting metadata\n",
      "1 matching events found\n",
      "No baseline correction applied\n",
      "0 projection items activated\n",
      "0 bad epochs dropped\n",
      "Creating RawArray with float64 data, n_channels=1, n_times=2060\n",
      "    Range : 0 ... 2059 =      0.000 ...     4.118 secs\n",
      "Ready.\n",
      "Not setting metadata\n",
      "Not setting metadata\n",
      "1 matching events found\n",
      "No baseline correction applied\n",
      "0 projection items activated\n",
      "0 bad epochs dropped\n",
      "Creating RawArray with float64 data, n_channels=1, n_times=2060\n",
      "    Range : 0 ... 2059 =      0.000 ...     4.118 secs\n",
      "Ready.\n",
      "Not setting metadata\n",
      "Not setting metadata\n",
      "1 matching events found\n",
      "No baseline correction applied\n",
      "0 projection items activated\n",
      "0 bad epochs dropped\n",
      "Creating RawArray with float64 data, n_channels=1, n_times=2060\n",
      "    Range : 0 ... 2059 =      0.000 ...     4.118 secs\n",
      "Ready.\n",
      "Not setting metadata\n",
      "Not setting metadata\n",
      "1 matching events found\n",
      "No baseline correction applied\n",
      "0 projection items activated\n",
      "0 bad epochs dropped\n",
      "Creating RawArray with float64 data, n_channels=1, n_times=2060\n",
      "    Range : 0 ... 2059 =      0.000 ...     4.118 secs\n",
      "Ready.\n",
      "Not setting metadata\n",
      "Not setting metadata\n",
      "1 matching events found\n",
      "No baseline correction applied\n",
      "0 projection items activated\n",
      "0 bad epochs dropped\n",
      "Creating RawArray with float64 data, n_channels=1, n_times=2060\n",
      "    Range : 0 ... 2059 =      0.000 ...     4.118 secs\n",
      "Ready.\n",
      "Not setting metadata\n",
      "Not setting metadata\n",
      "1 matching events found\n",
      "No baseline correction applied\n",
      "0 projection items activated\n",
      "0 bad epochs dropped\n",
      "Creating RawArray with float64 data, n_channels=1, n_times=2060\n",
      "    Range : 0 ... 2059 =      0.000 ...     4.118 secs\n",
      "Ready.\n",
      "Not setting metadata\n",
      "Not setting metadata\n",
      "1 matching events found\n",
      "No baseline correction applied\n",
      "0 projection items activated\n",
      "0 bad epochs dropped\n",
      "Creating RawArray with float64 data, n_channels=1, n_times=2060\n",
      "    Range : 0 ... 2059 =      0.000 ...     4.118 secs\n",
      "Ready.\n",
      "Not setting metadata\n",
      "Not setting metadata\n",
      "1 matching events found\n",
      "No baseline correction applied\n",
      "0 projection items activated\n",
      "0 bad epochs dropped\n",
      "Creating RawArray with float64 data, n_channels=1, n_times=2060\n",
      "    Range : 0 ... 2059 =      0.000 ...     4.118 secs\n",
      "Ready.\n",
      "Not setting metadata\n",
      "Not setting metadata\n",
      "1 matching events found\n",
      "No baseline correction applied\n",
      "0 projection items activated\n",
      "0 bad epochs dropped\n",
      "Creating RawArray with float64 data, n_channels=1, n_times=2060\n",
      "    Range : 0 ... 2059 =      0.000 ...     4.118 secs\n",
      "Ready.\n",
      "Not setting metadata\n",
      "Not setting metadata\n",
      "1 matching events found\n",
      "No baseline correction applied\n",
      "0 projection items activated\n",
      "0 bad epochs dropped\n",
      "Creating RawArray with float64 data, n_channels=1, n_times=2060\n",
      "    Range : 0 ... 2059 =      0.000 ...     4.118 secs\n",
      "Ready.\n",
      "Not setting metadata\n",
      "Not setting metadata\n",
      "1 matching events found\n",
      "No baseline correction applied\n",
      "0 projection items activated\n",
      "0 bad epochs dropped\n"
     ]
    }
   ],
   "metadata": {
    "scrolled": true
   }
  },
  {
   "cell_type": "code",
   "execution_count": 24,
   "source": [
    "\n",
    "# for the top and bottom 10%ile calculation for the source estimation of non-spatially filtered EEG\n",
    "stc1_high = comp_source_psd(raw1)\n",
    "stc2_high = comp_source_psd(raw2)\n",
    "stc3_high = comp_source_psd(raw3)\n",
    "stc4_high = comp_source_psd(raw4)\n",
    "stc5_high = comp_source_psd(raw5)\n",
    "stc6_high = comp_source_psd(raw6)\n",
    "stc7_high = comp_source_psd(raw7)\n",
    "stc8_high = comp_source_psd(raw8)\n",
    "stc9_high = comp_source_psd(raw9)\n",
    "stc10_high = comp_source_psd(raw10)"
   ],
   "outputs": [
    {
     "output_type": "stream",
     "name": "stdout",
     "text": [
      "Using up to 20 segments\n",
      "Number of samples used : 2000\n",
      "[done]\n",
      "Converting forward solution to surface orientation\n",
      "    No patch info available. The standard source space normals will be employed in the rotation to the local surface coordinates....\n",
      "    Converting to surface-based source orientations...\n",
      "    [done]\n",
      "Computing inverse operator with 91 channels.\n",
      "    91 out of 91 channels remain after picking\n",
      "Selected 91 channels\n",
      "Creating the depth weighting matrix...\n",
      "    91 EEG channels\n",
      "    limit = 20485/20484 = 2.194331\n",
      "    scale = 146509 exp = 0.8\n",
      "Applying loose dipole orientations to surface source spaces: 0.2\n",
      "Whitening the forward solution.\n",
      "Computing rank from covariance with rank=None\n",
      "    Using tolerance 4.1e-05 (2.2e-16 eps * 91 dim * 2e+09  max singular value)\n",
      "    Estimated rank (eeg): 91\n",
      "    EEG: rank 91 computed from 91 data channels with 0 projectors\n",
      "    Setting small EEG eigenvalues to zero (without PCA)\n",
      "Creating the source covariance matrix\n",
      "Adjusting source covariance matrix.\n",
      "Computing SVD of whitened and weighted lead field matrix.\n"
     ]
    },
    {
     "output_type": "stream",
     "name": "stderr",
     "text": [
      "<ipython-input-19-555f416cc34f>:4: RuntimeWarning: No average EEG reference present in info[\"projs\"], covariance may be adversely affected. Consider recomputing covariance using with an average eeg reference projector added.\n",
      "  inverse_operator = mne.minimum_norm.make_inverse_operator(\n",
      "<ipython-input-19-555f416cc34f>:4: RuntimeWarning: No average EEG reference present in info[\"projs\"], covariance may be adversely affected. Consider recomputing covariance using with an average eeg reference projector added.\n",
      "  inverse_operator = mne.minimum_norm.make_inverse_operator(\n"
     ]
    },
    {
     "output_type": "stream",
     "name": "stdout",
     "text": [
      "    largest singular value = 5.54879\n",
      "    scaling factor to adjust the trace = 1.8159e+11 (nchan = 91 nzero = 0)\n",
      "Not setting metadata\n",
      "Not setting metadata\n",
      "2 matching events found\n",
      "No baseline correction applied\n",
      "0 projection items activated\n",
      "Considering frequencies 0 ... 40 Hz\n",
      "Preparing the inverse operator for use...\n",
      "    Scaled noise and source covariance from nave = 1 to nave = 1\n",
      "    Created the regularized inverter\n",
      "    The projection vectors do not apply to these channels.\n",
      "    Created the whitener using a noise covariance matrix with rank 91 (0 small eigenvalues omitted)\n",
      "    Computing optimized source covariance (eLORETA)...\n",
      "        Using independent orientation weights\n",
      "        Fitting up to 20 iterations (this make take a while)...\n",
      "        Converged on iteration 8 (7.3e-07 < 1e-06)\n",
      "        Updating inverse with weighted eigen leads\n",
      "[done]\n",
      "Picked 91 channels from the data\n",
      "Computing inverse...\n",
      "    Eigenleads already weighted ... \n",
      "Reducing data rank 91 -> 91\n",
      "Using hann windowing on at most 2 epochs\n"
     ]
    },
    {
     "output_type": "display_data",
     "data": {
      "application/vnd.jupyter.widget-view+json": {
       "model_id": "9deac75d5c344ddb8b5ed050cfca3379",
       "version_major": 2,
       "version_minor": 0
      },
      "text/plain": [
       "  0%|          |  : 0/2 [00:00<?,       ?it/s]"
      ]
     },
     "metadata": {}
    },
    {
     "output_type": "stream",
     "name": "stdout",
     "text": [
      "Using up to 20 segments\n",
      "Number of samples used : 2000\n",
      "[done]\n",
      "Converting forward solution to surface orientation\n",
      "    No patch info available. The standard source space normals will be employed in the rotation to the local surface coordinates....\n",
      "    Converting to surface-based source orientations...\n",
      "    [done]\n",
      "Computing inverse operator with 91 channels.\n",
      "    91 out of 91 channels remain after picking\n"
     ]
    },
    {
     "output_type": "stream",
     "name": "stderr",
     "text": [
      "<ipython-input-19-555f416cc34f>:23: RuntimeWarning: tmax is not in Evoked time interval. tmax is set to evoked.tmax (39.7949 sec)\n",
      "  data = sensor_psd.copy().crop(*limits).data.sum(axis=1, keepdims=True)\n"
     ]
    },
    {
     "output_type": "stream",
     "name": "stdout",
     "text": [
      "Selected 91 channels\n",
      "Creating the depth weighting matrix...\n",
      "    91 EEG channels\n",
      "    limit = 20485/20484 = 2.194331\n",
      "    scale = 146509 exp = 0.8\n",
      "Applying loose dipole orientations to surface source spaces: 0.2\n",
      "Whitening the forward solution.\n",
      "Computing rank from covariance with rank=None\n",
      "    Using tolerance 0.00016 (2.2e-16 eps * 91 dim * 8e+09  max singular value)\n",
      "    Estimated rank (eeg): 91\n",
      "    EEG: rank 91 computed from 91 data channels with 0 projectors\n",
      "    Setting small EEG eigenvalues to zero (without PCA)\n",
      "Creating the source covariance matrix\n",
      "Adjusting source covariance matrix.\n",
      "Computing SVD of whitened and weighted lead field matrix.\n"
     ]
    },
    {
     "output_type": "stream",
     "name": "stderr",
     "text": [
      "<ipython-input-19-555f416cc34f>:4: RuntimeWarning: No average EEG reference present in info[\"projs\"], covariance may be adversely affected. Consider recomputing covariance using with an average eeg reference projector added.\n",
      "  inverse_operator = mne.minimum_norm.make_inverse_operator(\n",
      "<ipython-input-19-555f416cc34f>:4: RuntimeWarning: No average EEG reference present in info[\"projs\"], covariance may be adversely affected. Consider recomputing covariance using with an average eeg reference projector added.\n",
      "  inverse_operator = mne.minimum_norm.make_inverse_operator(\n"
     ]
    },
    {
     "output_type": "stream",
     "name": "stdout",
     "text": [
      "    largest singular value = 6.27275\n",
      "    scaling factor to adjust the trace = 6.11853e+10 (nchan = 91 nzero = 0)\n",
      "Not setting metadata\n",
      "Not setting metadata\n",
      "2 matching events found\n",
      "No baseline correction applied\n",
      "0 projection items activated\n",
      "Considering frequencies 0 ... 40 Hz\n",
      "Preparing the inverse operator for use...\n",
      "    Scaled noise and source covariance from nave = 1 to nave = 1\n",
      "    Created the regularized inverter\n",
      "    The projection vectors do not apply to these channels.\n",
      "    Created the whitener using a noise covariance matrix with rank 91 (0 small eigenvalues omitted)\n",
      "    Computing optimized source covariance (eLORETA)...\n",
      "        Using independent orientation weights\n",
      "        Fitting up to 20 iterations (this make take a while)...\n",
      "        Converged on iteration 9 (6.7e-07 < 1e-06)\n",
      "        Updating inverse with weighted eigen leads\n",
      "[done]\n",
      "Picked 91 channels from the data\n",
      "Computing inverse...\n",
      "    Eigenleads already weighted ... \n",
      "Reducing data rank 91 -> 91\n",
      "Using hann windowing on at most 2 epochs\n"
     ]
    },
    {
     "output_type": "display_data",
     "data": {
      "application/vnd.jupyter.widget-view+json": {
       "model_id": "d2ad30ac17c949e9ae5b01fe9ef7fd9f",
       "version_major": 2,
       "version_minor": 0
      },
      "text/plain": [
       "  0%|          |  : 0/2 [00:00<?,       ?it/s]"
      ]
     },
     "metadata": {}
    },
    {
     "output_type": "stream",
     "name": "stdout",
     "text": [
      "Using up to 20 segments\n",
      "Number of samples used : 2000\n",
      "[done]\n",
      "Converting forward solution to surface orientation\n",
      "    No patch info available. The standard source space normals will be employed in the rotation to the local surface coordinates....\n",
      "    Converting to surface-based source orientations...\n",
      "    [done]\n",
      "Computing inverse operator with 91 channels.\n",
      "    91 out of 91 channels remain after picking\n"
     ]
    },
    {
     "output_type": "stream",
     "name": "stderr",
     "text": [
      "<ipython-input-19-555f416cc34f>:23: RuntimeWarning: tmax is not in Evoked time interval. tmax is set to evoked.tmax (39.7949 sec)\n",
      "  data = sensor_psd.copy().crop(*limits).data.sum(axis=1, keepdims=True)\n"
     ]
    },
    {
     "output_type": "stream",
     "name": "stdout",
     "text": [
      "Selected 91 channels\n",
      "Creating the depth weighting matrix...\n",
      "    91 EEG channels\n",
      "    limit = 20485/20484 = 2.194331\n",
      "    scale = 146509 exp = 0.8\n",
      "Applying loose dipole orientations to surface source spaces: 0.2\n",
      "Whitening the forward solution.\n",
      "Computing rank from covariance with rank=None\n",
      "    Using tolerance 6.4e-05 (2.2e-16 eps * 91 dim * 3.2e+09  max singular value)\n",
      "    Estimated rank (eeg): 91\n",
      "    EEG: rank 91 computed from 91 data channels with 0 projectors\n",
      "    Setting small EEG eigenvalues to zero (without PCA)\n",
      "Creating the source covariance matrix\n",
      "Adjusting source covariance matrix.\n",
      "Computing SVD of whitened and weighted lead field matrix.\n"
     ]
    },
    {
     "output_type": "stream",
     "name": "stderr",
     "text": [
      "<ipython-input-19-555f416cc34f>:4: RuntimeWarning: No average EEG reference present in info[\"projs\"], covariance may be adversely affected. Consider recomputing covariance using with an average eeg reference projector added.\n",
      "  inverse_operator = mne.minimum_norm.make_inverse_operator(\n",
      "<ipython-input-19-555f416cc34f>:4: RuntimeWarning: No average EEG reference present in info[\"projs\"], covariance may be adversely affected. Consider recomputing covariance using with an average eeg reference projector added.\n",
      "  inverse_operator = mne.minimum_norm.make_inverse_operator(\n"
     ]
    },
    {
     "output_type": "stream",
     "name": "stdout",
     "text": [
      "    largest singular value = 5.52394\n",
      "    scaling factor to adjust the trace = 2.14813e+11 (nchan = 91 nzero = 0)\n",
      "Not setting metadata\n",
      "Not setting metadata\n",
      "2 matching events found\n",
      "No baseline correction applied\n",
      "0 projection items activated\n",
      "Considering frequencies 0 ... 40 Hz\n",
      "Preparing the inverse operator for use...\n",
      "    Scaled noise and source covariance from nave = 1 to nave = 1\n",
      "    Created the regularized inverter\n",
      "    The projection vectors do not apply to these channels.\n",
      "    Created the whitener using a noise covariance matrix with rank 91 (0 small eigenvalues omitted)\n",
      "    Computing optimized source covariance (eLORETA)...\n",
      "        Using independent orientation weights\n",
      "        Fitting up to 20 iterations (this make take a while)...\n",
      "        Converged on iteration 9 (3.7e-07 < 1e-06)\n",
      "        Updating inverse with weighted eigen leads\n",
      "[done]\n",
      "Picked 91 channels from the data\n",
      "Computing inverse...\n",
      "    Eigenleads already weighted ... \n",
      "Reducing data rank 91 -> 91\n",
      "Using hann windowing on at most 2 epochs\n"
     ]
    },
    {
     "output_type": "display_data",
     "data": {
      "application/vnd.jupyter.widget-view+json": {
       "model_id": "d1e44a196a8c4ce4847602d3054f965a",
       "version_major": 2,
       "version_minor": 0
      },
      "text/plain": [
       "  0%|          |  : 0/2 [00:00<?,       ?it/s]"
      ]
     },
     "metadata": {}
    },
    {
     "output_type": "stream",
     "name": "stdout",
     "text": [
      "Using up to 20 segments\n",
      "Number of samples used : 2000\n",
      "[done]\n",
      "Converting forward solution to surface orientation\n",
      "    No patch info available. The standard source space normals will be employed in the rotation to the local surface coordinates....\n",
      "    Converting to surface-based source orientations...\n",
      "    [done]\n",
      "Computing inverse operator with 91 channels.\n",
      "    91 out of 91 channels remain after picking\n"
     ]
    },
    {
     "output_type": "stream",
     "name": "stderr",
     "text": [
      "<ipython-input-19-555f416cc34f>:23: RuntimeWarning: tmax is not in Evoked time interval. tmax is set to evoked.tmax (39.7949 sec)\n",
      "  data = sensor_psd.copy().crop(*limits).data.sum(axis=1, keepdims=True)\n"
     ]
    },
    {
     "output_type": "stream",
     "name": "stdout",
     "text": [
      "Selected 91 channels\n",
      "Creating the depth weighting matrix...\n",
      "    91 EEG channels\n",
      "    limit = 20485/20484 = 2.194331\n",
      "    scale = 146509 exp = 0.8\n",
      "Applying loose dipole orientations to surface source spaces: 0.2\n",
      "Whitening the forward solution.\n",
      "Computing rank from covariance with rank=None\n",
      "    Using tolerance 8.5e-05 (2.2e-16 eps * 91 dim * 4.2e+09  max singular value)\n",
      "    Estimated rank (eeg): 91\n",
      "    EEG: rank 91 computed from 91 data channels with 0 projectors\n",
      "    Setting small EEG eigenvalues to zero (without PCA)\n",
      "Creating the source covariance matrix\n",
      "Adjusting source covariance matrix.\n",
      "Computing SVD of whitened and weighted lead field matrix.\n"
     ]
    },
    {
     "output_type": "stream",
     "name": "stderr",
     "text": [
      "<ipython-input-19-555f416cc34f>:4: RuntimeWarning: No average EEG reference present in info[\"projs\"], covariance may be adversely affected. Consider recomputing covariance using with an average eeg reference projector added.\n",
      "  inverse_operator = mne.minimum_norm.make_inverse_operator(\n",
      "<ipython-input-19-555f416cc34f>:4: RuntimeWarning: No average EEG reference present in info[\"projs\"], covariance may be adversely affected. Consider recomputing covariance using with an average eeg reference projector added.\n",
      "  inverse_operator = mne.minimum_norm.make_inverse_operator(\n"
     ]
    },
    {
     "output_type": "stream",
     "name": "stdout",
     "text": [
      "    largest singular value = 6.80831\n",
      "    scaling factor to adjust the trace = 1.50476e+11 (nchan = 91 nzero = 0)\n",
      "Not setting metadata\n",
      "Not setting metadata\n",
      "2 matching events found\n",
      "No baseline correction applied\n",
      "0 projection items activated\n",
      "Considering frequencies 0 ... 40 Hz\n",
      "Preparing the inverse operator for use...\n",
      "    Scaled noise and source covariance from nave = 1 to nave = 1\n",
      "    Created the regularized inverter\n",
      "    The projection vectors do not apply to these channels.\n",
      "    Created the whitener using a noise covariance matrix with rank 91 (0 small eigenvalues omitted)\n",
      "    Computing optimized source covariance (eLORETA)...\n",
      "        Using independent orientation weights\n",
      "        Fitting up to 20 iterations (this make take a while)...\n",
      "        Converged on iteration 8 (9e-07 < 1e-06)\n",
      "        Updating inverse with weighted eigen leads\n",
      "[done]\n",
      "Picked 91 channels from the data\n",
      "Computing inverse...\n",
      "    Eigenleads already weighted ... \n",
      "Reducing data rank 91 -> 91\n",
      "Using hann windowing on at most 2 epochs\n"
     ]
    },
    {
     "output_type": "display_data",
     "data": {
      "application/vnd.jupyter.widget-view+json": {
       "model_id": "f1ecc8178288413a83bc49af1e8f6e74",
       "version_major": 2,
       "version_minor": 0
      },
      "text/plain": [
       "  0%|          |  : 0/2 [00:00<?,       ?it/s]"
      ]
     },
     "metadata": {}
    },
    {
     "output_type": "stream",
     "name": "stdout",
     "text": [
      "Using up to 20 segments\n",
      "Number of samples used : 2000\n",
      "[done]\n",
      "Converting forward solution to surface orientation\n",
      "    No patch info available. The standard source space normals will be employed in the rotation to the local surface coordinates....\n",
      "    Converting to surface-based source orientations...\n",
      "    [done]\n",
      "Computing inverse operator with 91 channels.\n",
      "    91 out of 91 channels remain after picking\n"
     ]
    },
    {
     "output_type": "stream",
     "name": "stderr",
     "text": [
      "<ipython-input-19-555f416cc34f>:23: RuntimeWarning: tmax is not in Evoked time interval. tmax is set to evoked.tmax (39.7949 sec)\n",
      "  data = sensor_psd.copy().crop(*limits).data.sum(axis=1, keepdims=True)\n"
     ]
    },
    {
     "output_type": "stream",
     "name": "stdout",
     "text": [
      "Selected 91 channels\n",
      "Creating the depth weighting matrix...\n",
      "    91 EEG channels\n",
      "    limit = 20485/20484 = 2.194331\n",
      "    scale = 146509 exp = 0.8\n",
      "Applying loose dipole orientations to surface source spaces: 0.2\n",
      "Whitening the forward solution.\n",
      "Computing rank from covariance with rank=None\n",
      "    Using tolerance 0.00046 (2.2e-16 eps * 91 dim * 2.3e+10  max singular value)\n",
      "    Estimated rank (eeg): 91\n",
      "    EEG: rank 91 computed from 91 data channels with 0 projectors\n",
      "    Setting small EEG eigenvalues to zero (without PCA)\n",
      "Creating the source covariance matrix\n",
      "Adjusting source covariance matrix.\n",
      "Computing SVD of whitened and weighted lead field matrix.\n"
     ]
    },
    {
     "output_type": "stream",
     "name": "stderr",
     "text": [
      "<ipython-input-19-555f416cc34f>:4: RuntimeWarning: No average EEG reference present in info[\"projs\"], covariance may be adversely affected. Consider recomputing covariance using with an average eeg reference projector added.\n",
      "  inverse_operator = mne.minimum_norm.make_inverse_operator(\n",
      "<ipython-input-19-555f416cc34f>:4: RuntimeWarning: No average EEG reference present in info[\"projs\"], covariance may be adversely affected. Consider recomputing covariance using with an average eeg reference projector added.\n",
      "  inverse_operator = mne.minimum_norm.make_inverse_operator(\n"
     ]
    },
    {
     "output_type": "stream",
     "name": "stdout",
     "text": [
      "    largest singular value = 5.70094\n",
      "    scaling factor to adjust the trace = 2.72445e+10 (nchan = 91 nzero = 0)\n",
      "Not setting metadata\n",
      "Not setting metadata\n",
      "2 matching events found\n",
      "No baseline correction applied\n",
      "0 projection items activated\n",
      "Considering frequencies 0 ... 40 Hz\n",
      "Preparing the inverse operator for use...\n",
      "    Scaled noise and source covariance from nave = 1 to nave = 1\n",
      "    Created the regularized inverter\n",
      "    The projection vectors do not apply to these channels.\n",
      "    Created the whitener using a noise covariance matrix with rank 91 (0 small eigenvalues omitted)\n",
      "    Computing optimized source covariance (eLORETA)...\n",
      "        Using independent orientation weights\n",
      "        Fitting up to 20 iterations (this make take a while)...\n",
      "        Converged on iteration 9 (6.8e-07 < 1e-06)\n",
      "        Updating inverse with weighted eigen leads\n",
      "[done]\n",
      "Picked 91 channels from the data\n",
      "Computing inverse...\n",
      "    Eigenleads already weighted ... \n",
      "Reducing data rank 91 -> 91\n",
      "Using hann windowing on at most 2 epochs\n"
     ]
    },
    {
     "output_type": "display_data",
     "data": {
      "application/vnd.jupyter.widget-view+json": {
       "model_id": "0a4ce1fd4a8740d48690173e4d40f96e",
       "version_major": 2,
       "version_minor": 0
      },
      "text/plain": [
       "  0%|          |  : 0/2 [00:00<?,       ?it/s]"
      ]
     },
     "metadata": {}
    },
    {
     "output_type": "stream",
     "name": "stdout",
     "text": [
      "Using up to 20 segments\n",
      "Number of samples used : 2000\n",
      "[done]\n",
      "Converting forward solution to surface orientation\n",
      "    No patch info available. The standard source space normals will be employed in the rotation to the local surface coordinates....\n",
      "    Converting to surface-based source orientations...\n",
      "    [done]\n",
      "Computing inverse operator with 91 channels.\n",
      "    91 out of 91 channels remain after picking\n"
     ]
    },
    {
     "output_type": "stream",
     "name": "stderr",
     "text": [
      "<ipython-input-19-555f416cc34f>:23: RuntimeWarning: tmax is not in Evoked time interval. tmax is set to evoked.tmax (39.7949 sec)\n",
      "  data = sensor_psd.copy().crop(*limits).data.sum(axis=1, keepdims=True)\n"
     ]
    },
    {
     "output_type": "stream",
     "name": "stdout",
     "text": [
      "Selected 91 channels\n",
      "Creating the depth weighting matrix...\n",
      "    91 EEG channels\n",
      "    limit = 20485/20484 = 2.194331\n",
      "    scale = 146509 exp = 0.8\n",
      "Applying loose dipole orientations to surface source spaces: 0.2\n",
      "Whitening the forward solution.\n",
      "Computing rank from covariance with rank=None\n",
      "    Using tolerance 0.0003 (2.2e-16 eps * 91 dim * 1.5e+10  max singular value)\n",
      "    Estimated rank (eeg): 91\n",
      "    EEG: rank 91 computed from 91 data channels with 0 projectors\n",
      "    Setting small EEG eigenvalues to zero (without PCA)\n",
      "Creating the source covariance matrix\n",
      "Adjusting source covariance matrix.\n",
      "Computing SVD of whitened and weighted lead field matrix.\n"
     ]
    },
    {
     "output_type": "stream",
     "name": "stderr",
     "text": [
      "<ipython-input-19-555f416cc34f>:4: RuntimeWarning: No average EEG reference present in info[\"projs\"], covariance may be adversely affected. Consider recomputing covariance using with an average eeg reference projector added.\n",
      "  inverse_operator = mne.minimum_norm.make_inverse_operator(\n",
      "<ipython-input-19-555f416cc34f>:4: RuntimeWarning: No average EEG reference present in info[\"projs\"], covariance may be adversely affected. Consider recomputing covariance using with an average eeg reference projector added.\n",
      "  inverse_operator = mne.minimum_norm.make_inverse_operator(\n"
     ]
    },
    {
     "output_type": "stream",
     "name": "stdout",
     "text": [
      "    largest singular value = 6.39358\n",
      "    scaling factor to adjust the trace = 9.59732e+10 (nchan = 91 nzero = 0)\n",
      "Not setting metadata\n",
      "Not setting metadata\n",
      "2 matching events found\n",
      "No baseline correction applied\n",
      "0 projection items activated\n",
      "Considering frequencies 0 ... 40 Hz\n",
      "Preparing the inverse operator for use...\n",
      "    Scaled noise and source covariance from nave = 1 to nave = 1\n",
      "    Created the regularized inverter\n",
      "    The projection vectors do not apply to these channels.\n",
      "    Created the whitener using a noise covariance matrix with rank 91 (0 small eigenvalues omitted)\n",
      "    Computing optimized source covariance (eLORETA)...\n",
      "        Using independent orientation weights\n",
      "        Fitting up to 20 iterations (this make take a while)...\n",
      "        Converged on iteration 9 (5.3e-07 < 1e-06)\n",
      "        Updating inverse with weighted eigen leads\n",
      "[done]\n",
      "Picked 91 channels from the data\n",
      "Computing inverse...\n",
      "    Eigenleads already weighted ... \n",
      "Reducing data rank 91 -> 91\n",
      "Using hann windowing on at most 2 epochs\n"
     ]
    },
    {
     "output_type": "display_data",
     "data": {
      "application/vnd.jupyter.widget-view+json": {
       "model_id": "b2f78f65737948c7b167c641fe9940d3",
       "version_major": 2,
       "version_minor": 0
      },
      "text/plain": [
       "  0%|          |  : 0/2 [00:00<?,       ?it/s]"
      ]
     },
     "metadata": {}
    },
    {
     "output_type": "stream",
     "name": "stdout",
     "text": [
      "Using up to 20 segments\n",
      "Number of samples used : 2000\n",
      "[done]\n",
      "Converting forward solution to surface orientation\n",
      "    No patch info available. The standard source space normals will be employed in the rotation to the local surface coordinates....\n",
      "    Converting to surface-based source orientations...\n",
      "    [done]\n",
      "Computing inverse operator with 91 channels.\n",
      "    91 out of 91 channels remain after picking\n"
     ]
    },
    {
     "output_type": "stream",
     "name": "stderr",
     "text": [
      "<ipython-input-19-555f416cc34f>:23: RuntimeWarning: tmax is not in Evoked time interval. tmax is set to evoked.tmax (39.7949 sec)\n",
      "  data = sensor_psd.copy().crop(*limits).data.sum(axis=1, keepdims=True)\n"
     ]
    },
    {
     "output_type": "stream",
     "name": "stdout",
     "text": [
      "Selected 91 channels\n",
      "Creating the depth weighting matrix...\n",
      "    91 EEG channels\n",
      "    limit = 20485/20484 = 2.194331\n",
      "    scale = 146509 exp = 0.8\n",
      "Applying loose dipole orientations to surface source spaces: 0.2\n",
      "Whitening the forward solution.\n",
      "Computing rank from covariance with rank=None\n",
      "    Using tolerance 3.1e-05 (2.2e-16 eps * 91 dim * 1.5e+09  max singular value)\n",
      "    Estimated rank (eeg): 91\n",
      "    EEG: rank 91 computed from 91 data channels with 0 projectors\n",
      "    Setting small EEG eigenvalues to zero (without PCA)\n",
      "Creating the source covariance matrix\n",
      "Adjusting source covariance matrix.\n",
      "Computing SVD of whitened and weighted lead field matrix.\n"
     ]
    },
    {
     "output_type": "stream",
     "name": "stderr",
     "text": [
      "<ipython-input-19-555f416cc34f>:4: RuntimeWarning: No average EEG reference present in info[\"projs\"], covariance may be adversely affected. Consider recomputing covariance using with an average eeg reference projector added.\n",
      "  inverse_operator = mne.minimum_norm.make_inverse_operator(\n",
      "<ipython-input-19-555f416cc34f>:4: RuntimeWarning: No average EEG reference present in info[\"projs\"], covariance may be adversely affected. Consider recomputing covariance using with an average eeg reference projector added.\n",
      "  inverse_operator = mne.minimum_norm.make_inverse_operator(\n"
     ]
    },
    {
     "output_type": "stream",
     "name": "stdout",
     "text": [
      "    largest singular value = 5.46861\n",
      "    scaling factor to adjust the trace = 2.60022e+11 (nchan = 91 nzero = 0)\n",
      "Not setting metadata\n",
      "Not setting metadata\n",
      "2 matching events found\n",
      "No baseline correction applied\n",
      "0 projection items activated\n",
      "Considering frequencies 0 ... 40 Hz\n",
      "Preparing the inverse operator for use...\n",
      "    Scaled noise and source covariance from nave = 1 to nave = 1\n",
      "    Created the regularized inverter\n",
      "    The projection vectors do not apply to these channels.\n",
      "    Created the whitener using a noise covariance matrix with rank 91 (0 small eigenvalues omitted)\n",
      "    Computing optimized source covariance (eLORETA)...\n",
      "        Using independent orientation weights\n",
      "        Fitting up to 20 iterations (this make take a while)...\n",
      "        Converged on iteration 9 (3.2e-07 < 1e-06)\n",
      "        Updating inverse with weighted eigen leads\n",
      "[done]\n",
      "Picked 91 channels from the data\n",
      "Computing inverse...\n",
      "    Eigenleads already weighted ... \n",
      "Reducing data rank 91 -> 91\n",
      "Using hann windowing on at most 2 epochs\n"
     ]
    },
    {
     "output_type": "display_data",
     "data": {
      "application/vnd.jupyter.widget-view+json": {
       "model_id": "d8ea5855f614453caaafe25cf71f9021",
       "version_major": 2,
       "version_minor": 0
      },
      "text/plain": [
       "  0%|          |  : 0/2 [00:00<?,       ?it/s]"
      ]
     },
     "metadata": {}
    },
    {
     "output_type": "stream",
     "name": "stdout",
     "text": [
      "Using up to 20 segments\n",
      "Number of samples used : 2000\n",
      "[done]\n",
      "Converting forward solution to surface orientation\n",
      "    No patch info available. The standard source space normals will be employed in the rotation to the local surface coordinates....\n",
      "    Converting to surface-based source orientations...\n",
      "    [done]\n",
      "Computing inverse operator with 91 channels.\n",
      "    91 out of 91 channels remain after picking\n"
     ]
    },
    {
     "output_type": "stream",
     "name": "stderr",
     "text": [
      "<ipython-input-19-555f416cc34f>:23: RuntimeWarning: tmax is not in Evoked time interval. tmax is set to evoked.tmax (39.7949 sec)\n",
      "  data = sensor_psd.copy().crop(*limits).data.sum(axis=1, keepdims=True)\n"
     ]
    },
    {
     "output_type": "stream",
     "name": "stdout",
     "text": [
      "Selected 91 channels\n",
      "Creating the depth weighting matrix...\n",
      "    91 EEG channels\n",
      "    limit = 20485/20484 = 2.194331\n",
      "    scale = 146509 exp = 0.8\n",
      "Applying loose dipole orientations to surface source spaces: 0.2\n",
      "Whitening the forward solution.\n",
      "Computing rank from covariance with rank=None\n",
      "    Using tolerance 7.3e-05 (2.2e-16 eps * 91 dim * 3.6e+09  max singular value)\n",
      "    Estimated rank (eeg): 91\n",
      "    EEG: rank 91 computed from 91 data channels with 0 projectors\n",
      "    Setting small EEG eigenvalues to zero (without PCA)\n",
      "Creating the source covariance matrix\n",
      "Adjusting source covariance matrix.\n",
      "Computing SVD of whitened and weighted lead field matrix.\n"
     ]
    },
    {
     "output_type": "stream",
     "name": "stderr",
     "text": [
      "<ipython-input-19-555f416cc34f>:4: RuntimeWarning: No average EEG reference present in info[\"projs\"], covariance may be adversely affected. Consider recomputing covariance using with an average eeg reference projector added.\n",
      "  inverse_operator = mne.minimum_norm.make_inverse_operator(\n",
      "<ipython-input-19-555f416cc34f>:4: RuntimeWarning: No average EEG reference present in info[\"projs\"], covariance may be adversely affected. Consider recomputing covariance using with an average eeg reference projector added.\n",
      "  inverse_operator = mne.minimum_norm.make_inverse_operator(\n"
     ]
    },
    {
     "output_type": "stream",
     "name": "stdout",
     "text": [
      "    largest singular value = 5.64278\n",
      "    scaling factor to adjust the trace = 1.5925e+11 (nchan = 91 nzero = 0)\n",
      "Not setting metadata\n",
      "Not setting metadata\n",
      "2 matching events found\n",
      "No baseline correction applied\n",
      "0 projection items activated\n",
      "Considering frequencies 0 ... 40 Hz\n",
      "Preparing the inverse operator for use...\n",
      "    Scaled noise and source covariance from nave = 1 to nave = 1\n",
      "    Created the regularized inverter\n",
      "    The projection vectors do not apply to these channels.\n",
      "    Created the whitener using a noise covariance matrix with rank 91 (0 small eigenvalues omitted)\n",
      "    Computing optimized source covariance (eLORETA)...\n",
      "        Using independent orientation weights\n",
      "        Fitting up to 20 iterations (this make take a while)...\n",
      "        Converged on iteration 9 (5.3e-07 < 1e-06)\n",
      "        Updating inverse with weighted eigen leads\n",
      "[done]\n",
      "Picked 91 channels from the data\n",
      "Computing inverse...\n",
      "    Eigenleads already weighted ... \n",
      "Reducing data rank 91 -> 91\n",
      "Using hann windowing on at most 2 epochs\n"
     ]
    },
    {
     "output_type": "display_data",
     "data": {
      "application/vnd.jupyter.widget-view+json": {
       "model_id": "a940107327a644bfacc60dd26d097b8b",
       "version_major": 2,
       "version_minor": 0
      },
      "text/plain": [
       "  0%|          |  : 0/2 [00:00<?,       ?it/s]"
      ]
     },
     "metadata": {}
    },
    {
     "output_type": "stream",
     "name": "stdout",
     "text": [
      "Using up to 20 segments\n",
      "Number of samples used : 2000\n",
      "[done]\n",
      "Converting forward solution to surface orientation\n",
      "    No patch info available. The standard source space normals will be employed in the rotation to the local surface coordinates....\n",
      "    Converting to surface-based source orientations...\n",
      "    [done]\n",
      "Computing inverse operator with 91 channels.\n",
      "    91 out of 91 channels remain after picking\n"
     ]
    },
    {
     "output_type": "stream",
     "name": "stderr",
     "text": [
      "<ipython-input-19-555f416cc34f>:23: RuntimeWarning: tmax is not in Evoked time interval. tmax is set to evoked.tmax (39.7949 sec)\n",
      "  data = sensor_psd.copy().crop(*limits).data.sum(axis=1, keepdims=True)\n"
     ]
    },
    {
     "output_type": "stream",
     "name": "stdout",
     "text": [
      "Selected 91 channels\n",
      "Creating the depth weighting matrix...\n",
      "    91 EEG channels\n",
      "    limit = 20485/20484 = 2.194331\n",
      "    scale = 146509 exp = 0.8\n",
      "Applying loose dipole orientations to surface source spaces: 0.2\n",
      "Whitening the forward solution.\n",
      "Computing rank from covariance with rank=None\n",
      "    Using tolerance 3.2e-05 (2.2e-16 eps * 91 dim * 1.6e+09  max singular value)\n",
      "    Estimated rank (eeg): 91\n",
      "    EEG: rank 91 computed from 91 data channels with 0 projectors\n",
      "    Setting small EEG eigenvalues to zero (without PCA)\n",
      "Creating the source covariance matrix\n",
      "Adjusting source covariance matrix.\n",
      "Computing SVD of whitened and weighted lead field matrix.\n"
     ]
    },
    {
     "output_type": "stream",
     "name": "stderr",
     "text": [
      "<ipython-input-19-555f416cc34f>:4: RuntimeWarning: No average EEG reference present in info[\"projs\"], covariance may be adversely affected. Consider recomputing covariance using with an average eeg reference projector added.\n",
      "  inverse_operator = mne.minimum_norm.make_inverse_operator(\n",
      "<ipython-input-19-555f416cc34f>:4: RuntimeWarning: No average EEG reference present in info[\"projs\"], covariance may be adversely affected. Consider recomputing covariance using with an average eeg reference projector added.\n",
      "  inverse_operator = mne.minimum_norm.make_inverse_operator(\n"
     ]
    },
    {
     "output_type": "stream",
     "name": "stdout",
     "text": [
      "    largest singular value = 5.795\n",
      "    scaling factor to adjust the trace = 1.85121e+11 (nchan = 91 nzero = 0)\n",
      "Not setting metadata\n",
      "Not setting metadata\n",
      "2 matching events found\n",
      "No baseline correction applied\n",
      "0 projection items activated\n",
      "Considering frequencies 0 ... 40 Hz\n",
      "Preparing the inverse operator for use...\n",
      "    Scaled noise and source covariance from nave = 1 to nave = 1\n",
      "    Created the regularized inverter\n",
      "    The projection vectors do not apply to these channels.\n",
      "    Created the whitener using a noise covariance matrix with rank 91 (0 small eigenvalues omitted)\n",
      "    Computing optimized source covariance (eLORETA)...\n",
      "        Using independent orientation weights\n",
      "        Fitting up to 20 iterations (this make take a while)...\n",
      "        Converged on iteration 9 (5.3e-07 < 1e-06)\n",
      "        Updating inverse with weighted eigen leads\n",
      "[done]\n",
      "Picked 91 channels from the data\n",
      "Computing inverse...\n",
      "    Eigenleads already weighted ... \n",
      "Reducing data rank 91 -> 91\n",
      "Using hann windowing on at most 2 epochs\n"
     ]
    },
    {
     "output_type": "display_data",
     "data": {
      "application/vnd.jupyter.widget-view+json": {
       "model_id": "26844d3fa09b42a6a8113e50da804412",
       "version_major": 2,
       "version_minor": 0
      },
      "text/plain": [
       "  0%|          |  : 0/2 [00:00<?,       ?it/s]"
      ]
     },
     "metadata": {}
    },
    {
     "output_type": "stream",
     "name": "stdout",
     "text": [
      "Using up to 20 segments\n",
      "Number of samples used : 2000\n",
      "[done]\n",
      "Converting forward solution to surface orientation\n",
      "    No patch info available. The standard source space normals will be employed in the rotation to the local surface coordinates....\n",
      "    Converting to surface-based source orientations...\n",
      "    [done]\n",
      "Computing inverse operator with 91 channels.\n",
      "    91 out of 91 channels remain after picking\n"
     ]
    },
    {
     "output_type": "stream",
     "name": "stderr",
     "text": [
      "<ipython-input-19-555f416cc34f>:23: RuntimeWarning: tmax is not in Evoked time interval. tmax is set to evoked.tmax (39.7949 sec)\n",
      "  data = sensor_psd.copy().crop(*limits).data.sum(axis=1, keepdims=True)\n"
     ]
    },
    {
     "output_type": "stream",
     "name": "stdout",
     "text": [
      "Selected 91 channels\n",
      "Creating the depth weighting matrix...\n",
      "    91 EEG channels\n",
      "    limit = 20485/20484 = 2.194331\n",
      "    scale = 146509 exp = 0.8\n",
      "Applying loose dipole orientations to surface source spaces: 0.2\n",
      "Whitening the forward solution.\n",
      "Computing rank from covariance with rank=None\n",
      "    Using tolerance 0.00018 (2.2e-16 eps * 91 dim * 8.7e+09  max singular value)\n",
      "    Estimated rank (eeg): 91\n",
      "    EEG: rank 91 computed from 91 data channels with 0 projectors\n",
      "    Setting small EEG eigenvalues to zero (without PCA)\n",
      "Creating the source covariance matrix\n",
      "Adjusting source covariance matrix.\n",
      "Computing SVD of whitened and weighted lead field matrix.\n"
     ]
    },
    {
     "output_type": "stream",
     "name": "stderr",
     "text": [
      "<ipython-input-19-555f416cc34f>:4: RuntimeWarning: No average EEG reference present in info[\"projs\"], covariance may be adversely affected. Consider recomputing covariance using with an average eeg reference projector added.\n",
      "  inverse_operator = mne.minimum_norm.make_inverse_operator(\n",
      "<ipython-input-19-555f416cc34f>:4: RuntimeWarning: No average EEG reference present in info[\"projs\"], covariance may be adversely affected. Consider recomputing covariance using with an average eeg reference projector added.\n",
      "  inverse_operator = mne.minimum_norm.make_inverse_operator(\n"
     ]
    },
    {
     "output_type": "stream",
     "name": "stdout",
     "text": [
      "    largest singular value = 6.26896\n",
      "    scaling factor to adjust the trace = 7.59786e+10 (nchan = 91 nzero = 0)\n",
      "Not setting metadata\n",
      "Not setting metadata\n",
      "2 matching events found\n",
      "No baseline correction applied\n",
      "0 projection items activated\n",
      "Considering frequencies 0 ... 40 Hz\n",
      "Preparing the inverse operator for use...\n",
      "    Scaled noise and source covariance from nave = 1 to nave = 1\n",
      "    Created the regularized inverter\n",
      "    The projection vectors do not apply to these channels.\n",
      "    Created the whitener using a noise covariance matrix with rank 91 (0 small eigenvalues omitted)\n",
      "    Computing optimized source covariance (eLORETA)...\n",
      "        Using independent orientation weights\n",
      "        Fitting up to 20 iterations (this make take a while)...\n",
      "        Converged on iteration 9 (3.7e-07 < 1e-06)\n",
      "        Updating inverse with weighted eigen leads\n",
      "[done]\n",
      "Picked 91 channels from the data\n",
      "Computing inverse...\n",
      "    Eigenleads already weighted ... \n",
      "Reducing data rank 91 -> 91\n",
      "Using hann windowing on at most 2 epochs\n"
     ]
    },
    {
     "output_type": "display_data",
     "data": {
      "application/vnd.jupyter.widget-view+json": {
       "model_id": "905b1c9265a5499d9e55cda0428958e3",
       "version_major": 2,
       "version_minor": 0
      },
      "text/plain": [
       "  0%|          |  : 0/2 [00:00<?,       ?it/s]"
      ]
     },
     "metadata": {}
    },
    {
     "output_type": "stream",
     "name": "stderr",
     "text": [
      "<ipython-input-19-555f416cc34f>:23: RuntimeWarning: tmax is not in Evoked time interval. tmax is set to evoked.tmax (39.7949 sec)\n",
      "  data = sensor_psd.copy().crop(*limits).data.sum(axis=1, keepdims=True)\n"
     ]
    }
   ],
   "metadata": {
    "scrolled": true
   }
  },
  {
   "cell_type": "code",
   "execution_count": 67,
   "source": [
    "ep1.load_data().get_data()\n",
    "#scipy.signal.get_window('hamming', 100)\n",
    "#        delta=(2, 4), theta=(5, 7), alpha=(8, 13), beta=(15, 29), gamma=(30, 40))\n",
    "#delta = 1,2\n",
    "#theta = 3,4\n",
    "#alpha = "
   ],
   "outputs": [
    {
     "output_type": "execute_result",
     "data": {
      "text/plain": [
       "array([[[ 0.81694963,  0.66156015,  0.50288426, ..., -0.79361028,\n",
       "         -0.50021787, -0.9125763 ]]])"
      ]
     },
     "metadata": {},
     "execution_count": 67
    }
   ],
   "metadata": {}
  },
  {
   "cell_type": "code",
   "execution_count": 25,
   "source": [
    "stc1_high"
   ],
   "outputs": [
    {
     "output_type": "execute_result",
     "data": {
      "text/plain": [
       "{'vv': {},\n",
       " 'opm': {},\n",
       " 'delta': <SourceEstimate | 20484 vertices, subject : fsaverage, tmin : 3051.7578125 (ms), tmax : 3051.7578125 (ms), tstep : 2197.265625 (ms), data shape : (20484, 1), ~320 kB>,\n",
       " 'theta': <SourceEstimate | 20484 vertices, subject : fsaverage, tmin : 6103.515625 (ms), tmax : 6103.515625 (ms), tstep : 2441.40625 (ms), data shape : (20484, 1), ~320 kB>,\n",
       " 'alpha': <SourceEstimate | 20484 vertices, subject : fsaverage, tmin : 10620.1171875 (ms), tmax : 10620.1171875 (ms), tstep : 5126.953125 (ms), data shape : (20484, 1), ~320 kB>,\n",
       " 'beta': <SourceEstimate | 20484 vertices, subject : fsaverage, tmin : 22094.7265625 (ms), tmax : 22094.7265625 (ms), tstep : 14404.296875 (ms), data shape : (20484, 1), ~320 kB>,\n",
       " 'gamma': <SourceEstimate | 20484 vertices, subject : fsaverage, tmin : 35034.1796875 (ms), tmax : 35034.1796875 (ms), tstep : 10009.765625 (ms), data shape : (20484, 1), ~320 kB>}"
      ]
     },
     "metadata": {},
     "execution_count": 25
    }
   ],
   "metadata": {
    "scrolled": true
   }
  },
  {
   "cell_type": "code",
   "execution_count": 26,
   "source": [
    "#\n",
    "epochs1_ISC_ts_filtered_low = spatial_filter(np.reshape( epochs1_ISC_ts.get_data()[:,:,indexes2], [91,2060]))\n",
    "epochs2_ISC_ts_filtered_low = spatial_filter(np.reshape( epochs2_ISC_ts.get_data()[:,:,indexes2], [91,2060]))\n",
    "epochs3_ISC_ts_filtered_low = spatial_filter(np.reshape( epochs3_ISC_ts.get_data()[:,:,indexes2], [91,2060]))\n",
    "epochs4_ISC_ts_filtered_low = spatial_filter(np.reshape( epochs4_ISC_ts.get_data()[:,:,indexes2], [91,2060]))\n",
    "epochs5_ISC_ts_filtered_low = spatial_filter(np.reshape( epochs5_ISC_ts.get_data()[:,:,indexes2], [91,2060]))\n",
    "epochs6_ISC_ts_filtered_low = spatial_filter(np.reshape( epochs6_ISC_ts.get_data()[:,:,indexes2], [91,2060]))\n",
    "epochs7_ISC_ts_filtered_low = spatial_filter(np.reshape( epochs7_ISC_ts.get_data()[:,:,indexes2], [91,2060]))\n",
    "epochs8_ISC_ts_filtered_low = spatial_filter(np.reshape( epochs8_ISC_ts.get_data()[:,:,indexes2], [91,2060]))\n",
    "epochs9_ISC_ts_filtered_low = spatial_filter(np.reshape( epochs9_ISC_ts.get_data()[:,:,indexes2], [91,2060]))\n",
    "epochs10_ISC_ts_filtered_low = spatial_filter(np.reshape( epochs10_ISC_ts.get_data()[:,:,indexes2], [91,2060]))\n",
    "\n",
    "\n",
    "\n",
    "\n",
    "\n",
    "info1_low,raw1_low,ep1_low = get_raw_epochs_data(epochs1_ISC_ts_filtered_low)\n",
    "info2_low,raw2_low,ep2_low = get_raw_epochs_data(epochs2_ISC_ts_filtered_low)\n",
    "info3_low,raw3_low,ep3_low = get_raw_epochs_data(epochs3_ISC_ts_filtered_low)\n",
    "info4_low,raw4_low,ep4_low = get_raw_epochs_data(epochs4_ISC_ts_filtered_low)\n",
    "info5_low,raw5_low,ep5_low = get_raw_epochs_data(epochs5_ISC_ts_filtered_low)\n",
    "info6_low,raw6_low,ep6_low = get_raw_epochs_data(epochs6_ISC_ts_filtered_low)\n",
    "info7_low,raw7_low,ep7_low = get_raw_epochs_data(epochs7_ISC_ts_filtered_low)\n",
    "info8_low,raw8_low,ep8_low = get_raw_epochs_data(epochs8_ISC_ts_filtered_low)\n",
    "info9_low,raw9_low,ep9_low = get_raw_epochs_data(epochs9_ISC_ts_filtered_low)\n",
    "info10_low,raw10_low,ep10_low = get_raw_epochs_data(epochs10_ISC_ts_filtered_low)\n",
    "\n",
    "\n",
    "\n",
    "\n",
    "epochs1_ISC_ts_filtered_low_elem = element_wise_multi(( epochs1_ISC_ts.get_data()[:,:,indexes2]))\n",
    "epochs2_ISC_ts_filtered_low_elem = element_wise_multi(( epochs2_ISC_ts.get_data()[:,:,indexes2]))\n",
    "epochs3_ISC_ts_filtered_low_elem = element_wise_multi(( epochs3_ISC_ts.get_data()[:,:,indexes2]))\n",
    "epochs4_ISC_ts_filtered_low_elem = element_wise_multi(( epochs4_ISC_ts.get_data()[:,:,indexes2]))\n",
    "epochs5_ISC_ts_filtered_low_elem = element_wise_multi(( epochs5_ISC_ts.get_data()[:,:,indexes2]))\n",
    "epochs6_ISC_ts_filtered_low_elem = element_wise_multi(( epochs6_ISC_ts.get_data()[:,:,indexes2]))\n",
    "epochs7_ISC_ts_filtered_low_elem = element_wise_multi(( epochs7_ISC_ts.get_data()[:,:,indexes2]))\n",
    "epochs8_ISC_ts_filtered_low_elem = element_wise_multi(( epochs8_ISC_ts.get_data()[:,:,indexes2]))\n",
    "epochs9_ISC_ts_filtered_low_elem = element_wise_multi(( epochs9_ISC_ts.get_data()[:,:,indexes2]))\n",
    "epochs10_ISC_ts_filtered_low_elem = element_wise_multi(( epochs10_ISC_ts.get_data()[:,:,indexes2]))\n",
    "#(epochs10_ISC_ts.get_data()[:,:,indexes])\n",
    "\n",
    "\n",
    "\n",
    "\n",
    "info1,raw1_low_elem,ep1_low_elem = get_raw_epochs_data_elem(epochs1_ISC_ts_filtered_low_elem)\n",
    "info2,raw2_low_elem,ep2_low_elem = get_raw_epochs_data_elem(epochs2_ISC_ts_filtered_low_elem)\n",
    "info3,raw3_low_elem,ep3_low_elem = get_raw_epochs_data_elem(epochs3_ISC_ts_filtered_low_elem)\n",
    "info4,raw4_low_elem,ep4_low_elem = get_raw_epochs_data_elem(epochs4_ISC_ts_filtered_low_elem)\n",
    "info5,raw5_low_elem,ep5_low_elem = get_raw_epochs_data_elem(epochs5_ISC_ts_filtered_low_elem)\n",
    "info6,raw6_low_elem,ep6_low_elem = get_raw_epochs_data_elem(epochs6_ISC_ts_filtered_low_elem)\n",
    "info7,raw7_low_elem,ep7_low_elem = get_raw_epochs_data_elem(epochs7_ISC_ts_filtered_low_elem)\n",
    "info8,raw8_low_elem,ep8_low_elem = get_raw_epochs_data_elem(epochs8_ISC_ts_filtered_low_elem)\n",
    "info9,raw9_low_elem,ep9_low_elem = get_raw_epochs_data_elem(epochs9_ISC_ts_filtered_low_elem)\n",
    "info10,raw10_low_elem,ep10_low_elem = get_raw_epochs_data_elem(epochs10_ISC_ts_filtered_low_elem)\n",
    "\n",
    "\n",
    "freqs = list()\n",
    "def freq(epochs):\n",
    "    return mne.time_frequency.psd_welch(epochs,fmax=40,n_fft=2000)\n",
    "\n",
    "\n",
    "\n",
    "# for the top and bottom 10%ile calculation for the source estimation of non-spatially filtered EEG\n",
    "stc1_low = comp_source_psd(raw1_low)\n",
    "stc2_low = comp_source_psd(raw2_low)\n",
    "stc3_low = comp_source_psd(raw3_low)\n",
    "stc4_low = comp_source_psd(raw4_low)\n",
    "stc5_low = comp_source_psd(raw5_low)\n",
    "stc6_low = comp_source_psd(raw6_low)\n",
    "stc7_low = comp_source_psd(raw7_low)\n",
    "stc8_low = comp_source_psd(raw8_low)\n",
    "stc9_low = comp_source_psd(raw9_low)\n",
    "stc10_low = comp_source_psd(raw10_low)\n",
    "\n",
    "freqs.append(freq(ep1_elem)[0] - freq(ep1_low_elem)[0])\n",
    "freqs.append(freq(ep2_elem)[0] - freq(ep2_low_elem)[0])\n",
    "freqs.append(freq(ep3_elem)[0] - freq(ep3_low_elem)[0])\n",
    "freqs.append(freq(ep4_elem)[0] - freq(ep4_low_elem)[0])\n",
    "freqs.append(freq(ep5_elem)[0] - freq(ep5_low_elem)[0])\n",
    "freqs.append(freq(ep6_elem)[0] - freq(ep6_low_elem)[0])\n",
    "freqs.append(freq(ep7_elem)[0] - freq(ep7_low_elem)[0])\n",
    "freqs.append(freq(ep8_elem)[0] - freq(ep8_low_elem)[0])\n",
    "freqs.append(freq(ep9_elem)[0] - freq(ep9_low_elem)[0])\n",
    "freqs.append(freq(ep10_elem)[0] - freq(ep10_low_elem)[0])"
   ],
   "outputs": [
    {
     "output_type": "stream",
     "name": "stdout",
     "text": [
      "(2060, 91)\n",
      "(2060, 91)\n",
      "(2060, 91)\n",
      "(2060, 91)\n",
      "(2060, 91)\n",
      "(2060, 91)\n",
      "(2060, 91)\n",
      "(2060, 91)\n",
      "(2060, 91)\n",
      "(2060, 91)\n",
      "Creating RawArray with float64 data, n_channels=91, n_times=2060\n",
      "    Range : 0 ... 2059 =      0.000 ...     4.118 secs\n",
      "Ready.\n",
      "Not setting metadata\n",
      "Not setting metadata\n",
      "1 matching events found\n",
      "No baseline correction applied\n",
      "0 projection items activated\n",
      "0 bad epochs dropped\n",
      "Creating RawArray with float64 data, n_channels=91, n_times=2060\n",
      "    Range : 0 ... 2059 =      0.000 ...     4.118 secs\n",
      "Ready.\n",
      "Not setting metadata\n",
      "Not setting metadata\n",
      "1 matching events found\n",
      "No baseline correction applied\n",
      "0 projection items activated\n",
      "0 bad epochs dropped\n",
      "Creating RawArray with float64 data, n_channels=91, n_times=2060\n",
      "    Range : 0 ... 2059 =      0.000 ...     4.118 secs\n",
      "Ready.\n",
      "Not setting metadata\n",
      "Not setting metadata\n",
      "1 matching events found\n",
      "No baseline correction applied\n",
      "0 projection items activated\n",
      "0 bad epochs dropped\n",
      "Creating RawArray with float64 data, n_channels=91, n_times=2060\n",
      "    Range : 0 ... 2059 =      0.000 ...     4.118 secs\n",
      "Ready.\n",
      "Not setting metadata\n",
      "Not setting metadata\n",
      "1 matching events found\n",
      "No baseline correction applied\n",
      "0 projection items activated\n",
      "0 bad epochs dropped\n",
      "Creating RawArray with float64 data, n_channels=91, n_times=2060\n",
      "    Range : 0 ... 2059 =      0.000 ...     4.118 secs\n",
      "Ready.\n",
      "Not setting metadata\n",
      "Not setting metadata\n",
      "1 matching events found\n",
      "No baseline correction applied\n",
      "0 projection items activated\n",
      "0 bad epochs dropped\n",
      "Creating RawArray with float64 data, n_channels=91, n_times=2060\n",
      "    Range : 0 ... 2059 =      0.000 ...     4.118 secs\n",
      "Ready.\n",
      "Not setting metadata\n",
      "Not setting metadata\n",
      "1 matching events found\n",
      "No baseline correction applied\n",
      "0 projection items activated\n",
      "0 bad epochs dropped\n",
      "Creating RawArray with float64 data, n_channels=91, n_times=2060\n",
      "    Range : 0 ... 2059 =      0.000 ...     4.118 secs\n",
      "Ready.\n",
      "Not setting metadata\n",
      "Not setting metadata\n",
      "1 matching events found\n",
      "No baseline correction applied\n",
      "0 projection items activated\n",
      "0 bad epochs dropped\n",
      "Creating RawArray with float64 data, n_channels=91, n_times=2060\n",
      "    Range : 0 ... 2059 =      0.000 ...     4.118 secs\n",
      "Ready.\n",
      "Not setting metadata\n",
      "Not setting metadata\n",
      "1 matching events found\n",
      "No baseline correction applied\n",
      "0 projection items activated\n",
      "0 bad epochs dropped\n",
      "Creating RawArray with float64 data, n_channels=91, n_times=2060\n",
      "    Range : 0 ... 2059 =      0.000 ...     4.118 secs\n",
      "Ready.\n",
      "Not setting metadata\n",
      "Not setting metadata\n",
      "1 matching events found\n",
      "No baseline correction applied\n",
      "0 projection items activated\n",
      "0 bad epochs dropped\n",
      "Creating RawArray with float64 data, n_channels=91, n_times=2060\n",
      "    Range : 0 ... 2059 =      0.000 ...     4.118 secs\n",
      "Ready.\n",
      "Not setting metadata\n",
      "Not setting metadata\n",
      "1 matching events found\n",
      "No baseline correction applied\n",
      "0 projection items activated\n",
      "0 bad epochs dropped\n",
      "Creating RawArray with float64 data, n_channels=1, n_times=2060\n",
      "    Range : 0 ... 2059 =      0.000 ...     4.118 secs\n",
      "Ready.\n",
      "Not setting metadata\n",
      "Not setting metadata\n",
      "1 matching events found\n",
      "No baseline correction applied\n",
      "0 projection items activated\n",
      "0 bad epochs dropped\n",
      "Creating RawArray with float64 data, n_channels=1, n_times=2060\n",
      "    Range : 0 ... 2059 =      0.000 ...     4.118 secs\n",
      "Ready.\n",
      "Not setting metadata\n",
      "Not setting metadata\n",
      "1 matching events found\n",
      "No baseline correction applied\n",
      "0 projection items activated\n",
      "0 bad epochs dropped\n",
      "Creating RawArray with float64 data, n_channels=1, n_times=2060\n",
      "    Range : 0 ... 2059 =      0.000 ...     4.118 secs\n",
      "Ready.\n",
      "Not setting metadata\n",
      "Not setting metadata\n",
      "1 matching events found\n",
      "No baseline correction applied\n",
      "0 projection items activated\n",
      "0 bad epochs dropped\n",
      "Creating RawArray with float64 data, n_channels=1, n_times=2060\n",
      "    Range : 0 ... 2059 =      0.000 ...     4.118 secs\n",
      "Ready.\n",
      "Not setting metadata\n",
      "Not setting metadata\n",
      "1 matching events found\n",
      "No baseline correction applied\n",
      "0 projection items activated\n",
      "0 bad epochs dropped\n",
      "Creating RawArray with float64 data, n_channels=1, n_times=2060\n",
      "    Range : 0 ... 2059 =      0.000 ...     4.118 secs\n",
      "Ready.\n",
      "Not setting metadata\n",
      "Not setting metadata\n",
      "1 matching events found\n",
      "No baseline correction applied\n",
      "0 projection items activated\n",
      "0 bad epochs dropped\n",
      "Creating RawArray with float64 data, n_channels=1, n_times=2060\n",
      "    Range : 0 ... 2059 =      0.000 ...     4.118 secs\n",
      "Ready.\n",
      "Not setting metadata\n",
      "Not setting metadata\n",
      "1 matching events found\n",
      "No baseline correction applied\n",
      "0 projection items activated\n",
      "0 bad epochs dropped\n",
      "Creating RawArray with float64 data, n_channels=1, n_times=2060\n",
      "    Range : 0 ... 2059 =      0.000 ...     4.118 secs\n",
      "Ready.\n",
      "Not setting metadata\n",
      "Not setting metadata\n",
      "1 matching events found\n",
      "No baseline correction applied\n",
      "0 projection items activated\n",
      "0 bad epochs dropped\n",
      "Creating RawArray with float64 data, n_channels=1, n_times=2060\n",
      "    Range : 0 ... 2059 =      0.000 ...     4.118 secs\n",
      "Ready.\n",
      "Not setting metadata\n",
      "Not setting metadata\n",
      "1 matching events found\n",
      "No baseline correction applied\n",
      "0 projection items activated\n",
      "0 bad epochs dropped\n",
      "Creating RawArray with float64 data, n_channels=1, n_times=2060\n",
      "    Range : 0 ... 2059 =      0.000 ...     4.118 secs\n",
      "Ready.\n",
      "Not setting metadata\n",
      "Not setting metadata\n",
      "1 matching events found\n",
      "No baseline correction applied\n",
      "0 projection items activated\n",
      "0 bad epochs dropped\n",
      "Creating RawArray with float64 data, n_channels=1, n_times=2060\n",
      "    Range : 0 ... 2059 =      0.000 ...     4.118 secs\n",
      "Ready.\n",
      "Not setting metadata\n",
      "Not setting metadata\n",
      "1 matching events found\n",
      "No baseline correction applied\n",
      "0 projection items activated\n",
      "0 bad epochs dropped\n",
      "Using up to 20 segments\n",
      "Number of samples used : 2000\n",
      "[done]\n",
      "Converting forward solution to surface orientation\n",
      "    No patch info available. The standard source space normals will be employed in the rotation to the local surface coordinates....\n",
      "    Converting to surface-based source orientations...\n",
      "    [done]\n",
      "Computing inverse operator with 91 channels.\n",
      "    91 out of 91 channels remain after picking\n",
      "Selected 91 channels\n",
      "Creating the depth weighting matrix...\n",
      "    91 EEG channels\n",
      "    limit = 20485/20484 = 2.194331\n",
      "    scale = 146509 exp = 0.8\n",
      "Applying loose dipole orientations to surface source spaces: 0.2\n",
      "Whitening the forward solution.\n",
      "Computing rank from covariance with rank=None\n",
      "    Using tolerance 4.3e-05 (2.2e-16 eps * 91 dim * 2.1e+09  max singular value)\n",
      "    Estimated rank (eeg): 91\n",
      "    EEG: rank 91 computed from 91 data channels with 0 projectors\n",
      "    Setting small EEG eigenvalues to zero (without PCA)\n",
      "Creating the source covariance matrix\n",
      "Adjusting source covariance matrix.\n",
      "Computing SVD of whitened and weighted lead field matrix.\n"
     ]
    },
    {
     "output_type": "stream",
     "name": "stderr",
     "text": [
      "<ipython-input-19-555f416cc34f>:4: RuntimeWarning: No average EEG reference present in info[\"projs\"], covariance may be adversely affected. Consider recomputing covariance using with an average eeg reference projector added.\n",
      "  inverse_operator = mne.minimum_norm.make_inverse_operator(\n",
      "<ipython-input-19-555f416cc34f>:4: RuntimeWarning: No average EEG reference present in info[\"projs\"], covariance may be adversely affected. Consider recomputing covariance using with an average eeg reference projector added.\n",
      "  inverse_operator = mne.minimum_norm.make_inverse_operator(\n"
     ]
    },
    {
     "output_type": "stream",
     "name": "stdout",
     "text": [
      "    largest singular value = 6.06953\n",
      "    scaling factor to adjust the trace = 2.08079e+11 (nchan = 91 nzero = 0)\n",
      "Not setting metadata\n",
      "Not setting metadata\n",
      "2 matching events found\n",
      "No baseline correction applied\n",
      "0 projection items activated\n",
      "Considering frequencies 0 ... 40 Hz\n",
      "Preparing the inverse operator for use...\n",
      "    Scaled noise and source covariance from nave = 1 to nave = 1\n",
      "    Created the regularized inverter\n",
      "    The projection vectors do not apply to these channels.\n",
      "    Created the whitener using a noise covariance matrix with rank 91 (0 small eigenvalues omitted)\n",
      "    Computing optimized source covariance (eLORETA)...\n",
      "        Using independent orientation weights\n",
      "        Fitting up to 20 iterations (this make take a while)...\n",
      "        Converged on iteration 9 (3.3e-07 < 1e-06)\n",
      "        Updating inverse with weighted eigen leads\n",
      "[done]\n",
      "Picked 91 channels from the data\n",
      "Computing inverse...\n",
      "    Eigenleads already weighted ... \n",
      "Reducing data rank 91 -> 91\n",
      "Using hann windowing on at most 2 epochs\n"
     ]
    },
    {
     "output_type": "display_data",
     "data": {
      "application/vnd.jupyter.widget-view+json": {
       "model_id": "2bddde6d42e34ee6829c82c1b2d06660",
       "version_major": 2,
       "version_minor": 0
      },
      "text/plain": [
       "  0%|          |  : 0/2 [00:00<?,       ?it/s]"
      ]
     },
     "metadata": {}
    },
    {
     "output_type": "stream",
     "name": "stdout",
     "text": [
      "Using up to 20 segments\n",
      "Number of samples used : 2000\n",
      "[done]\n",
      "Converting forward solution to surface orientation\n",
      "    No patch info available. The standard source space normals will be employed in the rotation to the local surface coordinates....\n",
      "    Converting to surface-based source orientations...\n",
      "    [done]\n",
      "Computing inverse operator with 91 channels.\n",
      "    91 out of 91 channels remain after picking\n"
     ]
    },
    {
     "output_type": "stream",
     "name": "stderr",
     "text": [
      "<ipython-input-19-555f416cc34f>:23: RuntimeWarning: tmax is not in Evoked time interval. tmax is set to evoked.tmax (39.7949 sec)\n",
      "  data = sensor_psd.copy().crop(*limits).data.sum(axis=1, keepdims=True)\n"
     ]
    },
    {
     "output_type": "stream",
     "name": "stdout",
     "text": [
      "Selected 91 channels\n",
      "Creating the depth weighting matrix...\n",
      "    91 EEG channels\n",
      "    limit = 20485/20484 = 2.194331\n",
      "    scale = 146509 exp = 0.8\n",
      "Applying loose dipole orientations to surface source spaces: 0.2\n",
      "Whitening the forward solution.\n",
      "Computing rank from covariance with rank=None\n",
      "    Using tolerance 0.00012 (2.2e-16 eps * 91 dim * 6.2e+09  max singular value)\n",
      "    Estimated rank (eeg): 91\n",
      "    EEG: rank 91 computed from 91 data channels with 0 projectors\n",
      "    Setting small EEG eigenvalues to zero (without PCA)\n",
      "Creating the source covariance matrix\n",
      "Adjusting source covariance matrix.\n",
      "Computing SVD of whitened and weighted lead field matrix.\n"
     ]
    },
    {
     "output_type": "stream",
     "name": "stderr",
     "text": [
      "<ipython-input-19-555f416cc34f>:4: RuntimeWarning: No average EEG reference present in info[\"projs\"], covariance may be adversely affected. Consider recomputing covariance using with an average eeg reference projector added.\n",
      "  inverse_operator = mne.minimum_norm.make_inverse_operator(\n",
      "<ipython-input-19-555f416cc34f>:4: RuntimeWarning: No average EEG reference present in info[\"projs\"], covariance may be adversely affected. Consider recomputing covariance using with an average eeg reference projector added.\n",
      "  inverse_operator = mne.minimum_norm.make_inverse_operator(\n"
     ]
    },
    {
     "output_type": "stream",
     "name": "stdout",
     "text": [
      "    largest singular value = 6.0736\n",
      "    scaling factor to adjust the trace = 7.17508e+10 (nchan = 91 nzero = 0)\n",
      "Not setting metadata\n",
      "Not setting metadata\n",
      "2 matching events found\n",
      "No baseline correction applied\n",
      "0 projection items activated\n",
      "Considering frequencies 0 ... 40 Hz\n",
      "Preparing the inverse operator for use...\n",
      "    Scaled noise and source covariance from nave = 1 to nave = 1\n",
      "    Created the regularized inverter\n",
      "    The projection vectors do not apply to these channels.\n",
      "    Created the whitener using a noise covariance matrix with rank 91 (0 small eigenvalues omitted)\n",
      "    Computing optimized source covariance (eLORETA)...\n",
      "        Using independent orientation weights\n",
      "        Fitting up to 20 iterations (this make take a while)...\n",
      "        Converged on iteration 9 (2.9e-07 < 1e-06)\n",
      "        Updating inverse with weighted eigen leads\n",
      "[done]\n",
      "Picked 91 channels from the data\n",
      "Computing inverse...\n",
      "    Eigenleads already weighted ... \n",
      "Reducing data rank 91 -> 91\n",
      "Using hann windowing on at most 2 epochs\n"
     ]
    },
    {
     "output_type": "display_data",
     "data": {
      "application/vnd.jupyter.widget-view+json": {
       "model_id": "ed7377d8aea34de1ba812cc11dfe7776",
       "version_major": 2,
       "version_minor": 0
      },
      "text/plain": [
       "  0%|          |  : 0/2 [00:00<?,       ?it/s]"
      ]
     },
     "metadata": {}
    },
    {
     "output_type": "stream",
     "name": "stdout",
     "text": [
      "Using up to 20 segments\n",
      "Number of samples used : 2000\n",
      "[done]\n",
      "Converting forward solution to surface orientation\n",
      "    No patch info available. The standard source space normals will be employed in the rotation to the local surface coordinates....\n",
      "    Converting to surface-based source orientations...\n",
      "    [done]\n",
      "Computing inverse operator with 91 channels.\n",
      "    91 out of 91 channels remain after picking\n"
     ]
    },
    {
     "output_type": "stream",
     "name": "stderr",
     "text": [
      "<ipython-input-19-555f416cc34f>:23: RuntimeWarning: tmax is not in Evoked time interval. tmax is set to evoked.tmax (39.7949 sec)\n",
      "  data = sensor_psd.copy().crop(*limits).data.sum(axis=1, keepdims=True)\n"
     ]
    },
    {
     "output_type": "stream",
     "name": "stdout",
     "text": [
      "Selected 91 channels\n",
      "Creating the depth weighting matrix...\n",
      "    91 EEG channels\n",
      "    limit = 20485/20484 = 2.194331\n",
      "    scale = 146509 exp = 0.8\n",
      "Applying loose dipole orientations to surface source spaces: 0.2\n",
      "Whitening the forward solution.\n",
      "Computing rank from covariance with rank=None\n",
      "    Using tolerance 4.3e-05 (2.2e-16 eps * 91 dim * 2.2e+09  max singular value)\n",
      "    Estimated rank (eeg): 91\n",
      "    EEG: rank 91 computed from 91 data channels with 0 projectors\n",
      "    Setting small EEG eigenvalues to zero (without PCA)\n",
      "Creating the source covariance matrix\n",
      "Adjusting source covariance matrix.\n",
      "Computing SVD of whitened and weighted lead field matrix.\n"
     ]
    },
    {
     "output_type": "stream",
     "name": "stderr",
     "text": [
      "<ipython-input-19-555f416cc34f>:4: RuntimeWarning: No average EEG reference present in info[\"projs\"], covariance may be adversely affected. Consider recomputing covariance using with an average eeg reference projector added.\n",
      "  inverse_operator = mne.minimum_norm.make_inverse_operator(\n",
      "<ipython-input-19-555f416cc34f>:4: RuntimeWarning: No average EEG reference present in info[\"projs\"], covariance may be adversely affected. Consider recomputing covariance using with an average eeg reference projector added.\n",
      "  inverse_operator = mne.minimum_norm.make_inverse_operator(\n"
     ]
    },
    {
     "output_type": "stream",
     "name": "stdout",
     "text": [
      "    largest singular value = 5.72831\n",
      "    scaling factor to adjust the trace = 1.92601e+11 (nchan = 91 nzero = 0)\n",
      "Not setting metadata\n",
      "Not setting metadata\n",
      "2 matching events found\n",
      "No baseline correction applied\n",
      "0 projection items activated\n",
      "Considering frequencies 0 ... 40 Hz\n",
      "Preparing the inverse operator for use...\n",
      "    Scaled noise and source covariance from nave = 1 to nave = 1\n",
      "    Created the regularized inverter\n",
      "    The projection vectors do not apply to these channels.\n",
      "    Created the whitener using a noise covariance matrix with rank 91 (0 small eigenvalues omitted)\n",
      "    Computing optimized source covariance (eLORETA)...\n",
      "        Using independent orientation weights\n",
      "        Fitting up to 20 iterations (this make take a while)...\n",
      "        Converged on iteration 9 (3.8e-07 < 1e-06)\n",
      "        Updating inverse with weighted eigen leads\n",
      "[done]\n",
      "Picked 91 channels from the data\n",
      "Computing inverse...\n",
      "    Eigenleads already weighted ... \n",
      "Reducing data rank 91 -> 91\n",
      "Using hann windowing on at most 2 epochs\n"
     ]
    },
    {
     "output_type": "display_data",
     "data": {
      "application/vnd.jupyter.widget-view+json": {
       "model_id": "4d1f31378c6a4c8db152293c337b9952",
       "version_major": 2,
       "version_minor": 0
      },
      "text/plain": [
       "  0%|          |  : 0/2 [00:00<?,       ?it/s]"
      ]
     },
     "metadata": {}
    },
    {
     "output_type": "stream",
     "name": "stdout",
     "text": [
      "Using up to 20 segments\n",
      "Number of samples used : 2000\n",
      "[done]\n",
      "Converting forward solution to surface orientation\n",
      "    No patch info available. The standard source space normals will be employed in the rotation to the local surface coordinates....\n",
      "    Converting to surface-based source orientations...\n",
      "    [done]\n",
      "Computing inverse operator with 91 channels.\n",
      "    91 out of 91 channels remain after picking\n"
     ]
    },
    {
     "output_type": "stream",
     "name": "stderr",
     "text": [
      "<ipython-input-19-555f416cc34f>:23: RuntimeWarning: tmax is not in Evoked time interval. tmax is set to evoked.tmax (39.7949 sec)\n",
      "  data = sensor_psd.copy().crop(*limits).data.sum(axis=1, keepdims=True)\n"
     ]
    },
    {
     "output_type": "stream",
     "name": "stdout",
     "text": [
      "Selected 91 channels\n",
      "Creating the depth weighting matrix...\n",
      "    91 EEG channels\n",
      "    limit = 20485/20484 = 2.194331\n",
      "    scale = 146509 exp = 0.8\n",
      "Applying loose dipole orientations to surface source spaces: 0.2\n",
      "Whitening the forward solution.\n",
      "Computing rank from covariance with rank=None\n",
      "    Using tolerance 7.2e-05 (2.2e-16 eps * 91 dim * 3.6e+09  max singular value)\n",
      "    Estimated rank (eeg): 91\n",
      "    EEG: rank 91 computed from 91 data channels with 0 projectors\n",
      "    Setting small EEG eigenvalues to zero (without PCA)\n",
      "Creating the source covariance matrix\n",
      "Adjusting source covariance matrix.\n",
      "Computing SVD of whitened and weighted lead field matrix.\n"
     ]
    },
    {
     "output_type": "stream",
     "name": "stderr",
     "text": [
      "<ipython-input-19-555f416cc34f>:4: RuntimeWarning: No average EEG reference present in info[\"projs\"], covariance may be adversely affected. Consider recomputing covariance using with an average eeg reference projector added.\n",
      "  inverse_operator = mne.minimum_norm.make_inverse_operator(\n",
      "<ipython-input-19-555f416cc34f>:4: RuntimeWarning: No average EEG reference present in info[\"projs\"], covariance may be adversely affected. Consider recomputing covariance using with an average eeg reference projector added.\n",
      "  inverse_operator = mne.minimum_norm.make_inverse_operator(\n"
     ]
    },
    {
     "output_type": "stream",
     "name": "stdout",
     "text": [
      "    largest singular value = 6.05547\n",
      "    scaling factor to adjust the trace = 1.52748e+11 (nchan = 91 nzero = 0)\n",
      "Not setting metadata\n",
      "Not setting metadata\n",
      "2 matching events found\n",
      "No baseline correction applied\n",
      "0 projection items activated\n",
      "Considering frequencies 0 ... 40 Hz\n",
      "Preparing the inverse operator for use...\n",
      "    Scaled noise and source covariance from nave = 1 to nave = 1\n",
      "    Created the regularized inverter\n",
      "    The projection vectors do not apply to these channels.\n",
      "    Created the whitener using a noise covariance matrix with rank 91 (0 small eigenvalues omitted)\n",
      "    Computing optimized source covariance (eLORETA)...\n",
      "        Using independent orientation weights\n",
      "        Fitting up to 20 iterations (this make take a while)...\n",
      "        Converged on iteration 9 (2.7e-07 < 1e-06)\n",
      "        Updating inverse with weighted eigen leads\n",
      "[done]\n",
      "Picked 91 channels from the data\n",
      "Computing inverse...\n",
      "    Eigenleads already weighted ... \n",
      "Reducing data rank 91 -> 91\n",
      "Using hann windowing on at most 2 epochs\n"
     ]
    },
    {
     "output_type": "display_data",
     "data": {
      "application/vnd.jupyter.widget-view+json": {
       "model_id": "b8427890b96a41a69e59b9a922f657c6",
       "version_major": 2,
       "version_minor": 0
      },
      "text/plain": [
       "  0%|          |  : 0/2 [00:00<?,       ?it/s]"
      ]
     },
     "metadata": {}
    },
    {
     "output_type": "stream",
     "name": "stdout",
     "text": [
      "Using up to 20 segments\n",
      "Number of samples used : 2000\n",
      "[done]\n",
      "Converting forward solution to surface orientation\n",
      "    No patch info available. The standard source space normals will be employed in the rotation to the local surface coordinates....\n",
      "    Converting to surface-based source orientations...\n",
      "    [done]\n",
      "Computing inverse operator with 91 channels.\n",
      "    91 out of 91 channels remain after picking\n"
     ]
    },
    {
     "output_type": "stream",
     "name": "stderr",
     "text": [
      "<ipython-input-19-555f416cc34f>:23: RuntimeWarning: tmax is not in Evoked time interval. tmax is set to evoked.tmax (39.7949 sec)\n",
      "  data = sensor_psd.copy().crop(*limits).data.sum(axis=1, keepdims=True)\n"
     ]
    },
    {
     "output_type": "stream",
     "name": "stdout",
     "text": [
      "Selected 91 channels\n",
      "Creating the depth weighting matrix...\n",
      "    91 EEG channels\n",
      "    limit = 20485/20484 = 2.194331\n",
      "    scale = 146509 exp = 0.8\n",
      "Applying loose dipole orientations to surface source spaces: 0.2\n",
      "Whitening the forward solution.\n",
      "Computing rank from covariance with rank=None\n",
      "    Using tolerance 0.00025 (2.2e-16 eps * 91 dim * 1.3e+10  max singular value)\n",
      "    Estimated rank (eeg): 91\n",
      "    EEG: rank 91 computed from 91 data channels with 0 projectors\n",
      "    Setting small EEG eigenvalues to zero (without PCA)\n",
      "Creating the source covariance matrix\n",
      "Adjusting source covariance matrix.\n",
      "Computing SVD of whitened and weighted lead field matrix.\n"
     ]
    },
    {
     "output_type": "stream",
     "name": "stderr",
     "text": [
      "<ipython-input-19-555f416cc34f>:4: RuntimeWarning: No average EEG reference present in info[\"projs\"], covariance may be adversely affected. Consider recomputing covariance using with an average eeg reference projector added.\n",
      "  inverse_operator = mne.minimum_norm.make_inverse_operator(\n",
      "<ipython-input-19-555f416cc34f>:4: RuntimeWarning: No average EEG reference present in info[\"projs\"], covariance may be adversely affected. Consider recomputing covariance using with an average eeg reference projector added.\n",
      "  inverse_operator = mne.minimum_norm.make_inverse_operator(\n"
     ]
    },
    {
     "output_type": "stream",
     "name": "stdout",
     "text": [
      "    largest singular value = 5.72404\n",
      "    scaling factor to adjust the trace = 3.536e+10 (nchan = 91 nzero = 0)\n",
      "Not setting metadata\n",
      "Not setting metadata\n",
      "2 matching events found\n",
      "No baseline correction applied\n",
      "0 projection items activated\n",
      "Considering frequencies 0 ... 40 Hz\n",
      "Preparing the inverse operator for use...\n",
      "    Scaled noise and source covariance from nave = 1 to nave = 1\n",
      "    Created the regularized inverter\n",
      "    The projection vectors do not apply to these channels.\n",
      "    Created the whitener using a noise covariance matrix with rank 91 (0 small eigenvalues omitted)\n",
      "    Computing optimized source covariance (eLORETA)...\n",
      "        Using independent orientation weights\n",
      "        Fitting up to 20 iterations (this make take a while)...\n",
      "        Converged on iteration 9 (3.3e-07 < 1e-06)\n",
      "        Updating inverse with weighted eigen leads\n",
      "[done]\n",
      "Picked 91 channels from the data\n",
      "Computing inverse...\n",
      "    Eigenleads already weighted ... \n",
      "Reducing data rank 91 -> 91\n",
      "Using hann windowing on at most 2 epochs\n"
     ]
    },
    {
     "output_type": "display_data",
     "data": {
      "application/vnd.jupyter.widget-view+json": {
       "model_id": "2b8181670d0b463898ad6c4d0ae84227",
       "version_major": 2,
       "version_minor": 0
      },
      "text/plain": [
       "  0%|          |  : 0/2 [00:00<?,       ?it/s]"
      ]
     },
     "metadata": {}
    },
    {
     "output_type": "stream",
     "name": "stdout",
     "text": [
      "Using up to 20 segments\n",
      "Number of samples used : 2000\n",
      "[done]\n",
      "Converting forward solution to surface orientation\n",
      "    No patch info available. The standard source space normals will be employed in the rotation to the local surface coordinates....\n",
      "    Converting to surface-based source orientations...\n",
      "    [done]\n",
      "Computing inverse operator with 91 channels.\n",
      "    91 out of 91 channels remain after picking\n"
     ]
    },
    {
     "output_type": "stream",
     "name": "stderr",
     "text": [
      "<ipython-input-19-555f416cc34f>:23: RuntimeWarning: tmax is not in Evoked time interval. tmax is set to evoked.tmax (39.7949 sec)\n",
      "  data = sensor_psd.copy().crop(*limits).data.sum(axis=1, keepdims=True)\n"
     ]
    },
    {
     "output_type": "stream",
     "name": "stdout",
     "text": [
      "Selected 91 channels\n",
      "Creating the depth weighting matrix...\n",
      "    91 EEG channels\n",
      "    limit = 20485/20484 = 2.194331\n",
      "    scale = 146509 exp = 0.8\n",
      "Applying loose dipole orientations to surface source spaces: 0.2\n",
      "Whitening the forward solution.\n",
      "Computing rank from covariance with rank=None\n",
      "    Using tolerance 0.00049 (2.2e-16 eps * 91 dim * 2.4e+10  max singular value)\n",
      "    Estimated rank (eeg): 91\n",
      "    EEG: rank 91 computed from 91 data channels with 0 projectors\n",
      "    Setting small EEG eigenvalues to zero (without PCA)\n",
      "Creating the source covariance matrix\n",
      "Adjusting source covariance matrix.\n",
      "Computing SVD of whitened and weighted lead field matrix.\n"
     ]
    },
    {
     "output_type": "stream",
     "name": "stderr",
     "text": [
      "<ipython-input-19-555f416cc34f>:4: RuntimeWarning: No average EEG reference present in info[\"projs\"], covariance may be adversely affected. Consider recomputing covariance using with an average eeg reference projector added.\n",
      "  inverse_operator = mne.minimum_norm.make_inverse_operator(\n",
      "<ipython-input-19-555f416cc34f>:4: RuntimeWarning: No average EEG reference present in info[\"projs\"], covariance may be adversely affected. Consider recomputing covariance using with an average eeg reference projector added.\n",
      "  inverse_operator = mne.minimum_norm.make_inverse_operator(\n"
     ]
    },
    {
     "output_type": "stream",
     "name": "stdout",
     "text": [
      "    largest singular value = 5.62317\n",
      "    scaling factor to adjust the trace = 4.34874e+10 (nchan = 91 nzero = 0)\n",
      "Not setting metadata\n",
      "Not setting metadata\n",
      "2 matching events found\n",
      "No baseline correction applied\n",
      "0 projection items activated\n",
      "Considering frequencies 0 ... 40 Hz\n",
      "Preparing the inverse operator for use...\n",
      "    Scaled noise and source covariance from nave = 1 to nave = 1\n",
      "    Created the regularized inverter\n",
      "    The projection vectors do not apply to these channels.\n",
      "    Created the whitener using a noise covariance matrix with rank 91 (0 small eigenvalues omitted)\n",
      "    Computing optimized source covariance (eLORETA)...\n",
      "        Using independent orientation weights\n",
      "        Fitting up to 20 iterations (this make take a while)...\n",
      "        Converged on iteration 9 (6.8e-07 < 1e-06)\n",
      "        Updating inverse with weighted eigen leads\n",
      "[done]\n",
      "Picked 91 channels from the data\n",
      "Computing inverse...\n",
      "    Eigenleads already weighted ... \n",
      "Reducing data rank 91 -> 91\n",
      "Using hann windowing on at most 2 epochs\n"
     ]
    },
    {
     "output_type": "display_data",
     "data": {
      "application/vnd.jupyter.widget-view+json": {
       "model_id": "136fd459c9914fdda01580994d3556e5",
       "version_major": 2,
       "version_minor": 0
      },
      "text/plain": [
       "  0%|          |  : 0/2 [00:00<?,       ?it/s]"
      ]
     },
     "metadata": {}
    },
    {
     "output_type": "stream",
     "name": "stdout",
     "text": [
      "Using up to 20 segments\n",
      "Number of samples used : 2000\n",
      "[done]\n",
      "Converting forward solution to surface orientation\n",
      "    No patch info available. The standard source space normals will be employed in the rotation to the local surface coordinates....\n",
      "    Converting to surface-based source orientations...\n",
      "    [done]\n",
      "Computing inverse operator with 91 channels.\n",
      "    91 out of 91 channels remain after picking\n"
     ]
    },
    {
     "output_type": "stream",
     "name": "stderr",
     "text": [
      "<ipython-input-19-555f416cc34f>:23: RuntimeWarning: tmax is not in Evoked time interval. tmax is set to evoked.tmax (39.7949 sec)\n",
      "  data = sensor_psd.copy().crop(*limits).data.sum(axis=1, keepdims=True)\n"
     ]
    },
    {
     "output_type": "stream",
     "name": "stdout",
     "text": [
      "Selected 91 channels\n",
      "Creating the depth weighting matrix...\n",
      "    91 EEG channels\n",
      "    limit = 20485/20484 = 2.194331\n",
      "    scale = 146509 exp = 0.8\n",
      "Applying loose dipole orientations to surface source spaces: 0.2\n",
      "Whitening the forward solution.\n",
      "Computing rank from covariance with rank=None\n",
      "    Using tolerance 2.8e-05 (2.2e-16 eps * 91 dim * 1.4e+09  max singular value)\n",
      "    Estimated rank (eeg): 91\n",
      "    EEG: rank 91 computed from 91 data channels with 0 projectors\n",
      "    Setting small EEG eigenvalues to zero (without PCA)\n",
      "Creating the source covariance matrix\n",
      "Adjusting source covariance matrix.\n",
      "Computing SVD of whitened and weighted lead field matrix.\n"
     ]
    },
    {
     "output_type": "stream",
     "name": "stderr",
     "text": [
      "<ipython-input-19-555f416cc34f>:4: RuntimeWarning: No average EEG reference present in info[\"projs\"], covariance may be adversely affected. Consider recomputing covariance using with an average eeg reference projector added.\n",
      "  inverse_operator = mne.minimum_norm.make_inverse_operator(\n",
      "<ipython-input-19-555f416cc34f>:4: RuntimeWarning: No average EEG reference present in info[\"projs\"], covariance may be adversely affected. Consider recomputing covariance using with an average eeg reference projector added.\n",
      "  inverse_operator = mne.minimum_norm.make_inverse_operator(\n"
     ]
    },
    {
     "output_type": "stream",
     "name": "stdout",
     "text": [
      "    largest singular value = 6.02591\n",
      "    scaling factor to adjust the trace = 2.79296e+11 (nchan = 91 nzero = 0)\n",
      "Not setting metadata\n",
      "Not setting metadata\n",
      "2 matching events found\n",
      "No baseline correction applied\n",
      "0 projection items activated\n",
      "Considering frequencies 0 ... 40 Hz\n",
      "Preparing the inverse operator for use...\n",
      "    Scaled noise and source covariance from nave = 1 to nave = 1\n",
      "    Created the regularized inverter\n",
      "    The projection vectors do not apply to these channels.\n",
      "    Created the whitener using a noise covariance matrix with rank 91 (0 small eigenvalues omitted)\n",
      "    Computing optimized source covariance (eLORETA)...\n",
      "        Using independent orientation weights\n",
      "        Fitting up to 20 iterations (this make take a while)...\n",
      "        Converged on iteration 8 (7.7e-07 < 1e-06)\n",
      "        Updating inverse with weighted eigen leads\n",
      "[done]\n",
      "Picked 91 channels from the data\n",
      "Computing inverse...\n",
      "    Eigenleads already weighted ... \n",
      "Reducing data rank 91 -> 91\n",
      "Using hann windowing on at most 2 epochs\n"
     ]
    },
    {
     "output_type": "display_data",
     "data": {
      "application/vnd.jupyter.widget-view+json": {
       "model_id": "f9cfc8dd1c4d47b2a7f79c1421b3e465",
       "version_major": 2,
       "version_minor": 0
      },
      "text/plain": [
       "  0%|          |  : 0/2 [00:00<?,       ?it/s]"
      ]
     },
     "metadata": {}
    },
    {
     "output_type": "stream",
     "name": "stdout",
     "text": [
      "Using up to 20 segments\n",
      "Number of samples used : 2000\n",
      "[done]\n",
      "Converting forward solution to surface orientation\n",
      "    No patch info available. The standard source space normals will be employed in the rotation to the local surface coordinates....\n",
      "    Converting to surface-based source orientations...\n",
      "    [done]\n",
      "Computing inverse operator with 91 channels.\n",
      "    91 out of 91 channels remain after picking\n"
     ]
    },
    {
     "output_type": "stream",
     "name": "stderr",
     "text": [
      "<ipython-input-19-555f416cc34f>:23: RuntimeWarning: tmax is not in Evoked time interval. tmax is set to evoked.tmax (39.7949 sec)\n",
      "  data = sensor_psd.copy().crop(*limits).data.sum(axis=1, keepdims=True)\n"
     ]
    },
    {
     "output_type": "stream",
     "name": "stdout",
     "text": [
      "Selected 91 channels\n",
      "Creating the depth weighting matrix...\n",
      "    91 EEG channels\n",
      "    limit = 20485/20484 = 2.194331\n",
      "    scale = 146509 exp = 0.8\n",
      "Applying loose dipole orientations to surface source spaces: 0.2\n",
      "Whitening the forward solution.\n",
      "Computing rank from covariance with rank=None\n",
      "    Using tolerance 5.5e-05 (2.2e-16 eps * 91 dim * 2.7e+09  max singular value)\n",
      "    Estimated rank (eeg): 91\n",
      "    EEG: rank 91 computed from 91 data channels with 0 projectors\n",
      "    Setting small EEG eigenvalues to zero (without PCA)\n",
      "Creating the source covariance matrix\n",
      "Adjusting source covariance matrix.\n",
      "Computing SVD of whitened and weighted lead field matrix.\n"
     ]
    },
    {
     "output_type": "stream",
     "name": "stderr",
     "text": [
      "<ipython-input-19-555f416cc34f>:4: RuntimeWarning: No average EEG reference present in info[\"projs\"], covariance may be adversely affected. Consider recomputing covariance using with an average eeg reference projector added.\n",
      "  inverse_operator = mne.minimum_norm.make_inverse_operator(\n",
      "<ipython-input-19-555f416cc34f>:4: RuntimeWarning: No average EEG reference present in info[\"projs\"], covariance may be adversely affected. Consider recomputing covariance using with an average eeg reference projector added.\n",
      "  inverse_operator = mne.minimum_norm.make_inverse_operator(\n"
     ]
    },
    {
     "output_type": "stream",
     "name": "stdout",
     "text": [
      "    largest singular value = 6.07496\n",
      "    scaling factor to adjust the trace = 1.29124e+11 (nchan = 91 nzero = 0)\n",
      "Not setting metadata\n",
      "Not setting metadata\n",
      "2 matching events found\n",
      "No baseline correction applied\n",
      "0 projection items activated\n",
      "Considering frequencies 0 ... 40 Hz\n",
      "Preparing the inverse operator for use...\n",
      "    Scaled noise and source covariance from nave = 1 to nave = 1\n",
      "    Created the regularized inverter\n",
      "    The projection vectors do not apply to these channels.\n",
      "    Created the whitener using a noise covariance matrix with rank 91 (0 small eigenvalues omitted)\n",
      "    Computing optimized source covariance (eLORETA)...\n",
      "        Using independent orientation weights\n",
      "        Fitting up to 20 iterations (this make take a while)...\n",
      "        Converged on iteration 9 (3.4e-07 < 1e-06)\n",
      "        Updating inverse with weighted eigen leads\n",
      "[done]\n",
      "Picked 91 channels from the data\n",
      "Computing inverse...\n",
      "    Eigenleads already weighted ... \n",
      "Reducing data rank 91 -> 91\n",
      "Using hann windowing on at most 2 epochs\n"
     ]
    },
    {
     "output_type": "display_data",
     "data": {
      "application/vnd.jupyter.widget-view+json": {
       "model_id": "e3e564ac68384403ae5f8a08da78a2ab",
       "version_major": 2,
       "version_minor": 0
      },
      "text/plain": [
       "  0%|          |  : 0/2 [00:00<?,       ?it/s]"
      ]
     },
     "metadata": {}
    },
    {
     "output_type": "stream",
     "name": "stdout",
     "text": [
      "Using up to 20 segments\n",
      "Number of samples used : 2000\n",
      "[done]\n",
      "Converting forward solution to surface orientation\n",
      "    No patch info available. The standard source space normals will be employed in the rotation to the local surface coordinates....\n",
      "    Converting to surface-based source orientations...\n",
      "    [done]\n",
      "Computing inverse operator with 91 channels.\n",
      "    91 out of 91 channels remain after picking\n"
     ]
    },
    {
     "output_type": "stream",
     "name": "stderr",
     "text": [
      "<ipython-input-19-555f416cc34f>:23: RuntimeWarning: tmax is not in Evoked time interval. tmax is set to evoked.tmax (39.7949 sec)\n",
      "  data = sensor_psd.copy().crop(*limits).data.sum(axis=1, keepdims=True)\n"
     ]
    },
    {
     "output_type": "stream",
     "name": "stdout",
     "text": [
      "Selected 91 channels\n",
      "Creating the depth weighting matrix...\n",
      "    91 EEG channels\n",
      "    limit = 20485/20484 = 2.194331\n",
      "    scale = 146509 exp = 0.8\n",
      "Applying loose dipole orientations to surface source spaces: 0.2\n",
      "Whitening the forward solution.\n",
      "Computing rank from covariance with rank=None\n",
      "    Using tolerance 4.5e-05 (2.2e-16 eps * 91 dim * 2.2e+09  max singular value)\n",
      "    Estimated rank (eeg): 91\n",
      "    EEG: rank 91 computed from 91 data channels with 0 projectors\n",
      "    Setting small EEG eigenvalues to zero (without PCA)\n",
      "Creating the source covariance matrix\n",
      "Adjusting source covariance matrix.\n",
      "Computing SVD of whitened and weighted lead field matrix.\n"
     ]
    },
    {
     "output_type": "stream",
     "name": "stderr",
     "text": [
      "<ipython-input-19-555f416cc34f>:4: RuntimeWarning: No average EEG reference present in info[\"projs\"], covariance may be adversely affected. Consider recomputing covariance using with an average eeg reference projector added.\n",
      "  inverse_operator = mne.minimum_norm.make_inverse_operator(\n",
      "<ipython-input-19-555f416cc34f>:4: RuntimeWarning: No average EEG reference present in info[\"projs\"], covariance may be adversely affected. Consider recomputing covariance using with an average eeg reference projector added.\n",
      "  inverse_operator = mne.minimum_norm.make_inverse_operator(\n"
     ]
    },
    {
     "output_type": "stream",
     "name": "stdout",
     "text": [
      "    largest singular value = 5.50177\n",
      "    scaling factor to adjust the trace = 1.53286e+11 (nchan = 91 nzero = 0)\n",
      "Not setting metadata\n",
      "Not setting metadata\n",
      "2 matching events found\n",
      "No baseline correction applied\n",
      "0 projection items activated\n",
      "Considering frequencies 0 ... 40 Hz\n",
      "Preparing the inverse operator for use...\n",
      "    Scaled noise and source covariance from nave = 1 to nave = 1\n",
      "    Created the regularized inverter\n",
      "    The projection vectors do not apply to these channels.\n",
      "    Created the whitener using a noise covariance matrix with rank 91 (0 small eigenvalues omitted)\n",
      "    Computing optimized source covariance (eLORETA)...\n",
      "        Using independent orientation weights\n",
      "        Fitting up to 20 iterations (this make take a while)...\n",
      "        Converged on iteration 8 (8.7e-07 < 1e-06)\n",
      "        Updating inverse with weighted eigen leads\n",
      "[done]\n",
      "Picked 91 channels from the data\n",
      "Computing inverse...\n",
      "    Eigenleads already weighted ... \n",
      "Reducing data rank 91 -> 91\n",
      "Using hann windowing on at most 2 epochs\n"
     ]
    },
    {
     "output_type": "display_data",
     "data": {
      "application/vnd.jupyter.widget-view+json": {
       "model_id": "b101ab8d4ee04c97bf91f68a6b98258b",
       "version_major": 2,
       "version_minor": 0
      },
      "text/plain": [
       "  0%|          |  : 0/2 [00:00<?,       ?it/s]"
      ]
     },
     "metadata": {}
    },
    {
     "output_type": "stream",
     "name": "stdout",
     "text": [
      "Using up to 20 segments\n",
      "Number of samples used : 2000\n",
      "[done]\n",
      "Converting forward solution to surface orientation\n",
      "    No patch info available. The standard source space normals will be employed in the rotation to the local surface coordinates....\n",
      "    Converting to surface-based source orientations...\n",
      "    [done]\n",
      "Computing inverse operator with 91 channels.\n",
      "    91 out of 91 channels remain after picking\n"
     ]
    },
    {
     "output_type": "stream",
     "name": "stderr",
     "text": [
      "<ipython-input-19-555f416cc34f>:23: RuntimeWarning: tmax is not in Evoked time interval. tmax is set to evoked.tmax (39.7949 sec)\n",
      "  data = sensor_psd.copy().crop(*limits).data.sum(axis=1, keepdims=True)\n"
     ]
    },
    {
     "output_type": "stream",
     "name": "stdout",
     "text": [
      "Selected 91 channels\n",
      "Creating the depth weighting matrix...\n",
      "    91 EEG channels\n",
      "    limit = 20485/20484 = 2.194331\n",
      "    scale = 146509 exp = 0.8\n",
      "Applying loose dipole orientations to surface source spaces: 0.2\n",
      "Whitening the forward solution.\n",
      "Computing rank from covariance with rank=None\n",
      "    Using tolerance 0.00042 (2.2e-16 eps * 91 dim * 2.1e+10  max singular value)\n",
      "    Estimated rank (eeg): 91\n",
      "    EEG: rank 91 computed from 91 data channels with 0 projectors\n",
      "    Setting small EEG eigenvalues to zero (without PCA)\n",
      "Creating the source covariance matrix\n",
      "Adjusting source covariance matrix.\n",
      "Computing SVD of whitened and weighted lead field matrix.\n"
     ]
    },
    {
     "output_type": "stream",
     "name": "stderr",
     "text": [
      "<ipython-input-19-555f416cc34f>:4: RuntimeWarning: No average EEG reference present in info[\"projs\"], covariance may be adversely affected. Consider recomputing covariance using with an average eeg reference projector added.\n",
      "  inverse_operator = mne.minimum_norm.make_inverse_operator(\n",
      "<ipython-input-19-555f416cc34f>:4: RuntimeWarning: No average EEG reference present in info[\"projs\"], covariance may be adversely affected. Consider recomputing covariance using with an average eeg reference projector added.\n",
      "  inverse_operator = mne.minimum_norm.make_inverse_operator(\n"
     ]
    },
    {
     "output_type": "stream",
     "name": "stdout",
     "text": [
      "    largest singular value = 6.04451\n",
      "    scaling factor to adjust the trace = 5.94789e+10 (nchan = 91 nzero = 0)\n",
      "Not setting metadata\n",
      "Not setting metadata\n",
      "2 matching events found\n",
      "No baseline correction applied\n",
      "0 projection items activated\n",
      "Considering frequencies 0 ... 40 Hz\n",
      "Preparing the inverse operator for use...\n",
      "    Scaled noise and source covariance from nave = 1 to nave = 1\n",
      "    Created the regularized inverter\n",
      "    The projection vectors do not apply to these channels.\n",
      "    Created the whitener using a noise covariance matrix with rank 91 (0 small eigenvalues omitted)\n",
      "    Computing optimized source covariance (eLORETA)...\n",
      "        Using independent orientation weights\n",
      "        Fitting up to 20 iterations (this make take a while)...\n",
      "        Converged on iteration 9 (3e-07 < 1e-06)\n",
      "        Updating inverse with weighted eigen leads\n",
      "[done]\n",
      "Picked 91 channels from the data\n",
      "Computing inverse...\n",
      "    Eigenleads already weighted ... \n",
      "Reducing data rank 91 -> 91\n",
      "Using hann windowing on at most 2 epochs\n"
     ]
    },
    {
     "output_type": "display_data",
     "data": {
      "application/vnd.jupyter.widget-view+json": {
       "model_id": "287197ae26924a2b991ceb34036933be",
       "version_major": 2,
       "version_minor": 0
      },
      "text/plain": [
       "  0%|          |  : 0/2 [00:00<?,       ?it/s]"
      ]
     },
     "metadata": {}
    },
    {
     "output_type": "stream",
     "name": "stdout",
     "text": [
      "Effective window size : 4.000 (s)\n",
      "Effective window size : 4.000 (s)\n",
      "Effective window size : 4.000 (s)\n",
      "Effective window size : 4.000 (s)\n",
      "Effective window size : 4.000 (s)\n",
      "Effective window size : 4.000 (s)\n",
      "Effective window size : 4.000 (s)\n",
      "Effective window size : 4.000 (s)\n",
      "Effective window size : 4.000 (s)\n",
      "Effective window size : 4.000 (s)\n",
      "Effective window size : 4.000 (s)\n",
      "Effective window size : 4.000 (s)\n",
      "Effective window size : 4.000 (s)\n",
      "Effective window size : 4.000 (s)\n",
      "Effective window size : 4.000 (s)\n",
      "Effective window size : 4.000 (s)\n",
      "Effective window size : 4.000 (s)\n",
      "Effective window size : 4.000 (s)\n",
      "Effective window size : 4.000 (s)\n",
      "Effective window size : 4.000 (s)\n"
     ]
    },
    {
     "output_type": "stream",
     "name": "stderr",
     "text": [
      "<ipython-input-19-555f416cc34f>:23: RuntimeWarning: tmax is not in Evoked time interval. tmax is set to evoked.tmax (39.7949 sec)\n",
      "  data = sensor_psd.copy().crop(*limits).data.sum(axis=1, keepdims=True)\n"
     ]
    }
   ],
   "metadata": {
    "scrolled": true
   }
  },
  {
   "cell_type": "code",
   "execution_count": 86,
   "source": [
    "freqs"
   ],
   "outputs": [
    {
     "output_type": "execute_result",
     "data": {
      "text/plain": [
       "[array([[[-6.47500270e-02,  7.23756252e-01,  2.59571305e-01,\n",
       "           4.70569322e-01,  3.57970217e-01,  1.56902605e-02,\n",
       "          -1.05657058e-01,  4.71358474e-02,  1.17714853e-01,\n",
       "           5.24074310e-02, -7.38054946e-02, -5.60395706e-02,\n",
       "           3.34151194e-02, -6.53080673e-03, -1.02443057e-02,\n",
       "           2.03294985e-02, -1.65520641e-02,  1.37933597e-01,\n",
       "           1.38272267e-01,  4.12522641e-03,  2.63956611e-03,\n",
       "          -6.67834167e-03,  5.08751735e-02,  2.88571576e-02,\n",
       "           5.23443126e-03,  7.85343428e-03,  6.35761356e-03,\n",
       "           3.12313590e-02, -4.19662927e-03, -1.33518386e-03,\n",
       "          -6.61341828e-03,  6.63729613e-03, -1.16633943e-03,\n",
       "           2.57636853e-02,  4.25689881e-02, -1.84169199e-02,\n",
       "          -6.26610515e-03,  1.17262513e-02, -3.44358969e-02,\n",
       "           8.55485221e-03,  3.25197041e-02, -1.81523128e-02,\n",
       "          -1.44739253e-02,  3.44094653e-03, -6.34464945e-03,\n",
       "          -1.74587734e-02, -3.09771950e-02,  2.14603333e-04,\n",
       "          -2.93192972e-02, -4.01913302e-02, -1.26744592e-02,\n",
       "           4.38720509e-03, -9.68393451e-03,  1.21335595e-03,\n",
       "           1.03268258e-02, -3.81824622e-03,  3.06753338e-02,\n",
       "           3.67524945e-02,  2.65442155e-03, -1.60470720e-03,\n",
       "           4.31357518e-03,  5.59153389e-03,  1.73295507e-04,\n",
       "           3.75849595e-03, -2.33473146e-03, -2.65926111e-03,\n",
       "          -4.23252547e-03,  2.08542860e-03,  9.03669406e-04,\n",
       "          -1.51200917e-03,  2.30811069e-04,  2.72132774e-03,\n",
       "           9.31588670e-04,  9.68784996e-05,  6.21289742e-03,\n",
       "          -4.27700228e-03, -1.71291825e-03, -9.21277874e-03,\n",
       "          -2.14957840e-04,  1.78072812e-02,  9.41870383e-03,\n",
       "          -3.27304082e-03, -8.67169090e-04, -1.00409365e-02,\n",
       "          -5.06562352e-03, -4.83105869e-03,  2.04256196e-03,\n",
       "           3.53099496e-03, -1.10612668e-03, -2.54792320e-03,\n",
       "           3.99489030e-03,  2.67944439e-03,  1.57367894e-03,\n",
       "          -3.16717385e-03, -3.24329636e-03, -3.26700044e-03,\n",
       "          -4.38282349e-03, -5.14447052e-03, -3.07228064e-04,\n",
       "           1.27358469e-03,  2.66248608e-03,  2.42262303e-03,\n",
       "          -6.07967601e-03, -6.21981412e-03,  1.31093329e-04,\n",
       "           1.83197402e-04,  2.23645711e-03, -7.25972979e-04,\n",
       "          -2.21796243e-03,  8.95762802e-04, -8.07219251e-04,\n",
       "          -1.77594893e-03,  4.96459084e-04,  4.49352015e-04,\n",
       "           1.30755208e-03,  2.79897931e-03,  1.33870631e-03,\n",
       "          -2.20730783e-03,  9.88506884e-04,  1.74894586e-03,\n",
       "           1.43344724e-03, -1.45476230e-03,  1.50662198e-03,\n",
       "          -1.91052797e-04, -1.43234223e-04,  4.25995502e-04,\n",
       "           1.53552932e-03,  7.87817007e-04,  6.11006605e-04,\n",
       "           1.88920078e-04,  5.03500609e-04,  5.54423963e-04,\n",
       "           9.22254302e-04,  1.33655248e-03,  8.87763788e-04,\n",
       "           2.75260426e-03,  2.03056267e-03, -1.16449045e-03,\n",
       "          -1.38409752e-03, -1.00984228e-03, -9.56979507e-04,\n",
       "          -1.08582599e-03, -1.16204435e-04,  7.52160306e-05,\n",
       "           3.66760938e-04, -3.73763782e-04, -1.63056858e-03,\n",
       "           5.38220246e-04,  4.23174846e-04,  4.02280517e-04,\n",
       "          -4.25065501e-04,  1.07964069e-04,  2.48985771e-05,\n",
       "           2.40123799e-04,  2.84544856e-04, -3.28496466e-04,\n",
       "          -2.83937111e-04,  4.00968130e-04,  5.05707628e-04,\n",
       "          -2.81094010e-05, -3.80847674e-04]]]),\n",
       " array([[[-9.68983859e-02,  2.93132447e+00,  1.65257793e-01,\n",
       "          -1.09519677e-01, -2.28695200e+00, -1.82420812e+00,\n",
       "           8.02569611e-02, -1.24709366e-02, -2.74627653e-01,\n",
       "          -3.46128080e-02, -5.17058973e-02, -2.74768143e-02,\n",
       "          -3.65635838e-02,  2.11866841e-02, -1.26309504e-02,\n",
       "          -2.08840524e-02,  2.86988124e-02, -6.39862515e-02,\n",
       "          -2.49646639e-02,  8.81367303e-02,  1.97159298e-01,\n",
       "           1.16406550e-02, -6.99993997e-02, -6.69765816e-02,\n",
       "          -4.91775338e-02, -1.19720247e-03, -1.12418625e-01,\n",
       "          -1.61117720e-01, -2.38945889e-01, -1.84546993e-02,\n",
       "           2.28072737e-02, -1.35807684e-02,  4.60434690e-02,\n",
       "          -4.93826461e-02, -1.10596213e-02,  2.96901050e-02,\n",
       "           4.33416745e-02,  9.73914885e-03,  1.88702712e-02,\n",
       "           1.25941155e-02,  2.36423617e-02,  4.23344654e-02,\n",
       "           2.77783989e-02,  2.84085312e-02,  4.21500640e-02,\n",
       "           7.23652524e-03,  2.85179113e-02, -1.77140761e-02,\n",
       "           3.32539639e-02, -3.49054191e-03,  2.37353727e-02,\n",
       "           1.06195856e-02, -1.22542171e-02,  1.81498360e-02,\n",
       "          -1.79058174e-02, -4.18241041e-02, -3.21125108e-02,\n",
       "          -3.42642806e-02, -5.86676973e-03,  6.46152464e-03,\n",
       "          -1.52711140e-04,  8.65193936e-04, -6.22608536e-04,\n",
       "          -4.27705500e-03, -3.07530360e-02, -1.47216081e-02,\n",
       "          -1.70471019e-03,  1.72068380e-02,  6.69202533e-03,\n",
       "          -3.14042225e-03, -3.04128735e-02, -5.61089936e-02,\n",
       "          -1.86484015e-02,  1.45708824e-02, -1.24308712e-03,\n",
       "          -1.37627466e-02,  4.73454221e-03, -4.28641514e-03,\n",
       "           2.23573358e-03, -9.51852260e-03, -2.24506459e-04,\n",
       "          -2.00001512e-03, -6.05323454e-04,  1.30040428e-02,\n",
       "           8.30854612e-03, -6.28835441e-03, -1.63326573e-03,\n",
       "           8.69436191e-05,  6.43739483e-04, -1.31456529e-02,\n",
       "          -6.60814014e-03,  7.29838041e-03,  1.58136026e-02,\n",
       "           8.46842536e-03,  8.19410423e-04,  8.83008493e-04,\n",
       "          -3.58968220e-03, -3.09527665e-03,  1.77196341e-03,\n",
       "          -1.12597308e-02, -1.40116469e-02, -9.09644444e-03,\n",
       "          -6.66438944e-03, -8.26452714e-03, -4.41682586e-03,\n",
       "           1.59824745e-04, -4.61501810e-03, -4.01625851e-03,\n",
       "          -9.53601585e-04, -1.61382325e-03, -7.11589416e-03,\n",
       "          -4.59923990e-03,  4.61523099e-03,  1.80632261e-03,\n",
       "           1.93097714e-04,  7.95698364e-04,  4.28253983e-04,\n",
       "          -1.03988624e-02, -4.07302647e-04, -6.62289113e-03,\n",
       "          -8.26517162e-03, -6.12068958e-04,  2.48405755e-04,\n",
       "           3.91070949e-03, -3.79516142e-04, -1.74706108e-03,\n",
       "          -2.31116349e-03,  5.88831712e-03,  7.74044735e-03,\n",
       "           1.79480864e-03,  1.37266278e-03,  5.77449791e-03,\n",
       "           4.72197071e-03,  8.95612575e-03,  3.08558729e-03,\n",
       "           4.69665226e-03,  4.23348675e-03,  6.80339784e-03,\n",
       "           3.79223744e-03,  1.50297558e-03,  3.66441697e-03,\n",
       "           6.77970134e-04,  1.94009780e-03,  2.62971903e-03,\n",
       "           2.22460064e-03, -5.09686331e-03, -4.73565752e-03,\n",
       "          -1.27242630e-03, -4.31765949e-03, -2.82152445e-03,\n",
       "          -7.56057561e-04, -1.24554360e-04, -2.68333045e-03,\n",
       "          -1.91225717e-03, -3.41577300e-03,  2.20835290e-04,\n",
       "          -4.26833834e-03, -4.60133173e-04, -2.45504526e-03,\n",
       "          -3.38821326e-03,  3.09141581e-04]]]),\n",
       " array([[[ 6.23131099e-03,  6.33486064e-02, -1.12894991e-01,\n",
       "           4.08336469e-02,  3.59998177e-01,  1.54806303e-02,\n",
       "           5.36830937e-02,  4.46114510e-03,  7.34970469e-02,\n",
       "           9.14743515e-04, -4.64214715e-03,  7.91194126e-03,\n",
       "          -6.42158307e-04,  2.91939461e-02,  2.23676392e-02,\n",
       "           8.02658746e-03,  1.14797401e-02, -1.23483752e-03,\n",
       "          -8.01508088e-04, -1.39527903e-03,  2.47444832e-03,\n",
       "          -9.81466314e-04, -5.25936526e-03,  4.35154721e-04,\n",
       "          -4.37083584e-03, -6.55979203e-03, -2.88746355e-04,\n",
       "           1.49962992e-03,  8.91974371e-03,  1.34729755e-03,\n",
       "           2.37768245e-03,  1.83158820e-03,  3.51629721e-03,\n",
       "           4.92853594e-04, -7.94895179e-04, -1.28633143e-03,\n",
       "           5.02044770e-04, -7.65133932e-04,  1.22694192e-04,\n",
       "           3.44382934e-03, -6.05939608e-04, -7.43756226e-04,\n",
       "          -6.88941895e-04, -8.29688017e-04,  1.72912314e-03,\n",
       "          -1.49512450e-04,  4.43935566e-04,  9.98109607e-04,\n",
       "           7.74291274e-05, -1.17718733e-04, -1.88595017e-03,\n",
       "          -1.94872072e-03, -9.52155529e-04,  6.12287910e-04,\n",
       "           2.36234273e-04,  5.62256734e-04, -2.64000456e-04,\n",
       "          -8.77728945e-04,  8.91097959e-04,  1.46089695e-03,\n",
       "           6.50232541e-04, -2.45054982e-04,  5.01917582e-05,\n",
       "          -1.72845807e-04,  6.86206625e-04, -2.93292493e-04,\n",
       "          -1.70975065e-04,  1.26526748e-06,  7.39739495e-04,\n",
       "           8.73569661e-04,  2.97892733e-04, -6.93115503e-04,\n",
       "           2.97022722e-04,  1.37703007e-05,  2.88858248e-04,\n",
       "           1.69376775e-03,  3.85199004e-04,  3.96083657e-04,\n",
       "           1.56785307e-04,  4.05136901e-04,  1.36317767e-04,\n",
       "           2.79652321e-04,  1.19658013e-03,  4.74220456e-04,\n",
       "          -8.22173065e-04, -8.46378191e-04, -3.63047716e-04,\n",
       "          -1.34348947e-04, -1.33890459e-03, -8.68207696e-04,\n",
       "          -3.99505448e-04, -5.63956366e-04, -1.76785991e-05,\n",
       "           5.96490727e-04,  1.48638023e-03,  1.51783798e-03,\n",
       "           2.99489905e-04, -6.88727458e-04,  1.21052682e-04,\n",
       "          -1.12049139e-03, -1.03227791e-04, -1.61260434e-04,\n",
       "           1.54791959e-04,  2.94915826e-04,  3.88374462e-04,\n",
       "           3.44890356e-04,  2.78197496e-04, -2.77712704e-04,\n",
       "          -4.14128767e-04, -1.37436060e-04,  9.18313659e-04,\n",
       "           1.37953482e-04,  1.43517941e-05,  4.18336948e-04,\n",
       "           2.86879706e-04,  2.50750796e-04,  3.53635568e-04,\n",
       "           3.64529980e-04,  2.94758330e-04, -1.03086781e-04,\n",
       "           6.75433417e-05,  7.81129716e-04,  1.31419311e-03,\n",
       "          -2.65746565e-04,  1.86991399e-04, -3.03914496e-04,\n",
       "          -2.09007649e-04,  1.69344417e-04, -5.37658501e-04,\n",
       "           3.32519250e-04, -9.56406275e-05, -6.74062386e-06,\n",
       "           2.91405626e-04,  7.47385153e-04,  2.13520680e-04,\n",
       "           1.01812917e-03, -1.38636443e-04, -1.57526583e-04,\n",
       "          -5.63222816e-05, -1.19158435e-04,  2.64099804e-04,\n",
       "           1.09847040e-04, -7.81423483e-05,  1.63291498e-05,\n",
       "           3.58586628e-04,  1.36336698e-03, -3.90821986e-05,\n",
       "           6.21861332e-04,  1.91208702e-04,  5.18971706e-04,\n",
       "           2.37705128e-04,  1.50209367e-04,  1.44446491e-04,\n",
       "          -2.77626003e-04, -5.64664897e-04, -7.74653093e-04,\n",
       "          -2.43107048e-04, -2.17599840e-04,  1.46328581e-05,\n",
       "           8.05540156e-05, -1.03592689e-04]]]),\n",
       " array([[[ 1.48775433e-02, -4.49658389e-01,  7.94143592e-01,\n",
       "           9.29879040e-01,  3.53097309e-01, -2.00681710e-01,\n",
       "          -4.23960789e-01, -5.82634825e-02,  1.25268327e-02,\n",
       "           2.08344158e-02, -2.12278620e-02, -3.67767361e-02,\n",
       "           2.62303710e-02,  2.92942756e-02, -9.26065284e-03,\n",
       "           2.77074016e-02, -4.63349901e-02, -2.81271800e-03,\n",
       "          -2.24386190e-02,  1.14430289e-02,  9.96862038e-04,\n",
       "           1.75374499e-03, -4.47752946e-03, -1.33666856e-02,\n",
       "          -3.12908372e-02, -4.27809871e-03,  7.03344553e-04,\n",
       "           1.37668448e-02,  1.53427876e-02, -4.50956171e-03,\n",
       "          -1.29375363e-02,  2.85500109e-03, -9.94851374e-04,\n",
       "          -2.35204424e-03, -1.73344184e-02, -7.76940331e-03,\n",
       "           4.71940224e-03, -6.42247008e-03, -1.65440543e-02,\n",
       "           9.93767787e-04,  2.28026927e-03,  2.85310324e-03,\n",
       "           1.56771403e-03, -7.27630661e-03, -2.32391895e-03,\n",
       "          -1.11647443e-03, -4.64264241e-04,  3.43532969e-04,\n",
       "           1.25698707e-04, -6.81133648e-04,  3.51466704e-03,\n",
       "           1.32562184e-04, -3.96609465e-05, -1.43204428e-03,\n",
       "          -1.79819593e-03, -5.15114877e-03, -5.35905093e-03,\n",
       "          -3.02847261e-03, -2.02641788e-04,  7.86907637e-04,\n",
       "           1.85018353e-03, -2.10730432e-04, -4.18306236e-04,\n",
       "          -1.51438022e-03, -1.90568321e-03, -7.19258151e-04,\n",
       "          -8.12646189e-03, -4.76180860e-03,  6.30098366e-04,\n",
       "           9.56519602e-04,  2.23315807e-03, -1.40436968e-03,\n",
       "          -7.46129846e-04, -5.17756799e-04, -1.16516758e-03,\n",
       "           1.00459015e-03, -9.08050712e-05,  8.55587267e-04,\n",
       "           1.26488803e-03, -8.23327695e-04,  4.11105831e-04,\n",
       "          -5.57838170e-04,  1.18687788e-03,  1.02845385e-03,\n",
       "          -1.42301592e-03, -5.13013943e-04, -1.52917922e-04,\n",
       "          -2.08431539e-03,  3.71387340e-04, -1.99010763e-05,\n",
       "           7.51307138e-04, -3.34150747e-04,  2.19094333e-03,\n",
       "          -2.55801382e-03, -1.71645640e-03,  2.42182099e-04,\n",
       "           1.78315070e-04,  1.40969970e-04, -1.41406520e-03,\n",
       "           7.47698277e-04,  3.89117061e-03,  4.46983118e-03,\n",
       "           2.85228582e-03,  6.74623484e-04,  3.40610752e-04,\n",
       "          -2.64122583e-03, -1.49107933e-03,  1.03965630e-03,\n",
       "          -2.02382001e-03,  1.15195545e-04, -5.27769473e-04,\n",
       "          -1.24167139e-03, -1.94882148e-03,  5.92286836e-04,\n",
       "           1.14696905e-03,  3.90400333e-04,  7.81779740e-05,\n",
       "          -4.39330369e-04, -3.03070036e-04, -2.36398172e-04,\n",
       "           2.33027077e-04, -9.65199660e-04, -1.20143702e-03,\n",
       "          -5.61296022e-04, -7.40995473e-04, -1.21987484e-03,\n",
       "          -5.42342724e-05,  1.68982894e-04,  4.34845471e-06,\n",
       "          -2.66492490e-04, -7.31942972e-05, -3.00817439e-04,\n",
       "           6.45841863e-05,  2.27221109e-03,  1.09750306e-03,\n",
       "           4.03910000e-04,  7.00547297e-04,  4.93412069e-04,\n",
       "           1.29055084e-03,  9.11145744e-04, -2.66552183e-04,\n",
       "          -6.83386478e-04,  5.99836844e-04, -2.08614469e-03,\n",
       "          -2.58406928e-03, -9.91035450e-04, -1.30474892e-03,\n",
       "          -1.39537741e-03, -2.10341693e-03,  9.73123912e-04,\n",
       "           1.56908968e-03,  3.70395182e-04, -1.33409158e-04,\n",
       "           1.88540916e-04, -1.07175179e-03, -6.90063880e-04,\n",
       "          -1.81361745e-04, -6.77346026e-04, -9.65337478e-04,\n",
       "           6.51401710e-04,  1.20943635e-03]]]),\n",
       " array([[[ 4.98944227e-02, -1.82857187e+00,  9.32067561e-01,\n",
       "          -6.12261403e-01, -1.85842940e+00, -6.51072259e-01,\n",
       "          -2.93234683e-01, -1.13099168e-01,  1.36274133e-02,\n",
       "          -9.43251747e-02,  3.12879973e-02,  1.74988573e-01,\n",
       "           1.06686330e-02,  2.50096002e-02,  2.25131030e-02,\n",
       "           2.50570563e-02,  1.40045188e-02,  1.33335404e-02,\n",
       "           2.64199630e-02,  2.48348628e-02,  3.77642356e-02,\n",
       "           2.44885933e-02,  1.24946643e-02, -1.40352024e-02,\n",
       "          -6.68857024e-03,  8.38770586e-03,  2.60868330e-03,\n",
       "           8.38223700e-03,  6.17092778e-03,  3.23655654e-03,\n",
       "           5.96270576e-03, -9.66128139e-03, -4.79416667e-03,\n",
       "           2.82649800e-02,  1.48200456e-02,  1.39595012e-03,\n",
       "           1.44694987e-02,  1.70197570e-02,  3.56385242e-03,\n",
       "          -9.99214350e-04, -1.45127508e-02, -5.00481615e-03,\n",
       "           5.57965207e-04, -2.34401380e-03,  3.78108626e-03,\n",
       "          -5.81857132e-04, -5.64798481e-03, -2.22739547e-03,\n",
       "           2.71148948e-03,  3.22534133e-04, -1.54231732e-03,\n",
       "          -1.09668939e-04,  1.35783809e-03,  8.49839262e-04,\n",
       "          -2.00601987e-02, -1.44611693e-02, -6.89631759e-03,\n",
       "          -7.05403641e-03, -1.15433756e-03, -4.59566444e-03,\n",
       "          -5.88492504e-04, -6.84339036e-04,  1.66722122e-05,\n",
       "           1.21848676e-03,  2.28924272e-04, -8.31566298e-04,\n",
       "           4.55683189e-03,  2.81261916e-03,  4.10155638e-03,\n",
       "           4.39085699e-03,  7.38745936e-03,  1.39362000e-02,\n",
       "          -2.04208677e-03,  2.89533371e-04, -3.53190137e-03,\n",
       "          -9.96225336e-03, -4.98231544e-03,  2.64216831e-03,\n",
       "          -2.46481388e-03, -1.07231570e-02, -8.50660183e-03,\n",
       "          -9.89755222e-03, -1.83979019e-03, -4.80636376e-03,\n",
       "          -7.30158935e-03, -2.05007464e-03, -4.13878831e-04,\n",
       "          -1.45707994e-03, -2.08926547e-03,  7.36306333e-04,\n",
       "           3.29429243e-04,  2.74787794e-03,  9.22595666e-04,\n",
       "           3.96666112e-03, -2.97406898e-03, -1.60414584e-03,\n",
       "          -3.43835598e-03, -1.12405448e-02, -5.07354100e-03,\n",
       "           3.93947986e-03,  1.32334279e-02, -2.70491580e-04,\n",
       "          -1.27859196e-03,  7.80604354e-03,  1.04560250e-02,\n",
       "           1.45882902e-03, -9.68640168e-03, -4.96757496e-03,\n",
       "           4.23939901e-04, -1.04347041e-03, -1.71403739e-03,\n",
       "           2.81531683e-03, -3.38737728e-04,  1.38393889e-03,\n",
       "           2.37398265e-03,  4.56399874e-04,  1.12382008e-02,\n",
       "           9.87411102e-03,  4.81350702e-03,  7.50292744e-04,\n",
       "          -8.85261032e-04,  3.58793584e-04,  1.01565363e-02,\n",
       "           2.97488689e-03, -3.75519804e-04, -4.75824826e-03,\n",
       "           2.79749961e-03, -2.19782213e-03, -9.69958854e-05,\n",
       "          -1.48073311e-03, -6.69667944e-03, -8.87720770e-04,\n",
       "          -1.66228453e-03,  5.08540758e-04, -5.53379162e-03,\n",
       "          -1.79686971e-03,  8.68718214e-04, -1.37316078e-03,\n",
       "           4.97609951e-03,  1.02703775e-03,  5.19578869e-03,\n",
       "           1.59209167e-02,  4.84157913e-03, -2.38287193e-03,\n",
       "          -3.39045654e-04, -7.93773433e-04,  2.73759908e-03,\n",
       "           3.62763554e-03,  4.11691645e-03, -6.13498726e-03,\n",
       "          -1.22501916e-05, -9.21452460e-03, -1.25795086e-02,\n",
       "          -1.18022886e-03, -9.73054447e-03, -1.54365308e-02,\n",
       "          -4.68421524e-04, -1.21748108e-02, -7.54912220e-04,\n",
       "           1.03540068e-02,  1.92969174e-03]]]),\n",
       " array([[[-2.27731875e-01, -1.28893251e+00, -6.85582979e+00,\n",
       "          -1.67596501e+00,  2.97887911e+00,  1.09759280e+00,\n",
       "           6.47450288e-02,  3.12041170e-01,  2.11291120e-01,\n",
       "           2.06312164e-02,  5.50948424e-02,  2.08553338e-02,\n",
       "          -4.86801835e-03, -5.27840074e-02, -5.08304104e-02,\n",
       "           7.65550858e-03,  1.81227540e-02,  2.77052795e-02,\n",
       "          -1.33225569e-02,  1.32026364e-02, -2.14165188e-03,\n",
       "          -4.66274214e-03,  2.91272407e-02,  1.09333505e-02,\n",
       "           1.20164494e-03, -2.22643296e-02, -1.96369758e-02,\n",
       "           3.90451703e-03,  1.05126713e-03, -6.19802376e-03,\n",
       "          -1.23064813e-02, -2.21879316e-02, -2.18787281e-02,\n",
       "           8.91427740e-03,  8.53449077e-03,  1.57051200e-02,\n",
       "           7.77604105e-03,  7.81611711e-03,  1.74913078e-02,\n",
       "          -1.91407741e-02, -4.56366796e-02, -4.95130911e-03,\n",
       "          -5.91172643e-03, -3.96681209e-03,  8.88502515e-04,\n",
       "           3.33871949e-03,  1.27359643e-03,  3.55347134e-04,\n",
       "          -1.47253023e-03,  2.65554562e-03, -3.16174581e-04,\n",
       "           2.61370898e-03, -2.45690931e-03, -1.11949354e-03,\n",
       "           3.01823052e-03, -3.05515691e-04,  2.52295051e-04,\n",
       "           1.60465515e-03, -3.06269921e-03, -3.41753425e-03,\n",
       "           2.13317809e-03,  6.14770217e-03,  2.52235581e-04,\n",
       "           2.41929188e-04,  2.27637685e-03,  2.63181007e-03,\n",
       "          -1.99648085e-03, -3.53518713e-03, -2.01996877e-03,\n",
       "          -2.30433514e-03, -7.83962561e-03, -5.91293169e-03,\n",
       "          -3.19268220e-03,  1.59916324e-03, -2.61846110e-03,\n",
       "          -6.80985929e-03, -1.57111174e-03,  9.68644633e-04,\n",
       "           1.75101516e-03,  9.82889677e-04, -9.34002480e-04,\n",
       "          -2.07294340e-03, -4.08440232e-04,  1.55012585e-03,\n",
       "           2.45633581e-03,  2.13847374e-04,  6.19648432e-05,\n",
       "          -5.54062288e-04,  3.16604733e-03,  2.95269155e-03,\n",
       "           1.77216052e-03, -6.65431136e-04, -7.14249617e-04,\n",
       "           1.15607910e-03, -8.77404746e-04,  2.73264156e-06,\n",
       "          -3.44885125e-04, -2.63581237e-04,  2.90199513e-04,\n",
       "           2.54411332e-03,  3.07417605e-04, -5.73930712e-04,\n",
       "           2.26852066e-04, -1.62028603e-03,  1.99153711e-05,\n",
       "           2.11326794e-03,  1.85669224e-03, -2.00923589e-03,\n",
       "          -1.15507529e-03,  1.28269248e-03, -1.00008082e-04,\n",
       "          -6.01159657e-04,  9.85686031e-04,  1.48945838e-03,\n",
       "           7.27088717e-04,  5.03056789e-04, -1.14999566e-03,\n",
       "           8.95307255e-04,  2.41375132e-03,  1.90991208e-05,\n",
       "           1.96009969e-03,  6.64209898e-04,  5.48750064e-04,\n",
       "          -6.87898820e-05, -7.18452453e-04, -2.53023123e-04,\n",
       "          -5.52754832e-04, -6.55583833e-03, -4.94355825e-03,\n",
       "          -3.98216418e-03, -1.50892966e-03, -2.31710985e-03,\n",
       "          -9.36082095e-04, -7.28868018e-04,  1.63451422e-03,\n",
       "           2.62286176e-03,  1.19071983e-03,  3.59376738e-04,\n",
       "          -2.02236600e-03, -3.89976131e-03, -2.98879172e-03,\n",
       "           1.12379691e-05,  7.01561772e-05, -5.07664509e-04,\n",
       "          -9.30863954e-05, -1.24514679e-03, -1.99580423e-04,\n",
       "           2.31712768e-05, -5.87484818e-04,  6.95601113e-04,\n",
       "           3.55846354e-04, -9.40152569e-04, -1.38680160e-03,\n",
       "           5.19357923e-04, -5.61328919e-04, -1.10940430e-04,\n",
       "           1.13029512e-04,  6.12046838e-04,  4.51557047e-04,\n",
       "          -1.13311619e-03, -3.01040963e-04]]]),\n",
       " array([[[ 1.21901878e-01, -9.85105205e-02, -2.73356588e-01,\n",
       "          -9.07375461e-01, -3.09946519e-02,  1.65513212e-01,\n",
       "           1.36968016e-01, -4.34102155e-02, -8.73329164e-03,\n",
       "          -1.92989027e-02,  2.67679974e-04,  8.67058422e-02,\n",
       "           6.63979519e-02,  2.64257199e-02, -1.81100098e-02,\n",
       "          -3.73552374e-03, -1.50693158e-03, -1.03713825e-02,\n",
       "          -1.58921335e-02, -7.13084131e-03,  1.15322727e-02,\n",
       "          -2.73645956e-02,  4.03864090e-03, -8.72501871e-03,\n",
       "          -9.33356652e-03, -4.27909563e-03,  2.13383002e-02,\n",
       "           3.59629462e-03,  1.11589013e-03, -3.91757600e-03,\n",
       "          -9.84026024e-03, -2.11546771e-02, -7.92558015e-03,\n",
       "          -4.81739989e-03,  1.51406218e-02,  1.94772339e-02,\n",
       "           4.17947641e-03, -7.59410872e-04, -2.46283467e-04,\n",
       "          -8.35543067e-03, -1.12701994e-02, -6.72975289e-05,\n",
       "           1.18238593e-02,  7.80297535e-03,  1.66852402e-03,\n",
       "          -5.52377246e-03,  4.19250758e-05,  3.31051678e-03,\n",
       "          -4.33224573e-03, -2.50018351e-03, -1.00973228e-02,\n",
       "          -4.50039074e-03, -1.45140955e-03, -3.52552168e-03,\n",
       "           4.11915472e-03, -2.70190359e-03,  4.56598972e-04,\n",
       "          -2.50258442e-03, -7.09708335e-04,  8.24160282e-04,\n",
       "           1.25721557e-03, -1.31273201e-03, -8.25564812e-04,\n",
       "           7.02406968e-04, -2.93739005e-04, -5.88260561e-03,\n",
       "          -8.05505041e-03, -4.00504086e-03, -3.47601912e-03,\n",
       "           8.08652782e-04, -1.91192980e-03, -8.81669263e-04,\n",
       "          -5.27098646e-04,  2.56607340e-04, -1.18079430e-03,\n",
       "          -5.31915564e-04,  7.03727143e-04, -5.40146182e-04,\n",
       "           1.92092420e-03, -8.49841672e-04,  4.16856325e-04,\n",
       "           9.57565524e-05, -2.30388223e-03, -1.93031886e-03,\n",
       "           3.32532342e-03,  7.77707132e-04, -3.55467707e-03,\n",
       "          -1.45753375e-03, -2.11187315e-03,  1.91243505e-03,\n",
       "           2.92077692e-04,  2.72662508e-03,  1.88758392e-03,\n",
       "          -5.47228071e-04, -9.73129008e-04, -1.50744600e-03,\n",
       "          -1.53951473e-03, -9.45059315e-04,  3.66153949e-05,\n",
       "          -2.46233595e-04,  9.95839227e-04, -2.65764404e-03,\n",
       "          -1.53837258e-03, -3.70589747e-04,  3.90626449e-04,\n",
       "           1.68865382e-03,  3.25229037e-03,  9.45448946e-04,\n",
       "           8.24520743e-04,  8.37772486e-04,  3.19845301e-05,\n",
       "           3.95361937e-04, -9.83148130e-05,  1.05925615e-03,\n",
       "           2.60882618e-03,  5.79378929e-04,  1.34486137e-04,\n",
       "           1.30475072e-03,  4.84749091e-04,  4.21545726e-04,\n",
       "           1.00602577e-03, -2.83545924e-04, -4.05266588e-04,\n",
       "          -7.47739102e-04, -2.95725492e-05, -9.60566801e-05,\n",
       "          -3.77585191e-04, -7.41529753e-04, -7.38735330e-04,\n",
       "          -6.28470608e-04,  9.45419220e-05,  1.01287937e-03,\n",
       "           1.32175671e-04, -4.52828175e-04,  1.02214496e-03,\n",
       "           1.00396623e-03, -2.16949668e-04, -1.51467618e-04,\n",
       "           6.74679260e-04,  6.28757618e-04, -3.18379234e-04,\n",
       "          -5.49099591e-04,  3.95954038e-04,  1.84032599e-04,\n",
       "          -1.65774982e-04, -4.00618392e-04, -3.94183460e-04,\n",
       "           3.14888531e-04,  3.38451832e-04,  5.43298320e-04,\n",
       "          -8.57916748e-05,  2.00302453e-04, -1.53778739e-03,\n",
       "          -2.34051112e-03, -1.63677591e-03, -5.70656047e-04,\n",
       "           1.58453233e-04,  2.72722856e-04, -6.99412622e-04,\n",
       "           2.32334716e-04,  1.15567416e-04]]]),\n",
       " array([[[ 5.20038670e-02, -1.35205144e-02,  2.37426173e-01,\n",
       "           6.95656921e-01,  4.26303196e-02,  4.51293909e-02,\n",
       "          -1.49701174e-01, -5.32476651e-02,  2.58961556e-02,\n",
       "           6.84248126e-03, -1.35324587e-02, -5.11386599e-03,\n",
       "          -9.39288162e-03, -4.03391218e-03,  1.15454080e-03,\n",
       "           2.08030230e-03,  9.30281691e-03,  6.13960164e-04,\n",
       "           1.41645732e-02, -2.56322225e-03, -6.61476575e-03,\n",
       "           1.08795327e-02,  2.14647672e-03,  2.69968292e-03,\n",
       "          -1.52156250e-04,  5.52609602e-03,  1.05207272e-02,\n",
       "           6.36323878e-03,  4.01341773e-03, -2.27571692e-03,\n",
       "          -2.77041990e-03,  3.34605958e-03,  3.67468848e-03,\n",
       "           1.52711672e-03, -1.26140187e-03,  3.40361576e-03,\n",
       "          -1.79632182e-04,  5.87150624e-03,  6.16068223e-03,\n",
       "          -4.27651623e-03, -3.08547900e-03, -2.54152648e-03,\n",
       "          -7.37777744e-04,  6.68961028e-04, -2.24650547e-03,\n",
       "          -3.47524521e-03, -3.76920879e-03, -1.03909013e-02,\n",
       "          -5.26225416e-03,  6.50580862e-04, -1.06962421e-03,\n",
       "          -4.96902788e-03, -1.19774587e-02, -1.37624930e-02,\n",
       "           3.90809159e-03, -1.87162136e-03,  6.87595385e-04,\n",
       "          -2.84558021e-04, -6.84738342e-04, -4.70214102e-03,\n",
       "           2.34555460e-03,  4.90319935e-03,  9.23773803e-04,\n",
       "          -7.55538841e-03, -2.46174611e-04, -5.49120092e-03,\n",
       "          -7.53799598e-03, -7.78423331e-03, -7.96592819e-03,\n",
       "          -1.63750317e-02, -2.37628984e-03, -1.56271890e-02,\n",
       "          -1.11901449e-02,  4.83995467e-03, -3.94185893e-03,\n",
       "          -2.34667587e-03, -3.53121657e-03, -1.16057921e-03,\n",
       "           1.08333103e-02,  7.50464054e-03,  1.12403143e-02,\n",
       "          -4.44084694e-03, -3.64934604e-03, -3.07268274e-03,\n",
       "          -7.38096441e-03,  3.31998232e-04,  4.97056060e-04,\n",
       "          -9.53148746e-03, -3.96551638e-04, -1.72634951e-03,\n",
       "          -1.21063557e-02, -1.86302587e-02, -7.80321010e-03,\n",
       "          -1.83311742e-02, -1.73352778e-02, -1.97630151e-02,\n",
       "          -1.43592249e-02, -5.48147330e-04,  1.57318118e-04,\n",
       "          -5.55740810e-04, -8.20100017e-04, -9.53799563e-04,\n",
       "           3.74904440e-03, -1.92188651e-03, -4.80885856e-03,\n",
       "          -8.78393214e-05,  3.56566081e-04,  3.01634348e-03,\n",
       "           3.47218715e-03,  1.41642642e-04,  8.57964450e-04,\n",
       "           8.79989901e-03,  6.20447699e-03, -1.60389350e-04,\n",
       "           5.59398314e-05, -2.47928598e-03,  2.19037620e-03,\n",
       "           1.05511672e-02,  1.98620759e-03,  2.74895901e-03,\n",
       "           6.26623919e-03,  3.10962174e-03,  1.05129466e-03,\n",
       "          -1.25088368e-03, -1.62212278e-03, -1.35889177e-03,\n",
       "           5.56123983e-04, -7.19902860e-04,  1.69994567e-04,\n",
       "           8.14459292e-04, -1.46189333e-04, -6.51118156e-05,\n",
       "           2.61668968e-03,  4.68571631e-03,  7.63292356e-04,\n",
       "          -8.41135779e-05, -1.38342865e-04, -1.97691025e-03,\n",
       "          -2.14952317e-03, -5.18571457e-03,  6.60302216e-04,\n",
       "          -9.08065384e-04, -1.24282519e-03, -7.97955630e-04,\n",
       "           1.40123911e-04,  8.62757430e-04,  5.70320586e-04,\n",
       "           6.45688170e-04, -5.90387128e-04,  3.79407873e-04,\n",
       "          -1.20077876e-04, -1.23986685e-04, -1.59479435e-03,\n",
       "          -3.16784066e-03, -8.79038856e-04, -1.60436030e-03,\n",
       "           9.56529544e-04,  3.89016835e-04,  3.99664894e-04,\n",
       "          -2.18608366e-04,  1.43478412e-04]]]),\n",
       " array([[[ 4.01984792e-02,  1.02209408e-01,  5.84890945e-02,\n",
       "           8.78691573e-02,  6.88270215e-02, -1.96596687e-01,\n",
       "          -3.87951701e-01, -1.06674021e-01, -2.58854523e-02,\n",
       "           1.77135426e-02,  2.44451846e-02, -1.79469430e-02,\n",
       "          -1.41838050e-01, -1.50934169e-01, -2.90985304e-02,\n",
       "           8.29415534e-03, -2.32978347e-03,  1.12326291e-02,\n",
       "           2.28007354e-02,  5.07238311e-03,  2.82924778e-02,\n",
       "           2.13450032e-02, -1.07633258e-02, -1.40557500e-02,\n",
       "          -2.71707629e-02,  1.01217793e-02,  4.25784929e-03,\n",
       "           6.38474839e-03, -3.48650072e-04,  2.55259962e-02,\n",
       "           5.93516047e-03, -1.78271467e-02, -1.23724203e-02,\n",
       "          -5.50708487e-02, -1.09483167e-02,  1.62763838e-02,\n",
       "           2.47101836e-02,  2.29641569e-02,  2.32277147e-02,\n",
       "           4.71133461e-03, -6.23791051e-03, -4.52590540e-04,\n",
       "           4.04057744e-03,  2.02169924e-03, -1.26118531e-02,\n",
       "           1.84129332e-03, -1.96689139e-02,  3.99242725e-02,\n",
       "          -1.46193073e-02, -3.64367919e-02, -3.30961034e-02,\n",
       "          -3.13533974e-02, -5.13047803e-03, -1.40700100e-04,\n",
       "          -3.24596054e-03, -1.50005219e-02, -4.31868294e-03,\n",
       "          -3.81138302e-03, -5.25429414e-03, -6.92474350e-05,\n",
       "          -4.62499727e-03, -4.92448885e-03, -5.91536585e-03,\n",
       "          -4.51579179e-03,  7.92963229e-04,  1.49611110e-03,\n",
       "           1.09336294e-03,  4.87333959e-03, -4.59679912e-04,\n",
       "           2.02437042e-03,  3.13064591e-03,  7.26598160e-03,\n",
       "           1.99756689e-03,  5.49436073e-03,  1.50693787e-02,\n",
       "           1.10770432e-02, -4.60379350e-04, -6.44469384e-04,\n",
       "           2.58841145e-03,  4.37536344e-04, -4.03945906e-03,\n",
       "          -2.87688895e-03,  1.53561954e-03,  7.99304458e-03,\n",
       "          -2.80816662e-03, -3.08505677e-03,  5.92618975e-03,\n",
       "           1.90928994e-03,  2.16144953e-03,  2.58348387e-03,\n",
       "           2.78660372e-03,  5.41328784e-03, -1.26865485e-03,\n",
       "          -3.51310306e-03,  3.75823786e-03,  1.79749998e-03,\n",
       "          -9.81730060e-04,  1.47962152e-03, -1.07855285e-03,\n",
       "          -2.95510796e-03,  2.08900752e-03, -2.29221975e-03,\n",
       "           9.16417866e-04,  7.83472485e-04, -4.40208947e-03,\n",
       "          -3.95582340e-03,  6.36203630e-04, -2.68651429e-03,\n",
       "          -1.17504828e-03, -5.57091119e-03, -6.14320134e-03,\n",
       "          -7.19175364e-04,  4.83382255e-04, -4.70347284e-05,\n",
       "          -3.52755414e-03, -6.44030044e-03, -8.25729059e-03,\n",
       "          -7.27094989e-04, -3.74722849e-04,  4.21098578e-05,\n",
       "          -1.52181765e-03, -8.69217247e-04, -6.64119683e-03,\n",
       "          -1.21203498e-02, -5.68633328e-03, -4.80493088e-03,\n",
       "           9.86848501e-04,  1.09159233e-02,  3.03902747e-03,\n",
       "           1.96827869e-03,  2.30333740e-03,  1.75004203e-03,\n",
       "          -2.39249514e-04, -3.09794635e-04, -5.90172588e-03,\n",
       "          -2.00507763e-03,  6.19019761e-04, -4.66230438e-04,\n",
       "           2.98389370e-04, -7.36995353e-04, -3.05587196e-03,\n",
       "          -1.08784862e-03,  1.45094573e-03,  7.52093183e-04,\n",
       "           1.67305636e-03,  7.87358670e-05, -4.89778645e-03,\n",
       "          -9.04856116e-04, -7.90596785e-04, -1.58000787e-03,\n",
       "          -9.97037185e-07, -2.29362214e-04,  1.00665238e-04,\n",
       "          -7.10091326e-04, -5.77272507e-04,  1.79134389e-04,\n",
       "          -3.58069113e-04,  3.41896075e-04, -2.83675568e-04,\n",
       "           2.37608114e-03, -9.95945695e-05]]]),\n",
       " array([[[ 3.76556818e-02,  2.19878817e-01,  1.60641981e+00,\n",
       "          -3.46192509e-02,  3.35801040e-01,  7.30013272e-02,\n",
       "           8.09738942e-02,  9.37057425e-03, -1.68401560e-02,\n",
       "           1.47087901e-02, -5.68879275e-03, -4.85276648e-03,\n",
       "          -3.86772447e-02, -2.41363242e-02, -1.15754117e-02,\n",
       "          -2.01054506e-02,  1.20464069e-03, -1.33060035e-02,\n",
       "           3.66390131e-03,  6.85065459e-03,  3.35325897e-04,\n",
       "           6.36052793e-03,  1.18008974e-04,  6.71897233e-03,\n",
       "          -8.58882860e-04, -1.84971251e-02, -4.70882453e-03,\n",
       "           5.12288486e-03,  9.39230903e-04, -2.01607865e-02,\n",
       "          -2.61044466e-02, -4.72468290e-04, -2.36752227e-02,\n",
       "          -3.11879417e-02, -1.32048572e-03, -5.59162749e-04,\n",
       "           1.29289260e-03, -3.77334224e-03,  3.69223410e-03,\n",
       "           6.03520643e-04, -1.95590707e-02, -1.75482157e-02,\n",
       "          -2.05121735e-03, -2.41456483e-03,  1.83518057e-03,\n",
       "           5.91785844e-04, -2.50341894e-03, -5.42937533e-03,\n",
       "          -7.87926234e-04, -5.60156303e-04, -4.91721498e-04,\n",
       "           2.02354781e-03,  2.00556403e-03, -1.01728034e-03,\n",
       "          -7.70361883e-04,  3.71399343e-03,  2.16276243e-03,\n",
       "          -4.91850423e-05, -7.40918017e-04, -9.17095419e-04,\n",
       "          -3.16057648e-03, -1.12331276e-03, -2.47330004e-04,\n",
       "           3.16443277e-03,  2.59783196e-03,  4.20355940e-04,\n",
       "          -2.76870015e-04, -8.71525851e-04,  4.46530650e-04,\n",
       "          -1.06378771e-04, -8.32622874e-04,  3.43032975e-03,\n",
       "           2.38728877e-03, -3.08391316e-04, -1.21939996e-03,\n",
       "           3.47553453e-04,  6.62522855e-04, -1.89394251e-04,\n",
       "           3.17404201e-04,  1.58693614e-03, -1.57741765e-04,\n",
       "           1.43429077e-04,  1.61943648e-03,  8.18521155e-04,\n",
       "          -2.50375978e-03, -1.39841901e-04,  9.89745815e-04,\n",
       "           1.92383899e-04, -4.30689175e-04, -1.02186517e-03,\n",
       "           2.61044865e-04,  1.73838790e-03,  1.35355363e-03,\n",
       "          -2.42394443e-04,  3.91651131e-04,  9.14542774e-04,\n",
       "           7.62357594e-04,  8.29301628e-04,  1.26244613e-03,\n",
       "           1.86019856e-04, -4.02524392e-04,  1.05258038e-03,\n",
       "           3.10487496e-03,  4.56524816e-03,  3.31929192e-03,\n",
       "           1.43718545e-03,  9.63925825e-04,  1.33714625e-03,\n",
       "           2.20574616e-03,  1.41575643e-04, -1.00826462e-03,\n",
       "          -2.42790479e-05,  1.18365496e-04, -6.03457858e-06,\n",
       "          -3.70025898e-04, -1.00145053e-03, -6.95881350e-04,\n",
       "          -5.89144620e-04, -3.72552980e-04,  1.06262485e-03,\n",
       "           1.61125630e-03,  1.77872784e-04,  2.91942655e-04,\n",
       "           1.72204162e-03,  1.73858070e-03,  1.23427970e-03,\n",
       "          -5.70803822e-04, -9.60375036e-05, -2.29971537e-04,\n",
       "           1.10063442e-03,  1.15803008e-03, -5.57776008e-04,\n",
       "           3.65247112e-04,  1.02084272e-03, -6.70875560e-05,\n",
       "           1.58030970e-05, -6.19981348e-04, -7.10198055e-04,\n",
       "          -6.27504543e-04,  6.78325959e-04,  9.01659656e-04,\n",
       "           1.48925107e-05, -5.68766827e-05, -2.07868925e-05,\n",
       "          -8.34210297e-05,  2.00695439e-04,  8.79443993e-05,\n",
       "          -2.04569633e-04,  3.10310930e-04,  1.08577890e-03,\n",
       "           9.36666587e-04, -1.92435734e-04, -4.98829177e-04,\n",
       "          -3.56725987e-04, -2.01191768e-04,  1.17697282e-04,\n",
       "          -1.48294337e-03,  3.68710102e-04, -1.29051446e-05,\n",
       "          -2.95688250e-04,  6.45118752e-04]]])]"
      ]
     },
     "metadata": {},
     "execution_count": 86
    }
   ],
   "metadata": {
    "scrolled": true
   }
  },
  {
   "cell_type": "code",
   "execution_count": 29,
   "source": [
    "\n",
    "import seaborn as sns\n",
    "sns.set_theme()\n",
    "plt.plot(freq(ep1)[1],np.mean(freqs,axis=0).reshape(161,))\n",
    "plt.title('Power difference of the EEG time-series filtered by first component (averaged)')\n",
    "plt.xlabel('Hz')\n",
    "plt.ylabel('Power difference in volts^2')\n",
    "\n",
    "#np.mean(freqs,axis=0).reshape(161,)"
   ],
   "outputs": [
    {
     "output_type": "stream",
     "name": "stdout",
     "text": [
      "Effective window size : 4.000 (s)\n"
     ]
    },
    {
     "output_type": "execute_result",
     "data": {
      "text/plain": [
       "Text(0, 0.5, 'Power difference in volts^2')"
      ]
     },
     "metadata": {},
     "execution_count": 29
    },
    {
     "output_type": "display_data",
     "data": {
      "image/png": "[encoded data removed]",
      "text/plain": [
       "<Figure size 432x288 with 1 Axes>"
      ]
     },
     "metadata": {}
    }
   ],
   "metadata": {}
  },
  {
   "cell_type": "code",
   "execution_count": 200,
   "source": [
    "freqs1 = np.reshape(freqs,[10,161])\n",
    "plt.plot(freq(ep1)[1],(freqs1.T))\n",
    "plt.title('Power difference of the EEG time-series filtered by first component (all subjects)')\n",
    "plt.xlabel('Hz')\n",
    "plt.ylabel('Power difference in volts^2')\n"
   ],
   "outputs": [
    {
     "output_type": "stream",
     "name": "stdout",
     "text": [
      "Effective window size : 4.000 (s)\n"
     ]
    },
    {
     "output_type": "execute_result",
     "data": {
      "text/plain": [
       "Text(0, 0.5, 'Power difference in volts^2')"
      ]
     },
     "metadata": {},
     "execution_count": 200
    }
   ],
   "metadata": {}
  },
  {
   "cell_type": "code",
   "execution_count": 31,
   "source": [
    "#import scipy\n",
    "#scipy.stats.ttest_1samp((np.reshape(np.mean(np.reshape(freqs,[10,161])[:,alpha],axis=0),[57,1])),popmean=0)\n",
    "def ttest(s):\n",
    "    alpha = np.where((np.logical_and(freq(ep1)[1]>=s[0], freq(ep1)[1]<=s[1])))\n",
    "    _,a,_ = mne.stats.permutation_t_test(np.reshape(np.mean(np.reshape(freqs,[10,161])[:,alpha],axis=0),[len(alpha[0]),1]),n_permutations=1000)\n",
    "    return a\n",
    "#(np.mean(np.reshape(freqs,[10,161])[:,alpha],axis=0),)\n"
   ],
   "outputs": [],
   "metadata": {}
  },
  {
   "cell_type": "code",
   "execution_count": 121,
   "source": [
    "%matplotlib qt\n",
    "%gui qt\n",
    "\n",
    "to_not_miss = d[band[4]]\n",
    "l = ttest(to_not_miss)\n",
    "plt.xlabel('p-value = {}'.format(l))\n",
    "    \n",
    "    #plt.plot(freq(ep1)[1][alpha],np.mean(freqs,axis=0).reshape(161,)[alpha])\n",
    "alpha = np.where((np.logical_and(freq(ep1)[1]>=to_not_miss[0], freq(ep1)[1]<=to_not_miss[1])))\n",
    "\n",
    "freqs1 = np.reshape(freqs,[10,161])\n",
    "freqs2 = (np.reshape(freqs1[:,alpha],[10,len(alpha[0])]))\n",
    "freq_mean = np.mean(freqs2,axis=0)\n",
    "\n",
    "plt.boxplot(freq_mean)\n",
    "    \n",
    "plt.title('{} band'.format(band[4]))\n",
    "plt.ylabel('Power difference (volts)^2 ')\n",
    "plt.tight_layout()\n",
    "\n",
    "plt.figure()\n",
    "\n",
    "#plt.savefig('{} band.jpg'.format(band[1]))\n"
   ],
   "outputs": [
    {
     "output_type": "stream",
     "name": "stdout",
     "text": [
      "Effective window size : 4.000 (s)\n",
      "Effective window size : 4.000 (s)\n",
      "Permuting 255 times (exact test)...\n",
      "Effective window size : 4.000 (s)\n",
      "Effective window size : 4.000 (s)\n"
     ]
    },
    {
     "output_type": "execute_result",
     "data": {
      "text/plain": [
       "<Figure size 432x288 with 0 Axes>"
      ]
     },
     "metadata": {},
     "execution_count": 121
    }
   ],
   "metadata": {
    "scrolled": true
   }
  },
  {
   "cell_type": "code",
   "execution_count": 89,
   "source": [
    "d[band[2]]"
   ],
   "outputs": [
    {
     "output_type": "execute_result",
     "data": {
      "text/plain": [
       "(15, 29)"
      ]
     },
     "metadata": {},
     "execution_count": 89
    }
   ],
   "metadata": {}
  },
  {
   "cell_type": "code",
   "execution_count": 224,
   "source": [
    "\n",
    "\n",
    "a = 2  # number of rows\n",
    "b = 5  # number of columns\n",
    "c = 1  # initialize plot counter\n",
    "\n",
    "fig = plt.figure(figsize=(14,10))\n",
    "band = ['theta','alpha','beta','gamma','delta']\n",
    "for i in range(5):\n",
    "    plt.subplot(a, b, c)\n",
    "    l = ttest(d[band[i]])\n",
    "    plt.xlabel('p-value = {}'.format(l))\n",
    "    \n",
    "    #plt.plot(freq(ep1)[1][alpha],np.mean(freqs,axis=0).reshape(161,)[alpha])\n",
    "    alpha = np.where((np.logical_and(freq(ep1)[1]>=d[band[i]][0], freq(ep1)[1]<=d[band[i]][1])))\n",
    "\n",
    "    freqs1 = np.reshape(freqs,[10,161])\n",
    "    freqs2 = (np.reshape(freqs1[:,alpha],[10,len(alpha[0])]))\n",
    "    freq_mean = np.mean(freqs2,axis=0)\n",
    "    plt.boxplot(freq_mean)\n",
    "    \n",
    "    plt.title('{} band'.format(band[i]))\n",
    "    plt.ylabel('Power difference (volts)^2 ')\n",
    "\n",
    "    c = c + 1\n",
    "    \n",
    "plt.tight_layout()\n",
    "plt.show()"
   ],
   "outputs": [
    {
     "output_type": "stream",
     "name": "stdout",
     "text": [
      "Effective window size : 4.000 (s)\n",
      "Effective window size : 4.000 (s)\n",
      "Permuting 255 times (exact test)...\n",
      "Effective window size : 4.000 (s)\n",
      "Effective window size : 4.000 (s)\n",
      "Effective window size : 4.000 (s)\n",
      "Effective window size : 4.000 (s)\n",
      "Permuting 999 times...\n",
      "Effective window size : 4.000 (s)\n",
      "Effective window size : 4.000 (s)\n",
      "Effective window size : 4.000 (s)\n",
      "Effective window size : 4.000 (s)\n",
      "Permuting 999 times...\n",
      "Effective window size : 4.000 (s)\n",
      "Effective window size : 4.000 (s)\n",
      "Effective window size : 4.000 (s)\n",
      "Effective window size : 4.000 (s)\n",
      "Permuting 999 times...\n",
      "Effective window size : 4.000 (s)\n",
      "Effective window size : 4.000 (s)\n",
      "Effective window size : 4.000 (s)\n",
      "Effective window size : 4.000 (s)\n",
      "Permuting 255 times (exact test)...\n",
      "Effective window size : 4.000 (s)\n",
      "Effective window size : 4.000 (s)\n"
     ]
    }
   ],
   "metadata": {
    "scrolled": true
   }
  },
  {
   "cell_type": "code",
   "execution_count": null,
   "source": [
    "%matplotlib qt\n",
    "%gui qt\n",
    "def plot_band(kind, band):\n",
    "    \"\"\"Plot activity within a frequency band on the subject's brain.\"\"\"\n",
    "    #title = \"%s\\n(%d Hz)\" % (freq_bands[band])\n",
    "    topos[band].plot_topomap(\n",
    "         scalings=1., cbar_fmt='%0.1f', vmin=0, cmap='inferno')\n",
    "    brain = stcs_dict[band].plot(\n",
    "        subject=subject, subjects_dir=subjects_dir, views='cau', hemi='lh',\n",
    "         colormap='inferno',backend='matplotlib',\n",
    "        time_viewer=False, show_traces=False,\n",
    "        clim=dict(kind='percent', lims=(70, 85, 99)), smoothing_steps=10)\n",
    "    brain.show_view(dict(azimuth=0, elevation=0), roll=0)\n",
    "\n",
    "fig_theta, brain_theta = plot_band('vv', 'alpha')"
   ],
   "outputs": [],
   "metadata": {
    "scrolled": true
   }
  },
  {
   "cell_type": "code",
   "execution_count": 37,
   "source": [
    "def high_minus_low(high,low,band):\n",
    "    return high[band] - low[band]"
   ],
   "outputs": [],
   "metadata": {}
  },
  {
   "cell_type": "code",
   "execution_count": null,
   "source": [],
   "outputs": [],
   "metadata": {}
  },
  {
   "cell_type": "markdown",
   "source": [
    "## Low ISC"
   ],
   "metadata": {}
  },
  {
   "cell_type": "code",
   "execution_count": 38,
   "source": [
    "\n",
    "def difference_and_t_test(band):\n",
    "    alpha_difference_1 = high_minus_low(stc1_high,stc1_low,band)\n",
    "    alpha_difference_2 = high_minus_low(stc2_high,stc2_low,band)\n",
    "    alpha_difference_3 = high_minus_low(stc3_high,stc3_low,band)\n",
    "    alpha_difference_4 = high_minus_low(stc4_high,stc4_low,band)\n",
    "    alpha_difference_5 = high_minus_low(stc5_high,stc5_low,band)\n",
    "    alpha_difference_6 = high_minus_low(stc6_high,stc6_low,band)\n",
    "    alpha_difference_7 = high_minus_low(stc7_high,stc7_low,band)\n",
    "    alpha_difference_8 = high_minus_low(stc8_high,stc8_low,band)\n",
    "    alpha_difference_9 = high_minus_low(stc9_high,stc9_low,band)\n",
    "    alpha_difference_10 = high_minus_low(stc10_high,stc10_low,band)\n",
    "    averaged_alpha =(alpha_difference_1+alpha_difference_2+alpha_difference_3+alpha_difference_4+alpha_difference_5\\\n",
    "          +alpha_difference_6+alpha_difference_7+alpha_difference_8+alpha_difference_9+alpha_difference_10)/10\n",
    "    a,b,c = mne.stats.permutation_t_test(averaged_alpha.data,n_permutations=1000)\n",
    "    alpha_stacked = (np.hstack((alpha_difference_1.data,alpha_difference_2.data,\\\n",
    "                   alpha_difference_3.data,alpha_difference_4.data,\\\n",
    "                   alpha_difference_5.data,alpha_difference_6.data,\\\n",
    "                   alpha_difference_7.data,alpha_difference_8.data,\\\n",
    "                   alpha_difference_9.data,alpha_difference_10.data)))\n",
    "    return averaged_alpha,alpha_stacked,b"
   ],
   "outputs": [],
   "metadata": {}
  },
  {
   "cell_type": "code",
   "execution_count": 82,
   "source": [
    "averaged,to_test,b = difference_and_t_test('gamma')\n",
    "#plt.hist(averaged.data)"
   ],
   "outputs": [
    {
     "output_type": "stream",
     "name": "stdout",
     "text": [
      "Permuting 999 times...\n"
     ]
    }
   ],
   "metadata": {}
  },
  {
   "cell_type": "code",
   "execution_count": 83,
   "source": [
    "indices_for_slicing_beyond_percentiles = np.where( np.logical_or( (averaged.data <np.percentile(averaged.data,10)), (averaged.data>np.percentile(averaged.data,90))))\n",
    "\n",
    "averaged.data[list(set(list(range(20484)))-set(indices_for_slicing_beyond_percentiles[0]))] =0"
   ],
   "outputs": [],
   "metadata": {}
  },
  {
   "cell_type": "code",
   "execution_count": 271,
   "source": [
    "%matplotlib qt\n",
    "%gui qt\n",
    "def plot(views,hemi,string):\n",
    "    \n",
    "    brain = averaged.plot(subjects_dir=subjects_dir, time_unit='s',hemi=hemi,background='grey',views=views\n",
    "                          ,backend='matplotlib',colormap='seismic',clim=dict(kind='value', lims=[-averaged.data.max(), np.median(averaged.data), averaged.data.max()]))\n",
    "    plt.title('Condition -\"High- Low\"')\n",
    "    #brain.savefig('S4B2/results_high_minus_low')\n",
    "    return None"
   ],
   "outputs": [],
   "metadata": {}
  },
  {
   "cell_type": "code",
   "execution_count": 272,
   "source": [
    "plot('lat','lh','Lateral Left')\n",
    "plot('lat','rh','Lateral Right')\n",
    "plot('cau','lh','Caudal Left')\n",
    "plot('cau','rh','Caudal Right')\n",
    "plot('med','lh','Medial Left')\n",
    "plot('med','rh','Medial Right')\n"
   ],
   "outputs": [
    {
     "output_type": "stream",
     "name": "stdout",
     "text": [
      "Octahedron subdivision grade 6\n",
      "    Triangle neighbors and vertex normals...\n",
      "Loading geometry from /homes/v20subra/mne_data/MNE-fsaverage-data/fsaverage/surf/lh.sphere...\n",
      "Setting up the triangulation for the decimated surface...\n",
      "    10 smooth iterations done.\n",
      "Octahedron subdivision grade 6\n",
      "    Triangle neighbors and vertex normals...\n",
      "Loading geometry from /homes/v20subra/mne_data/MNE-fsaverage-data/fsaverage/surf/rh.sphere...\n",
      "Setting up the triangulation for the decimated surface...\n",
      "    10 smooth iterations done.\n",
      "Octahedron subdivision grade 6\n",
      "    Triangle neighbors and vertex normals...\n",
      "Loading geometry from /homes/v20subra/mne_data/MNE-fsaverage-data/fsaverage/surf/lh.sphere...\n",
      "Setting up the triangulation for the decimated surface...\n",
      "    10 smooth iterations done.\n",
      "Octahedron subdivision grade 6\n",
      "    Triangle neighbors and vertex normals...\n",
      "Loading geometry from /homes/v20subra/mne_data/MNE-fsaverage-data/fsaverage/surf/rh.sphere...\n",
      "Setting up the triangulation for the decimated surface...\n",
      "    10 smooth iterations done.\n",
      "Octahedron subdivision grade 6\n",
      "    Triangle neighbors and vertex normals...\n",
      "Loading geometry from /homes/v20subra/mne_data/MNE-fsaverage-data/fsaverage/surf/lh.sphere...\n",
      "Setting up the triangulation for the decimated surface...\n",
      "    10 smooth iterations done.\n",
      "Octahedron subdivision grade 6\n",
      "    Triangle neighbors and vertex normals...\n",
      "Loading geometry from /homes/v20subra/mne_data/MNE-fsaverage-data/fsaverage/surf/rh.sphere...\n",
      "Setting up the triangulation for the decimated surface...\n",
      "    10 smooth iterations done.\n"
     ]
    }
   ],
   "metadata": {
    "scrolled": true
   }
  },
  {
   "cell_type": "code",
   "execution_count": 122,
   "source": [
    "\n",
    "l = difference_and_t_test(band[4])\n",
    "plt.xlabel('p-value = {}'.format(l[2]))\n",
    "\n",
    "\n",
    "plt.boxplot(l[0].data)\n",
    "\n",
    "plt.ylabel('Power difference in micro volts')\n",
    "plt.title('{} band (source level)'.format(band[4]))\n",
    "plt.figure()\n",
    "plt.tight_layout()\n",
    "plt.show(block=False)\n",
    "#plt.savefig('{} band(source level).jpg'.format(band[0]))\n",
    "#plt.close()"
   ],
   "outputs": [
    {
     "output_type": "stream",
     "name": "stdout",
     "text": [
      "Permuting 999 times...\n"
     ]
    }
   ],
   "metadata": {}
  },
  {
   "cell_type": "code",
   "execution_count": 111,
   "source": [
    "d =dict(delta=(2, 4), theta=(5, 7), alpha=(8, 13), beta=(15, 29), gamma=(30, 40))\n",
    "\n",
    "l = ttest(d[band[1]])\n",
    "plt.xlabel('p-value = {}'.format(l))\n",
    "    #plt.plot(freq(ep1)[1][alpha],np.mean(freqs,axis=0).reshape(161,)[alpha])\n",
    "    \n",
    "alpha = np.where((np.logical_and(freq(ep1)[1]>=d[band[1]][0], freq(ep1)[1]<=d[band[1]][1])))\n",
    "\n",
    "freqs1 = np.reshape(freqs,[10,161])\n",
    "freqs2 = (np.reshape(freqs1[:,alpha],[10,len(alpha[0])]))\n",
    "freq_mean = np.mean(freqs2,axis=0)\n",
    "plt.boxplot(freq_mean)\n",
    "plt.tight_layout()\n",
    "plt.title('{} band'.format(band[1]))\n",
    "plt.ylabel('Power difference (volts)^2 ')"
   ],
   "outputs": [
    {
     "output_type": "stream",
     "name": "stdout",
     "text": [
      "Effective window size : 4.000 (s)\n",
      "Effective window size : 4.000 (s)\n",
      "Permuting 999 times...\n",
      "Effective window size : 4.000 (s)\n",
      "Effective window size : 4.000 (s)\n"
     ]
    },
    {
     "output_type": "execute_result",
     "data": {
      "text/plain": [
       "Text(21.299999999999997, 0.5, 'Power difference (volts)^2 ')"
      ]
     },
     "metadata": {},
     "execution_count": 111
    }
   ],
   "metadata": {}
  },
  {
   "cell_type": "code",
   "execution_count": 34,
   "source": [
    "a = 2  # number of rows\n",
    "b = 3  # number of columns\n",
    "c = 1  # initialize plot counter\n",
    "\n",
    "fig = plt.figure(figsize=(14,10))\n",
    "band = ['theta','alpha','beta','gamma','delta']\n",
    "for i in range(5):\n",
    "    plt.subplot(a, b, c)\n",
    "    l = difference_and_t_test(band[i])\n",
    "    plt.xlabel('p-value = {}'.format(l[2]))\n",
    "    print(l[0])\n",
    "    plt.boxplot(l[0].data)\n",
    "    plt.title('{} band'.format(band[i]))\n",
    "    plt.ylabel('Power difference in micro volts')\n",
    "\n",
    "    c = c + 1\n",
    "    \n",
    "plt.tight_layout()\n",
    "plt.show()"
   ],
   "outputs": [
    {
     "output_type": "error",
     "ename": "NameError",
     "evalue": "name 'difference_and_t_test' is not defined",
     "traceback": [
      "\u001b[0;31m---------------------------------------------------------------------------\u001b[0m",
      "\u001b[0;31mNameError\u001b[0m                                 Traceback (most recent call last)",
      "\u001b[0;32m<ipython-input-34-6b95bdf2059d>\u001b[0m in \u001b[0;36m<module>\u001b[0;34m\u001b[0m\n\u001b[1;32m      7\u001b[0m \u001b[0;32mfor\u001b[0m \u001b[0mi\u001b[0m \u001b[0;32min\u001b[0m \u001b[0mrange\u001b[0m\u001b[0;34m(\u001b[0m\u001b[0;36m5\u001b[0m\u001b[0;34m)\u001b[0m\u001b[0;34m:\u001b[0m\u001b[0;34m\u001b[0m\u001b[0;34m\u001b[0m\u001b[0m\n\u001b[1;32m      8\u001b[0m     \u001b[0mplt\u001b[0m\u001b[0;34m.\u001b[0m\u001b[0msubplot\u001b[0m\u001b[0;34m(\u001b[0m\u001b[0ma\u001b[0m\u001b[0;34m,\u001b[0m \u001b[0mb\u001b[0m\u001b[0;34m,\u001b[0m \u001b[0mc\u001b[0m\u001b[0;34m)\u001b[0m\u001b[0;34m\u001b[0m\u001b[0;34m\u001b[0m\u001b[0m\n\u001b[0;32m----> 9\u001b[0;31m     \u001b[0ml\u001b[0m \u001b[0;34m=\u001b[0m \u001b[0mdifference_and_t_test\u001b[0m\u001b[0;34m(\u001b[0m\u001b[0mband\u001b[0m\u001b[0;34m[\u001b[0m\u001b[0mi\u001b[0m\u001b[0;34m]\u001b[0m\u001b[0;34m)\u001b[0m\u001b[0;34m\u001b[0m\u001b[0;34m\u001b[0m\u001b[0m\n\u001b[0m\u001b[1;32m     10\u001b[0m     \u001b[0mplt\u001b[0m\u001b[0;34m.\u001b[0m\u001b[0mxlabel\u001b[0m\u001b[0;34m(\u001b[0m\u001b[0;34m'p-value = {}'\u001b[0m\u001b[0;34m.\u001b[0m\u001b[0mformat\u001b[0m\u001b[0;34m(\u001b[0m\u001b[0ml\u001b[0m\u001b[0;34m[\u001b[0m\u001b[0;36m2\u001b[0m\u001b[0;34m]\u001b[0m\u001b[0;34m)\u001b[0m\u001b[0;34m)\u001b[0m\u001b[0;34m\u001b[0m\u001b[0;34m\u001b[0m\u001b[0m\n\u001b[1;32m     11\u001b[0m     \u001b[0mprint\u001b[0m\u001b[0;34m(\u001b[0m\u001b[0ml\u001b[0m\u001b[0;34m[\u001b[0m\u001b[0;36m0\u001b[0m\u001b[0;34m]\u001b[0m\u001b[0;34m)\u001b[0m\u001b[0;34m\u001b[0m\u001b[0;34m\u001b[0m\u001b[0m\n",
      "\u001b[0;31mNameError\u001b[0m: name 'difference_and_t_test' is not defined"
     ]
    }
   ],
   "metadata": {
    "scrolled": true
   }
  },
  {
   "cell_type": "code",
   "execution_count": 61,
   "source": [
    "#np.shape(epochs_averaged)\n",
    "#epochs_ready_ISC_ts_low = np.reshape(epochs_averaged_ISC_ts_low,[1,91,2060])\n",
    "b"
   ],
   "outputs": [
    {
     "output_type": "stream",
     "name": "stdout",
     "text": [
      "Permuting 999 times...\n"
     ]
    },
    {
     "output_type": "execute_result",
     "data": {
      "text/plain": [
       "array([0.001])"
      ]
     },
     "metadata": {},
     "execution_count": 61
    }
   ],
   "metadata": {}
  },
  {
   "cell_type": "code",
   "execution_count": 48,
   "source": [
    "events = np.zeros([2,3],dtype=int)\n",
    "#def ISCed_inversion(subject,events):\n",
    " #   e = epochs(subject,events)\n",
    "events[0][0] = 1\n",
    "events[0][2] = 83\n",
    "\n",
    "\n",
    "info_low = mne.create_info(sub1_raw.info['ch_names'],sfreq=500,ch_types = 'eeg')\n",
    "\n",
    "raw_low = mne.io.RawArray(epochs_averaged_ISC_ts_low,info)\n",
    "ep_low = mne.EpochsArray(epochs_ready_ISC_ts_low,info_low)\n",
    "\n",
    "\n"
   ],
   "outputs": [
    {
     "output_type": "stream",
     "name": "stdout",
     "text": [
      "Creating RawArray with float64 data, n_channels=91, n_times=2060\n",
      "    Range : 0 ... 2059 =      0.000 ...     4.118 secs\n",
      "Ready.\n",
      "Not setting metadata\n",
      "Not setting metadata\n",
      "1 matching events found\n",
      "No baseline correction applied\n",
      "0 projection items activated\n",
      "0 bad epochs dropped\n"
     ]
    }
   ],
   "metadata": {
    "scrolled": true
   }
  },
  {
   "cell_type": "code",
   "execution_count": null,
   "source": [],
   "outputs": [],
   "metadata": {}
  },
  {
   "cell_type": "code",
   "execution_count": 49,
   "source": [
    "#mne.make_fixed_length_events(raw,start=0,duration = 0.5)\n",
    "raw_low.set_montage('GSN-HydroCel-129')"
   ],
   "outputs": [
    {
     "output_type": "error",
     "ename": "TypeError",
     "evalue": "expected str, bytes or os.PathLike object, not NoneType",
     "traceback": [
      "\u001b[0;31m---------------------------------------------------------------------------\u001b[0m",
      "\u001b[0;31mTypeError\u001b[0m                                 Traceback (most recent call last)",
      "\u001b[0;32m/opt/campux/virtualenv/deeplearning-u20/lib/python3.8/site-packages/IPython/core/formatters.py\u001b[0m in \u001b[0;36m__call__\u001b[0;34m(self, obj)\u001b[0m\n\u001b[1;32m    343\u001b[0m             \u001b[0mmethod\u001b[0m \u001b[0;34m=\u001b[0m \u001b[0mget_real_method\u001b[0m\u001b[0;34m(\u001b[0m\u001b[0mobj\u001b[0m\u001b[0;34m,\u001b[0m \u001b[0mself\u001b[0m\u001b[0;34m.\u001b[0m\u001b[0mprint_method\u001b[0m\u001b[0;34m)\u001b[0m\u001b[0;34m\u001b[0m\u001b[0;34m\u001b[0m\u001b[0m\n\u001b[1;32m    344\u001b[0m             \u001b[0;32mif\u001b[0m \u001b[0mmethod\u001b[0m \u001b[0;32mis\u001b[0m \u001b[0;32mnot\u001b[0m \u001b[0;32mNone\u001b[0m\u001b[0;34m:\u001b[0m\u001b[0;34m\u001b[0m\u001b[0;34m\u001b[0m\u001b[0m\n\u001b[0;32m--> 345\u001b[0;31m                 \u001b[0;32mreturn\u001b[0m \u001b[0mmethod\u001b[0m\u001b[0;34m(\u001b[0m\u001b[0;34m)\u001b[0m\u001b[0;34m\u001b[0m\u001b[0;34m\u001b[0m\u001b[0m\n\u001b[0m\u001b[1;32m    346\u001b[0m             \u001b[0;32mreturn\u001b[0m \u001b[0;32mNone\u001b[0m\u001b[0;34m\u001b[0m\u001b[0;34m\u001b[0m\u001b[0m\n\u001b[1;32m    347\u001b[0m         \u001b[0;32melse\u001b[0m\u001b[0;34m:\u001b[0m\u001b[0;34m\u001b[0m\u001b[0;34m\u001b[0m\u001b[0m\n",
      "\u001b[0;32m~/.local/lib/python3.8/site-packages/mne/io/base.py\u001b[0m in \u001b[0;36m_repr_html_\u001b[0;34m(self, caption)\u001b[0m\n\u001b[1;32m   1761\u001b[0m \u001b[0;34m\u001b[0m\u001b[0m\n\u001b[1;32m   1762\u001b[0m     \u001b[0;32mdef\u001b[0m \u001b[0m_repr_html_\u001b[0m\u001b[0;34m(\u001b[0m\u001b[0mself\u001b[0m\u001b[0;34m,\u001b[0m \u001b[0mcaption\u001b[0m\u001b[0;34m=\u001b[0m\u001b[0;32mNone\u001b[0m\u001b[0;34m)\u001b[0m\u001b[0;34m:\u001b[0m\u001b[0;34m\u001b[0m\u001b[0;34m\u001b[0m\u001b[0m\n\u001b[0;32m-> 1763\u001b[0;31m         \u001b[0mbasenames\u001b[0m \u001b[0;34m=\u001b[0m \u001b[0;34m[\u001b[0m\u001b[0mos\u001b[0m\u001b[0;34m.\u001b[0m\u001b[0mpath\u001b[0m\u001b[0;34m.\u001b[0m\u001b[0mbasename\u001b[0m\u001b[0;34m(\u001b[0m\u001b[0mf\u001b[0m\u001b[0;34m)\u001b[0m \u001b[0;32mfor\u001b[0m \u001b[0mf\u001b[0m \u001b[0;32min\u001b[0m \u001b[0mself\u001b[0m\u001b[0;34m.\u001b[0m\u001b[0m_filenames\u001b[0m\u001b[0;34m]\u001b[0m\u001b[0;34m\u001b[0m\u001b[0;34m\u001b[0m\u001b[0m\n\u001b[0m\u001b[1;32m   1764\u001b[0m         \u001b[0mm\u001b[0m\u001b[0;34m,\u001b[0m \u001b[0ms\u001b[0m \u001b[0;34m=\u001b[0m \u001b[0mdivmod\u001b[0m\u001b[0;34m(\u001b[0m\u001b[0mself\u001b[0m\u001b[0;34m.\u001b[0m\u001b[0m_last_time\u001b[0m \u001b[0;34m-\u001b[0m \u001b[0mself\u001b[0m\u001b[0;34m.\u001b[0m\u001b[0mfirst_time\u001b[0m\u001b[0;34m,\u001b[0m \u001b[0;36m60\u001b[0m\u001b[0;34m)\u001b[0m\u001b[0;34m\u001b[0m\u001b[0;34m\u001b[0m\u001b[0m\n\u001b[1;32m   1765\u001b[0m         \u001b[0mh\u001b[0m\u001b[0;34m,\u001b[0m \u001b[0mm\u001b[0m \u001b[0;34m=\u001b[0m \u001b[0mdivmod\u001b[0m\u001b[0;34m(\u001b[0m\u001b[0mm\u001b[0m\u001b[0;34m,\u001b[0m \u001b[0;36m60\u001b[0m\u001b[0;34m)\u001b[0m\u001b[0;34m\u001b[0m\u001b[0;34m\u001b[0m\u001b[0m\n",
      "\u001b[0;32m~/.local/lib/python3.8/site-packages/mne/io/base.py\u001b[0m in \u001b[0;36m<listcomp>\u001b[0;34m(.0)\u001b[0m\n\u001b[1;32m   1761\u001b[0m \u001b[0;34m\u001b[0m\u001b[0m\n\u001b[1;32m   1762\u001b[0m     \u001b[0;32mdef\u001b[0m \u001b[0m_repr_html_\u001b[0m\u001b[0;34m(\u001b[0m\u001b[0mself\u001b[0m\u001b[0;34m,\u001b[0m \u001b[0mcaption\u001b[0m\u001b[0;34m=\u001b[0m\u001b[0;32mNone\u001b[0m\u001b[0;34m)\u001b[0m\u001b[0;34m:\u001b[0m\u001b[0;34m\u001b[0m\u001b[0;34m\u001b[0m\u001b[0m\n\u001b[0;32m-> 1763\u001b[0;31m         \u001b[0mbasenames\u001b[0m \u001b[0;34m=\u001b[0m \u001b[0;34m[\u001b[0m\u001b[0mos\u001b[0m\u001b[0;34m.\u001b[0m\u001b[0mpath\u001b[0m\u001b[0;34m.\u001b[0m\u001b[0mbasename\u001b[0m\u001b[0;34m(\u001b[0m\u001b[0mf\u001b[0m\u001b[0;34m)\u001b[0m \u001b[0;32mfor\u001b[0m \u001b[0mf\u001b[0m \u001b[0;32min\u001b[0m \u001b[0mself\u001b[0m\u001b[0;34m.\u001b[0m\u001b[0m_filenames\u001b[0m\u001b[0;34m]\u001b[0m\u001b[0;34m\u001b[0m\u001b[0;34m\u001b[0m\u001b[0m\n\u001b[0m\u001b[1;32m   1764\u001b[0m         \u001b[0mm\u001b[0m\u001b[0;34m,\u001b[0m \u001b[0ms\u001b[0m \u001b[0;34m=\u001b[0m \u001b[0mdivmod\u001b[0m\u001b[0;34m(\u001b[0m\u001b[0mself\u001b[0m\u001b[0;34m.\u001b[0m\u001b[0m_last_time\u001b[0m \u001b[0;34m-\u001b[0m \u001b[0mself\u001b[0m\u001b[0;34m.\u001b[0m\u001b[0mfirst_time\u001b[0m\u001b[0;34m,\u001b[0m \u001b[0;36m60\u001b[0m\u001b[0;34m)\u001b[0m\u001b[0;34m\u001b[0m\u001b[0;34m\u001b[0m\u001b[0m\n\u001b[1;32m   1765\u001b[0m         \u001b[0mh\u001b[0m\u001b[0;34m,\u001b[0m \u001b[0mm\u001b[0m \u001b[0;34m=\u001b[0m \u001b[0mdivmod\u001b[0m\u001b[0;34m(\u001b[0m\u001b[0mm\u001b[0m\u001b[0;34m,\u001b[0m \u001b[0;36m60\u001b[0m\u001b[0;34m)\u001b[0m\u001b[0;34m\u001b[0m\u001b[0;34m\u001b[0m\u001b[0m\n",
      "\u001b[0;32m/usr/lib/python3.8/posixpath.py\u001b[0m in \u001b[0;36mbasename\u001b[0;34m(p)\u001b[0m\n\u001b[1;32m    140\u001b[0m \u001b[0;32mdef\u001b[0m \u001b[0mbasename\u001b[0m\u001b[0;34m(\u001b[0m\u001b[0mp\u001b[0m\u001b[0;34m)\u001b[0m\u001b[0;34m:\u001b[0m\u001b[0;34m\u001b[0m\u001b[0;34m\u001b[0m\u001b[0m\n\u001b[1;32m    141\u001b[0m     \u001b[0;34m\"\"\"Returns the final component of a pathname\"\"\"\u001b[0m\u001b[0;34m\u001b[0m\u001b[0;34m\u001b[0m\u001b[0m\n\u001b[0;32m--> 142\u001b[0;31m     \u001b[0mp\u001b[0m \u001b[0;34m=\u001b[0m \u001b[0mos\u001b[0m\u001b[0;34m.\u001b[0m\u001b[0mfspath\u001b[0m\u001b[0;34m(\u001b[0m\u001b[0mp\u001b[0m\u001b[0;34m)\u001b[0m\u001b[0;34m\u001b[0m\u001b[0;34m\u001b[0m\u001b[0m\n\u001b[0m\u001b[1;32m    143\u001b[0m     \u001b[0msep\u001b[0m \u001b[0;34m=\u001b[0m \u001b[0m_get_sep\u001b[0m\u001b[0;34m(\u001b[0m\u001b[0mp\u001b[0m\u001b[0;34m)\u001b[0m\u001b[0;34m\u001b[0m\u001b[0;34m\u001b[0m\u001b[0m\n\u001b[1;32m    144\u001b[0m     \u001b[0mi\u001b[0m \u001b[0;34m=\u001b[0m \u001b[0mp\u001b[0m\u001b[0;34m.\u001b[0m\u001b[0mrfind\u001b[0m\u001b[0;34m(\u001b[0m\u001b[0msep\u001b[0m\u001b[0;34m)\u001b[0m \u001b[0;34m+\u001b[0m \u001b[0;36m1\u001b[0m\u001b[0;34m\u001b[0m\u001b[0;34m\u001b[0m\u001b[0m\n",
      "\u001b[0;31mTypeError\u001b[0m: expected str, bytes or os.PathLike object, not NoneType"
     ]
    },
    {
     "output_type": "execute_result",
     "data": {
      "text/plain": [
       "<RawArray | 91 x 2060 (4.1 s), ~1.6 MB, data loaded>"
      ]
     },
     "metadata": {},
     "execution_count": 49
    }
   ],
   "metadata": {}
  },
  {
   "cell_type": "code",
   "execution_count": 55,
   "source": [
    "stc_psd_low,sensor_psd_low = comp_source_psd(raw_low)"
   ],
   "outputs": [
    {
     "output_type": "stream",
     "name": "stdout",
     "text": [
      "Using up to 20 segments\n",
      "Number of samples used : 2000\n",
      "[done]\n",
      "Converting forward solution to surface orientation\n",
      "    No patch info available. The standard source space normals will be employed in the rotation to the local surface coordinates....\n",
      "    Converting to surface-based source orientations...\n",
      "    [done]\n",
      "Computing inverse operator with 91 channels.\n",
      "    91 out of 91 channels remain after picking\n",
      "Selected 91 channels\n",
      "Creating the depth weighting matrix...\n",
      "    91 EEG channels\n",
      "    limit = 20485/20484 = 2.194331\n",
      "    scale = 146509 exp = 0.8\n",
      "Applying loose dipole orientations to surface source spaces: 0.2\n",
      "Whitening the forward solution.\n",
      "Computing rank from covariance with rank=None\n",
      "    Using tolerance 2.8 (2.2e-16 eps * 91 dim * 1.4e+14  max singular value)\n",
      "    Estimated rank (eeg): 91\n",
      "    EEG: rank 91 computed from 91 data channels with 0 projectors\n",
      "    Setting small EEG eigenvalues to zero (without PCA)\n",
      "Creating the source covariance matrix\n",
      "Adjusting source covariance matrix.\n",
      "Computing SVD of whitened and weighted lead field matrix.\n"
     ]
    },
    {
     "output_type": "stream",
     "name": "stderr",
     "text": [
      "<ipython-input-52-5a15ac21a8ce>:6: RuntimeWarning: No average EEG reference present in info[\"projs\"], covariance may be adversely affected. Consider recomputing covariance using with an average eeg reference projector added.\n",
      "  inverse_operator = mne.minimum_norm.make_inverse_operator(\n",
      "<ipython-input-52-5a15ac21a8ce>:6: RuntimeWarning: No average EEG reference present in info[\"projs\"], covariance may be adversely affected. Consider recomputing covariance using with an average eeg reference projector added.\n",
      "  inverse_operator = mne.minimum_norm.make_inverse_operator(\n"
     ]
    },
    {
     "output_type": "stream",
     "name": "stdout",
     "text": [
      "    largest singular value = 4.96348\n",
      "    scaling factor to adjust the trace = 6.7643e+07 (nchan = 91 nzero = 0)\n",
      "Not setting metadata\n",
      "Not setting metadata\n",
      "2 matching events found\n",
      "No baseline correction applied\n",
      "0 projection items activated\n",
      "Considering frequencies 0 ... 40 Hz\n",
      "Preparing the inverse operator for use...\n",
      "    Scaled noise and source covariance from nave = 1 to nave = 1\n",
      "    Created the regularized inverter\n",
      "    The projection vectors do not apply to these channels.\n",
      "    Created the whitener using a noise covariance matrix with rank 91 (0 small eigenvalues omitted)\n",
      "    Computing optimized source covariance (eLORETA)...\n",
      "        Using independent orientation weights\n",
      "        Fitting up to 20 iterations (this make take a while)...\n",
      "        Converged on iteration 10 (5e-07 < 1e-06)\n",
      "        Updating inverse with weighted eigen leads\n",
      "[done]\n",
      "Picked 91 channels from the data\n",
      "Computing inverse...\n",
      "    Eigenleads already weighted ... \n",
      "Reducing data rank 91 -> 91\n",
      "Using hann windowing on at most 2 epochs\n"
     ]
    },
    {
     "output_type": "display_data",
     "data": {
      "application/vnd.jupyter.widget-view+json": {
       "model_id": "d076c0ad1db446d8bca5dcd34839ba61",
       "version_major": 2,
       "version_minor": 0
      },
      "text/plain": [
       "  0%|          |  : 0/2 [00:00<?,       ?it/s]"
      ]
     },
     "metadata": {}
    }
   ],
   "metadata": {
    "scrolled": true
   }
  },
  {
   "cell_type": "code",
   "execution_count": 68,
   "source": [
    "\n",
    "freq_bands_2 = dict(\n",
    "        delta=(2, 4), theta=(5, 7), alpha=(8, 13), beta=(15, 29), gamma=(30, 45))\n",
    "topos_2 = dict(vv=dict(), opm=dict())\n",
    "stcs_dict_2 = dict(vv=dict(), opm=dict())\n",
    "    \n",
    "    \n",
    "topo_norm_2 = sensor_psd_low.data.sum(axis=1, keepdims=True)\n",
    "stc_norm_2 = stc_psd_low.sum() \n",
    "\n",
    "for band, limits in freq_bands_2.items():\n",
    "        data = sensor_psd_low.copy().crop(*limits).data.sum(axis=1, keepdims=True)\n",
    "        topos_2[band] = mne.EvokedArray(\n",
    "            100 * data / topo_norm_2, sensor_psd_low.info)\n",
    "        stcs_dict_2[band] = \\\n",
    "            100 * stc_psd_low.copy().crop(*limits).sum() / stc_norm_2.data"
   ],
   "outputs": [
    {
     "output_type": "stream",
     "name": "stderr",
     "text": [
      "<ipython-input-68-b823aa4c9406>:11: RuntimeWarning: tmax is not in Evoked time interval. tmax is set to evoked.tmax (39.7949 sec)\n",
      "  data = sensor_psd_low.copy().crop(*limits).data.sum(axis=1, keepdims=True)\n"
     ]
    }
   ],
   "metadata": {
    "scrolled": false
   }
  },
  {
   "cell_type": "code",
   "execution_count": 77,
   "source": [
    "%matplotlib qt\n",
    "%gui qt\n",
    "def plot_band2(kind, band):\n",
    "    \"\"\"Plot activity within a frequency band on the subject's brain.\"\"\"\n",
    "    #title = \"%s\\n(%d Hz)\" % (freq_bands[band])\n",
    "    topos_2[band].plot_topomap(\n",
    "         scalings=1., cbar_fmt='%0.1f',vmin=4.434287102645273e-10, cmap='inferno')\n",
    "    \n",
    "    brain = stcs_dict_2[band].plot(\n",
    "        subject=subject, subjects_dir=subjects_dir, views='cau', hemi='lh',\n",
    "         colormap='inferno',backend='matplotlib',\n",
    "        time_viewer=False, show_traces=False,\n",
    "        clim=dict(kind='percent', lims=(70, 85, 99)), smoothing_steps=10)\n",
    "    brain.show_view(dict(azimuth=0, elevation=0), roll=0)\n",
    "\n",
    "fig_theta, brain_theta = plot_band2('vv', 'alpha')"
   ],
   "outputs": [
    {
     "output_type": "stream",
     "name": "stdout",
     "text": [
      "Using control points [22.27427641 25.61981469 34.17295972]\n",
      "Octahedron subdivision grade 6\n",
      "    Triangle neighbors and vertex normals...\n",
      "Loading geometry from /homes/v20subra/mne_data/MNE-fsaverage-data/fsaverage/surf/lh.sphere...\n",
      "Setting up the triangulation for the decimated surface...\n",
      "    10 smooth iterations done.\n"
     ]
    },
    {
     "output_type": "error",
     "ename": "AttributeError",
     "evalue": "'Figure' object has no attribute 'show_view'",
     "traceback": [
      "\u001b[0;31m---------------------------------------------------------------------------\u001b[0m",
      "\u001b[0;31mAttributeError\u001b[0m                            Traceback (most recent call last)",
      "\u001b[0;32m<ipython-input-77-2076cb10b1f9>\u001b[0m in \u001b[0;36m<module>\u001b[0;34m\u001b[0m\n\u001b[1;32m     13\u001b[0m     \u001b[0mbrain\u001b[0m\u001b[0;34m.\u001b[0m\u001b[0mshow_view\u001b[0m\u001b[0;34m(\u001b[0m\u001b[0mdict\u001b[0m\u001b[0;34m(\u001b[0m\u001b[0mazimuth\u001b[0m\u001b[0;34m=\u001b[0m\u001b[0;36m0\u001b[0m\u001b[0;34m,\u001b[0m \u001b[0melevation\u001b[0m\u001b[0;34m=\u001b[0m\u001b[0;36m0\u001b[0m\u001b[0;34m)\u001b[0m\u001b[0;34m,\u001b[0m \u001b[0mroll\u001b[0m\u001b[0;34m=\u001b[0m\u001b[0;36m0\u001b[0m\u001b[0;34m)\u001b[0m\u001b[0;34m\u001b[0m\u001b[0;34m\u001b[0m\u001b[0m\n\u001b[1;32m     14\u001b[0m \u001b[0;34m\u001b[0m\u001b[0m\n\u001b[0;32m---> 15\u001b[0;31m \u001b[0mfig_theta\u001b[0m\u001b[0;34m,\u001b[0m \u001b[0mbrain_theta\u001b[0m \u001b[0;34m=\u001b[0m \u001b[0mplot_band2\u001b[0m\u001b[0;34m(\u001b[0m\u001b[0;34m'vv'\u001b[0m\u001b[0;34m,\u001b[0m \u001b[0;34m'alpha'\u001b[0m\u001b[0;34m)\u001b[0m\u001b[0;34m\u001b[0m\u001b[0;34m\u001b[0m\u001b[0m\n\u001b[0m",
      "\u001b[0;32m<ipython-input-77-2076cb10b1f9>\u001b[0m in \u001b[0;36mplot_band2\u001b[0;34m(kind, band)\u001b[0m\n\u001b[1;32m     11\u001b[0m         \u001b[0mtime_viewer\u001b[0m\u001b[0;34m=\u001b[0m\u001b[0;32mFalse\u001b[0m\u001b[0;34m,\u001b[0m \u001b[0mshow_traces\u001b[0m\u001b[0;34m=\u001b[0m\u001b[0;32mFalse\u001b[0m\u001b[0;34m,\u001b[0m\u001b[0;34m\u001b[0m\u001b[0;34m\u001b[0m\u001b[0m\n\u001b[1;32m     12\u001b[0m         clim=dict(kind='percent', lims=(70, 85, 99)), smoothing_steps=10)\n\u001b[0;32m---> 13\u001b[0;31m     \u001b[0mbrain\u001b[0m\u001b[0;34m.\u001b[0m\u001b[0mshow_view\u001b[0m\u001b[0;34m(\u001b[0m\u001b[0mdict\u001b[0m\u001b[0;34m(\u001b[0m\u001b[0mazimuth\u001b[0m\u001b[0;34m=\u001b[0m\u001b[0;36m0\u001b[0m\u001b[0;34m,\u001b[0m \u001b[0melevation\u001b[0m\u001b[0;34m=\u001b[0m\u001b[0;36m0\u001b[0m\u001b[0;34m)\u001b[0m\u001b[0;34m,\u001b[0m \u001b[0mroll\u001b[0m\u001b[0;34m=\u001b[0m\u001b[0;36m0\u001b[0m\u001b[0;34m)\u001b[0m\u001b[0;34m\u001b[0m\u001b[0;34m\u001b[0m\u001b[0m\n\u001b[0m\u001b[1;32m     14\u001b[0m \u001b[0;34m\u001b[0m\u001b[0m\n\u001b[1;32m     15\u001b[0m \u001b[0mfig_theta\u001b[0m\u001b[0;34m,\u001b[0m \u001b[0mbrain_theta\u001b[0m \u001b[0;34m=\u001b[0m \u001b[0mplot_band2\u001b[0m\u001b[0;34m(\u001b[0m\u001b[0;34m'vv'\u001b[0m\u001b[0;34m,\u001b[0m \u001b[0;34m'alpha'\u001b[0m\u001b[0;34m)\u001b[0m\u001b[0;34m\u001b[0m\u001b[0;34m\u001b[0m\u001b[0m\n",
      "\u001b[0;31mAttributeError\u001b[0m: 'Figure' object has no attribute 'show_view'"
     ]
    }
   ],
   "metadata": {}
  },
  {
   "cell_type": "code",
   "execution_count": null,
   "source": [],
   "outputs": [],
   "metadata": {}
  },
  {
   "cell_type": "code",
   "execution_count": 29,
   "source": [
    "mins =list()\n",
    "maxs = list()\n",
    "for band, limits in freq_bands.items():\n",
    "        \n",
    "        mins.append(np.min(topos[band].data))\n",
    "        maxs.append(np.max(topos[band].data))\n",
    "print(np.where(mins==np.min(mins)))\n",
    "print(np.where(maxs==np.max(maxs)))\n",
    "#topos"
   ],
   "outputs": [
    {
     "output_type": "stream",
     "name": "stdout",
     "text": [
      "(array([4]),)\n",
      "(array([0]),)\n"
     ]
    }
   ],
   "metadata": {}
  },
  {
   "cell_type": "code",
   "execution_count": null,
   "source": [],
   "outputs": [],
   "metadata": {}
  },
  {
   "cell_type": "code",
   "execution_count": null,
   "source": [],
   "outputs": [],
   "metadata": {
    "scrolled": false
   }
  },
  {
   "cell_type": "markdown",
   "source": [
    "# Independent Source Inversion"
   ],
   "metadata": {
    "scrolled": true
   }
  },
  {
   "cell_type": "code",
   "execution_count": 12,
   "source": [
    "indexes = np.hstack([np.arange(159*500-50,159*500+50)])#,np.arange(67*500,72*500),np.arange(77*500,84*500),np.arange(130*500,136*500),np.arange(155*500,165*500)])\n",
    "indexes_low = np.hstack([np.arange(100*500-50,100*500+50)])"
   ],
   "outputs": [],
   "metadata": {
    "scrolled": true
   }
  },
  {
   "cell_type": "code",
   "execution_count": 13,
   "source": [
    "\n",
    "def ISCed_inversion(indexed_subject_data):\n",
    "    #e = epochs(subject,events)\n",
    "    \n",
    "    ep = mne.EpochsArray(indexed_subject_data,mne.create_info(sub1_raw.info['ch_names'],sfreq=500,ch_types = 'eeg'))\n",
    "    raw = mne.io.RawArray(ep.get_data().reshape(91,100),sub1_raw.info)\n",
    "\n",
    "\n",
    "    cov_ =mne.compute_covariance(ep)\n",
    "\n",
    "\n",
    "    \n",
    "    inverse_operator = make_inverse_operator(sub1_raw.info, fwd_model, cov_)\n",
    "\n",
    "\n",
    "    method = \"eLORETA\"\n",
    "    snr = 3.\n",
    "    lambda2 = 1. / snr ** 2\n",
    "\n",
    "\n",
    "    stc = apply_inverse_epochs(ep, inverse_operator, lambda2,\n",
    "                             method=method, pick_ori=None, verbose=True)\n",
    "    \n",
    "    \n",
    "    return stc\n"
   ],
   "outputs": [],
   "metadata": {}
  },
  {
   "cell_type": "code",
   "execution_count": 22,
   "source": [
    "np.shape(epochs1_ISC_ts.get_data()[:,:,indexes])"
   ],
   "outputs": [
    {
     "output_type": "execute_result",
     "data": {
      "text/plain": [
       "(1, 91, 2060)"
      ]
     },
     "metadata": {},
     "execution_count": 22
    }
   ],
   "metadata": {}
  },
  {
   "cell_type": "code",
   "execution_count": 92,
   "source": [
    "#isc_results['condition1']['A'][0]\n",
    "#sub1_trial = isc_results['condition1']['A'][0] @ sub1_raw.get_data()\n",
    "import tqdm\n",
    "#sub1_trial = np.zeros([91,85001])\n",
    "#a = [sub1_trial[:,i] (sub1_raw.get_data()[:,i]*isc_results['condition1']['A'][0]) for i in tqdm.tqdm(range(86040))]\n",
    " #sub1_trial[:,i] = (sub1_raw.get_data()[:,i]*isc_results['condition1']['A'][0])   \n",
    "\n",
    "def element_wise_multi(epochs):\n",
    "    subjects = isc_results['condition1']['A'][0] @ epochs\n",
    "    return subjects\n",
    "\n",
    "(element_wise_multi(epochs5_ISC_ts.get_data()[:,:,indexes]))\n",
    "\n",
    "#np.shape(isc_results['condition1']['A'][0],sub1_raw.get_data())"
   ],
   "outputs": [
    {
     "output_type": "execute_result",
     "data": {
      "text/plain": [
       "array([[-0.27480874,  0.8037702 ,  1.50161777, ..., -1.98247456,\n",
       "        -1.77634126, -2.79833024]])"
      ]
     },
     "metadata": {},
     "execution_count": 92
    }
   ],
   "metadata": {
    "scrolled": true
   }
  },
  {
   "cell_type": "code",
   "execution_count": 17,
   "source": [
    "def epochs_filter(epochs1_ISC_ts,epochs2_ISC_ts,epochs3_ISC_ts,epochs4_ISC_ts,epochs5_ISC_ts,epochs6_ISC_ts,\\\n",
    "                 epochs7_ISC_ts,epochs8_ISC_ts,epochs9_ISC_ts,epochs10_ISC_ts,indexes):\n",
    "    epochs1_ISC_ts_filtered = element_wise_multi(epochs1_ISC_ts.get_data()[:,:,indexes].reshape([91,100]))\n",
    "    epochs2_ISC_ts_filtered = element_wise_multi(epochs2_ISC_ts.get_data()[:,:,indexes].reshape([91,100]))\n",
    "    epochs3_ISC_ts_filtered = element_wise_multi(epochs3_ISC_ts.get_data()[:,:,indexes].reshape([91,100]))\n",
    "    epochs4_ISC_ts_filtered = element_wise_multi(epochs4_ISC_ts.get_data()[:,:,indexes].reshape([91,100]))\n",
    "    epochs5_ISC_ts_filtered = element_wise_multi(epochs5_ISC_ts.get_data()[:,:,indexes].reshape([91,100]))\n",
    "    epochs6_ISC_ts_filtered = element_wise_multi(epochs6_ISC_ts.get_data()[:,:,indexes].reshape([91,100]))\n",
    "    epochs7_ISC_ts_filtered = element_wise_multi(epochs7_ISC_ts.get_data()[:,:,indexes].reshape([91,100]))\n",
    "    epochs8_ISC_ts_filtered = element_wise_multi(epochs8_ISC_ts.get_data()[:,:,indexes].reshape([91,100]))\n",
    "    epochs9_ISC_ts_filtered = element_wise_multi(epochs9_ISC_ts.get_data()[:,:,indexes].reshape([91,100]))\n",
    "    epochs10_ISC_ts_filtered = element_wise_multi(epochs10_ISC_ts.get_data()[:,:,indexes].reshape([91,100]))\n",
    "    \n",
    "    return epochs1_ISC_ts_filtered,epochs2_ISC_ts_filtered,\\\n",
    "            epochs3_ISC_ts_filtered,epochs4_ISC_ts_filtered,\\\n",
    "            epochs5_ISC_ts_filtered,epochs6_ISC_ts_filtered,\\\n",
    "            epochs7_ISC_ts_filtered,epochs8_ISC_ts_filtered,\\\n",
    "            epochs9_ISC_ts_filtered,epochs10_ISC_ts_filtered"
   ],
   "outputs": [],
   "metadata": {}
  },
  {
   "cell_type": "code",
   "execution_count": 206,
   "source": [
    "fwd_model = mne.make_forward_solution(sub1_raw.info, trans=trans, src=source_space, bem=bem, eeg=True, mindist=5.0)\n",
    "\n",
    "def inversion(epochs1_ISC_ts_filtered,epochs2_ISC_ts_filtered,epochs3_ISC_ts_filtered,epochs4_ISC_ts_filtered,\\\n",
    "             epochs5_ISC_ts_filtered,epochs6_ISC_ts_filtered,epochs7_ISC_ts_filtered,epochs8_ISC_ts_filtered,\\\n",
    "             epochs9_ISC_ts_filtered,epochs10_ISC_ts_filtered):\n",
    "    \n",
    "    sub1_ISC_trial = ISCed_inversion(epochs1_ISC_ts_filtered.reshape([1,91,100]))\n",
    "    sub2_ISC_trial = ISCed_inversion(epochs2_ISC_ts_filtered.reshape([1,91,100]))\n",
    "    sub3_ISC_trial = ISCed_inversion(epochs3_ISC_ts_filtered.reshape([1,91,100]))\n",
    "    sub4_ISC_trial = ISCed_inversion(epochs4_ISC_ts_filtered.reshape([1,91,100]))\n",
    "    sub5_ISC_trial = ISCed_inversion(epochs5_ISC_ts_filtered.reshape([1,91,100]))\n",
    "    sub6_ISC_trial = ISCed_inversion(epochs6_ISC_ts_filtered.reshape([1,91,100]))\n",
    "    sub7_ISC_trial = ISCed_inversion(epochs7_ISC_ts_filtered.reshape([1,91,100]))\n",
    "    sub8_ISC_trial = ISCed_inversion(epochs8_ISC_ts_filtered.reshape([1,91,100]))\n",
    "    sub9_ISC_trial = ISCed_inversion(epochs9_ISC_ts_filtered.reshape([1,91,100]))\n",
    "    sub10_ISC_trial = ISCed_inversion(epochs10_ISC_ts_filtered.reshape([1,91,100]))\n",
    "    averaged_stc = (sub1_ISC_trial[0]+sub2_ISC_trial[0]+sub3_ISC_trial[0]+sub4_ISC_trial[0]+sub5_ISC_trial[0]+sub6_ISC_trial[0]+sub7_ISC_trial[0]+sub8_ISC_trial[0]+sub9_ISC_trial[0]+sub10_ISC_trial[0])/10\n",
    "    \n",
    "    return averaged_stc\n",
    "            "
   ],
   "outputs": [
    {
     "output_type": "stream",
     "name": "stdout",
     "text": [
      "Source space          : /homes/v20subra/mne_data/MNE-fsaverage-data/fsaverage/bem/fsaverage-ico-5-src.fif\n",
      "MRI -> head transform : /homes/v20subra/.local/lib/python3.8/site-packages/mne/data/fsaverage/fsaverage-trans.fif\n",
      "Measurement data      : instance of Info\n",
      "Conductor model   : /homes/v20subra/mne_data/MNE-fsaverage-data/fsaverage/bem/fsaverage-5120-5120-5120-bem-sol.fif\n",
      "Accurate field computations\n",
      "Do computations in head coordinates\n",
      "Free source orientations\n",
      "\n",
      "Reading /homes/v20subra/mne_data/MNE-fsaverage-data/fsaverage/bem/fsaverage-ico-5-src.fif...\n",
      "Read 2 source spaces a total of 20484 active source locations\n",
      "\n",
      "Coordinate transformation: MRI (surface RAS) -> head\n",
      "     0.999994  0.003552  0.000202      -1.76 mm\n",
      "    -0.003558  0.998389  0.056626      31.09 mm\n",
      "    -0.000001 -0.056626  0.998395      39.60 mm\n",
      "     0.000000  0.000000  0.000000       1.00\n",
      "\n",
      "Read  91 EEG channels from info\n",
      "Head coordinate coil definitions created.\n",
      "Source spaces are now in head coordinates.\n",
      "\n",
      "Setting up the BEM model using /homes/v20subra/mne_data/MNE-fsaverage-data/fsaverage/bem/fsaverage-5120-5120-5120-bem-sol.fif...\n",
      "\n",
      "Loading surfaces...\n",
      "\n",
      "Loading the solution matrix...\n",
      "\n",
      "Three-layer model surfaces loaded.\n",
      "Loaded linear_collocation BEM solution from /homes/v20subra/mne_data/MNE-fsaverage-data/fsaverage/bem/fsaverage-5120-5120-5120-bem-sol.fif\n",
      "Employing the head->MRI coordinate transform with the BEM model.\n",
      "BEM model fsaverage-5120-5120-5120-bem-sol.fif is now set up\n",
      "\n",
      "Source spaces are in head coordinates.\n",
      "Checking that the sources are inside the surface and at least    5.0 mm away (will take a few...)\n",
      "    Skipping interior check for 2433 sources that fit inside a sphere of radius   47.7 mm\n",
      "    Skipping solid angle check for 0 points using Qhull\n",
      "    Skipping interior check for 2241 sources that fit inside a sphere of radius   47.7 mm\n",
      "    Skipping solid angle check for 0 points using Qhull\n",
      "\n",
      "Setting up for EEG...\n",
      "Computing EEG at 20484 source locations (free orientations)...\n",
      "\n",
      "Finished.\n"
     ]
    }
   ],
   "metadata": {
    "scrolled": true
   }
  },
  {
   "cell_type": "code",
   "execution_count": 207,
   "source": [
    "epochs1_ISC_ts_filtered,epochs2_ISC_ts_filtered,\\\n",
    "            epochs3_ISC_ts_filtered,epochs4_ISC_ts_filtered,\\\n",
    "            epochs5_ISC_ts_filtered,epochs6_ISC_ts_filtered,\\\n",
    "            epochs7_ISC_ts_filtered,epochs8_ISC_ts_filtered,\\\n",
    "            epochs9_ISC_ts_filtered,epochs10_ISC_ts_filtered = epochs_filter(epochs1_ISC_ts,epochs2_ISC_ts,epochs3_ISC_ts,epochs4_ISC_ts,epochs5_ISC_ts,epochs6_ISC_ts,\\\n",
    "                 epochs7_ISC_ts,epochs8_ISC_ts,epochs9_ISC_ts,epochs10_ISC_ts,indexes)\n",
    "\n",
    "\n",
    "epochs1_ISC_ts_filtered_low,epochs2_ISC_ts_filtered_low,\\\n",
    "            epochs3_ISC_ts_filtered_low,epochs4_ISC_ts_filtered_low,\\\n",
    "            epochs5_ISC_ts_filtered_low,epochs6_ISC_ts_filtered_low,\\\n",
    "            epochs7_ISC_ts_filtered_low,epochs8_ISC_ts_filtered_low,\\\n",
    "            epochs9_ISC_ts_filtered_low,epochs10_ISC_ts_filtered_low = epochs_filter(epochs1_ISC_ts,epochs2_ISC_ts,epochs3_ISC_ts,epochs4_ISC_ts,epochs5_ISC_ts,epochs6_ISC_ts,\\\n",
    "                 epochs7_ISC_ts,epochs8_ISC_ts,epochs9_ISC_ts,epochs10_ISC_ts,indexes_low)"
   ],
   "outputs": [],
   "metadata": {}
  },
  {
   "cell_type": "code",
   "execution_count": 208,
   "source": [
    "#fwd_model = mne.make_forward_solution(sub1_raw.info, trans=trans, src=source_space, bem=bem, eeg=True, mindist=5.0)\n",
    "avg_ISC_trial = inversion(epochs1_ISC_ts_filtered,epochs2_ISC_ts_filtered,epochs3_ISC_ts_filtered,epochs4_ISC_ts_filtered,\\\n",
    "             epochs5_ISC_ts_filtered,epochs6_ISC_ts_filtered,epochs7_ISC_ts_filtered,epochs8_ISC_ts_filtered,\\\n",
    "             epochs9_ISC_ts_filtered,epochs10_ISC_ts_filtered)\n",
    "\n",
    "\n",
    "avg_trial_low = inversion(epochs1_ISC_ts_filtered_low,epochs2_ISC_ts_filtered_low,\\\n",
    "            epochs3_ISC_ts_filtered_low,epochs4_ISC_ts_filtered_low,\\\n",
    "            epochs5_ISC_ts_filtered_low,epochs6_ISC_ts_filtered_low,\\\n",
    "            epochs7_ISC_ts_filtered_low,epochs8_ISC_ts_filtered_low,\\\n",
    "            epochs9_ISC_ts_filtered_low,epochs10_ISC_ts_filtered_low)"
   ],
   "outputs": [
    {
     "output_type": "stream",
     "name": "stdout",
     "text": [
      "Not setting metadata\n",
      "Not setting metadata\n",
      "1 matching events found\n",
      "No baseline correction applied\n",
      "0 projection items activated\n",
      "0 bad epochs dropped\n",
      "Creating RawArray with float64 data, n_channels=91, n_times=100\n",
      "    Range : 0 ... 99 =      0.000 ...     0.198 secs\n",
      "Ready.\n",
      "Computing rank from data with rank=None\n",
      "    Using tolerance 4.8e-07 (2.2e-16 eps * 91 dim * 2.4e+07  max singular value)\n",
      "    Estimated rank (eeg): 91\n",
      "    EEG: rank 91 computed from 91 data channels with 0 projectors\n",
      "Reducing data rank from 91 -> 91\n",
      "Estimating covariance using EMPIRICAL\n",
      "Done.\n",
      "Number of samples used : 100\n",
      "[done]\n",
      "Converting forward solution to surface orientation\n",
      "    No patch info available. The standard source space normals will be employed in the rotation to the local surface coordinates....\n",
      "    Converting to surface-based source orientations...\n",
      "    [done]\n",
      "Computing inverse operator with 91 channels.\n",
      "    91 out of 91 channels remain after picking\n"
     ]
    },
    {
     "output_type": "stream",
     "name": "stderr",
     "text": [
      "<ipython-input-13-345bb3e1c0ab>:8: RuntimeWarning: Epochs are not baseline corrected, covariance matrix may be inaccurate\n",
      "  cov_ =mne.compute_covariance(ep)\n",
      "<ipython-input-13-345bb3e1c0ab>:8: RuntimeWarning: Too few samples (required : 460 got : 100), covariance estimate may be unreliable\n",
      "  cov_ =mne.compute_covariance(ep)\n"
     ]
    },
    {
     "output_type": "stream",
     "name": "stdout",
     "text": [
      "Selected 91 channels\n",
      "Creating the depth weighting matrix...\n",
      "    91 EEG channels\n",
      "    limit = 20485/20484 = 2.194331\n",
      "    scale = 146509 exp = 0.8\n",
      "Applying loose dipole orientations to surface source spaces: 0.2\n",
      "Whitening the forward solution.\n",
      "Computing rank from covariance with rank=None\n",
      "    Using tolerance 0.0011 (2.2e-16 eps * 91 dim * 5.6e+10  max singular value)\n",
      "    Estimated rank (eeg): 73\n",
      "    EEG: rank 73 computed from 91 data channels with 0 projectors\n",
      "    Setting small EEG eigenvalues to zero (without PCA)\n",
      "Creating the source covariance matrix\n",
      "Adjusting source covariance matrix.\n",
      "Computing SVD of whitened and weighted lead field matrix.\n"
     ]
    },
    {
     "output_type": "stream",
     "name": "stderr",
     "text": [
      "<ipython-input-13-345bb3e1c0ab>:12: RuntimeWarning: No average EEG reference present in info[\"projs\"], covariance may be adversely affected. Consider recomputing covariance using with an average eeg reference projector added.\n",
      "  inverse_operator = make_inverse_operator(sub1_raw.info, fwd_model, cov_)\n",
      "<ipython-input-13-345bb3e1c0ab>:12: RuntimeWarning: No average EEG reference present in info[\"projs\"], covariance may be adversely affected. Consider recomputing covariance using with an average eeg reference projector added.\n",
      "  inverse_operator = make_inverse_operator(sub1_raw.info, fwd_model, cov_)\n"
     ]
    },
    {
     "output_type": "stream",
     "name": "stdout",
     "text": [
      "    largest singular value = 6.27018\n",
      "    scaling factor to adjust the trace = 1.74534e+21 (nchan = 91 nzero = 18)\n",
      "Preparing the inverse operator for use...\n",
      "    Scaled noise and source covariance from nave = 1 to nave = 1\n",
      "    Created the regularized inverter\n",
      "    The projection vectors do not apply to these channels.\n",
      "    Created the whitener using a noise covariance matrix with rank 73 (18 small eigenvalues omitted)\n",
      "    Computing optimized source covariance (eLORETA)...\n",
      "        Using independent orientation weights\n",
      "        Fitting up to 20 iterations (this make take a while)...\n",
      "        Converged on iteration 8 (7.7e-07 < 1e-06)\n",
      "        Updating inverse with weighted eigen leads\n",
      "[done]\n",
      "Picked 91 channels from the data\n",
      "Computing inverse...\n",
      "    Eigenleads already weighted ... \n",
      "Processing epoch : 1 / 1\n",
      "combining the current components...\n",
      "[done]\n",
      "Not setting metadata\n",
      "Not setting metadata\n",
      "1 matching events found\n",
      "No baseline correction applied\n",
      "0 projection items activated\n",
      "0 bad epochs dropped\n",
      "Creating RawArray with float64 data, n_channels=91, n_times=100\n",
      "    Range : 0 ... 99 =      0.000 ...     0.198 secs\n",
      "Ready.\n",
      "Computing rank from data with rank=None\n",
      "    Using tolerance 4.5e-07 (2.2e-16 eps * 91 dim * 2.2e+07  max singular value)\n",
      "    Estimated rank (eeg): 91\n",
      "    EEG: rank 91 computed from 91 data channels with 0 projectors\n",
      "Reducing data rank from 91 -> 91\n",
      "Estimating covariance using EMPIRICAL\n",
      "Done.\n",
      "Number of samples used : 100\n",
      "[done]\n",
      "Converting forward solution to surface orientation\n",
      "    No patch info available. The standard source space normals will be employed in the rotation to the local surface coordinates....\n",
      "    Converting to surface-based source orientations...\n",
      "    [done]\n",
      "Computing inverse operator with 91 channels.\n",
      "    91 out of 91 channels remain after picking\n"
     ]
    },
    {
     "output_type": "stream",
     "name": "stderr",
     "text": [
      "<ipython-input-13-345bb3e1c0ab>:8: RuntimeWarning: Epochs are not baseline corrected, covariance matrix may be inaccurate\n",
      "  cov_ =mne.compute_covariance(ep)\n",
      "<ipython-input-13-345bb3e1c0ab>:8: RuntimeWarning: Too few samples (required : 460 got : 100), covariance estimate may be unreliable\n",
      "  cov_ =mne.compute_covariance(ep)\n"
     ]
    },
    {
     "output_type": "stream",
     "name": "stdout",
     "text": [
      "Selected 91 channels\n",
      "Creating the depth weighting matrix...\n",
      "    91 EEG channels\n",
      "    limit = 20485/20484 = 2.194331\n",
      "    scale = 146509 exp = 0.8\n",
      "Applying loose dipole orientations to surface source spaces: 0.2\n",
      "Whitening the forward solution.\n",
      "Computing rank from covariance with rank=None\n",
      "    Using tolerance 0.001 (2.2e-16 eps * 91 dim * 5.1e+10  max singular value)\n",
      "    Estimated rank (eeg): 79\n",
      "    EEG: rank 79 computed from 91 data channels with 0 projectors\n",
      "    Setting small EEG eigenvalues to zero (without PCA)\n",
      "Creating the source covariance matrix\n",
      "Adjusting source covariance matrix.\n",
      "Computing SVD of whitened and weighted lead field matrix.\n"
     ]
    },
    {
     "output_type": "stream",
     "name": "stderr",
     "text": [
      "<ipython-input-13-345bb3e1c0ab>:12: RuntimeWarning: No average EEG reference present in info[\"projs\"], covariance may be adversely affected. Consider recomputing covariance using with an average eeg reference projector added.\n",
      "  inverse_operator = make_inverse_operator(sub1_raw.info, fwd_model, cov_)\n",
      "<ipython-input-13-345bb3e1c0ab>:12: RuntimeWarning: No average EEG reference present in info[\"projs\"], covariance may be adversely affected. Consider recomputing covariance using with an average eeg reference projector added.\n",
      "  inverse_operator = make_inverse_operator(sub1_raw.info, fwd_model, cov_)\n"
     ]
    },
    {
     "output_type": "stream",
     "name": "stdout",
     "text": [
      "    largest singular value = 5.78169\n",
      "    scaling factor to adjust the trace = 1.08236e+21 (nchan = 91 nzero = 12)\n",
      "Preparing the inverse operator for use...\n",
      "    Scaled noise and source covariance from nave = 1 to nave = 1\n",
      "    Created the regularized inverter\n",
      "    The projection vectors do not apply to these channels.\n",
      "    Created the whitener using a noise covariance matrix with rank 79 (12 small eigenvalues omitted)\n",
      "    Computing optimized source covariance (eLORETA)...\n",
      "        Using independent orientation weights\n",
      "        Fitting up to 20 iterations (this make take a while)...\n",
      "        Converged on iteration 9 (4.2e-07 < 1e-06)\n",
      "        Updating inverse with weighted eigen leads\n",
      "[done]\n",
      "Picked 91 channels from the data\n",
      "Computing inverse...\n",
      "    Eigenleads already weighted ... \n",
      "Processing epoch : 1 / 1\n",
      "combining the current components...\n",
      "[done]\n",
      "Not setting metadata\n",
      "Not setting metadata\n",
      "1 matching events found\n",
      "No baseline correction applied\n",
      "0 projection items activated\n",
      "0 bad epochs dropped\n",
      "Creating RawArray with float64 data, n_channels=91, n_times=100\n",
      "    Range : 0 ... 99 =      0.000 ...     0.198 secs\n",
      "Ready.\n",
      "Computing rank from data with rank=None\n",
      "    Using tolerance 3.5e-07 (2.2e-16 eps * 91 dim * 1.7e+07  max singular value)\n",
      "    Estimated rank (eeg): 91\n",
      "    EEG: rank 91 computed from 91 data channels with 0 projectors\n",
      "Reducing data rank from 91 -> 91\n",
      "Estimating covariance using EMPIRICAL\n",
      "Done.\n",
      "Number of samples used : 100\n",
      "[done]\n",
      "Converting forward solution to surface orientation\n",
      "    No patch info available. The standard source space normals will be employed in the rotation to the local surface coordinates....\n",
      "    Converting to surface-based source orientations...\n",
      "    [done]\n",
      "Computing inverse operator with 91 channels.\n",
      "    91 out of 91 channels remain after picking\n"
     ]
    },
    {
     "output_type": "stream",
     "name": "stderr",
     "text": [
      "<ipython-input-13-345bb3e1c0ab>:8: RuntimeWarning: Epochs are not baseline corrected, covariance matrix may be inaccurate\n",
      "  cov_ =mne.compute_covariance(ep)\n",
      "<ipython-input-13-345bb3e1c0ab>:8: RuntimeWarning: Too few samples (required : 460 got : 100), covariance estimate may be unreliable\n",
      "  cov_ =mne.compute_covariance(ep)\n"
     ]
    },
    {
     "output_type": "stream",
     "name": "stdout",
     "text": [
      "Selected 91 channels\n",
      "Creating the depth weighting matrix...\n",
      "    91 EEG channels\n",
      "    limit = 20485/20484 = 2.194331\n",
      "    scale = 146509 exp = 0.8\n",
      "Applying loose dipole orientations to surface source spaces: 0.2\n",
      "Whitening the forward solution.\n",
      "Computing rank from covariance with rank=None\n",
      "    Using tolerance 0.00062 (2.2e-16 eps * 91 dim * 3.1e+10  max singular value)\n",
      "    Estimated rank (eeg): 79\n",
      "    EEG: rank 79 computed from 91 data channels with 0 projectors\n",
      "    Setting small EEG eigenvalues to zero (without PCA)\n",
      "Creating the source covariance matrix\n",
      "Adjusting source covariance matrix.\n",
      "Computing SVD of whitened and weighted lead field matrix.\n"
     ]
    },
    {
     "output_type": "stream",
     "name": "stderr",
     "text": [
      "<ipython-input-13-345bb3e1c0ab>:12: RuntimeWarning: No average EEG reference present in info[\"projs\"], covariance may be adversely affected. Consider recomputing covariance using with an average eeg reference projector added.\n",
      "  inverse_operator = make_inverse_operator(sub1_raw.info, fwd_model, cov_)\n",
      "<ipython-input-13-345bb3e1c0ab>:12: RuntimeWarning: No average EEG reference present in info[\"projs\"], covariance may be adversely affected. Consider recomputing covariance using with an average eeg reference projector added.\n",
      "  inverse_operator = make_inverse_operator(sub1_raw.info, fwd_model, cov_)\n"
     ]
    },
    {
     "output_type": "stream",
     "name": "stdout",
     "text": [
      "    largest singular value = 5.86398\n",
      "    scaling factor to adjust the trace = 2.05809e+21 (nchan = 91 nzero = 12)\n",
      "Preparing the inverse operator for use...\n",
      "    Scaled noise and source covariance from nave = 1 to nave = 1\n",
      "    Created the regularized inverter\n",
      "    The projection vectors do not apply to these channels.\n",
      "    Created the whitener using a noise covariance matrix with rank 79 (12 small eigenvalues omitted)\n",
      "    Computing optimized source covariance (eLORETA)...\n",
      "        Using independent orientation weights\n",
      "        Fitting up to 20 iterations (this make take a while)...\n",
      "        Converged on iteration 9 (3.4e-07 < 1e-06)\n",
      "        Updating inverse with weighted eigen leads\n",
      "[done]\n",
      "Picked 91 channels from the data\n",
      "Computing inverse...\n",
      "    Eigenleads already weighted ... \n",
      "Processing epoch : 1 / 1\n",
      "combining the current components...\n",
      "[done]\n",
      "Not setting metadata\n",
      "Not setting metadata\n",
      "1 matching events found\n",
      "No baseline correction applied\n",
      "0 projection items activated\n",
      "0 bad epochs dropped\n",
      "Creating RawArray with float64 data, n_channels=91, n_times=100\n",
      "    Range : 0 ... 99 =      0.000 ...     0.198 secs\n",
      "Ready.\n",
      "Computing rank from data with rank=None\n",
      "    Using tolerance 7.3e-07 (2.2e-16 eps * 91 dim * 3.6e+07  max singular value)\n",
      "    Estimated rank (eeg): 91\n",
      "    EEG: rank 91 computed from 91 data channels with 0 projectors\n",
      "Reducing data rank from 91 -> 91\n",
      "Estimating covariance using EMPIRICAL\n",
      "Done.\n",
      "Number of samples used : 100\n",
      "[done]\n",
      "Converting forward solution to surface orientation\n",
      "    No patch info available. The standard source space normals will be employed in the rotation to the local surface coordinates....\n",
      "    Converting to surface-based source orientations...\n",
      "    [done]\n",
      "Computing inverse operator with 91 channels.\n",
      "    91 out of 91 channels remain after picking\n"
     ]
    },
    {
     "output_type": "stream",
     "name": "stderr",
     "text": [
      "<ipython-input-13-345bb3e1c0ab>:8: RuntimeWarning: Epochs are not baseline corrected, covariance matrix may be inaccurate\n",
      "  cov_ =mne.compute_covariance(ep)\n",
      "<ipython-input-13-345bb3e1c0ab>:8: RuntimeWarning: Too few samples (required : 460 got : 100), covariance estimate may be unreliable\n",
      "  cov_ =mne.compute_covariance(ep)\n"
     ]
    },
    {
     "output_type": "stream",
     "name": "stdout",
     "text": [
      "Selected 91 channels\n",
      "Creating the depth weighting matrix...\n",
      "    91 EEG channels\n",
      "    limit = 20485/20484 = 2.194331\n",
      "    scale = 146509 exp = 0.8\n",
      "Applying loose dipole orientations to surface source spaces: 0.2\n",
      "Whitening the forward solution.\n",
      "Computing rank from covariance with rank=None\n",
      "    Using tolerance 0.0026 (2.2e-16 eps * 91 dim * 1.3e+11  max singular value)\n",
      "    Estimated rank (eeg): 79\n",
      "    EEG: rank 79 computed from 91 data channels with 0 projectors\n",
      "    Setting small EEG eigenvalues to zero (without PCA)\n",
      "Creating the source covariance matrix\n",
      "Adjusting source covariance matrix.\n",
      "Computing SVD of whitened and weighted lead field matrix.\n"
     ]
    },
    {
     "output_type": "stream",
     "name": "stderr",
     "text": [
      "<ipython-input-13-345bb3e1c0ab>:12: RuntimeWarning: No average EEG reference present in info[\"projs\"], covariance may be adversely affected. Consider recomputing covariance using with an average eeg reference projector added.\n",
      "  inverse_operator = make_inverse_operator(sub1_raw.info, fwd_model, cov_)\n",
      "<ipython-input-13-345bb3e1c0ab>:12: RuntimeWarning: No average EEG reference present in info[\"projs\"], covariance may be adversely affected. Consider recomputing covariance using with an average eeg reference projector added.\n",
      "  inverse_operator = make_inverse_operator(sub1_raw.info, fwd_model, cov_)\n"
     ]
    },
    {
     "output_type": "stream",
     "name": "stdout",
     "text": [
      "    largest singular value = 6.13231\n",
      "    scaling factor to adjust the trace = 7.02445e+20 (nchan = 91 nzero = 12)\n",
      "Preparing the inverse operator for use...\n",
      "    Scaled noise and source covariance from nave = 1 to nave = 1\n",
      "    Created the regularized inverter\n",
      "    The projection vectors do not apply to these channels.\n",
      "    Created the whitener using a noise covariance matrix with rank 79 (12 small eigenvalues omitted)\n",
      "    Computing optimized source covariance (eLORETA)...\n",
      "        Using independent orientation weights\n",
      "        Fitting up to 20 iterations (this make take a while)...\n",
      "        Converged on iteration 9 (2.6e-07 < 1e-06)\n",
      "        Updating inverse with weighted eigen leads\n",
      "[done]\n",
      "Picked 91 channels from the data\n",
      "Computing inverse...\n",
      "    Eigenleads already weighted ... \n",
      "Processing epoch : 1 / 1\n",
      "combining the current components...\n",
      "[done]\n",
      "Not setting metadata\n",
      "Not setting metadata\n",
      "1 matching events found\n",
      "No baseline correction applied\n",
      "0 projection items activated\n",
      "0 bad epochs dropped\n",
      "Creating RawArray with float64 data, n_channels=91, n_times=100\n",
      "    Range : 0 ... 99 =      0.000 ...     0.198 secs\n",
      "Ready.\n",
      "Computing rank from data with rank=None\n",
      "    Using tolerance 8.8e-07 (2.2e-16 eps * 91 dim * 4.4e+07  max singular value)\n",
      "    Estimated rank (eeg): 91\n",
      "    EEG: rank 91 computed from 91 data channels with 0 projectors\n",
      "Reducing data rank from 91 -> 91\n",
      "Estimating covariance using EMPIRICAL\n",
      "Done.\n",
      "Number of samples used : 100\n",
      "[done]\n",
      "Converting forward solution to surface orientation\n",
      "    No patch info available. The standard source space normals will be employed in the rotation to the local surface coordinates....\n",
      "    Converting to surface-based source orientations...\n",
      "    [done]\n",
      "Computing inverse operator with 91 channels.\n",
      "    91 out of 91 channels remain after picking\n"
     ]
    },
    {
     "output_type": "stream",
     "name": "stderr",
     "text": [
      "<ipython-input-13-345bb3e1c0ab>:8: RuntimeWarning: Epochs are not baseline corrected, covariance matrix may be inaccurate\n",
      "  cov_ =mne.compute_covariance(ep)\n",
      "<ipython-input-13-345bb3e1c0ab>:8: RuntimeWarning: Too few samples (required : 460 got : 100), covariance estimate may be unreliable\n",
      "  cov_ =mne.compute_covariance(ep)\n"
     ]
    },
    {
     "output_type": "stream",
     "name": "stdout",
     "text": [
      "Selected 91 channels\n",
      "Creating the depth weighting matrix...\n",
      "    91 EEG channels\n",
      "    limit = 20485/20484 = 2.194331\n",
      "    scale = 146509 exp = 0.8\n",
      "Applying loose dipole orientations to surface source spaces: 0.2\n",
      "Whitening the forward solution.\n",
      "Computing rank from covariance with rank=None\n",
      "    Using tolerance 0.0039 (2.2e-16 eps * 91 dim * 1.9e+11  max singular value)\n",
      "    Estimated rank (eeg): 78\n",
      "    EEG: rank 78 computed from 91 data channels with 0 projectors\n",
      "    Setting small EEG eigenvalues to zero (without PCA)\n",
      "Creating the source covariance matrix\n",
      "Adjusting source covariance matrix.\n",
      "Computing SVD of whitened and weighted lead field matrix.\n"
     ]
    },
    {
     "output_type": "stream",
     "name": "stderr",
     "text": [
      "<ipython-input-13-345bb3e1c0ab>:12: RuntimeWarning: No average EEG reference present in info[\"projs\"], covariance may be adversely affected. Consider recomputing covariance using with an average eeg reference projector added.\n",
      "  inverse_operator = make_inverse_operator(sub1_raw.info, fwd_model, cov_)\n",
      "<ipython-input-13-345bb3e1c0ab>:12: RuntimeWarning: No average EEG reference present in info[\"projs\"], covariance may be adversely affected. Consider recomputing covariance using with an average eeg reference projector added.\n",
      "  inverse_operator = make_inverse_operator(sub1_raw.info, fwd_model, cov_)\n"
     ]
    },
    {
     "output_type": "stream",
     "name": "stdout",
     "text": [
      "    largest singular value = 5.75415\n",
      "    scaling factor to adjust the trace = 2.84957e+20 (nchan = 91 nzero = 13)\n",
      "Preparing the inverse operator for use...\n",
      "    Scaled noise and source covariance from nave = 1 to nave = 1\n",
      "    Created the regularized inverter\n",
      "    The projection vectors do not apply to these channels.\n",
      "    Created the whitener using a noise covariance matrix with rank 78 (13 small eigenvalues omitted)\n",
      "    Computing optimized source covariance (eLORETA)...\n",
      "        Using independent orientation weights\n",
      "        Fitting up to 20 iterations (this make take a while)...\n",
      "        Converged on iteration 8 (9.8e-07 < 1e-06)\n",
      "        Updating inverse with weighted eigen leads\n",
      "[done]\n",
      "Picked 91 channels from the data\n",
      "Computing inverse...\n",
      "    Eigenleads already weighted ... \n",
      "Processing epoch : 1 / 1\n",
      "combining the current components...\n",
      "[done]\n",
      "Not setting metadata\n",
      "Not setting metadata\n",
      "1 matching events found\n",
      "No baseline correction applied\n",
      "0 projection items activated\n",
      "0 bad epochs dropped\n",
      "Creating RawArray with float64 data, n_channels=91, n_times=100\n",
      "    Range : 0 ... 99 =      0.000 ...     0.198 secs\n",
      "Ready.\n",
      "Computing rank from data with rank=None\n",
      "    Using tolerance 4e-07 (2.2e-16 eps * 91 dim * 2e+07  max singular value)\n",
      "    Estimated rank (eeg): 91\n",
      "    EEG: rank 91 computed from 91 data channels with 0 projectors\n",
      "Reducing data rank from 91 -> 91\n",
      "Estimating covariance using EMPIRICAL\n",
      "Done.\n",
      "Number of samples used : 100\n",
      "[done]\n",
      "Converting forward solution to surface orientation\n",
      "    No patch info available. The standard source space normals will be employed in the rotation to the local surface coordinates....\n",
      "    Converting to surface-based source orientations...\n",
      "    [done]\n",
      "Computing inverse operator with 91 channels.\n",
      "    91 out of 91 channels remain after picking\n"
     ]
    },
    {
     "output_type": "stream",
     "name": "stderr",
     "text": [
      "<ipython-input-13-345bb3e1c0ab>:8: RuntimeWarning: Epochs are not baseline corrected, covariance matrix may be inaccurate\n",
      "  cov_ =mne.compute_covariance(ep)\n",
      "<ipython-input-13-345bb3e1c0ab>:8: RuntimeWarning: Too few samples (required : 460 got : 100), covariance estimate may be unreliable\n",
      "  cov_ =mne.compute_covariance(ep)\n"
     ]
    },
    {
     "output_type": "stream",
     "name": "stdout",
     "text": [
      "Selected 91 channels\n",
      "Creating the depth weighting matrix...\n",
      "    91 EEG channels\n",
      "    limit = 20485/20484 = 2.194331\n",
      "    scale = 146509 exp = 0.8\n",
      "Applying loose dipole orientations to surface source spaces: 0.2\n",
      "Whitening the forward solution.\n",
      "Computing rank from covariance with rank=None\n",
      "    Using tolerance 0.0008 (2.2e-16 eps * 91 dim * 4e+10  max singular value)\n",
      "    Estimated rank (eeg): 80\n",
      "    EEG: rank 80 computed from 91 data channels with 0 projectors\n",
      "    Setting small EEG eigenvalues to zero (without PCA)\n",
      "Creating the source covariance matrix\n",
      "Adjusting source covariance matrix.\n",
      "Computing SVD of whitened and weighted lead field matrix.\n"
     ]
    },
    {
     "output_type": "stream",
     "name": "stderr",
     "text": [
      "<ipython-input-13-345bb3e1c0ab>:12: RuntimeWarning: No average EEG reference present in info[\"projs\"], covariance may be adversely affected. Consider recomputing covariance using with an average eeg reference projector added.\n",
      "  inverse_operator = make_inverse_operator(sub1_raw.info, fwd_model, cov_)\n",
      "<ipython-input-13-345bb3e1c0ab>:12: RuntimeWarning: No average EEG reference present in info[\"projs\"], covariance may be adversely affected. Consider recomputing covariance using with an average eeg reference projector added.\n",
      "  inverse_operator = make_inverse_operator(sub1_raw.info, fwd_model, cov_)\n"
     ]
    },
    {
     "output_type": "stream",
     "name": "stdout",
     "text": [
      "    largest singular value = 5.73928\n",
      "    scaling factor to adjust the trace = 1.96291e+21 (nchan = 91 nzero = 11)\n",
      "Preparing the inverse operator for use...\n",
      "    Scaled noise and source covariance from nave = 1 to nave = 1\n",
      "    Created the regularized inverter\n",
      "    The projection vectors do not apply to these channels.\n",
      "    Created the whitener using a noise covariance matrix with rank 80 (11 small eigenvalues omitted)\n",
      "    Computing optimized source covariance (eLORETA)...\n",
      "        Using independent orientation weights\n",
      "        Fitting up to 20 iterations (this make take a while)...\n",
      "        Converged on iteration 8 (8.2e-07 < 1e-06)\n",
      "        Updating inverse with weighted eigen leads\n",
      "[done]\n",
      "Picked 91 channels from the data\n",
      "Computing inverse...\n",
      "    Eigenleads already weighted ... \n",
      "Processing epoch : 1 / 1\n",
      "combining the current components...\n",
      "[done]\n",
      "Not setting metadata\n",
      "Not setting metadata\n",
      "1 matching events found\n",
      "No baseline correction applied\n",
      "0 projection items activated\n",
      "0 bad epochs dropped\n",
      "Creating RawArray with float64 data, n_channels=91, n_times=100\n",
      "    Range : 0 ... 99 =      0.000 ...     0.198 secs\n",
      "Ready.\n",
      "Computing rank from data with rank=None\n",
      "    Using tolerance 3.2e-07 (2.2e-16 eps * 91 dim * 1.6e+07  max singular value)\n",
      "    Estimated rank (eeg): 91\n",
      "    EEG: rank 91 computed from 91 data channels with 0 projectors\n",
      "Reducing data rank from 91 -> 91\n",
      "Estimating covariance using EMPIRICAL\n",
      "Done.\n",
      "Number of samples used : 100\n",
      "[done]\n",
      "Converting forward solution to surface orientation\n",
      "    No patch info available. The standard source space normals will be employed in the rotation to the local surface coordinates....\n",
      "    Converting to surface-based source orientations...\n",
      "    [done]\n",
      "Computing inverse operator with 91 channels.\n",
      "    91 out of 91 channels remain after picking\n"
     ]
    },
    {
     "output_type": "stream",
     "name": "stderr",
     "text": [
      "<ipython-input-13-345bb3e1c0ab>:8: RuntimeWarning: Epochs are not baseline corrected, covariance matrix may be inaccurate\n",
      "  cov_ =mne.compute_covariance(ep)\n",
      "<ipython-input-13-345bb3e1c0ab>:8: RuntimeWarning: Too few samples (required : 460 got : 100), covariance estimate may be unreliable\n",
      "  cov_ =mne.compute_covariance(ep)\n"
     ]
    },
    {
     "output_type": "stream",
     "name": "stdout",
     "text": [
      "Selected 91 channels\n",
      "Creating the depth weighting matrix...\n",
      "    91 EEG channels\n",
      "    limit = 20485/20484 = 2.194331\n",
      "    scale = 146509 exp = 0.8\n",
      "Applying loose dipole orientations to surface source spaces: 0.2\n",
      "Whitening the forward solution.\n",
      "Computing rank from covariance with rank=None\n",
      "    Using tolerance 0.0005 (2.2e-16 eps * 91 dim * 2.5e+10  max singular value)\n",
      "    Estimated rank (eeg): 77\n",
      "    EEG: rank 77 computed from 91 data channels with 0 projectors\n",
      "    Setting small EEG eigenvalues to zero (without PCA)\n",
      "Creating the source covariance matrix\n",
      "Adjusting source covariance matrix.\n",
      "Computing SVD of whitened and weighted lead field matrix.\n"
     ]
    },
    {
     "output_type": "stream",
     "name": "stderr",
     "text": [
      "<ipython-input-13-345bb3e1c0ab>:12: RuntimeWarning: No average EEG reference present in info[\"projs\"], covariance may be adversely affected. Consider recomputing covariance using with an average eeg reference projector added.\n",
      "  inverse_operator = make_inverse_operator(sub1_raw.info, fwd_model, cov_)\n",
      "<ipython-input-13-345bb3e1c0ab>:12: RuntimeWarning: No average EEG reference present in info[\"projs\"], covariance may be adversely affected. Consider recomputing covariance using with an average eeg reference projector added.\n",
      "  inverse_operator = make_inverse_operator(sub1_raw.info, fwd_model, cov_)\n"
     ]
    },
    {
     "output_type": "stream",
     "name": "stdout",
     "text": [
      "    largest singular value = 6.6269\n",
      "    scaling factor to adjust the trace = 4.35799e+21 (nchan = 91 nzero = 14)\n",
      "Preparing the inverse operator for use...\n",
      "    Scaled noise and source covariance from nave = 1 to nave = 1\n",
      "    Created the regularized inverter\n",
      "    The projection vectors do not apply to these channels.\n",
      "    Created the whitener using a noise covariance matrix with rank 77 (14 small eigenvalues omitted)\n",
      "    Computing optimized source covariance (eLORETA)...\n",
      "        Using independent orientation weights\n",
      "        Fitting up to 20 iterations (this make take a while)...\n",
      "        Converged on iteration 9 (3.1e-07 < 1e-06)\n",
      "        Updating inverse with weighted eigen leads\n",
      "[done]\n",
      "Picked 91 channels from the data\n",
      "Computing inverse...\n",
      "    Eigenleads already weighted ... \n",
      "Processing epoch : 1 / 1\n",
      "combining the current components...\n",
      "[done]\n",
      "Not setting metadata\n",
      "Not setting metadata\n",
      "1 matching events found\n",
      "No baseline correction applied\n",
      "0 projection items activated\n",
      "0 bad epochs dropped\n",
      "Creating RawArray with float64 data, n_channels=91, n_times=100\n",
      "    Range : 0 ... 99 =      0.000 ...     0.198 secs\n",
      "Ready.\n",
      "Computing rank from data with rank=None\n",
      "    Using tolerance 3.1e-07 (2.2e-16 eps * 91 dim * 1.5e+07  max singular value)\n",
      "    Estimated rank (eeg): 91\n",
      "    EEG: rank 91 computed from 91 data channels with 0 projectors\n",
      "Reducing data rank from 91 -> 91\n",
      "Estimating covariance using EMPIRICAL\n",
      "Done.\n",
      "Number of samples used : 100\n",
      "[done]\n",
      "Converting forward solution to surface orientation\n",
      "    No patch info available. The standard source space normals will be employed in the rotation to the local surface coordinates....\n",
      "    Converting to surface-based source orientations...\n",
      "    [done]\n",
      "Computing inverse operator with 91 channels.\n",
      "    91 out of 91 channels remain after picking\n"
     ]
    },
    {
     "output_type": "stream",
     "name": "stderr",
     "text": [
      "<ipython-input-13-345bb3e1c0ab>:8: RuntimeWarning: Epochs are not baseline corrected, covariance matrix may be inaccurate\n",
      "  cov_ =mne.compute_covariance(ep)\n",
      "<ipython-input-13-345bb3e1c0ab>:8: RuntimeWarning: Too few samples (required : 460 got : 100), covariance estimate may be unreliable\n",
      "  cov_ =mne.compute_covariance(ep)\n"
     ]
    },
    {
     "output_type": "stream",
     "name": "stdout",
     "text": [
      "Selected 91 channels\n",
      "Creating the depth weighting matrix...\n",
      "    91 EEG channels\n",
      "    limit = 20485/20484 = 2.194331\n",
      "    scale = 146509 exp = 0.8\n",
      "Applying loose dipole orientations to surface source spaces: 0.2\n",
      "Whitening the forward solution.\n",
      "Computing rank from covariance with rank=None\n",
      "    Using tolerance 0.00047 (2.2e-16 eps * 91 dim * 2.3e+10  max singular value)\n",
      "    Estimated rank (eeg): 79\n",
      "    EEG: rank 79 computed from 91 data channels with 0 projectors\n",
      "    Setting small EEG eigenvalues to zero (without PCA)\n",
      "Creating the source covariance matrix\n",
      "Adjusting source covariance matrix.\n",
      "Computing SVD of whitened and weighted lead field matrix.\n"
     ]
    },
    {
     "output_type": "stream",
     "name": "stderr",
     "text": [
      "<ipython-input-13-345bb3e1c0ab>:12: RuntimeWarning: No average EEG reference present in info[\"projs\"], covariance may be adversely affected. Consider recomputing covariance using with an average eeg reference projector added.\n",
      "  inverse_operator = make_inverse_operator(sub1_raw.info, fwd_model, cov_)\n",
      "<ipython-input-13-345bb3e1c0ab>:12: RuntimeWarning: No average EEG reference present in info[\"projs\"], covariance may be adversely affected. Consider recomputing covariance using with an average eeg reference projector added.\n",
      "  inverse_operator = make_inverse_operator(sub1_raw.info, fwd_model, cov_)\n"
     ]
    },
    {
     "output_type": "stream",
     "name": "stdout",
     "text": [
      "    largest singular value = 6.22388\n",
      "    scaling factor to adjust the trace = 4.7414e+21 (nchan = 91 nzero = 12)\n",
      "Preparing the inverse operator for use...\n",
      "    Scaled noise and source covariance from nave = 1 to nave = 1\n",
      "    Created the regularized inverter\n",
      "    The projection vectors do not apply to these channels.\n",
      "    Created the whitener using a noise covariance matrix with rank 79 (12 small eigenvalues omitted)\n",
      "    Computing optimized source covariance (eLORETA)...\n",
      "        Using independent orientation weights\n",
      "        Fitting up to 20 iterations (this make take a while)...\n",
      "        Converged on iteration 8 (8.8e-07 < 1e-06)\n",
      "        Updating inverse with weighted eigen leads\n",
      "[done]\n",
      "Picked 91 channels from the data\n",
      "Computing inverse...\n",
      "    Eigenleads already weighted ... \n",
      "Processing epoch : 1 / 1\n",
      "combining the current components...\n",
      "[done]\n",
      "Not setting metadata\n",
      "Not setting metadata\n",
      "1 matching events found\n",
      "No baseline correction applied\n",
      "0 projection items activated\n",
      "0 bad epochs dropped\n",
      "Creating RawArray with float64 data, n_channels=91, n_times=100\n",
      "    Range : 0 ... 99 =      0.000 ...     0.198 secs\n",
      "Ready.\n",
      "Computing rank from data with rank=None\n",
      "    Using tolerance 3.8e-07 (2.2e-16 eps * 91 dim * 1.9e+07  max singular value)\n",
      "    Estimated rank (eeg): 91\n",
      "    EEG: rank 91 computed from 91 data channels with 0 projectors\n",
      "Reducing data rank from 91 -> 91\n",
      "Estimating covariance using EMPIRICAL\n",
      "Done.\n",
      "Number of samples used : 100\n",
      "[done]\n",
      "Converting forward solution to surface orientation\n",
      "    No patch info available. The standard source space normals will be employed in the rotation to the local surface coordinates....\n",
      "    Converting to surface-based source orientations...\n",
      "    [done]\n",
      "Computing inverse operator with 91 channels.\n",
      "    91 out of 91 channels remain after picking\n"
     ]
    },
    {
     "output_type": "stream",
     "name": "stderr",
     "text": [
      "<ipython-input-13-345bb3e1c0ab>:8: RuntimeWarning: Epochs are not baseline corrected, covariance matrix may be inaccurate\n",
      "  cov_ =mne.compute_covariance(ep)\n",
      "<ipython-input-13-345bb3e1c0ab>:8: RuntimeWarning: Too few samples (required : 460 got : 100), covariance estimate may be unreliable\n",
      "  cov_ =mne.compute_covariance(ep)\n"
     ]
    },
    {
     "output_type": "stream",
     "name": "stdout",
     "text": [
      "Selected 91 channels\n",
      "Creating the depth weighting matrix...\n",
      "    91 EEG channels\n",
      "    limit = 20485/20484 = 2.194331\n",
      "    scale = 146509 exp = 0.8\n",
      "Applying loose dipole orientations to surface source spaces: 0.2\n",
      "Whitening the forward solution.\n",
      "Computing rank from covariance with rank=None\n",
      "    Using tolerance 0.00073 (2.2e-16 eps * 91 dim * 3.6e+10  max singular value)\n",
      "    Estimated rank (eeg): 78\n",
      "    EEG: rank 78 computed from 91 data channels with 0 projectors\n",
      "    Setting small EEG eigenvalues to zero (without PCA)\n",
      "Creating the source covariance matrix\n",
      "Adjusting source covariance matrix.\n",
      "Computing SVD of whitened and weighted lead field matrix.\n"
     ]
    },
    {
     "output_type": "stream",
     "name": "stderr",
     "text": [
      "<ipython-input-13-345bb3e1c0ab>:12: RuntimeWarning: No average EEG reference present in info[\"projs\"], covariance may be adversely affected. Consider recomputing covariance using with an average eeg reference projector added.\n",
      "  inverse_operator = make_inverse_operator(sub1_raw.info, fwd_model, cov_)\n",
      "<ipython-input-13-345bb3e1c0ab>:12: RuntimeWarning: No average EEG reference present in info[\"projs\"], covariance may be adversely affected. Consider recomputing covariance using with an average eeg reference projector added.\n",
      "  inverse_operator = make_inverse_operator(sub1_raw.info, fwd_model, cov_)\n"
     ]
    },
    {
     "output_type": "stream",
     "name": "stdout",
     "text": [
      "    largest singular value = 5.89132\n",
      "    scaling factor to adjust the trace = 2.03932e+21 (nchan = 91 nzero = 13)\n",
      "Preparing the inverse operator for use...\n",
      "    Scaled noise and source covariance from nave = 1 to nave = 1\n",
      "    Created the regularized inverter\n",
      "    The projection vectors do not apply to these channels.\n",
      "    Created the whitener using a noise covariance matrix with rank 78 (13 small eigenvalues omitted)\n",
      "    Computing optimized source covariance (eLORETA)...\n",
      "        Using independent orientation weights\n",
      "        Fitting up to 20 iterations (this make take a while)...\n",
      "        Converged on iteration 9 (3.9e-07 < 1e-06)\n",
      "        Updating inverse with weighted eigen leads\n",
      "[done]\n",
      "Picked 91 channels from the data\n",
      "Computing inverse...\n",
      "    Eigenleads already weighted ... \n",
      "Processing epoch : 1 / 1\n",
      "combining the current components...\n",
      "[done]\n",
      "Not setting metadata\n",
      "Not setting metadata\n",
      "1 matching events found\n",
      "No baseline correction applied\n",
      "0 projection items activated\n",
      "0 bad epochs dropped\n",
      "Creating RawArray with float64 data, n_channels=91, n_times=100\n",
      "    Range : 0 ... 99 =      0.000 ...     0.198 secs\n",
      "Ready.\n",
      "Computing rank from data with rank=None\n",
      "    Using tolerance 5.1e-07 (2.2e-16 eps * 91 dim * 2.5e+07  max singular value)\n",
      "    Estimated rank (eeg): 91\n",
      "    EEG: rank 91 computed from 91 data channels with 0 projectors\n",
      "Reducing data rank from 91 -> 91\n",
      "Estimating covariance using EMPIRICAL\n",
      "Done.\n",
      "Number of samples used : 100\n",
      "[done]\n",
      "Converting forward solution to surface orientation\n",
      "    No patch info available. The standard source space normals will be employed in the rotation to the local surface coordinates....\n",
      "    Converting to surface-based source orientations...\n",
      "    [done]\n",
      "Computing inverse operator with 91 channels.\n",
      "    91 out of 91 channels remain after picking\n"
     ]
    },
    {
     "output_type": "stream",
     "name": "stderr",
     "text": [
      "<ipython-input-13-345bb3e1c0ab>:8: RuntimeWarning: Epochs are not baseline corrected, covariance matrix may be inaccurate\n",
      "  cov_ =mne.compute_covariance(ep)\n",
      "<ipython-input-13-345bb3e1c0ab>:8: RuntimeWarning: Too few samples (required : 460 got : 100), covariance estimate may be unreliable\n",
      "  cov_ =mne.compute_covariance(ep)\n"
     ]
    },
    {
     "output_type": "stream",
     "name": "stdout",
     "text": [
      "Selected 91 channels\n",
      "Creating the depth weighting matrix...\n",
      "    91 EEG channels\n",
      "    limit = 20485/20484 = 2.194331\n",
      "    scale = 146509 exp = 0.8\n",
      "Applying loose dipole orientations to surface source spaces: 0.2\n",
      "Whitening the forward solution.\n",
      "Computing rank from covariance with rank=None\n",
      "    Using tolerance 0.0013 (2.2e-16 eps * 91 dim * 6.3e+10  max singular value)\n",
      "    Estimated rank (eeg): 79\n",
      "    EEG: rank 79 computed from 91 data channels with 0 projectors\n",
      "    Setting small EEG eigenvalues to zero (without PCA)\n",
      "Creating the source covariance matrix\n",
      "Adjusting source covariance matrix.\n",
      "Computing SVD of whitened and weighted lead field matrix.\n"
     ]
    },
    {
     "output_type": "stream",
     "name": "stderr",
     "text": [
      "<ipython-input-13-345bb3e1c0ab>:12: RuntimeWarning: No average EEG reference present in info[\"projs\"], covariance may be adversely affected. Consider recomputing covariance using with an average eeg reference projector added.\n",
      "  inverse_operator = make_inverse_operator(sub1_raw.info, fwd_model, cov_)\n",
      "<ipython-input-13-345bb3e1c0ab>:12: RuntimeWarning: No average EEG reference present in info[\"projs\"], covariance may be adversely affected. Consider recomputing covariance using with an average eeg reference projector added.\n",
      "  inverse_operator = make_inverse_operator(sub1_raw.info, fwd_model, cov_)\n"
     ]
    },
    {
     "output_type": "stream",
     "name": "stdout",
     "text": [
      "    largest singular value = 6.77704\n",
      "    scaling factor to adjust the trace = 9.62411e+20 (nchan = 91 nzero = 12)\n",
      "Preparing the inverse operator for use...\n",
      "    Scaled noise and source covariance from nave = 1 to nave = 1\n",
      "    Created the regularized inverter\n",
      "    The projection vectors do not apply to these channels.\n",
      "    Created the whitener using a noise covariance matrix with rank 79 (12 small eigenvalues omitted)\n",
      "    Computing optimized source covariance (eLORETA)...\n",
      "        Using independent orientation weights\n",
      "        Fitting up to 20 iterations (this make take a while)...\n",
      "        Converged on iteration 9 (3.2e-07 < 1e-06)\n",
      "        Updating inverse with weighted eigen leads\n",
      "[done]\n",
      "Picked 91 channels from the data\n",
      "Computing inverse...\n",
      "    Eigenleads already weighted ... \n",
      "Processing epoch : 1 / 1\n",
      "combining the current components...\n",
      "[done]\n",
      "Not setting metadata\n",
      "Not setting metadata\n",
      "1 matching events found\n",
      "No baseline correction applied\n",
      "0 projection items activated\n",
      "0 bad epochs dropped\n",
      "Creating RawArray with float64 data, n_channels=91, n_times=100\n",
      "    Range : 0 ... 99 =      0.000 ...     0.198 secs\n",
      "Ready.\n",
      "Computing rank from data with rank=None\n",
      "    Using tolerance 2.7e-07 (2.2e-16 eps * 91 dim * 1.3e+07  max singular value)\n",
      "    Estimated rank (eeg): 91\n",
      "    EEG: rank 91 computed from 91 data channels with 0 projectors\n",
      "Reducing data rank from 91 -> 91\n",
      "Estimating covariance using EMPIRICAL\n",
      "Done.\n",
      "Number of samples used : 100\n",
      "[done]\n",
      "Converting forward solution to surface orientation\n",
      "    No patch info available. The standard source space normals will be employed in the rotation to the local surface coordinates....\n",
      "    Converting to surface-based source orientations...\n",
      "    [done]\n",
      "Computing inverse operator with 91 channels.\n",
      "    91 out of 91 channels remain after picking\n"
     ]
    },
    {
     "output_type": "stream",
     "name": "stderr",
     "text": [
      "<ipython-input-13-345bb3e1c0ab>:8: RuntimeWarning: Epochs are not baseline corrected, covariance matrix may be inaccurate\n",
      "  cov_ =mne.compute_covariance(ep)\n",
      "<ipython-input-13-345bb3e1c0ab>:8: RuntimeWarning: Too few samples (required : 460 got : 100), covariance estimate may be unreliable\n",
      "  cov_ =mne.compute_covariance(ep)\n"
     ]
    },
    {
     "output_type": "stream",
     "name": "stdout",
     "text": [
      "Selected 91 channels\n",
      "Creating the depth weighting matrix...\n",
      "    91 EEG channels\n",
      "    limit = 20485/20484 = 2.194331\n",
      "    scale = 146509 exp = 0.8\n",
      "Applying loose dipole orientations to surface source spaces: 0.2\n",
      "Whitening the forward solution.\n",
      "Computing rank from covariance with rank=None\n",
      "    Using tolerance 0.00035 (2.2e-16 eps * 91 dim * 1.8e+10  max singular value)\n",
      "    Estimated rank (eeg): 77\n",
      "    EEG: rank 77 computed from 91 data channels with 0 projectors\n",
      "    Setting small EEG eigenvalues to zero (without PCA)\n",
      "Creating the source covariance matrix\n",
      "Adjusting source covariance matrix.\n",
      "Computing SVD of whitened and weighted lead field matrix.\n"
     ]
    },
    {
     "output_type": "stream",
     "name": "stderr",
     "text": [
      "<ipython-input-13-345bb3e1c0ab>:12: RuntimeWarning: No average EEG reference present in info[\"projs\"], covariance may be adversely affected. Consider recomputing covariance using with an average eeg reference projector added.\n",
      "  inverse_operator = make_inverse_operator(sub1_raw.info, fwd_model, cov_)\n",
      "<ipython-input-13-345bb3e1c0ab>:12: RuntimeWarning: No average EEG reference present in info[\"projs\"], covariance may be adversely affected. Consider recomputing covariance using with an average eeg reference projector added.\n",
      "  inverse_operator = make_inverse_operator(sub1_raw.info, fwd_model, cov_)\n"
     ]
    },
    {
     "output_type": "stream",
     "name": "stdout",
     "text": [
      "    largest singular value = 6.80324\n",
      "    scaling factor to adjust the trace = 4.72592e+21 (nchan = 91 nzero = 14)\n",
      "Preparing the inverse operator for use...\n",
      "    Scaled noise and source covariance from nave = 1 to nave = 1\n",
      "    Created the regularized inverter\n",
      "    The projection vectors do not apply to these channels.\n",
      "    Created the whitener using a noise covariance matrix with rank 77 (14 small eigenvalues omitted)\n",
      "    Computing optimized source covariance (eLORETA)...\n",
      "        Using independent orientation weights\n",
      "        Fitting up to 20 iterations (this make take a while)...\n",
      "        Converged on iteration 9 (4.5e-07 < 1e-06)\n",
      "        Updating inverse with weighted eigen leads\n",
      "[done]\n",
      "Picked 91 channels from the data\n",
      "Computing inverse...\n",
      "    Eigenleads already weighted ... \n",
      "Processing epoch : 1 / 1\n",
      "combining the current components...\n",
      "[done]\n",
      "Not setting metadata\n",
      "Not setting metadata\n",
      "1 matching events found\n",
      "No baseline correction applied\n",
      "0 projection items activated\n",
      "0 bad epochs dropped\n",
      "Creating RawArray with float64 data, n_channels=91, n_times=100\n",
      "    Range : 0 ... 99 =      0.000 ...     0.198 secs\n",
      "Ready.\n",
      "Computing rank from data with rank=None\n",
      "    Using tolerance 7.1e-07 (2.2e-16 eps * 91 dim * 3.5e+07  max singular value)\n",
      "    Estimated rank (eeg): 91\n",
      "    EEG: rank 91 computed from 91 data channels with 0 projectors\n",
      "Reducing data rank from 91 -> 91\n",
      "Estimating covariance using EMPIRICAL\n",
      "Done.\n",
      "Number of samples used : 100\n",
      "[done]\n",
      "Converting forward solution to surface orientation\n",
      "    No patch info available. The standard source space normals will be employed in the rotation to the local surface coordinates....\n",
      "    Converting to surface-based source orientations...\n",
      "    [done]\n",
      "Computing inverse operator with 91 channels.\n",
      "    91 out of 91 channels remain after picking\n"
     ]
    },
    {
     "output_type": "stream",
     "name": "stderr",
     "text": [
      "<ipython-input-13-345bb3e1c0ab>:8: RuntimeWarning: Epochs are not baseline corrected, covariance matrix may be inaccurate\n",
      "  cov_ =mne.compute_covariance(ep)\n",
      "<ipython-input-13-345bb3e1c0ab>:8: RuntimeWarning: Too few samples (required : 460 got : 100), covariance estimate may be unreliable\n",
      "  cov_ =mne.compute_covariance(ep)\n"
     ]
    },
    {
     "output_type": "stream",
     "name": "stdout",
     "text": [
      "Selected 91 channels\n",
      "Creating the depth weighting matrix...\n",
      "    91 EEG channels\n",
      "    limit = 20485/20484 = 2.194331\n",
      "    scale = 146509 exp = 0.8\n",
      "Applying loose dipole orientations to surface source spaces: 0.2\n",
      "Whitening the forward solution.\n",
      "Computing rank from covariance with rank=None\n",
      "    Using tolerance 0.0025 (2.2e-16 eps * 91 dim * 1.3e+11  max singular value)\n",
      "    Estimated rank (eeg): 83\n",
      "    EEG: rank 83 computed from 91 data channels with 0 projectors\n",
      "    Setting small EEG eigenvalues to zero (without PCA)\n",
      "Creating the source covariance matrix\n",
      "Adjusting source covariance matrix.\n",
      "Computing SVD of whitened and weighted lead field matrix.\n"
     ]
    },
    {
     "output_type": "stream",
     "name": "stderr",
     "text": [
      "<ipython-input-13-345bb3e1c0ab>:12: RuntimeWarning: No average EEG reference present in info[\"projs\"], covariance may be adversely affected. Consider recomputing covariance using with an average eeg reference projector added.\n",
      "  inverse_operator = make_inverse_operator(sub1_raw.info, fwd_model, cov_)\n",
      "<ipython-input-13-345bb3e1c0ab>:12: RuntimeWarning: No average EEG reference present in info[\"projs\"], covariance may be adversely affected. Consider recomputing covariance using with an average eeg reference projector added.\n",
      "  inverse_operator = make_inverse_operator(sub1_raw.info, fwd_model, cov_)\n"
     ]
    },
    {
     "output_type": "stream",
     "name": "stdout",
     "text": [
      "    largest singular value = 5.37294\n",
      "    scaling factor to adjust the trace = 4.32466e+20 (nchan = 91 nzero = 8)\n",
      "Preparing the inverse operator for use...\n",
      "    Scaled noise and source covariance from nave = 1 to nave = 1\n",
      "    Created the regularized inverter\n",
      "    The projection vectors do not apply to these channels.\n",
      "    Created the whitener using a noise covariance matrix with rank 83 (8 small eigenvalues omitted)\n",
      "    Computing optimized source covariance (eLORETA)...\n",
      "        Using independent orientation weights\n",
      "        Fitting up to 20 iterations (this make take a while)...\n",
      "        Converged on iteration 9 (5.6e-07 < 1e-06)\n",
      "        Updating inverse with weighted eigen leads\n",
      "[done]\n",
      "Picked 91 channels from the data\n",
      "Computing inverse...\n",
      "    Eigenleads already weighted ... \n",
      "Processing epoch : 1 / 1\n",
      "combining the current components...\n",
      "[done]\n",
      "Not setting metadata\n",
      "Not setting metadata\n",
      "1 matching events found\n",
      "No baseline correction applied\n",
      "0 projection items activated\n",
      "0 bad epochs dropped\n",
      "Creating RawArray with float64 data, n_channels=91, n_times=100\n",
      "    Range : 0 ... 99 =      0.000 ...     0.198 secs\n",
      "Ready.\n",
      "Computing rank from data with rank=None\n",
      "    Using tolerance 3.6e-07 (2.2e-16 eps * 91 dim * 1.8e+07  max singular value)\n",
      "    Estimated rank (eeg): 91\n",
      "    EEG: rank 91 computed from 91 data channels with 0 projectors\n",
      "Reducing data rank from 91 -> 91\n",
      "Estimating covariance using EMPIRICAL\n",
      "Done.\n",
      "Number of samples used : 100\n",
      "[done]\n",
      "Converting forward solution to surface orientation\n",
      "    No patch info available. The standard source space normals will be employed in the rotation to the local surface coordinates....\n",
      "    Converting to surface-based source orientations...\n",
      "    [done]\n",
      "Computing inverse operator with 91 channels.\n",
      "    91 out of 91 channels remain after picking\n"
     ]
    },
    {
     "output_type": "stream",
     "name": "stderr",
     "text": [
      "<ipython-input-13-345bb3e1c0ab>:8: RuntimeWarning: Epochs are not baseline corrected, covariance matrix may be inaccurate\n",
      "  cov_ =mne.compute_covariance(ep)\n",
      "<ipython-input-13-345bb3e1c0ab>:8: RuntimeWarning: Too few samples (required : 460 got : 100), covariance estimate may be unreliable\n",
      "  cov_ =mne.compute_covariance(ep)\n"
     ]
    },
    {
     "output_type": "stream",
     "name": "stdout",
     "text": [
      "Selected 91 channels\n",
      "Creating the depth weighting matrix...\n",
      "    91 EEG channels\n",
      "    limit = 20485/20484 = 2.194331\n",
      "    scale = 146509 exp = 0.8\n",
      "Applying loose dipole orientations to surface source spaces: 0.2\n",
      "Whitening the forward solution.\n",
      "Computing rank from covariance with rank=None\n",
      "    Using tolerance 0.00063 (2.2e-16 eps * 91 dim * 3.1e+10  max singular value)\n",
      "    Estimated rank (eeg): 78\n",
      "    EEG: rank 78 computed from 91 data channels with 0 projectors\n",
      "    Setting small EEG eigenvalues to zero (without PCA)\n",
      "Creating the source covariance matrix\n",
      "Adjusting source covariance matrix.\n",
      "Computing SVD of whitened and weighted lead field matrix.\n"
     ]
    },
    {
     "output_type": "stream",
     "name": "stderr",
     "text": [
      "<ipython-input-13-345bb3e1c0ab>:12: RuntimeWarning: No average EEG reference present in info[\"projs\"], covariance may be adversely affected. Consider recomputing covariance using with an average eeg reference projector added.\n",
      "  inverse_operator = make_inverse_operator(sub1_raw.info, fwd_model, cov_)\n",
      "<ipython-input-13-345bb3e1c0ab>:12: RuntimeWarning: No average EEG reference present in info[\"projs\"], covariance may be adversely affected. Consider recomputing covariance using with an average eeg reference projector added.\n",
      "  inverse_operator = make_inverse_operator(sub1_raw.info, fwd_model, cov_)\n"
     ]
    },
    {
     "output_type": "stream",
     "name": "stdout",
     "text": [
      "    largest singular value = 6.93609\n",
      "    scaling factor to adjust the trace = 3.2839e+21 (nchan = 91 nzero = 13)\n",
      "Preparing the inverse operator for use...\n",
      "    Scaled noise and source covariance from nave = 1 to nave = 1\n",
      "    Created the regularized inverter\n",
      "    The projection vectors do not apply to these channels.\n",
      "    Created the whitener using a noise covariance matrix with rank 78 (13 small eigenvalues omitted)\n",
      "    Computing optimized source covariance (eLORETA)...\n",
      "        Using independent orientation weights\n",
      "        Fitting up to 20 iterations (this make take a while)...\n",
      "        Converged on iteration 9 (2.8e-07 < 1e-06)\n",
      "        Updating inverse with weighted eigen leads\n",
      "[done]\n",
      "Picked 91 channels from the data\n",
      "Computing inverse...\n",
      "    Eigenleads already weighted ... \n",
      "Processing epoch : 1 / 1\n",
      "combining the current components...\n",
      "[done]\n",
      "Not setting metadata\n",
      "Not setting metadata\n",
      "1 matching events found\n",
      "No baseline correction applied\n",
      "0 projection items activated\n",
      "0 bad epochs dropped\n",
      "Creating RawArray with float64 data, n_channels=91, n_times=100\n",
      "    Range : 0 ... 99 =      0.000 ...     0.198 secs\n",
      "Ready.\n",
      "Computing rank from data with rank=None\n",
      "    Using tolerance 4.5e-07 (2.2e-16 eps * 91 dim * 2.2e+07  max singular value)\n",
      "    Estimated rank (eeg): 91\n",
      "    EEG: rank 91 computed from 91 data channels with 0 projectors\n",
      "Reducing data rank from 91 -> 91\n",
      "Estimating covariance using EMPIRICAL\n",
      "Done.\n",
      "Number of samples used : 100\n",
      "[done]\n",
      "Converting forward solution to surface orientation\n",
      "    No patch info available. The standard source space normals will be employed in the rotation to the local surface coordinates....\n",
      "    Converting to surface-based source orientations...\n",
      "    [done]\n",
      "Computing inverse operator with 91 channels.\n",
      "    91 out of 91 channels remain after picking\n"
     ]
    },
    {
     "output_type": "stream",
     "name": "stderr",
     "text": [
      "<ipython-input-13-345bb3e1c0ab>:8: RuntimeWarning: Epochs are not baseline corrected, covariance matrix may be inaccurate\n",
      "  cov_ =mne.compute_covariance(ep)\n",
      "<ipython-input-13-345bb3e1c0ab>:8: RuntimeWarning: Too few samples (required : 460 got : 100), covariance estimate may be unreliable\n",
      "  cov_ =mne.compute_covariance(ep)\n"
     ]
    },
    {
     "output_type": "stream",
     "name": "stdout",
     "text": [
      "Selected 91 channels\n",
      "Creating the depth weighting matrix...\n",
      "    91 EEG channels\n",
      "    limit = 20485/20484 = 2.194331\n",
      "    scale = 146509 exp = 0.8\n",
      "Applying loose dipole orientations to surface source spaces: 0.2\n",
      "Whitening the forward solution.\n",
      "Computing rank from covariance with rank=None\n",
      "    Using tolerance 0.001 (2.2e-16 eps * 91 dim * 5e+10  max singular value)\n",
      "    Estimated rank (eeg): 81\n",
      "    EEG: rank 81 computed from 91 data channels with 0 projectors\n",
      "    Setting small EEG eigenvalues to zero (without PCA)\n",
      "Creating the source covariance matrix\n",
      "Adjusting source covariance matrix.\n",
      "Computing SVD of whitened and weighted lead field matrix.\n"
     ]
    },
    {
     "output_type": "stream",
     "name": "stderr",
     "text": [
      "<ipython-input-13-345bb3e1c0ab>:12: RuntimeWarning: No average EEG reference present in info[\"projs\"], covariance may be adversely affected. Consider recomputing covariance using with an average eeg reference projector added.\n",
      "  inverse_operator = make_inverse_operator(sub1_raw.info, fwd_model, cov_)\n",
      "<ipython-input-13-345bb3e1c0ab>:12: RuntimeWarning: No average EEG reference present in info[\"projs\"], covariance may be adversely affected. Consider recomputing covariance using with an average eeg reference projector added.\n",
      "  inverse_operator = make_inverse_operator(sub1_raw.info, fwd_model, cov_)\n"
     ]
    },
    {
     "output_type": "stream",
     "name": "stdout",
     "text": [
      "    largest singular value = 6.04506\n",
      "    scaling factor to adjust the trace = 1.93633e+21 (nchan = 91 nzero = 10)\n",
      "Preparing the inverse operator for use...\n",
      "    Scaled noise and source covariance from nave = 1 to nave = 1\n",
      "    Created the regularized inverter\n",
      "    The projection vectors do not apply to these channels.\n",
      "    Created the whitener using a noise covariance matrix with rank 81 (10 small eigenvalues omitted)\n",
      "    Computing optimized source covariance (eLORETA)...\n",
      "        Using independent orientation weights\n",
      "        Fitting up to 20 iterations (this make take a while)...\n",
      "        Converged on iteration 9 (4.3e-07 < 1e-06)\n",
      "        Updating inverse with weighted eigen leads\n",
      "[done]\n",
      "Picked 91 channels from the data\n",
      "Computing inverse...\n",
      "    Eigenleads already weighted ... \n",
      "Processing epoch : 1 / 1\n",
      "combining the current components...\n",
      "[done]\n",
      "Not setting metadata\n",
      "Not setting metadata\n",
      "1 matching events found\n",
      "No baseline correction applied\n",
      "0 projection items activated\n",
      "0 bad epochs dropped\n",
      "Creating RawArray with float64 data, n_channels=91, n_times=100\n",
      "    Range : 0 ... 99 =      0.000 ...     0.198 secs\n",
      "Ready.\n",
      "Computing rank from data with rank=None\n",
      "    Using tolerance 1.2e-06 (2.2e-16 eps * 91 dim * 6.2e+07  max singular value)\n",
      "    Estimated rank (eeg): 91\n",
      "    EEG: rank 91 computed from 91 data channels with 0 projectors\n",
      "Reducing data rank from 91 -> 91\n",
      "Estimating covariance using EMPIRICAL\n",
      "Done.\n",
      "Number of samples used : 100\n",
      "[done]\n",
      "Converting forward solution to surface orientation\n",
      "    No patch info available. The standard source space normals will be employed in the rotation to the local surface coordinates....\n",
      "    Converting to surface-based source orientations...\n",
      "    [done]\n",
      "Computing inverse operator with 91 channels.\n",
      "    91 out of 91 channels remain after picking\n"
     ]
    },
    {
     "output_type": "stream",
     "name": "stderr",
     "text": [
      "<ipython-input-13-345bb3e1c0ab>:8: RuntimeWarning: Epochs are not baseline corrected, covariance matrix may be inaccurate\n",
      "  cov_ =mne.compute_covariance(ep)\n",
      "<ipython-input-13-345bb3e1c0ab>:8: RuntimeWarning: Too few samples (required : 460 got : 100), covariance estimate may be unreliable\n",
      "  cov_ =mne.compute_covariance(ep)\n"
     ]
    },
    {
     "output_type": "stream",
     "name": "stdout",
     "text": [
      "Selected 91 channels\n",
      "Creating the depth weighting matrix...\n",
      "    91 EEG channels\n",
      "    limit = 20485/20484 = 2.194331\n",
      "    scale = 146509 exp = 0.8\n",
      "Applying loose dipole orientations to surface source spaces: 0.2\n",
      "Whitening the forward solution.\n",
      "Computing rank from covariance with rank=None\n",
      "    Using tolerance 0.0078 (2.2e-16 eps * 91 dim * 3.9e+11  max singular value)\n",
      "    Estimated rank (eeg): 78\n",
      "    EEG: rank 78 computed from 91 data channels with 0 projectors\n",
      "    Setting small EEG eigenvalues to zero (without PCA)\n",
      "Creating the source covariance matrix\n",
      "Adjusting source covariance matrix.\n",
      "Computing SVD of whitened and weighted lead field matrix.\n"
     ]
    },
    {
     "output_type": "stream",
     "name": "stderr",
     "text": [
      "<ipython-input-13-345bb3e1c0ab>:12: RuntimeWarning: No average EEG reference present in info[\"projs\"], covariance may be adversely affected. Consider recomputing covariance using with an average eeg reference projector added.\n",
      "  inverse_operator = make_inverse_operator(sub1_raw.info, fwd_model, cov_)\n",
      "<ipython-input-13-345bb3e1c0ab>:12: RuntimeWarning: No average EEG reference present in info[\"projs\"], covariance may be adversely affected. Consider recomputing covariance using with an average eeg reference projector added.\n",
      "  inverse_operator = make_inverse_operator(sub1_raw.info, fwd_model, cov_)\n"
     ]
    },
    {
     "output_type": "stream",
     "name": "stdout",
     "text": [
      "    largest singular value = 7.00273\n",
      "    scaling factor to adjust the trace = 2.33291e+20 (nchan = 91 nzero = 13)\n",
      "Preparing the inverse operator for use...\n",
      "    Scaled noise and source covariance from nave = 1 to nave = 1\n",
      "    Created the regularized inverter\n",
      "    The projection vectors do not apply to these channels.\n",
      "    Created the whitener using a noise covariance matrix with rank 78 (13 small eigenvalues omitted)\n",
      "    Computing optimized source covariance (eLORETA)...\n",
      "        Using independent orientation weights\n",
      "        Fitting up to 20 iterations (this make take a while)...\n",
      "        Converged on iteration 9 (2.5e-07 < 1e-06)\n",
      "        Updating inverse with weighted eigen leads\n",
      "[done]\n",
      "Picked 91 channels from the data\n",
      "Computing inverse...\n",
      "    Eigenleads already weighted ... \n",
      "Processing epoch : 1 / 1\n",
      "combining the current components...\n",
      "[done]\n",
      "Not setting metadata\n",
      "Not setting metadata\n",
      "1 matching events found\n",
      "No baseline correction applied\n",
      "0 projection items activated\n",
      "0 bad epochs dropped\n",
      "Creating RawArray with float64 data, n_channels=91, n_times=100\n",
      "    Range : 0 ... 99 =      0.000 ...     0.198 secs\n",
      "Ready.\n",
      "Computing rank from data with rank=None\n",
      "    Using tolerance 1.2e-06 (2.2e-16 eps * 91 dim * 6e+07  max singular value)\n",
      "    Estimated rank (eeg): 91\n",
      "    EEG: rank 91 computed from 91 data channels with 0 projectors\n",
      "Reducing data rank from 91 -> 91\n",
      "Estimating covariance using EMPIRICAL\n",
      "Done.\n",
      "Number of samples used : 100\n",
      "[done]\n",
      "Converting forward solution to surface orientation\n",
      "    No patch info available. The standard source space normals will be employed in the rotation to the local surface coordinates....\n",
      "    Converting to surface-based source orientations...\n",
      "    [done]\n",
      "Computing inverse operator with 91 channels.\n",
      "    91 out of 91 channels remain after picking\n"
     ]
    },
    {
     "output_type": "stream",
     "name": "stderr",
     "text": [
      "<ipython-input-13-345bb3e1c0ab>:8: RuntimeWarning: Epochs are not baseline corrected, covariance matrix may be inaccurate\n",
      "  cov_ =mne.compute_covariance(ep)\n",
      "<ipython-input-13-345bb3e1c0ab>:8: RuntimeWarning: Too few samples (required : 460 got : 100), covariance estimate may be unreliable\n",
      "  cov_ =mne.compute_covariance(ep)\n"
     ]
    },
    {
     "output_type": "stream",
     "name": "stdout",
     "text": [
      "Selected 91 channels\n",
      "Creating the depth weighting matrix...\n",
      "    91 EEG channels\n",
      "    limit = 20485/20484 = 2.194331\n",
      "    scale = 146509 exp = 0.8\n",
      "Applying loose dipole orientations to surface source spaces: 0.2\n",
      "Whitening the forward solution.\n",
      "Computing rank from covariance with rank=None\n",
      "    Using tolerance 0.0075 (2.2e-16 eps * 91 dim * 3.7e+11  max singular value)\n",
      "    Estimated rank (eeg): 78\n",
      "    EEG: rank 78 computed from 91 data channels with 0 projectors\n",
      "    Setting small EEG eigenvalues to zero (without PCA)\n",
      "Creating the source covariance matrix\n",
      "Adjusting source covariance matrix.\n",
      "Computing SVD of whitened and weighted lead field matrix.\n"
     ]
    },
    {
     "output_type": "stream",
     "name": "stderr",
     "text": [
      "<ipython-input-13-345bb3e1c0ab>:12: RuntimeWarning: No average EEG reference present in info[\"projs\"], covariance may be adversely affected. Consider recomputing covariance using with an average eeg reference projector added.\n",
      "  inverse_operator = make_inverse_operator(sub1_raw.info, fwd_model, cov_)\n",
      "<ipython-input-13-345bb3e1c0ab>:12: RuntimeWarning: No average EEG reference present in info[\"projs\"], covariance may be adversely affected. Consider recomputing covariance using with an average eeg reference projector added.\n",
      "  inverse_operator = make_inverse_operator(sub1_raw.info, fwd_model, cov_)\n"
     ]
    },
    {
     "output_type": "stream",
     "name": "stdout",
     "text": [
      "    largest singular value = 6.29055\n",
      "    scaling factor to adjust the trace = 2.57289e+20 (nchan = 91 nzero = 13)\n",
      "Preparing the inverse operator for use...\n",
      "    Scaled noise and source covariance from nave = 1 to nave = 1\n",
      "    Created the regularized inverter\n",
      "    The projection vectors do not apply to these channels.\n",
      "    Created the whitener using a noise covariance matrix with rank 78 (13 small eigenvalues omitted)\n",
      "    Computing optimized source covariance (eLORETA)...\n",
      "        Using independent orientation weights\n",
      "        Fitting up to 20 iterations (this make take a while)...\n"
     ]
    },
    {
     "output_type": "error",
     "ename": "KeyboardInterrupt",
     "evalue": "",
     "traceback": [
      "\u001b[0;31m---------------------------------------------------------------------------\u001b[0m",
      "\u001b[0;31mKeyboardInterrupt\u001b[0m                         Traceback (most recent call last)",
      "\u001b[0;32m<ipython-input-208-9a0ede09f994>\u001b[0m in \u001b[0;36m<module>\u001b[0;34m\u001b[0m\n\u001b[1;32m      5\u001b[0m \u001b[0;34m\u001b[0m\u001b[0m\n\u001b[1;32m      6\u001b[0m \u001b[0;34m\u001b[0m\u001b[0m\n\u001b[0;32m----> 7\u001b[0;31m avg_trial_low = inversion(epochs1_ISC_ts_filtered_low,epochs2_ISC_ts_filtered_low,\\\n\u001b[0m\u001b[1;32m      8\u001b[0m             \u001b[0mepochs3_ISC_ts_filtered_low\u001b[0m\u001b[0;34m,\u001b[0m\u001b[0mepochs4_ISC_ts_filtered_low\u001b[0m\u001b[0;34m,\u001b[0m\u001b[0;31m\\\u001b[0m\u001b[0;34m\u001b[0m\u001b[0;34m\u001b[0m\u001b[0m\n\u001b[1;32m      9\u001b[0m             \u001b[0mepochs5_ISC_ts_filtered_low\u001b[0m\u001b[0;34m,\u001b[0m\u001b[0mepochs6_ISC_ts_filtered_low\u001b[0m\u001b[0;34m,\u001b[0m\u001b[0;31m\\\u001b[0m\u001b[0;34m\u001b[0m\u001b[0;34m\u001b[0m\u001b[0m\n",
      "\u001b[0;32m<ipython-input-206-59d762208c41>\u001b[0m in \u001b[0;36minversion\u001b[0;34m(epochs1_ISC_ts_filtered, epochs2_ISC_ts_filtered, epochs3_ISC_ts_filtered, epochs4_ISC_ts_filtered, epochs5_ISC_ts_filtered, epochs6_ISC_ts_filtered, epochs7_ISC_ts_filtered, epochs8_ISC_ts_filtered, epochs9_ISC_ts_filtered, epochs10_ISC_ts_filtered)\u001b[0m\n\u001b[1;32m     10\u001b[0m     \u001b[0msub4_ISC_trial\u001b[0m \u001b[0;34m=\u001b[0m \u001b[0mISCed_inversion\u001b[0m\u001b[0;34m(\u001b[0m\u001b[0mepochs4_ISC_ts_filtered\u001b[0m\u001b[0;34m.\u001b[0m\u001b[0mreshape\u001b[0m\u001b[0;34m(\u001b[0m\u001b[0;34m[\u001b[0m\u001b[0;36m1\u001b[0m\u001b[0;34m,\u001b[0m\u001b[0;36m91\u001b[0m\u001b[0;34m,\u001b[0m\u001b[0;36m100\u001b[0m\u001b[0;34m]\u001b[0m\u001b[0;34m)\u001b[0m\u001b[0;34m)\u001b[0m\u001b[0;34m\u001b[0m\u001b[0;34m\u001b[0m\u001b[0m\n\u001b[1;32m     11\u001b[0m     \u001b[0msub5_ISC_trial\u001b[0m \u001b[0;34m=\u001b[0m \u001b[0mISCed_inversion\u001b[0m\u001b[0;34m(\u001b[0m\u001b[0mepochs5_ISC_ts_filtered\u001b[0m\u001b[0;34m.\u001b[0m\u001b[0mreshape\u001b[0m\u001b[0;34m(\u001b[0m\u001b[0;34m[\u001b[0m\u001b[0;36m1\u001b[0m\u001b[0;34m,\u001b[0m\u001b[0;36m91\u001b[0m\u001b[0;34m,\u001b[0m\u001b[0;36m100\u001b[0m\u001b[0;34m]\u001b[0m\u001b[0;34m)\u001b[0m\u001b[0;34m)\u001b[0m\u001b[0;34m\u001b[0m\u001b[0;34m\u001b[0m\u001b[0m\n\u001b[0;32m---> 12\u001b[0;31m     \u001b[0msub6_ISC_trial\u001b[0m \u001b[0;34m=\u001b[0m \u001b[0mISCed_inversion\u001b[0m\u001b[0;34m(\u001b[0m\u001b[0mepochs6_ISC_ts_filtered\u001b[0m\u001b[0;34m.\u001b[0m\u001b[0mreshape\u001b[0m\u001b[0;34m(\u001b[0m\u001b[0;34m[\u001b[0m\u001b[0;36m1\u001b[0m\u001b[0;34m,\u001b[0m\u001b[0;36m91\u001b[0m\u001b[0;34m,\u001b[0m\u001b[0;36m100\u001b[0m\u001b[0;34m]\u001b[0m\u001b[0;34m)\u001b[0m\u001b[0;34m)\u001b[0m\u001b[0;34m\u001b[0m\u001b[0;34m\u001b[0m\u001b[0m\n\u001b[0m\u001b[1;32m     13\u001b[0m     \u001b[0msub7_ISC_trial\u001b[0m \u001b[0;34m=\u001b[0m \u001b[0mISCed_inversion\u001b[0m\u001b[0;34m(\u001b[0m\u001b[0mepochs7_ISC_ts_filtered\u001b[0m\u001b[0;34m.\u001b[0m\u001b[0mreshape\u001b[0m\u001b[0;34m(\u001b[0m\u001b[0;34m[\u001b[0m\u001b[0;36m1\u001b[0m\u001b[0;34m,\u001b[0m\u001b[0;36m91\u001b[0m\u001b[0;34m,\u001b[0m\u001b[0;36m100\u001b[0m\u001b[0;34m]\u001b[0m\u001b[0;34m)\u001b[0m\u001b[0;34m)\u001b[0m\u001b[0;34m\u001b[0m\u001b[0;34m\u001b[0m\u001b[0m\n\u001b[1;32m     14\u001b[0m     \u001b[0msub8_ISC_trial\u001b[0m \u001b[0;34m=\u001b[0m \u001b[0mISCed_inversion\u001b[0m\u001b[0;34m(\u001b[0m\u001b[0mepochs8_ISC_ts_filtered\u001b[0m\u001b[0;34m.\u001b[0m\u001b[0mreshape\u001b[0m\u001b[0;34m(\u001b[0m\u001b[0;34m[\u001b[0m\u001b[0;36m1\u001b[0m\u001b[0;34m,\u001b[0m\u001b[0;36m91\u001b[0m\u001b[0;34m,\u001b[0m\u001b[0;36m100\u001b[0m\u001b[0;34m]\u001b[0m\u001b[0;34m)\u001b[0m\u001b[0;34m)\u001b[0m\u001b[0;34m\u001b[0m\u001b[0;34m\u001b[0m\u001b[0m\n",
      "\u001b[0;32m<ipython-input-13-345bb3e1c0ab>\u001b[0m in \u001b[0;36mISCed_inversion\u001b[0;34m(indexed_subject_data)\u001b[0m\n\u001b[1;32m     18\u001b[0m \u001b[0;34m\u001b[0m\u001b[0m\n\u001b[1;32m     19\u001b[0m \u001b[0;34m\u001b[0m\u001b[0m\n\u001b[0;32m---> 20\u001b[0;31m     stc = apply_inverse_epochs(ep, inverse_operator, lambda2,\n\u001b[0m\u001b[1;32m     21\u001b[0m                              method=method, pick_ori=None, verbose=True)\n\u001b[1;32m     22\u001b[0m \u001b[0;34m\u001b[0m\u001b[0m\n",
      "\u001b[0;32m<decorator-gen-357>\u001b[0m in \u001b[0;36mapply_inverse_epochs\u001b[0;34m(epochs, inverse_operator, lambda2, method, label, nave, pick_ori, return_generator, prepared, method_params, use_cps, verbose)\u001b[0m\n",
      "\u001b[0;32m~/.local/lib/python3.8/site-packages/mne/minimum_norm/inverse.py\u001b[0m in \u001b[0;36mapply_inverse_epochs\u001b[0;34m(epochs, inverse_operator, lambda2, method, label, nave, pick_ori, return_generator, prepared, method_params, use_cps, verbose)\u001b[0m\n\u001b[1;32m   1240\u001b[0m     \u001b[0;32mif\u001b[0m \u001b[0;32mnot\u001b[0m \u001b[0mreturn_generator\u001b[0m\u001b[0;34m:\u001b[0m\u001b[0;34m\u001b[0m\u001b[0;34m\u001b[0m\u001b[0m\n\u001b[1;32m   1241\u001b[0m         \u001b[0;31m# return a list\u001b[0m\u001b[0;34m\u001b[0m\u001b[0;34m\u001b[0m\u001b[0;34m\u001b[0m\u001b[0m\n\u001b[0;32m-> 1242\u001b[0;31m         \u001b[0mstcs\u001b[0m \u001b[0;34m=\u001b[0m \u001b[0;34m[\u001b[0m\u001b[0mstc\u001b[0m \u001b[0;32mfor\u001b[0m \u001b[0mstc\u001b[0m \u001b[0;32min\u001b[0m \u001b[0mstcs\u001b[0m\u001b[0;34m]\u001b[0m\u001b[0;34m\u001b[0m\u001b[0;34m\u001b[0m\u001b[0m\n\u001b[0m\u001b[1;32m   1243\u001b[0m \u001b[0;34m\u001b[0m\u001b[0m\n\u001b[1;32m   1244\u001b[0m     \u001b[0;32mreturn\u001b[0m \u001b[0mstcs\u001b[0m\u001b[0;34m\u001b[0m\u001b[0;34m\u001b[0m\u001b[0m\n",
      "\u001b[0;32m~/.local/lib/python3.8/site-packages/mne/minimum_norm/inverse.py\u001b[0m in \u001b[0;36m<listcomp>\u001b[0;34m(.0)\u001b[0m\n\u001b[1;32m   1240\u001b[0m     \u001b[0;32mif\u001b[0m \u001b[0;32mnot\u001b[0m \u001b[0mreturn_generator\u001b[0m\u001b[0;34m:\u001b[0m\u001b[0;34m\u001b[0m\u001b[0;34m\u001b[0m\u001b[0m\n\u001b[1;32m   1241\u001b[0m         \u001b[0;31m# return a list\u001b[0m\u001b[0;34m\u001b[0m\u001b[0;34m\u001b[0m\u001b[0;34m\u001b[0m\u001b[0m\n\u001b[0;32m-> 1242\u001b[0;31m         \u001b[0mstcs\u001b[0m \u001b[0;34m=\u001b[0m \u001b[0;34m[\u001b[0m\u001b[0mstc\u001b[0m \u001b[0;32mfor\u001b[0m \u001b[0mstc\u001b[0m \u001b[0;32min\u001b[0m \u001b[0mstcs\u001b[0m\u001b[0;34m]\u001b[0m\u001b[0;34m\u001b[0m\u001b[0;34m\u001b[0m\u001b[0m\n\u001b[0m\u001b[1;32m   1243\u001b[0m \u001b[0;34m\u001b[0m\u001b[0m\n\u001b[1;32m   1244\u001b[0m     \u001b[0;32mreturn\u001b[0m \u001b[0mstcs\u001b[0m\u001b[0;34m\u001b[0m\u001b[0;34m\u001b[0m\u001b[0m\n",
      "\u001b[0;32m~/.local/lib/python3.8/site-packages/mne/minimum_norm/inverse.py\u001b[0m in \u001b[0;36m_apply_inverse_epochs_gen\u001b[0;34m(epochs, inverse_operator, lambda2, method, label, nave, pick_ori, prepared, method_params, use_cps, verbose)\u001b[0m\n\u001b[1;32m   1126\u001b[0m     \u001b[0;31m#   Set up the inverse according to the parameters\u001b[0m\u001b[0;34m\u001b[0m\u001b[0;34m\u001b[0m\u001b[0;34m\u001b[0m\u001b[0m\n\u001b[1;32m   1127\u001b[0m     \u001b[0;31m#\u001b[0m\u001b[0;34m\u001b[0m\u001b[0;34m\u001b[0m\u001b[0;34m\u001b[0m\u001b[0m\n\u001b[0;32m-> 1128\u001b[0;31m     inv = _check_or_prepare(inverse_operator, nave, lambda2, method,\n\u001b[0m\u001b[1;32m   1129\u001b[0m                             method_params, prepared)\n\u001b[1;32m   1130\u001b[0m \u001b[0;34m\u001b[0m\u001b[0m\n",
      "\u001b[0;32m~/.local/lib/python3.8/site-packages/mne/minimum_norm/inverse.py\u001b[0m in \u001b[0;36m_check_or_prepare\u001b[0;34m(inv, nave, lambda2, method, method_params, prepared, copy)\u001b[0m\n\u001b[1;32m    487\u001b[0m     \u001b[0;34m\"\"\"Check if inverse was prepared, or prepare it.\"\"\"\u001b[0m\u001b[0;34m\u001b[0m\u001b[0;34m\u001b[0m\u001b[0m\n\u001b[1;32m    488\u001b[0m     \u001b[0;32mif\u001b[0m \u001b[0;32mnot\u001b[0m \u001b[0mprepared\u001b[0m\u001b[0;34m:\u001b[0m\u001b[0;34m\u001b[0m\u001b[0;34m\u001b[0m\u001b[0m\n\u001b[0;32m--> 489\u001b[0;31m         inv = prepare_inverse_operator(\n\u001b[0m\u001b[1;32m    490\u001b[0m             inv, nave, lambda2, method, method_params, copy=copy)\n\u001b[1;32m    491\u001b[0m     \u001b[0;32melif\u001b[0m \u001b[0;34m'colorer'\u001b[0m \u001b[0;32mnot\u001b[0m \u001b[0;32min\u001b[0m \u001b[0minv\u001b[0m\u001b[0;34m:\u001b[0m\u001b[0;34m\u001b[0m\u001b[0;34m\u001b[0m\u001b[0m\n",
      "\u001b[0;32m<decorator-gen-353>\u001b[0m in \u001b[0;36mprepare_inverse_operator\u001b[0;34m(orig, nave, lambda2, method, method_params, copy, verbose)\u001b[0m\n",
      "\u001b[0;32m~/.local/lib/python3.8/site-packages/mne/minimum_norm/inverse.py\u001b[0m in \u001b[0;36mprepare_inverse_operator\u001b[0;34m(***failed resolving arguments***)\u001b[0m\n\u001b[1;32m    598\u001b[0m     \u001b[0minv\u001b[0m\u001b[0;34m[\u001b[0m\u001b[0;34m'noisenorm'\u001b[0m\u001b[0;34m]\u001b[0m \u001b[0;34m=\u001b[0m \u001b[0;34m[\u001b[0m\u001b[0;34m]\u001b[0m\u001b[0;34m\u001b[0m\u001b[0;34m\u001b[0m\u001b[0m\n\u001b[1;32m    599\u001b[0m     \u001b[0;32mif\u001b[0m \u001b[0mmethod\u001b[0m \u001b[0;34m==\u001b[0m \u001b[0;34m'eLORETA'\u001b[0m\u001b[0;34m:\u001b[0m\u001b[0;34m\u001b[0m\u001b[0;34m\u001b[0m\u001b[0m\n\u001b[0;32m--> 600\u001b[0;31m         \u001b[0m_compute_eloreta\u001b[0m\u001b[0;34m(\u001b[0m\u001b[0minv\u001b[0m\u001b[0;34m,\u001b[0m \u001b[0mlambda2\u001b[0m\u001b[0;34m,\u001b[0m \u001b[0mmethod_params\u001b[0m\u001b[0;34m)\u001b[0m\u001b[0;34m\u001b[0m\u001b[0;34m\u001b[0m\u001b[0m\n\u001b[0m\u001b[1;32m    601\u001b[0m     \u001b[0;32melif\u001b[0m \u001b[0mmethod\u001b[0m \u001b[0;34m!=\u001b[0m \u001b[0;34m'MNE'\u001b[0m\u001b[0;34m:\u001b[0m\u001b[0;34m\u001b[0m\u001b[0;34m\u001b[0m\u001b[0m\n\u001b[1;32m    602\u001b[0m         logger.info('    Computing noise-normalization factors (%s)...'\n",
      "\u001b[0;32m~/.local/lib/python3.8/site-packages/mne/minimum_norm/_eloreta.py\u001b[0m in \u001b[0;36m_compute_eloreta\u001b[0;34m(inv, lambda2, options)\u001b[0m\n\u001b[1;32m    107\u001b[0m                 \u001b[0mR\u001b[0m\u001b[0;34m[\u001b[0m\u001b[0;34m:\u001b[0m\u001b[0;34m]\u001b[0m\u001b[0;34m,\u001b[0m \u001b[0m_\u001b[0m \u001b[0;34m=\u001b[0m \u001b[0msqrtm_sym\u001b[0m\u001b[0;34m(\u001b[0m\u001b[0mM\u001b[0m\u001b[0;34m,\u001b[0m \u001b[0minv\u001b[0m\u001b[0;34m=\u001b[0m\u001b[0;32mTrue\u001b[0m\u001b[0;34m)\u001b[0m\u001b[0;34m\u001b[0m\u001b[0;34m\u001b[0m\u001b[0m\n\u001b[1;32m    108\u001b[0m         \u001b[0mR\u001b[0m \u001b[0;34m*=\u001b[0m \u001b[0mR_prior\u001b[0m  \u001b[0;31m# reapply our prior, eLORETA undoes it\u001b[0m\u001b[0;34m\u001b[0m\u001b[0;34m\u001b[0m\u001b[0m\n\u001b[0;32m--> 109\u001b[0;31m         \u001b[0mG_R_Gt\u001b[0m \u001b[0;34m=\u001b[0m \u001b[0m_this_normalize_R\u001b[0m\u001b[0;34m(\u001b[0m\u001b[0mG\u001b[0m\u001b[0;34m,\u001b[0m \u001b[0mR\u001b[0m\u001b[0;34m,\u001b[0m \u001b[0mG_3\u001b[0m\u001b[0;34m)\u001b[0m\u001b[0;34m\u001b[0m\u001b[0;34m\u001b[0m\u001b[0m\n\u001b[0m\u001b[1;32m    110\u001b[0m \u001b[0;34m\u001b[0m\u001b[0m\n\u001b[1;32m    111\u001b[0m         \u001b[0;31m# Check for weight convergence\u001b[0m\u001b[0;34m\u001b[0m\u001b[0;34m\u001b[0m\u001b[0;34m\u001b[0m\u001b[0m\n",
      "\u001b[0;32m~/.local/lib/python3.8/site-packages/mne/minimum_norm/_eloreta.py\u001b[0m in \u001b[0;36m_normalize_R\u001b[0;34m(G, R, G_3, n_nzero, force_equal, n_src, n_orient)\u001b[0m\n\u001b[1;32m    157\u001b[0m         \u001b[0mR_Gt\u001b[0m \u001b[0;34m=\u001b[0m \u001b[0mR\u001b[0m\u001b[0;34m[\u001b[0m\u001b[0;34m:\u001b[0m\u001b[0;34m,\u001b[0m \u001b[0mnp\u001b[0m\u001b[0;34m.\u001b[0m\u001b[0mnewaxis\u001b[0m\u001b[0;34m]\u001b[0m \u001b[0;34m*\u001b[0m \u001b[0mG\u001b[0m\u001b[0;34m.\u001b[0m\u001b[0mT\u001b[0m\u001b[0;34m\u001b[0m\u001b[0;34m\u001b[0m\u001b[0m\n\u001b[1;32m    158\u001b[0m     \u001b[0;32melse\u001b[0m\u001b[0;34m:\u001b[0m\u001b[0;34m\u001b[0m\u001b[0;34m\u001b[0m\u001b[0m\n\u001b[0;32m--> 159\u001b[0;31m         \u001b[0mR_Gt\u001b[0m \u001b[0;34m=\u001b[0m \u001b[0mnp\u001b[0m\u001b[0;34m.\u001b[0m\u001b[0mmatmul\u001b[0m\u001b[0;34m(\u001b[0m\u001b[0mR\u001b[0m\u001b[0;34m,\u001b[0m \u001b[0mG_3\u001b[0m\u001b[0;34m)\u001b[0m\u001b[0;34m.\u001b[0m\u001b[0mreshape\u001b[0m\u001b[0;34m(\u001b[0m\u001b[0mn_src\u001b[0m \u001b[0;34m*\u001b[0m \u001b[0;36m3\u001b[0m\u001b[0;34m,\u001b[0m \u001b[0;34m-\u001b[0m\u001b[0;36m1\u001b[0m\u001b[0;34m)\u001b[0m\u001b[0;34m\u001b[0m\u001b[0;34m\u001b[0m\u001b[0m\n\u001b[0m\u001b[1;32m    160\u001b[0m     \u001b[0mG_R_Gt\u001b[0m \u001b[0;34m=\u001b[0m \u001b[0mG\u001b[0m \u001b[0;34m@\u001b[0m \u001b[0mR_Gt\u001b[0m\u001b[0;34m\u001b[0m\u001b[0;34m\u001b[0m\u001b[0m\n\u001b[1;32m    161\u001b[0m     \u001b[0mnorm\u001b[0m \u001b[0;34m=\u001b[0m \u001b[0mnp\u001b[0m\u001b[0;34m.\u001b[0m\u001b[0mtrace\u001b[0m\u001b[0;34m(\u001b[0m\u001b[0mG_R_Gt\u001b[0m\u001b[0;34m)\u001b[0m \u001b[0;34m/\u001b[0m \u001b[0mn_nzero\u001b[0m\u001b[0;34m\u001b[0m\u001b[0;34m\u001b[0m\u001b[0m\n",
      "\u001b[0;31mKeyboardInterrupt\u001b[0m: "
     ]
    }
   ],
   "metadata": {}
  },
  {
   "cell_type": "code",
   "execution_count": 84,
   "source": [],
   "outputs": [
    {
     "output_type": "execute_result",
     "data": {
      "text/plain": [
       "<SourceEstimate | 20484 vertices, subject : fsaverage, tmin : 0.0 (ms), tmax : 198.0 (ms), tstep : 2.0 (ms), data shape : (20484, 100), ~15.8 MB>"
      ]
     },
     "metadata": {},
     "execution_count": 84
    }
   ],
   "metadata": {}
  },
  {
   "cell_type": "code",
   "execution_count": 64,
   "source": [
    "\n",
    "\n",
    "vertno_max, time_max = averaged_stc.get_peak()\n",
    "%matplotlib qt\n",
    "%gui qt \n",
    "\n",
    "fig, ax = plt.subplots()\n",
    "ax.plot(1e3 * averaged_stc.times, averaged_stc.data.T)\n",
    "method = \"eLORETA\"\n",
    "ax.set(xlabel='time (ms)', ylabel='%s value' % method)\n",
    "\n",
    "\n",
    "\n",
    "\n",
    "views = 'lat'\n",
    "brain = averaged_stc.plot(subjects_dir=subjects_dir, initial_time=time_max, time_unit='s',hemi='lh',background='grey',views=views\n",
    "                          ,backend='matplotlib', colormap='inferno'\n",
    "                          ,title='eLORETA for the peak of the peak ')\n",
    "plt.title('eLORETA for the peak of the peak (Lateral)' )\n",
    "#surfer_kwargs = dict(\n",
    " #   hemi='both', subjects_dir=subjects_dir,\n",
    "  #  clim=dict(kind='value', lims=[8, 12, 15]), views='lateral',\n",
    "   # initial_time=time_max, time_unit='s', size=(800, 800), smoothing_steps=10)\n",
    "#brain = stc.plot(**surfer_kwargs)\n",
    "#brain.add_foci(vertno_max, coords_as_verts=True, hemi='rh', color='blue',scale_factor=0.6, alpha=0.5)\n",
    "#brain.add_foci(vertno_max, coords_as_verts=True, hemi='lh', color='red',scale_factor=0.6, alpha=0.5)\n",
    "\n",
    "#brain.title(0.1, 0.9, 'eLORETA for the peak of the peak (%s)' % views ,font_size=14)\n",
    "\n"
   ],
   "outputs": [
    {
     "output_type": "stream",
     "name": "stdout",
     "text": [
      "Using control points [4.47084678e-12 4.67544432e-12 6.14530220e-12]\n",
      "Octahedron subdivision grade 6\n",
      "    Triangle neighbors and vertex normals...\n",
      "Loading geometry from /homes/v20subra/mne_data/MNE-sample-data/subjects/fsaverage/surf/lh.sphere...\n",
      "Setting up the triangulation for the decimated surface...\n",
      "    10 smooth iterations done.\n"
     ]
    },
    {
     "output_type": "execute_result",
     "data": {
      "text/plain": [
       "Text(0.5, 1.0, 'eLORETA for the peak of the peak (Lateral)')"
      ]
     },
     "metadata": {},
     "execution_count": 64
    }
   ],
   "metadata": {
    "scrolled": false
   }
  },
  {
   "cell_type": "code",
   "execution_count": 59,
   "source": [
    "def plot(views,hemi,string):\n",
    "    \n",
    "    brain = averaged_stc.plot(subjects_dir=subjects_dir, initial_time=time_max, time_unit='s',hemi=hemi,background='grey',views=views\n",
    "                          ,backend='matplotlib', colormap='inferno'\n",
    "                          ,title='eLORETA for the peak of the peak ')\n",
    "    plt.title('eLORETA (Filtered by 1st comp) for the peak of the peak (%s)' %string)\n",
    "    brain.savefig('S4B2/Results(Filtered by first component)/%s.jpg' %string)\n",
    "    return None"
   ],
   "outputs": [],
   "metadata": {
    "scrolled": true
   }
  },
  {
   "cell_type": "code",
   "execution_count": 112,
   "source": [
    "plot('lat','lh','Lateral Left')\n",
    "plot('lat','rh','Lateral Right')\n",
    "\n",
    "\n",
    "plot('med','lh','Medial Left')\n",
    "plot('med','rh','Medial Right')\n",
    "\n",
    "plot('ros','lh','Rostral Left')\n",
    "plot('ros','rh','Rostral Right')\n",
    "\n",
    "plot('cau','lh','Caudal Left')\n",
    "plot('cau','rh','Caudal Right')\n",
    "\n",
    "plot('dor','lh','Dorsal Left')\n",
    "plot('dor','rh','Dorsal Right')\n"
   ],
   "outputs": [
    {
     "output_type": "stream",
     "name": "stdout",
     "text": [
      "Using control points [4.47084678e-12 4.67544432e-12 6.14530220e-12]\n",
      "Octahedron subdivision grade 6\n",
      "    Triangle neighbors and vertex normals...\n",
      "Loading geometry from /homes/v20subra/mne_data/MNE-sample-data/subjects/fsaverage/surf/lh.sphere...\n",
      "Setting up the triangulation for the decimated surface...\n",
      "    10 smooth iterations done.\n",
      "Using control points [4.47084678e-12 4.67544432e-12 6.14530220e-12]\n",
      "Octahedron subdivision grade 6\n",
      "    Triangle neighbors and vertex normals...\n",
      "Loading geometry from /homes/v20subra/mne_data/MNE-sample-data/subjects/fsaverage/surf/rh.sphere...\n",
      "Setting up the triangulation for the decimated surface...\n",
      "    10 smooth iterations done.\n",
      "Using control points [4.47084678e-12 4.67544432e-12 6.14530220e-12]\n",
      "Octahedron subdivision grade 6\n",
      "    Triangle neighbors and vertex normals...\n",
      "Loading geometry from /homes/v20subra/mne_data/MNE-sample-data/subjects/fsaverage/surf/lh.sphere...\n",
      "Setting up the triangulation for the decimated surface...\n",
      "    10 smooth iterations done.\n",
      "Using control points [4.47084678e-12 4.67544432e-12 6.14530220e-12]\n",
      "Octahedron subdivision grade 6\n",
      "    Triangle neighbors and vertex normals...\n",
      "Loading geometry from /homes/v20subra/mne_data/MNE-sample-data/subjects/fsaverage/surf/rh.sphere...\n",
      "Setting up the triangulation for the decimated surface...\n",
      "    10 smooth iterations done.\n",
      "Using control points [4.47084678e-12 4.67544432e-12 6.14530220e-12]\n",
      "Octahedron subdivision grade 6\n",
      "    Triangle neighbors and vertex normals...\n",
      "Loading geometry from /homes/v20subra/mne_data/MNE-sample-data/subjects/fsaverage/surf/lh.sphere...\n",
      "Setting up the triangulation for the decimated surface...\n",
      "    10 smooth iterations done.\n",
      "Using control points [4.47084678e-12 4.67544432e-12 6.14530220e-12]\n",
      "Octahedron subdivision grade 6\n",
      "    Triangle neighbors and vertex normals...\n",
      "Loading geometry from /homes/v20subra/mne_data/MNE-sample-data/subjects/fsaverage/surf/rh.sphere...\n",
      "Setting up the triangulation for the decimated surface...\n",
      "    10 smooth iterations done.\n",
      "Using control points [4.47084678e-12 4.67544432e-12 6.14530220e-12]\n",
      "Octahedron subdivision grade 6\n",
      "    Triangle neighbors and vertex normals...\n",
      "Loading geometry from /homes/v20subra/mne_data/MNE-sample-data/subjects/fsaverage/surf/lh.sphere...\n",
      "Setting up the triangulation for the decimated surface...\n",
      "    10 smooth iterations done.\n",
      "Using control points [4.47084678e-12 4.67544432e-12 6.14530220e-12]\n",
      "Octahedron subdivision grade 6\n",
      "    Triangle neighbors and vertex normals...\n",
      "Loading geometry from /homes/v20subra/mne_data/MNE-sample-data/subjects/fsaverage/surf/rh.sphere...\n",
      "Setting up the triangulation for the decimated surface...\n",
      "    10 smooth iterations done.\n",
      "Using control points [4.47084678e-12 4.67544432e-12 6.14530220e-12]\n",
      "Octahedron subdivision grade 6\n",
      "    Triangle neighbors and vertex normals...\n",
      "Loading geometry from /homes/v20subra/mne_data/MNE-sample-data/subjects/fsaverage/surf/lh.sphere...\n",
      "Setting up the triangulation for the decimated surface...\n",
      "    10 smooth iterations done.\n",
      "Using control points [4.47084678e-12 4.67544432e-12 6.14530220e-12]\n",
      "Octahedron subdivision grade 6\n",
      "    Triangle neighbors and vertex normals...\n",
      "Loading geometry from /homes/v20subra/mne_data/MNE-sample-data/subjects/fsaverage/surf/rh.sphere...\n",
      "Setting up the triangulation for the decimated surface...\n",
      "    10 smooth iterations done.\n"
     ]
    }
   ],
   "metadata": {
    "scrolled": false
   }
  },
  {
   "cell_type": "code",
   "execution_count": 26,
   "source": [
    "#def psd_ISC(indexed_subject_data):    \n",
    "freq_bands = dict(\n",
    "        delta=(2, 4), theta=(5, 7), alpha=(8, 13), beta=(15, 29), gamma=(30, 45))\n",
    "topos = dict(vv=dict(), opm=dict())\n",
    "stcs_dict = dict(vv=dict(), opm=dict())\n",
    "\n",
    "ep = mne.EvokedArray(e1.get_data()[:,:,indexes].reshape(91,100),mne.create_info(sub1_raw.info['ch_names'],sfreq=500,ch_types = 'eeg'))\n",
    "raw = mne.io.RawArray(ep.data.reshape(91,100),sub1_raw.info)\n",
    "\n",
    "    \n",
    "noise_cov = mne.compute_raw_covariance(raw)\n",
    "inverse_operator = mne.minimum_norm.make_inverse_operator(\n",
    "        raw.info, forward=fwd_model, noise_cov=noise_cov, verbose=True)\n",
    "    \n",
    "\n",
    "method = \"eLORETA\"\n",
    "snr = 3.\n",
    "lambda2 = 1. / snr ** 2\n",
    "\n",
    "    \n",
    "stc_psd, sensor_psd = mne.minimum_norm.compute_source_psd(\n",
    "        raw, inverse_operator, lambda2=lambda2,method=method,fmax=40,\n",
    "        dB=False, return_sensor=True, verbose=True)\n"
   ],
   "outputs": [
    {
     "output_type": "stream",
     "name": "stdout",
     "text": [
      "Creating RawArray with float64 data, n_channels=91, n_times=100\n",
      "    Range : 0 ... 99 =      0.000 ...     0.198 secs\n",
      "Ready.\n",
      "Using up to 1 segment\n",
      "Number of samples used : 100\n",
      "[done]\n",
      "Converting forward solution to surface orientation\n",
      "    No patch info available. The standard source space normals will be employed in the rotation to the local surface coordinates....\n",
      "    Converting to surface-based source orientations...\n",
      "    [done]\n",
      "Computing inverse operator with 91 channels.\n",
      "    91 out of 91 channels remain after picking\n"
     ]
    },
    {
     "output_type": "stream",
     "name": "stderr",
     "text": [
      "<ipython-input-26-d0d8705cecc8>:11: RuntimeWarning: Too few samples (required : 460 got : 100), covariance estimate may be unreliable\n",
      "  noise_cov = mne.compute_raw_covariance(raw)\n"
     ]
    },
    {
     "output_type": "stream",
     "name": "stdout",
     "text": [
      "Selected 91 channels\n",
      "Creating the depth weighting matrix...\n",
      "    91 EEG channels\n",
      "    limit = 20485/20484 = 2.194331\n",
      "    scale = 146509 exp = 0.8\n",
      "Applying loose dipole orientations to surface source spaces: 0.2\n",
      "Whitening the forward solution.\n",
      "Computing rank from covariance with rank=None\n",
      "    Using tolerance 0.12 (2.2e-16 eps * 91 dim * 5.8e+12  max singular value)\n",
      "    Estimated rank (eeg): 89\n",
      "    EEG: rank 89 computed from 91 data channels with 0 projectors\n",
      "    Setting small EEG eigenvalues to zero (without PCA)\n",
      "Creating the source covariance matrix\n",
      "Adjusting source covariance matrix.\n",
      "Computing SVD of whitened and weighted lead field matrix.\n"
     ]
    },
    {
     "output_type": "stream",
     "name": "stderr",
     "text": [
      "<ipython-input-26-d0d8705cecc8>:12: RuntimeWarning: No average EEG reference present in info[\"projs\"], covariance may be adversely affected. Consider recomputing covariance using with an average eeg reference projector added.\n",
      "  inverse_operator = mne.minimum_norm.make_inverse_operator(\n",
      "<ipython-input-26-d0d8705cecc8>:12: RuntimeWarning: No average EEG reference present in info[\"projs\"], covariance may be adversely affected. Consider recomputing covariance using with an average eeg reference projector added.\n",
      "  inverse_operator = mne.minimum_norm.make_inverse_operator(\n"
     ]
    },
    {
     "output_type": "stream",
     "name": "stdout",
     "text": [
      "    largest singular value = 5.36019\n",
      "    scaling factor to adjust the trace = 6.21068e+17 (nchan = 91 nzero = 2)\n"
     ]
    },
    {
     "output_type": "error",
     "ename": "ValueError",
     "evalue": "No events produced, check the values of start, stop, and duration",
     "traceback": [
      "\u001b[0;31m---------------------------------------------------------------------------\u001b[0m",
      "\u001b[0;31mValueError\u001b[0m                                Traceback (most recent call last)",
      "\u001b[0;32m<ipython-input-26-d0d8705cecc8>\u001b[0m in \u001b[0;36m<module>\u001b[0;34m\u001b[0m\n\u001b[1;32m     19\u001b[0m \u001b[0;34m\u001b[0m\u001b[0m\n\u001b[1;32m     20\u001b[0m \u001b[0;34m\u001b[0m\u001b[0m\n\u001b[0;32m---> 21\u001b[0;31m stc_psd, sensor_psd = mne.minimum_norm.compute_source_psd(\n\u001b[0m\u001b[1;32m     22\u001b[0m         \u001b[0mraw\u001b[0m\u001b[0;34m,\u001b[0m \u001b[0minverse_operator\u001b[0m\u001b[0;34m,\u001b[0m \u001b[0mlambda2\u001b[0m\u001b[0;34m=\u001b[0m\u001b[0mlambda2\u001b[0m\u001b[0;34m,\u001b[0m\u001b[0mmethod\u001b[0m\u001b[0;34m=\u001b[0m\u001b[0mmethod\u001b[0m\u001b[0;34m,\u001b[0m\u001b[0mfmax\u001b[0m\u001b[0;34m=\u001b[0m\u001b[0;36m40\u001b[0m\u001b[0;34m,\u001b[0m\u001b[0;34m\u001b[0m\u001b[0;34m\u001b[0m\u001b[0m\n\u001b[1;32m     23\u001b[0m         dB=False, return_sensor=True, verbose=True)\n",
      "\u001b[0;32m<decorator-gen-365>\u001b[0m in \u001b[0;36mcompute_source_psd\u001b[0;34m(raw, inverse_operator, lambda2, method, tmin, tmax, fmin, fmax, n_fft, overlap, pick_ori, label, nave, pca, prepared, method_params, inv_split, bandwidth, adaptive, low_bias, n_jobs, return_sensor, dB, verbose)\u001b[0m\n",
      "\u001b[0;32m~/.local/lib/python3.8/site-packages/mne/minimum_norm/time_frequency.py\u001b[0m in \u001b[0;36mcompute_source_psd\u001b[0;34m(raw, inverse_operator, lambda2, method, tmin, tmax, fmin, fmax, n_fft, overlap, pick_ori, label, nave, pca, prepared, method_params, inv_split, bandwidth, adaptive, low_bias, n_jobs, return_sensor, dB, verbose)\u001b[0m\n\u001b[1;32m    526\u001b[0m     \u001b[0mn_fft\u001b[0m \u001b[0;34m=\u001b[0m \u001b[0mint\u001b[0m\u001b[0;34m(\u001b[0m\u001b[0mn_fft\u001b[0m\u001b[0;34m)\u001b[0m\u001b[0;34m\u001b[0m\u001b[0;34m\u001b[0m\u001b[0m\n\u001b[1;32m    527\u001b[0m     \u001b[0mduration\u001b[0m \u001b[0;34m=\u001b[0m \u001b[0;34m(\u001b[0m\u001b[0;34m(\u001b[0m\u001b[0;36m1.\u001b[0m \u001b[0;34m-\u001b[0m \u001b[0moverlap\u001b[0m\u001b[0;34m)\u001b[0m \u001b[0;34m*\u001b[0m \u001b[0mn_fft\u001b[0m\u001b[0;34m)\u001b[0m \u001b[0;34m/\u001b[0m \u001b[0mraw\u001b[0m\u001b[0;34m.\u001b[0m\u001b[0minfo\u001b[0m\u001b[0;34m[\u001b[0m\u001b[0;34m'sfreq'\u001b[0m\u001b[0;34m]\u001b[0m\u001b[0;34m\u001b[0m\u001b[0;34m\u001b[0m\u001b[0m\n\u001b[0;32m--> 528\u001b[0;31m     \u001b[0mevents\u001b[0m \u001b[0;34m=\u001b[0m \u001b[0mmake_fixed_length_events\u001b[0m\u001b[0;34m(\u001b[0m\u001b[0mraw\u001b[0m\u001b[0;34m,\u001b[0m \u001b[0;36m1\u001b[0m\u001b[0;34m,\u001b[0m \u001b[0mtmin\u001b[0m\u001b[0;34m,\u001b[0m \u001b[0mtmax\u001b[0m\u001b[0;34m,\u001b[0m \u001b[0mduration\u001b[0m\u001b[0;34m)\u001b[0m\u001b[0;34m\u001b[0m\u001b[0;34m\u001b[0m\u001b[0m\n\u001b[0m\u001b[1;32m    529\u001b[0m     epochs = Epochs(raw, events, 1, 0, (n_fft - 1) / raw.info['sfreq'],\n\u001b[1;32m    530\u001b[0m                     baseline=None)\n",
      "\u001b[0;32m~/.local/lib/python3.8/site-packages/mne/event.py\u001b[0m in \u001b[0;36mmake_fixed_length_events\u001b[0;34m(raw, id, start, stop, duration, first_samp, overlap)\u001b[0m\n\u001b[1;32m    909\u001b[0m     \u001b[0mn_events\u001b[0m \u001b[0;34m=\u001b[0m \u001b[0mlen\u001b[0m\u001b[0;34m(\u001b[0m\u001b[0mts\u001b[0m\u001b[0;34m)\u001b[0m\u001b[0;34m\u001b[0m\u001b[0;34m\u001b[0m\u001b[0m\n\u001b[1;32m    910\u001b[0m     \u001b[0;32mif\u001b[0m \u001b[0mn_events\u001b[0m \u001b[0;34m==\u001b[0m \u001b[0;36m0\u001b[0m\u001b[0;34m:\u001b[0m\u001b[0;34m\u001b[0m\u001b[0;34m\u001b[0m\u001b[0m\n\u001b[0;32m--> 911\u001b[0;31m         raise ValueError('No events produced, check the values of start, '\n\u001b[0m\u001b[1;32m    912\u001b[0m                          'stop, and duration')\n\u001b[1;32m    913\u001b[0m     events = np.c_[ts, np.zeros(n_events, dtype=int),\n",
      "\u001b[0;31mValueError\u001b[0m: No events produced, check the values of start, stop, and duration"
     ]
    }
   ],
   "metadata": {}
  },
  {
   "cell_type": "code",
   "execution_count": 28,
   "source": [
    "#psd_ISC(e1.get_data()[:,:,indexes])\n",
    "ep.data.shape"
   ],
   "outputs": [
    {
     "output_type": "execute_result",
     "data": {
      "text/plain": [
       "(91, 100)"
      ]
     },
     "metadata": {},
     "execution_count": 28
    }
   ],
   "metadata": {}
  },
  {
   "cell_type": "markdown",
   "source": [
    "# Statistics at source"
   ],
   "metadata": {}
  },
  {
   "cell_type": "code",
   "execution_count": 30,
   "source": [
    "\n",
    "adjacency = mne.spatial_src_adjacency(inverse_operator['src'])\n"
   ],
   "outputs": [
    {
     "output_type": "stream",
     "name": "stdout",
     "text": [
      "-- number of adjacent vertices : 20484\n"
     ]
    }
   ],
   "metadata": {}
  },
  {
   "cell_type": "code",
   "execution_count": 31,
   "source": [
    "n_vertices, n_times =20484, 1\n",
    "\n"
   ],
   "outputs": [],
   "metadata": {}
  },
  {
   "cell_type": "code",
   "execution_count": 32,
   "source": [
    "adjacency"
   ],
   "outputs": [
    {
     "output_type": "execute_result",
     "data": {
      "text/plain": [
       "<20484x20484 sparse matrix of type '<class 'numpy.int64'>'\n",
       "\twith 143364 stored elements in COOrdinate format>"
      ]
     },
     "metadata": {},
     "execution_count": 32
    }
   ],
   "metadata": {}
  },
  {
   "cell_type": "code",
   "execution_count": null,
   "source": [],
   "outputs": [],
   "metadata": {}
  },
  {
   "cell_type": "code",
   "execution_count": 33,
   "source": [
    "vertices = [s['vertno'] for s in inverse_operator['src']]\n",
    "vertices"
   ],
   "outputs": [
    {
     "output_type": "execute_result",
     "data": {
      "text/plain": [
       "[array([    0,     1,     2, ..., 10239, 10240, 10241]),\n",
       " array([    0,     1,     2, ..., 10239, 10240, 10241])]"
      ]
     },
     "metadata": {},
     "execution_count": 33
    }
   ],
   "metadata": {}
  },
  {
   "cell_type": "code",
   "execution_count": null,
   "source": [],
   "outputs": [],
   "metadata": {}
  },
  {
   "cell_type": "code",
   "execution_count": 26,
   "source": [
    "spatiotemp = np.append(np.reshape(sub1_ISC_trial[0].data,[1,100,20484]),np.reshape(sub2_ISC_trial[0].data,[1,100,20484]),axis=0)\n",
    "\n",
    "\n",
    "spatiotemp = np.append(spatiotemp,np.reshape(sub3_ISC_trial[0].data,[1,100,20484]),axis=0)\n",
    "\n",
    "spatiotemp = np.append(spatiotemp,np.reshape(sub4_ISC_trial[0].data,[1,100,20484]),axis=0)\n",
    "spatiotemp = np.append(spatiotemp,np.reshape(sub5_ISC_trial[0].data,[1,100,20484]),axis=0)\n",
    "spatiotemp = np.append(spatiotemp,np.reshape(sub6_ISC_trial[0].data,[1,100,20484]),axis=0)\n",
    "spatiotemp = np.append(spatiotemp,np.reshape(sub7_ISC_trial[0].data,[1,100,20484]),axis=0)\n",
    "spatiotemp = np.append(spatiotemp,np.reshape(sub8_ISC_trial[0].data,[1,100,20484]),axis=0)\n",
    "spatiotemp = np.append(spatiotemp,np.reshape(sub9_ISC_trial[0].data,[1,100,20484]),axis=0)\n",
    "spatiotemp = np.append(spatiotemp,np.reshape(sub10_ISC_trial[0].data,[1,100,20484]),axis=0)"
   ],
   "outputs": [],
   "metadata": {}
  },
  {
   "cell_type": "code",
   "execution_count": 27,
   "source": [
    "spatiotemp2 = np.append(np.reshape(sub1_ISC_trial_low[0].data,[1,100,20484]),np.reshape(sub2_ISC_trial_low[0].data,[1,100,20484]),axis=0)\n",
    "\n",
    "\n",
    "spatiotemp2 = np.append(spatiotemp2,np.reshape(sub3_ISC_trial_low[0].data,[1,100,20484]),axis=0)\n",
    "\n",
    "spatiotemp2 = np.append(spatiotemp2,np.reshape(sub4_ISC_trial_low[0].data,[1,100,20484]),axis=0)\n",
    "spatiotemp2 = np.append(spatiotemp2,np.reshape(sub5_ISC_trial_low[0].data,[1,100,20484]),axis=0)\n",
    "spatiotemp2 = np.append(spatiotemp2,np.reshape(sub6_ISC_trial_low[0].data,[1,100,20484]),axis=0)\n",
    "spatiotemp2 = np.append(spatiotemp2,np.reshape(sub7_ISC_trial_low[0].data,[1,100,20484]),axis=0)\n",
    "spatiotemp2 = np.append(spatiotemp2,np.reshape(sub8_ISC_trial_low[0].data,[1,100,20484]),axis=0)\n",
    "spatiotemp2 = np.append(spatiotemp2,np.reshape(sub9_ISC_trial_low[0].data,[1,100,20484]),axis=0)\n",
    "spatiotemp2 = np.append(spatiotemp2,np.reshape(sub10_ISC_trial_low[0].data,[1,100,20484]),axis=0)"
   ],
   "outputs": [],
   "metadata": {}
  },
  {
   "cell_type": "code",
   "execution_count": 57,
   "source": [
    "a =mne.time_frequency.psd_welch(ep1,fmax=40)"
   ],
   "outputs": [
    {
     "output_type": "stream",
     "name": "stdout",
     "text": [
      "Effective window size : 0.512 (s)\n"
     ]
    }
   ],
   "metadata": {}
  },
  {
   "cell_type": "code",
   "execution_count": 59,
   "source": [
    "plt.plot(a[1],a[0].reshape(21,))"
   ],
   "outputs": [
    {
     "output_type": "execute_result",
     "data": {
      "text/plain": [
       "[<matplotlib.lines.Line2D at 0x7f8b68d8e490>]"
      ]
     },
     "metadata": {},
     "execution_count": 59
    },
    {
     "output_type": "display_data",
     "data": {
      "image/png": "[encoded data removed]",
      "text/plain": [
       "<Figure size 432x288 with 1 Axes>"
      ]
     },
     "metadata": {
      "needs_background": "light"
     }
    }
   ],
   "metadata": {}
  },
  {
   "cell_type": "code",
   "execution_count": 46,
   "source": [
    "from scipy import stats as stats\n",
    "from mne.stats import (spatio_temporal_cluster_1samp_test,summarize_clusters_stc)\n",
    "\n",
    "n_subjects = 10\n",
    "p_threshold = 0.001\n",
    "t_threshold = -stats.distributions.t.ppf(p_threshold / 2., n_subjects - 1)\n",
    "print('Clustering.')\n",
    "T_obs, clusters, cluster_p_values, H0 = clu = \\\n",
    "    spatio_temporal_cluster_1samp_test((np.reshape(to_test.data,[10,1,20484])), adjacency=adjacency, n_jobs=1,\n",
    "                                       threshold=t_threshold, buffer_size=None,n_permutations=1000,\n",
    "                                       verbose=True)\n",
    "\n",
    "\n",
    "\n",
    "good_cluster_inds = np.where(cluster_p_values < 0.05)[0]\n"
   ],
   "outputs": [
    {
     "output_type": "stream",
     "name": "stdout",
     "text": [
      "Clustering.\n",
      "stat_fun(H1): min=-1.236862 max=2.763210\n",
      "Running initial clustering\n",
      "Found 0 clusters\n"
     ]
    },
    {
     "output_type": "stream",
     "name": "stderr",
     "text": [
      "<ipython-input-46-e5080db02285>:9: RuntimeWarning: No clusters found, returning empty H0, clusters, and cluster_pv\n",
      "  spatio_temporal_cluster_1samp_test((np.reshape(to_test.data,[10,1,20484])), adjacency=adjacency, n_jobs=1,\n"
     ]
    }
   ],
   "metadata": {
    "scrolled": false
   }
  },
  {
   "cell_type": "code",
   "execution_count": 83,
   "source": [
    "cluster_p_values"
   ],
   "outputs": [
    {
     "output_type": "execute_result",
     "data": {
      "text/plain": [
       "array([], dtype=float64)"
      ]
     },
     "metadata": {},
     "execution_count": 83
    }
   ],
   "metadata": {
    "scrolled": false
   }
  },
  {
   "cell_type": "code",
   "execution_count": 197,
   "source": [
    "#tstep = averaged.tstep *1000\n",
    "\n",
    "stc_all_cluster_vis = summarize_clusters_stc(clu, tstep=tstep,p_thresh=0.001,\n",
    "                                             vertices=vertices,\n",
    "                                             subject='fsaverage')"
   ],
   "outputs": [
    {
     "output_type": "error",
     "ename": "RuntimeError",
     "evalue": "No significant clusters available. Please adjust your threshold or check your statistical analysis.",
     "traceback": [
      "\u001b[0;31m---------------------------------------------------------------------------\u001b[0m",
      "\u001b[0;31mRuntimeError\u001b[0m                              Traceback (most recent call last)",
      "\u001b[0;32m<ipython-input-197-8cd6d7ff39ad>\u001b[0m in \u001b[0;36m<module>\u001b[0;34m\u001b[0m\n\u001b[1;32m      1\u001b[0m \u001b[0;31m#tstep = averaged.tstep *1000\u001b[0m\u001b[0;34m\u001b[0m\u001b[0;34m\u001b[0m\u001b[0;34m\u001b[0m\u001b[0m\n\u001b[1;32m      2\u001b[0m \u001b[0;34m\u001b[0m\u001b[0m\n\u001b[0;32m----> 3\u001b[0;31m stc_all_cluster_vis = summarize_clusters_stc(clu, tstep=tstep,p_thresh=0.9,\n\u001b[0m\u001b[1;32m      4\u001b[0m                                              \u001b[0mvertices\u001b[0m\u001b[0;34m=\u001b[0m\u001b[0mvertices\u001b[0m\u001b[0;34m,\u001b[0m\u001b[0;34m\u001b[0m\u001b[0;34m\u001b[0m\u001b[0m\n\u001b[1;32m      5\u001b[0m                                              subject='fsaverage')\n",
      "\u001b[0;32m~/.local/lib/python3.8/site-packages/mne/stats/cluster_level.py\u001b[0m in \u001b[0;36msummarize_clusters_stc\u001b[0;34m(clu, p_thresh, tstep, tmin, subject, vertices)\u001b[0m\n\u001b[1;32m   1487\u001b[0m     \u001b[0;31m#  cluster becomes a \"time point\" in the SourceEstimate\u001b[0m\u001b[0;34m\u001b[0m\u001b[0;34m\u001b[0m\u001b[0;34m\u001b[0m\u001b[0m\n\u001b[1;32m   1488\u001b[0m     \u001b[0;32mif\u001b[0m \u001b[0mlen\u001b[0m\u001b[0;34m(\u001b[0m\u001b[0mgood_cluster_inds\u001b[0m\u001b[0;34m)\u001b[0m \u001b[0;34m==\u001b[0m \u001b[0;36m0\u001b[0m\u001b[0;34m:\u001b[0m\u001b[0;34m\u001b[0m\u001b[0;34m\u001b[0m\u001b[0m\n\u001b[0;32m-> 1489\u001b[0;31m         raise RuntimeError('No significant clusters available. Please adjust '\n\u001b[0m\u001b[1;32m   1490\u001b[0m                            \u001b[0;34m'your threshold or check your statistical '\u001b[0m\u001b[0;34m\u001b[0m\u001b[0;34m\u001b[0m\u001b[0m\n\u001b[1;32m   1491\u001b[0m                            'analysis.')\n",
      "\u001b[0;31mRuntimeError\u001b[0m: No significant clusters available. Please adjust your threshold or check your statistical analysis."
     ]
    }
   ],
   "metadata": {
    "scrolled": true
   }
  },
  {
   "cell_type": "code",
   "execution_count": null,
   "source": [],
   "outputs": [],
   "metadata": {}
  },
  {
   "cell_type": "code",
   "execution_count": null,
   "source": [],
   "outputs": [],
   "metadata": {
    "scrolled": true
   }
  },
  {
   "cell_type": "code",
   "execution_count": 9,
   "source": [],
   "outputs": [],
   "metadata": {}
  },
  {
   "cell_type": "code",
   "execution_count": null,
   "source": [],
   "outputs": [],
   "metadata": {}
  },
  {
   "cell_type": "code",
   "execution_count": null,
   "source": [],
   "outputs": [],
   "metadata": {}
  },
  {
   "cell_type": "code",
   "execution_count": null,
   "source": [],
   "outputs": [],
   "metadata": {}
  },
  {
   "cell_type": "code",
   "execution_count": null,
   "source": [],
   "outputs": [],
   "metadata": {
    "scrolled": true
   }
  },
  {
   "cell_type": "code",
   "execution_count": null,
   "source": [],
   "outputs": [],
   "metadata": {}
  },
  {
   "cell_type": "code",
   "execution_count": 85,
   "source": [
    "import epochs_slicing \n",
    "from imp import reload \n",
    "\n",
    "reload(epochs_slicing)"
   ],
   "outputs": [
    {
     "output_type": "execute_result",
     "data": {
      "text/plain": [
       "<module 'epochs_slicing' from '/homes/v20subra/S4B2/epochs_slicing.py'>"
      ]
     },
     "metadata": {},
     "execution_count": 85
    }
   ],
   "metadata": {}
  },
  {
   "cell_type": "code",
   "execution_count": 90,
   "source": [
    "epochs_slicing.epochs(sub1_raw,sub1_events,[83,103,9999],0,170,500,'83')"
   ],
   "outputs": [
    {
     "output_type": "stream",
     "name": "stdout",
     "text": [
      "Not setting metadata\n",
      "Not setting metadata\n",
      "3 matching events found\n",
      "Setting baseline interval to [0.0, 170.0] sec\n",
      "Applying baseline correction (mode: mean)\n",
      "0 projection items activated\n",
      "Loading data for 3 events and 85001 original time points ...\n",
      "1 bad epochs dropped\n"
     ]
    },
    {
     "output_type": "execute_result",
     "data": {
      "text/html": [
       "\n",
       "<table class=\"table table-hover\">\n",
       "    <tr>\n",
       "        <th>Number of events</th>\n",
       "        <td>1</td>\n",
       "    </tr>\n",
       "    <tr>\n",
       "        <th>Events</th>\n",
       "        <td>83: 1<br></td>\n",
       "    </tr>\n",
       "    <tr>\n",
       "        <th>Time range</th>\n",
       "        <td>0.000 – 170.000 sec</td>\n",
       "    </tr>\n",
       "    <tr>\n",
       "        <th>Baseline</th>\n",
       "        <td>0.000 – 170.000 sec</td>\n",
       "    </tr>\n",
       "</table>\n"
      ],
      "text/plain": [
       "<Epochs |  1 events (all good), 0 - 170 sec, baseline 0 – 170 sec, ~59.1 MB, data loaded,\n",
       " '83': 1>"
      ]
     },
     "metadata": {},
     "execution_count": 90
    }
   ],
   "metadata": {
    "scrolled": true
   }
  },
  {
   "cell_type": "code",
   "execution_count": null,
   "source": [],
   "outputs": [],
   "metadata": {
    "scrolled": true
   }
  },
  {
   "cell_type": "code",
   "execution_count": 14,
   "source": [
    "import nilearn.surface\n",
    "nilearn.surface.load_surf_data('fsaverage5.gii')"
   ],
   "outputs": [
    {
     "output_type": "execute_result",
     "data": {
      "text/plain": [
       "array([7.464764 , 6.3432045, 4.883819 , ..., 7.7171664, 6.926384 ,\n",
       "       6.9226246], dtype=float32)"
      ]
     },
     "metadata": {},
     "execution_count": 14
    }
   ],
   "metadata": {}
  },
  {
   "cell_type": "code",
   "execution_count": 8,
   "source": [
    "import numpy as np\n",
    "np.shape(labels)"
   ],
   "outputs": [
    {
     "output_type": "execute_result",
     "data": {
      "text/plain": [
       "(181,)"
      ]
     },
     "metadata": {},
     "execution_count": 8
    }
   ],
   "metadata": {}
  },
  {
   "cell_type": "code",
   "execution_count": 15,
   "source": [
    "aud_label = [label for label in labels if label.name == 'R_10d_ROI-rh'][0]\n"
   ],
   "outputs": [],
   "metadata": {}
  },
  {
   "cell_type": "code",
   "execution_count": null,
   "source": [],
   "outputs": [],
   "metadata": {
    "scrolled": true
   }
  },
  {
   "cell_type": "code",
   "execution_count": null,
   "source": [],
   "outputs": [],
   "metadata": {
    "scrolled": true
   }
  },
  {
   "cell_type": "code",
   "execution_count": 18,
   "source": [
    "import numpy as np\n",
    "import matplotlib.pyplot as plt\n",
    "from pygsp import graphs, filters\n",
    "from pygsp import plotting as gsp_plt\n",
    "from nilearn import image, plotting, datasets\n",
    "\n",
    "rs = np.random.RandomState(42)  # Reproducible results.\n",
    "W = rs.uniform(size=(30, 30))  # Full graph.\n",
    "#print(rs.__doc__)\n",
    "print (W.shape)\n",
    "W[W < 0.93] = 0  # Sparse graph.\n",
    "W = W + W.T  # Symmetric graph.\n",
    "np.fill_diagonal(W, 0)  # No self-loops.\n",
    "G_simple = graphs.Graph(W)\n",
    "print('{} nodes, {} edges'.format(G_simple.N, G_simple.Ne))\n",
    "\n",
    "\n",
    "G_simple.set_coordinates('ring2D')\n",
    "G_simple.plot()\n",
    "plotting.plot_matrix(W, colorbar=True)\n",
    "\n",
    "#print(G.L)"
   ],
   "outputs": [
    {
     "output_type": "stream",
     "name": "stderr",
     "text": [
      "/homes/v20subra/.local/lib/python3.8/site-packages/nilearn/datasets/__init__.py:86: FutureWarning: Fetchers from the nilearn.datasets module will be updated in version 0.9 to return python strings instead of bytes and Pandas dataframes instead of Numpy arrays.\n",
      "  warn(\"Fetchers from the nilearn.datasets module will be \"\n"
     ]
    },
    {
     "output_type": "stream",
     "name": "stdout",
     "text": [
      "(30, 30)\n",
      "30 nodes, 60 edges\n"
     ]
    },
    {
     "output_type": "execute_result",
     "data": {
      "text/plain": [
       "<matplotlib.image.AxesImage at 0x7f323ec7a5e0>"
      ]
     },
     "metadata": {},
     "execution_count": 18
    },
    {
     "output_type": "display_data",
     "data": {
      "image/png": "[encoded data removed]",
      "text/plain": [
       "<Figure size 432x288 with 1 Axes>"
      ]
     },
     "metadata": {
      "needs_background": "light"
     }
    },
    {
     "output_type": "display_data",
     "data": {
      "image/png": "[encoded data removed]",
      "text/plain": [
       "<Figure size 504x360 with 2 Axes>"
      ]
     },
     "metadata": {
      "needs_background": "light"
     }
    }
   ],
   "metadata": {}
  },
  {
   "cell_type": "code",
   "execution_count": 20,
   "source": [
    "from pathlib import Path\n",
    "from scipy import io as sio\n",
    "from pygsp import graphs\n",
    "\n",
    "path_Glasser='Glasser_masker.nii.gz'\n",
    "res_path=''\n",
    "\n",
    "# Load structural connectivity matrix\n",
    "connectivity = sio.loadmat('S4B2/GSP/SC_avg56.mat')['SC_avg56']\n",
    "connectivity.shape\n",
    "coordinates = sio.loadmat('S4B2/GSP/Glasser360_2mm_codebook.mat')['codeBook'] # coordinates in brain space\n",
    "\n",
    "\n",
    "G_Comb = graphs.Graph(connectivity,gtype='HCP subject',lap_type='combinatorial',coords=coordinates)# combinatorial laplacian\n",
    "G=graphs.Graph(connectivity,gtype='HCP subject',lap_type='normalized',coords=coordinates) #\n",
    "G_RandW=graphs.Graph(connectivity,gtype='HCP subject',lap_type='normalized',coords=coordinates) #\n",
    "print(G.is_connected())\n",
    "\n",
    "\n",
    "G.set_coordinates('spring')\n",
    "#G.plot()   #edges > 10^4 not shown\n",
    "D=np.array(G.dw)\n",
    "D.shape\n"
   ],
   "outputs": [
    {
     "output_type": "stream",
     "name": "stdout",
     "text": [
      "True\n"
     ]
    },
    {
     "output_type": "execute_result",
     "data": {
      "text/plain": [
       "(360,)"
      ]
     },
     "metadata": {},
     "execution_count": 20
    }
   ],
   "metadata": {}
  },
  {
   "cell_type": "code",
   "execution_count": 21,
   "source": [
    "import numpy as np\n",
    "with np.load(f\"S4B2/GSP/hcp/atlas.npz\") as dobj:\n",
    "    atlas = dict(**dobj)"
   ],
   "outputs": [],
   "metadata": {}
  },
  {
   "cell_type": "code",
   "execution_count": 22,
   "source": [
    "l =list()\n",
    "for i in list(set(atlas['labels_L']))[:-1]:\n",
    "    l.append(np.mean(stc_isc[0].data[10242:][np.where(i== atlas['labels_L'])]))\n",
    "\n",
    "for i in list(set(atlas['labels_R']))[:-1]:\n",
    "    l.append(np.mean(stc_isc[0].data[:10242][np.where(i== atlas['labels_R'])]))\n",
    "    "
   ],
   "outputs": [],
   "metadata": {}
  },
  {
   "cell_type": "code",
   "execution_count": 26,
   "source": [
    "G.compute_fourier_basis()\n"
   ],
   "outputs": [],
   "metadata": {}
  },
  {
   "cell_type": "code",
   "execution_count": 33,
   "source": [
    "from data import sns_plot\n",
    "\n",
    "\n",
    "sns_plot.plot(range(len(G.gft(np.array(l)))),G.gft(np.array(l)),xlabel='Graph freq',ylabel='gPSD',title='GFTed spatial filter')"
   ],
   "outputs": [
    {
     "output_type": "display_data",
     "data": {
      "image/png": "[encoded data removed]",
      "text/plain": [
       "<Figure size 432x288 with 1 Axes>"
      ]
     },
     "metadata": {}
    }
   ],
   "metadata": {
    "scrolled": true
   }
  },
  {
   "cell_type": "code",
   "execution_count": 32,
   "source": [
    "a=0\n",
    "for i in range(1,len(labels)):\n",
    "    a+= len(labels[i].values)\n",
    "a"
   ],
   "outputs": [
    {
     "output_type": "error",
     "ename": "NameError",
     "evalue": "name 'labels' is not defined",
     "traceback": [
      "\u001b[0;31m---------------------------------------------------------------------------\u001b[0m",
      "\u001b[0;31mNameError\u001b[0m                                 Traceback (most recent call last)",
      "\u001b[0;32m<ipython-input-32-f3fe16907cc5>\u001b[0m in \u001b[0;36m<module>\u001b[0;34m\u001b[0m\n\u001b[1;32m      1\u001b[0m \u001b[0ma\u001b[0m\u001b[0;34m=\u001b[0m\u001b[0;36m0\u001b[0m\u001b[0;34m\u001b[0m\u001b[0;34m\u001b[0m\u001b[0m\n\u001b[0;32m----> 2\u001b[0;31m \u001b[0;32mfor\u001b[0m \u001b[0mi\u001b[0m \u001b[0;32min\u001b[0m \u001b[0mrange\u001b[0m\u001b[0;34m(\u001b[0m\u001b[0;36m1\u001b[0m\u001b[0;34m,\u001b[0m\u001b[0mlen\u001b[0m\u001b[0;34m(\u001b[0m\u001b[0mlabels\u001b[0m\u001b[0;34m)\u001b[0m\u001b[0;34m)\u001b[0m\u001b[0;34m:\u001b[0m\u001b[0;34m\u001b[0m\u001b[0;34m\u001b[0m\u001b[0m\n\u001b[0m\u001b[1;32m      3\u001b[0m     \u001b[0ma\u001b[0m\u001b[0;34m+=\u001b[0m \u001b[0mlen\u001b[0m\u001b[0;34m(\u001b[0m\u001b[0mlabels\u001b[0m\u001b[0;34m[\u001b[0m\u001b[0mi\u001b[0m\u001b[0;34m]\u001b[0m\u001b[0;34m.\u001b[0m\u001b[0mvalues\u001b[0m\u001b[0;34m)\u001b[0m\u001b[0;34m\u001b[0m\u001b[0;34m\u001b[0m\u001b[0m\n\u001b[1;32m      4\u001b[0m \u001b[0ma\u001b[0m\u001b[0;34m\u001b[0m\u001b[0;34m\u001b[0m\u001b[0m\n",
      "\u001b[0;31mNameError\u001b[0m: name 'labels' is not defined"
     ]
    }
   ],
   "metadata": {}
  },
  {
   "cell_type": "code",
   "execution_count": 33,
   "source": [
    "G_Comb.set_coordinates()\n",
    "G_Comb.plot()"
   ],
   "outputs": [
    {
     "output_type": "stream",
     "name": "stderr",
     "text": [
      "*c* argument looks like a single numeric RGB or RGBA sequence, which should be avoided as value-mapping will have precedence in case its length matches with *x* & *y*.  Please use the *color* keyword-argument or provide a 2D array with a single row if you intend to specify the same RGB or RGBA value for all points.\n"
     ]
    },
    {
     "output_type": "display_data",
     "data": {
      "image/png": "[encoded data removed]",
      "text/plain": [
       "<Figure size 432x288 with 1 Axes>"
      ]
     },
     "metadata": {
      "needs_background": "light"
     }
    }
   ],
   "metadata": {}
  },
  {
   "cell_type": "code",
   "execution_count": 38,
   "source": [
    "from nilearn.regions import signals_to_img_labels  \n",
    "# load nilearn label masker for inverse transform\n",
    "from nilearn.input_data import NiftiLabelsMasker, NiftiMasker\n",
    "from nilearn.datasets import fetch_icbm152_2009\n",
    "from nilearn import image, plotting\n",
    "from nilearn import datasets\n",
    "from os.path import join as opj\n",
    "\n",
    "\n",
    "path_Glasser = 'S4B2/GSP/Glasser_masker.nii.gz'\n",
    "\n",
    "\n",
    "mnitemp = fetch_icbm152_2009()\n",
    "mask_mni=image.load_img(mnitemp['mask'])\n",
    "glasser_atlas=image.load_img(path_Glasser)\n",
    "\n",
    "\n",
    "#print(NiftiMasker.__doc__)\n",
    "\n",
    "\n",
    "fig,ax = plt.subplots(nrows=1,ncols=1, figsize=(10,10))\n",
    "\n",
    "signal=[]\n",
    "U0_brain=[]\n",
    "signal=np.expand_dims(np.array(G.gft(np.array(l))), axis=0) # add dimension 1 to signal array\n",
    "U0_brain = signals_to_img_labels(signal,path_Glasser,mnitemp['mask'])\n",
    "plotting.plot_glass_brain(U0_brain,title='GFTed spatial filter',colorbar=True,plot_abs=False,cmap='spring',display_mode='xz',figure=fig,axes=ax)\n"
   ],
   "outputs": [
    {
     "output_type": "error",
     "ename": "ValueError",
     "evalue": "File not found: 'Glasser_masker.nii.gz'",
     "traceback": [
      "\u001b[0;31m---------------------------------------------------------------------------\u001b[0m",
      "\u001b[0;31mValueError\u001b[0m                                Traceback (most recent call last)",
      "\u001b[0;32m<ipython-input-38-6c0aae4a4b99>\u001b[0m in \u001b[0;36m<module>\u001b[0;34m\u001b[0m\n\u001b[1;32m     24\u001b[0m \u001b[0mU0_brain\u001b[0m\u001b[0;34m=\u001b[0m\u001b[0;34m[\u001b[0m\u001b[0;34m]\u001b[0m\u001b[0;34m\u001b[0m\u001b[0;34m\u001b[0m\u001b[0m\n\u001b[1;32m     25\u001b[0m \u001b[0msignal\u001b[0m\u001b[0;34m=\u001b[0m\u001b[0mnp\u001b[0m\u001b[0;34m.\u001b[0m\u001b[0mexpand_dims\u001b[0m\u001b[0;34m(\u001b[0m\u001b[0mnp\u001b[0m\u001b[0;34m.\u001b[0m\u001b[0marray\u001b[0m\u001b[0;34m(\u001b[0m\u001b[0mG\u001b[0m\u001b[0;34m.\u001b[0m\u001b[0mgft\u001b[0m\u001b[0;34m(\u001b[0m\u001b[0mnp\u001b[0m\u001b[0;34m.\u001b[0m\u001b[0marray\u001b[0m\u001b[0;34m(\u001b[0m\u001b[0ml\u001b[0m\u001b[0;34m)\u001b[0m\u001b[0;34m)\u001b[0m\u001b[0;34m)\u001b[0m\u001b[0;34m,\u001b[0m \u001b[0maxis\u001b[0m\u001b[0;34m=\u001b[0m\u001b[0;36m0\u001b[0m\u001b[0;34m)\u001b[0m \u001b[0;31m# add dimension 1 to signal array\u001b[0m\u001b[0;34m\u001b[0m\u001b[0;34m\u001b[0m\u001b[0m\n\u001b[0;32m---> 26\u001b[0;31m \u001b[0mU0_brain\u001b[0m \u001b[0;34m=\u001b[0m \u001b[0msignals_to_img_labels\u001b[0m\u001b[0;34m(\u001b[0m\u001b[0msignal\u001b[0m\u001b[0;34m,\u001b[0m\u001b[0;34m'Glasser_masker.nii.gz'\u001b[0m\u001b[0;34m,\u001b[0m\u001b[0mmnitemp\u001b[0m\u001b[0;34m[\u001b[0m\u001b[0;34m'mask'\u001b[0m\u001b[0;34m]\u001b[0m\u001b[0;34m)\u001b[0m\u001b[0;34m\u001b[0m\u001b[0;34m\u001b[0m\u001b[0m\n\u001b[0m\u001b[1;32m     27\u001b[0m \u001b[0mplotting\u001b[0m\u001b[0;34m.\u001b[0m\u001b[0mplot_glass_brain\u001b[0m\u001b[0;34m(\u001b[0m\u001b[0mU0_brain\u001b[0m\u001b[0;34m,\u001b[0m\u001b[0mtitle\u001b[0m\u001b[0;34m=\u001b[0m\u001b[0;34m'GFTed spatial filter'\u001b[0m\u001b[0;34m,\u001b[0m\u001b[0mcolorbar\u001b[0m\u001b[0;34m=\u001b[0m\u001b[0;32mTrue\u001b[0m\u001b[0;34m,\u001b[0m\u001b[0mplot_abs\u001b[0m\u001b[0;34m=\u001b[0m\u001b[0;32mFalse\u001b[0m\u001b[0;34m,\u001b[0m\u001b[0mcmap\u001b[0m\u001b[0;34m=\u001b[0m\u001b[0;34m'spring'\u001b[0m\u001b[0;34m,\u001b[0m\u001b[0mdisplay_mode\u001b[0m\u001b[0;34m=\u001b[0m\u001b[0;34m'xz'\u001b[0m\u001b[0;34m,\u001b[0m\u001b[0mfigure\u001b[0m\u001b[0;34m=\u001b[0m\u001b[0mfig\u001b[0m\u001b[0;34m,\u001b[0m\u001b[0maxes\u001b[0m\u001b[0;34m=\u001b[0m\u001b[0max\u001b[0m\u001b[0;34m)\u001b[0m\u001b[0;34m\u001b[0m\u001b[0;34m\u001b[0m\u001b[0m\n",
      "\u001b[0;32m~/.local/lib/python3.8/site-packages/nilearn/regions/signal_extraction.py\u001b[0m in \u001b[0;36msignals_to_img_labels\u001b[0;34m(signals, labels_img, mask_img, background_label, order)\u001b[0m\n\u001b[1;32m    176\u001b[0m \u001b[0;34m\u001b[0m\u001b[0m\n\u001b[1;32m    177\u001b[0m     \"\"\"\n\u001b[0;32m--> 178\u001b[0;31m     \u001b[0mlabels_img\u001b[0m \u001b[0;34m=\u001b[0m \u001b[0m_utils\u001b[0m\u001b[0;34m.\u001b[0m\u001b[0mcheck_niimg_3d\u001b[0m\u001b[0;34m(\u001b[0m\u001b[0mlabels_img\u001b[0m\u001b[0;34m)\u001b[0m\u001b[0;34m\u001b[0m\u001b[0;34m\u001b[0m\u001b[0m\n\u001b[0m\u001b[1;32m    179\u001b[0m \u001b[0;34m\u001b[0m\u001b[0m\n\u001b[1;32m    180\u001b[0m     \u001b[0msignals\u001b[0m \u001b[0;34m=\u001b[0m \u001b[0mnp\u001b[0m\u001b[0;34m.\u001b[0m\u001b[0masarray\u001b[0m\u001b[0;34m(\u001b[0m\u001b[0msignals\u001b[0m\u001b[0;34m)\u001b[0m\u001b[0;34m\u001b[0m\u001b[0;34m\u001b[0m\u001b[0m\n",
      "\u001b[0;32m~/.local/lib/python3.8/site-packages/nilearn/_utils/niimg_conversions.py\u001b[0m in \u001b[0;36mcheck_niimg_3d\u001b[0;34m(niimg, dtype)\u001b[0m\n\u001b[1;32m    336\u001b[0m \u001b[0;34m\u001b[0m\u001b[0m\n\u001b[1;32m    337\u001b[0m     \"\"\"\n\u001b[0;32m--> 338\u001b[0;31m     \u001b[0;32mreturn\u001b[0m \u001b[0mcheck_niimg\u001b[0m\u001b[0;34m(\u001b[0m\u001b[0mniimg\u001b[0m\u001b[0;34m,\u001b[0m \u001b[0mensure_ndim\u001b[0m\u001b[0;34m=\u001b[0m\u001b[0;36m3\u001b[0m\u001b[0;34m,\u001b[0m \u001b[0mdtype\u001b[0m\u001b[0;34m=\u001b[0m\u001b[0mdtype\u001b[0m\u001b[0;34m)\u001b[0m\u001b[0;34m\u001b[0m\u001b[0;34m\u001b[0m\u001b[0m\n\u001b[0m\u001b[1;32m    339\u001b[0m \u001b[0;34m\u001b[0m\u001b[0m\n\u001b[1;32m    340\u001b[0m \u001b[0;34m\u001b[0m\u001b[0m\n",
      "\u001b[0;32m~/.local/lib/python3.8/site-packages/nilearn/_utils/niimg_conversions.py\u001b[0m in \u001b[0;36mcheck_niimg\u001b[0;34m(niimg, ensure_ndim, atleast_4d, dtype, return_iterator, wildcards)\u001b[0m\n\u001b[1;32m    269\u001b[0m                 \u001b[0;32mraise\u001b[0m \u001b[0mValueError\u001b[0m\u001b[0;34m(\u001b[0m\u001b[0mmessage\u001b[0m\u001b[0;34m)\u001b[0m\u001b[0;34m\u001b[0m\u001b[0;34m\u001b[0m\u001b[0m\n\u001b[1;32m    270\u001b[0m             \u001b[0;32melse\u001b[0m\u001b[0;34m:\u001b[0m\u001b[0;34m\u001b[0m\u001b[0;34m\u001b[0m\u001b[0m\n\u001b[0;32m--> 271\u001b[0;31m                 \u001b[0;32mraise\u001b[0m \u001b[0mValueError\u001b[0m\u001b[0;34m(\u001b[0m\u001b[0;34m\"File not found: '%s'\"\u001b[0m \u001b[0;34m%\u001b[0m \u001b[0mniimg\u001b[0m\u001b[0;34m)\u001b[0m\u001b[0;34m\u001b[0m\u001b[0;34m\u001b[0m\u001b[0m\n\u001b[0m\u001b[1;32m    272\u001b[0m         \u001b[0;32melif\u001b[0m \u001b[0;32mnot\u001b[0m \u001b[0mos\u001b[0m\u001b[0;34m.\u001b[0m\u001b[0mpath\u001b[0m\u001b[0;34m.\u001b[0m\u001b[0mexists\u001b[0m\u001b[0;34m(\u001b[0m\u001b[0mniimg\u001b[0m\u001b[0;34m)\u001b[0m\u001b[0;34m:\u001b[0m\u001b[0;34m\u001b[0m\u001b[0;34m\u001b[0m\u001b[0m\n\u001b[1;32m    273\u001b[0m             \u001b[0;32mraise\u001b[0m \u001b[0mValueError\u001b[0m\u001b[0;34m(\u001b[0m\u001b[0;34m\"File not found: '%s'\"\u001b[0m \u001b[0;34m%\u001b[0m \u001b[0mniimg\u001b[0m\u001b[0;34m)\u001b[0m\u001b[0;34m\u001b[0m\u001b[0;34m\u001b[0m\u001b[0m\n",
      "\u001b[0;31mValueError\u001b[0m: File not found: 'Glasser_masker.nii.gz'"
     ]
    },
    {
     "output_type": "display_data",
     "data": {
      "image/png": "[encoded data removed]",
      "text/plain": [
       "<Figure size 720x720 with 1 Axes>"
      ]
     },
     "metadata": {
      "needs_background": "light"
     }
    }
   ],
   "metadata": {
    "scrolled": true
   }
  },
  {
   "cell_type": "code",
   "execution_count": null,
   "source": [],
   "outputs": [],
   "metadata": {
    "scrolled": true
   }
  },
  {
   "cell_type": "code",
   "execution_count": 90,
   "source": [
    "from data import surface_plot\n",
    "from imp import reload \n",
    "reload(surface_plot)\n",
    "\n",
    "v = np.zeros([20484,])\n",
    "v[:10242][np.where(atlas['labels_L']==-1)] =1\n",
    "v[10242:][np.where(atlas['labels_R']==-1)] =1\n",
    "\n",
    "surface_plot.plot(v,'Where in the vertices spaces -1 located at','viridis',None, c_range = [0,1])"
   ],
   "outputs": [
    {
     "output_type": "display_data",
     "data": {
      "image/png": "[encoded data removed]",
      "text/plain": [
       "<Figure size 432x360 with 2 Axes>"
      ]
     },
     "metadata": {
      "needs_background": "light"
     }
    }
   ],
   "metadata": {}
  },
  {
   "cell_type": "code",
   "execution_count": 79,
   "source": [
    "np.sum(v)"
   ],
   "outputs": [
    {
     "output_type": "execute_result",
     "data": {
      "text/plain": [
       "1742.0"
      ]
     },
     "metadata": {},
     "execution_count": 79
    }
   ],
   "metadata": {}
  },
  {
   "cell_type": "code",
   "execution_count": 62,
   "source": [],
   "outputs": [],
   "metadata": {}
  },
  {
   "cell_type": "code",
   "execution_count": null,
   "source": [],
   "outputs": [],
   "metadata": {}
  }
 ],
 "metadata": {
  "kernelspec": {
   "display_name": "Python 3",
   "language": "python",
   "name": "python3"
  },
  "language_info": {
   "codemirror_mode": {
    "name": "ipython",
    "version": 3
   },
   "file_extension": ".py",
   "mimetype": "text/x-python",
   "name": "python",
   "nbconvert_exporter": "python",
   "pygments_lexer": "ipython3",
   "version": "3.8.10"
  }
 },
 "nbformat": 4,
 "nbformat_minor": 4
}