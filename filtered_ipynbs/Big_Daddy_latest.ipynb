{
 "cells": [
  {
   "cell_type": "markdown",
   "metadata": {},
   "source": [
    "# The objectives comprised of two folds:\n",
    "# <a href='#resting-state'>1. Resting State</a>\n",
    "\n",
    "# <a href='#ISC'>2. Inter-subject Correlation study (ISC)</a>"
   ]
  },
  {
   "cell_type": "code",
   "execution_count": null,
   "metadata": {},
   "outputs": [],
   "source": []
  },
  {
   "cell_type": "code",
   "execution_count": 2,
   "metadata": {},
   "outputs": [],
   "source": [
    "import mne\n",
    "import pathlib\n",
    "from mne.externals.pymatreader import read_mat\n",
    "import numpy as np\n",
    "import matplotlib.pyplot as plt\n",
    "import pandas as pd\n",
    "from mpl_toolkits.mplot3d import axes3d\n",
    "import numpy as np"
   ]
  },
  {
   "cell_type": "code",
   "execution_count": 5,
   "metadata": {},
   "outputs": [],
   "source": [
    "def csv_to_raw_mne(path_to_file,path_to_montage_ses,fs,path_to_events,filename,state,montage = 'GSN-HydroCel-129'):\n",
    "    ''' Load csv files of data, chan locations and events and return a raw mne instance'''\n",
    "    data = np.loadtxt(path_to_file,delimiter =',')\n",
    "    chans = pd.read_csv(path_to_montage_ses,sep = ',',header = None)\n",
    "    ch_list=['E1', 'E8', 'E14', 'E17', 'E21', 'E25', 'E32', 'E38', 'E43', 'E44', 'E48', 'E49', 'E56', 'E57', 'E63', 'E64', 'E69', 'E73', 'E74', 'E81', 'E82', 'E88', 'E89', 'E94', 'E95', 'E99', 'E100', 'E107', 'E113', 'E114', 'E119', 'E120', 'E121', 'E125', 'E126', 'E127', 'E128']\n",
    "    print(len(ch_list))\n",
    "    ch_names = list(chans.values[1:,0])\n",
    "\n",
    "    \n",
    "    if state == 'Rest':\n",
    "        ch_names_appended = list(np.append(ch_names,'stim_channel'))\n",
    "        types = ['eeg']*(len(ch_names_appended)-1)\n",
    "        types.append('stim')\n",
    "        data2 = np.zeros([1,len(data[0])]) #len(raw.times)\n",
    "        data_appended = np.append(data,data2,axis = 0)\n",
    "        info = mne.create_info(ch_names_appended,sfreq = fs,ch_types = types)\n",
    "        raw = mne.io.RawArray(data_appended, info)\n",
    "    \n",
    "    else:   \n",
    "        types = ['eeg']*(len(ch_names))\n",
    "        info = mne.create_info(ch_names,sfreq = fs,ch_types = types)\n",
    "        raw = mne.io.RawArray(data, info)\n",
    "    \n",
    "    # set standard montage\n",
    "    if montage:\n",
    "        raw.set_montage(montage)\n",
    "\n",
    "    if path_to_events:\n",
    "        # parse events file\n",
    "        raw_events = pd.read_csv(path_to_events, sep = r'\\s*,\\s*', header = None, engine = 'python')\n",
    "        values = raw_events[0].to_list()\n",
    "        \n",
    "        \n",
    "        print(filename)\n",
    "        if filename == 'NDARDX770PJK':\n",
    "            values.extend([\"break cnt\"])\n",
    "            \n",
    "        idx = [i for i, e in enumerate(values) if e == 'break cnt']\n",
    "        if state == 'Rest': \n",
    "            #idx = [i for i, e in enumerate(values) if e == 'break cnt']\n",
    "            samples = raw_events[1][idx[0] + 1:idx[1]].to_numpy(dtype = int)\n",
    "            event_values = raw_events[0][idx[0] + 1:idx[1]].to_numpy(dtype = int)\n",
    "            \n",
    "        else:\n",
    "            samples = raw_events[1][1:idx[0]].to_numpy(dtype = int)\n",
    "            event_values = raw_events[0][1:idx[0]].to_numpy(dtype = int)\n",
    "     \n",
    "\n",
    "        events = np.zeros((len(samples), 3))\n",
    "        \n",
    "        events = events.astype('int')\n",
    "        events[:, 0] = samples\n",
    "        events[:, 2] = event_values\n",
    "        \n",
    "        # Appending one row of 'ones'. Will be easier to stop parsing once we hit 1\n",
    "        events_final = np.append(events,np.ones((1, 3)),axis = 0).astype('int')\n",
    "        raw = exclude_channels_from_raw(raw, ch_list)\n",
    "        \n",
    "    return raw,events_final\n",
    "\n",
    "def exclude_channels_from_raw(raw,ch_to_exclude):\n",
    "    '''Return a raw structure where ch_to_exclude are removed'''\n",
    "    idx_keep = mne.pick_channels(raw.ch_names,include = raw.ch_names,exclude = ch_to_exclude)\n",
    "    raw.pick_channels([raw.ch_names[pick] for pick in idx_keep])\n",
    "    print('yes')\n",
    "    return raw\n",
    "\n",
    "\n",
    "\n",
    "def preparation(filename,state):\n",
    "    path_to_file = '%s/EEG/preprocessed/csv_format/Video3_data.csv'% filename\n",
    "    path_to_events = '%s/EEG/preprocessed/csv_format/Video3_event.csv' %filename\n",
    "    path_to_montage_glob = 'GSN_HydroCel_129_hbn.sfp'\n",
    "    path_to_montage_ses = '%s/EEG/preprocessed/csv_format/Video3_chanlocs.csv' %filename\n",
    "    fs = 500\n",
    "    chans_glob = mne.channels.read_custom_montage(fname = 'GSN_HydroCel_129_hbn.sfp') # read_montage is deprecated\n",
    "# channels to exclude because noisy (Nentwich paper)\n",
    "\n",
    "\n",
    "    raw, events = csv_to_raw_mne(path_to_file,path_to_montage_ses,fs,path_to_events,state=state,filename=filename,montage = 'GSN-HydroCel-129')\n",
    "    #raw.add_events(events, stim_channel = 'stim_channel',replace = False)\n",
    "    return raw,events\n",
    "\n",
    "def preparation_resting_state(filename,state):\n",
    "    path_to_file = '%s/EEG/preprocessed/csv_format/RestingState_data.csv'% filename\n",
    "    path_to_events = '%s/EEG/preprocessed/csv_format/RestingState_event.csv' %filename\n",
    "    path_to_montage_glob = 'GSN_HydroCel_129_hbn.sfp'\n",
    "    path_to_montage_ses = '%s/EEG/preprocessed/csv_format/RestingState_chanlocs.csv' %filename\n",
    "    fs = 500\n",
    "    chans_glob = mne.channels.read_custom_montage(fname = 'GSN_HydroCel_129_hbn.sfp') # read_montage is deprecated\n",
    "\n",
    "\n",
    "    raw, events = csv_to_raw_mne(path_to_file,path_to_montage_ses,fs,path_to_events,filename=filename,state=state,montage = 'GSN-HydroCel-129')\n",
    "    #raw.add_events(events, stim_channel = 'stim_channel',replace = False)\n",
    "    return raw,events"
   ]
  },
  {
   "cell_type": "code",
   "execution_count": 85,
   "metadata": {},
   "outputs": [
    {
     "name": "stdout",
     "output_type": "stream",
     "text": [
      "/users/local/Venkatesh\n"
     ]
    }
   ],
   "source": [
    "cd /users/local/Venkatesh/\n"
   ]
  },
  {
   "cell_type": "markdown",
   "metadata": {},
   "source": [
    "# Resting State <a id='resting-state'></a>"
   ]
  },
  {
   "cell_type": "code",
   "execution_count": 7,
   "metadata": {
    "scrolled": true
   },
   "outputs": [
    {
     "name": "stdout",
     "output_type": "stream",
     "text": [
      "37\n",
      "Creating RawArray with float64 data, n_channels=112, n_times=185185\n",
      "    Range : 0 ... 185184 =      0.000 ...   370.368 secs\n",
      "Ready.\n",
      "NDARCD401HGZ\n",
      "yes\n",
      "37\n",
      "Creating RawArray with float64 data, n_channels=112, n_times=202806\n",
      "    Range : 0 ... 202805 =      0.000 ...   405.610 secs\n",
      "Ready.\n",
      "NDARDX770PJK\n",
      "yes\n",
      "37\n",
      "Creating RawArray with float64 data, n_channels=112, n_times=188133\n",
      "    Range : 0 ... 188132 =      0.000 ...   376.264 secs\n",
      "Ready.\n",
      "NDARGY054ENV\n",
      "yes\n",
      "37\n",
      "Creating RawArray with float64 data, n_channels=112, n_times=196407\n",
      "    Range : 0 ... 196406 =      0.000 ...   392.812 secs\n",
      "Ready.\n",
      "NDARMR242UKQ\n",
      "yes\n",
      "37\n",
      "Creating RawArray with float64 data, n_channels=112, n_times=204606\n",
      "    Range : 0 ... 204605 =      0.000 ...   409.210 secs\n",
      "Ready.\n",
      "NDARRD720XZK\n",
      "yes\n",
      "37\n",
      "Creating RawArray with float64 data, n_channels=112, n_times=184687\n",
      "    Range : 0 ... 184686 =      0.000 ...   369.372 secs\n",
      "Ready.\n",
      "NDARTR840XP1\n",
      "yes\n",
      "37\n",
      "Creating RawArray with float64 data, n_channels=112, n_times=178308\n",
      "    Range : 0 ... 178307 =      0.000 ...   356.614 secs\n",
      "Ready.\n",
      "NDARXJ696AMX\n",
      "yes\n",
      "37\n",
      "Creating RawArray with float64 data, n_channels=112, n_times=191683\n",
      "    Range : 0 ... 191682 =      0.000 ...   383.364 secs\n",
      "Ready.\n",
      "NDARYY218AGA\n",
      "yes\n",
      "37\n",
      "Creating RawArray with float64 data, n_channels=112, n_times=225680\n",
      "    Range : 0 ... 225679 =      0.000 ...   451.358 secs\n",
      "Ready.\n",
      "NDARZP564MHU\n",
      "yes\n"
     ]
    }
   ],
   "source": [
    "\n",
    "for i in  [ v for v in np.arange(10) if v != 2]:\n",
    "        globals()[f\"rstate{i}\"],globals()[f\"rstate{i}_events\"] = preparation_resting_state(subjs[i],'Rest')\n",
    "\n",
    "rstate_bundle = [rstate0,rstate1,rstate3,rstate4,rstate5,rstate6,rstate7,rstate8,rstate9]\n",
    "rstate_events_bundle = [rstate0_events,rstate1_events,rstate3_events,rstate4_events,rstate5_events,rstate6_events,rstate7_events,rstate8_events,rstate9_events]\n"
   ]
  },
  {
   "cell_type": "markdown",
   "metadata": {},
   "source": [
    "# 2. Video-Watching state (Inter-subject Correlation Study)  <a id='ISC'></a>"
   ]
  },
  {
   "cell_type": "code",
   "execution_count": 14,
   "metadata": {
    "scrolled": false
   },
   "outputs": [
    {
     "name": "stdout",
     "output_type": "stream",
     "text": [
      "37\n",
      "Creating RawArray with float64 data, n_channels=111, n_times=86040\n",
      "    Range : 0 ... 86039 =      0.000 ...   172.078 secs\n",
      "Ready.\n",
      "NDARCD401HGZ\n",
      "yes\n",
      "37\n",
      "Creating RawArray with float64 data, n_channels=111, n_times=87720\n",
      "    Range : 0 ... 87719 =      0.000 ...   175.438 secs\n",
      "Ready.\n",
      "NDARDX770PJK\n",
      "yes\n",
      "37\n",
      "Creating RawArray with float64 data, n_channels=111, n_times=86030\n",
      "    Range : 0 ... 86029 =      0.000 ...   172.058 secs\n",
      "Ready.\n",
      "NDAREZ098ZPE\n",
      "yes\n",
      "37\n",
      "Creating RawArray with float64 data, n_channels=111, n_times=86092\n",
      "    Range : 0 ... 86091 =      0.000 ...   172.182 secs\n",
      "Ready.\n",
      "NDARGY054ENV\n",
      "yes\n",
      "37\n",
      "Creating RawArray with float64 data, n_channels=111, n_times=86564\n",
      "    Range : 0 ... 86563 =      0.000 ...   173.126 secs\n",
      "Ready.\n",
      "NDARMR242UKQ\n",
      "yes\n",
      "37\n",
      "Creating RawArray with float64 data, n_channels=111, n_times=86045\n",
      "    Range : 0 ... 86044 =      0.000 ...   172.088 secs\n",
      "Ready.\n",
      "NDARRD720XZK\n",
      "yes\n",
      "37\n",
      "Creating RawArray with float64 data, n_channels=111, n_times=86058\n",
      "    Range : 0 ... 86057 =      0.000 ...   172.114 secs\n",
      "Ready.\n",
      "NDARTR840XP1\n",
      "yes\n",
      "37\n",
      "Creating RawArray with float64 data, n_channels=111, n_times=86046\n",
      "    Range : 0 ... 86045 =      0.000 ...   172.090 secs\n",
      "Ready.\n",
      "NDARXJ696AMX\n",
      "yes\n",
      "37\n",
      "Creating RawArray with float64 data, n_channels=111, n_times=101177\n",
      "    Range : 0 ... 101176 =      0.000 ...   202.352 secs\n",
      "Ready.\n",
      "NDARYY218AGA\n",
      "yes\n",
      "37\n",
      "Creating RawArray with float64 data, n_channels=111, n_times=86054\n",
      "    Range : 0 ... 86053 =      0.000 ...   172.106 secs\n",
      "Ready.\n",
      "NDARZP564MHU\n",
      "yes\n"
     ]
    }
   ],
   "source": [
    "sub1_raw,sub1_events = preparation(subjs[0],'others')\n",
    "sub2_raw,sub2_events = preparation(subjs[1],'others')\n",
    "sub3_raw,sub3_events = preparation(subjs[2],'others')\n",
    "sub4_raw,sub4_events = preparation(subjs[3],'others')\n",
    "sub5_raw,sub5_events = preparation(subjs[4],'others')\n",
    "sub6_raw,sub6_events = preparation(subjs[5],'others')\n",
    "sub7_raw,sub7_events = preparation(subjs[6],'others')\n",
    "sub8_raw,sub8_events = preparation(subjs[7],'others')\n",
    "sub9_raw,sub9_events = preparation(subjs[8],'others')\n",
    "sub10_raw,sub10_events = preparation(subjs[9],'others')\n",
    "\n"
   ]
  },
  {
   "cell_type": "code",
   "execution_count": 7,
   "metadata": {},
   "outputs": [
    {
     "name": "stdout",
     "output_type": "stream",
     "text": [
      "/homes/v20subra\n"
     ]
    }
   ],
   "source": [
    "cd"
   ]
  },
  {
   "cell_type": "code",
   "execution_count": 8,
   "metadata": {},
   "outputs": [
    {
     "name": "stdout",
     "output_type": "stream",
     "text": [
      "/homes/v20subra/S4B2\n"
     ]
    }
   ],
   "source": [
    "cd S4B2"
   ]
  },
  {
   "cell_type": "code",
   "execution_count": 9,
   "metadata": {
    "scrolled": true
   },
   "outputs": [
    {
     "name": "stdout",
     "output_type": "stream",
     "text": [
      "0 files missing from root.txt in /homes/v20subra/mne_data/MNE-fsaverage-data\n",
      "0 files missing from bem.txt in /homes/v20subra/mne_data/MNE-fsaverage-data/fsaverage\n"
     ]
    },
    {
     "name": "stderr",
     "output_type": "stream",
     "text": [
      "/homes/v20subra/.local/lib/python3.8/site-packages/nilearn/datasets/__init__.py:86: FutureWarning: Fetchers from the nilearn.datasets module will be updated in version 0.9 to return python strings instead of bytes and Pandas dataframes instead of Numpy arrays.\n",
      "  warn(\"Fetchers from the nilearn.datasets module will be \"\n"
     ]
    },
    {
     "name": "stdout",
     "output_type": "stream",
     "text": [
      "0 files missing from root.txt in /homes/v20subra/mne_data/MNE-fsaverage-data\n",
      "0 files missing from bem.txt in /homes/v20subra/mne_data/MNE-fsaverage-data/fsaverage\n",
      "0 files missing from root.txt in /homes/v20subra/mne_data/MNE-fsaverage-data\n",
      "0 files missing from bem.txt in /homes/v20subra/mne_data/MNE-fsaverage-data/fsaverage\n",
      "0 files missing from root.txt in /homes/v20subra/mne_data/MNE-fsaverage-data\n",
      "0 files missing from bem.txt in /homes/v20subra/mne_data/MNE-fsaverage-data/fsaverage\n"
     ]
    },
    {
     "data": {
      "text/plain": [
       "<module 'Modular_Scripts.fwd_model' from '/homes/v20subra/S4B2/Modular_Scripts/fwd_model.py'>"
      ]
     },
     "execution_count": 9,
     "metadata": {},
     "output_type": "execute_result"
    }
   ],
   "source": [
    "# Import\n",
    "from Modular_Scripts import epochs_slicing \n",
    "from Modular_Scripts import CCA\n",
    "from Modular_Scripts import plot_matplotlib\n",
    "from Modular_Scripts import source_inversion, surface_plot, fwd_model\n",
    "from imp import reload \n",
    "\n",
    "\n",
    "reload(epochs_slicing)\n",
    "reload(CCA)\n",
    "reload(source_inversion)\n",
    "reload(surface_plot)\n",
    "reload(fwd_model)\n"
   ]
  },
  {
   "cell_type": "markdown",
   "metadata": {},
   "source": [
    "### Source Inversion on Specific chunk of Raw EEG (100ms window around the peak of the peak)"
   ]
  },
  {
   "cell_type": "code",
   "execution_count": 11,
   "metadata": {},
   "outputs": [],
   "source": [
    "\n",
    "def epochs(title,raw_bundle,events_bundle):\n",
    "    for i in range(1, 11):\n",
    "        globals()[f\"epochs{i}_ISC\"+title] = epochs_slicing.epochs(raw_bundle[i-1],events_bundle[i-1],[83,103,9999], tmin=0, tmax=170, fs = 500, epochs_to_slice='83')"
   ]
  },
  {
   "cell_type": "code",
   "execution_count": 18,
   "metadata": {
    "scrolled": true
   },
   "outputs": [
    {
     "name": "stdout",
     "output_type": "stream",
     "text": [
      "Not setting metadata\n",
      "Not setting metadata\n",
      "3 matching events found\n",
      "Setting baseline interval to [0.0, 170.0] sec\n",
      "Applying baseline correction (mode: mean)\n",
      "0 projection items activated\n",
      "Loading data for 3 events and 85001 original time points ...\n",
      "1 bad epochs dropped\n",
      "Not setting metadata\n",
      "Not setting metadata\n",
      "3 matching events found\n",
      "Setting baseline interval to [0.0, 170.0] sec\n",
      "Applying baseline correction (mode: mean)\n",
      "0 projection items activated\n",
      "Loading data for 3 events and 85001 original time points ...\n",
      "1 bad epochs dropped\n",
      "Not setting metadata\n",
      "Not setting metadata\n",
      "3 matching events found\n",
      "Setting baseline interval to [0.0, 170.0] sec\n",
      "Applying baseline correction (mode: mean)\n",
      "0 projection items activated\n",
      "Loading data for 3 events and 85001 original time points ...\n",
      "1 bad epochs dropped\n",
      "Not setting metadata\n",
      "Not setting metadata\n",
      "3 matching events found\n",
      "Setting baseline interval to [0.0, 170.0] sec\n",
      "Applying baseline correction (mode: mean)\n",
      "0 projection items activated\n",
      "Loading data for 3 events and 85001 original time points ...\n",
      "1 bad epochs dropped\n",
      "Not setting metadata\n",
      "Not setting metadata\n",
      "3 matching events found\n",
      "Setting baseline interval to [0.0, 170.0] sec\n",
      "Applying baseline correction (mode: mean)\n",
      "0 projection items activated\n",
      "Loading data for 3 events and 85001 original time points ...\n",
      "1 bad epochs dropped\n",
      "Not setting metadata\n",
      "Not setting metadata\n",
      "3 matching events found\n",
      "Setting baseline interval to [0.0, 170.0] sec\n",
      "Applying baseline correction (mode: mean)\n",
      "0 projection items activated\n",
      "Loading data for 3 events and 85001 original time points ...\n",
      "1 bad epochs dropped\n",
      "Not setting metadata\n",
      "Not setting metadata\n",
      "3 matching events found\n",
      "Setting baseline interval to [0.0, 170.0] sec\n",
      "Applying baseline correction (mode: mean)\n",
      "0 projection items activated\n",
      "Loading data for 3 events and 85001 original time points ...\n",
      "1 bad epochs dropped\n",
      "Not setting metadata\n",
      "Not setting metadata\n",
      "3 matching events found\n",
      "Setting baseline interval to [0.0, 170.0] sec\n",
      "Applying baseline correction (mode: mean)\n",
      "0 projection items activated\n",
      "Loading data for 3 events and 85001 original time points ...\n",
      "1 bad epochs dropped\n",
      "Not setting metadata\n",
      "Not setting metadata\n",
      "3 matching events found\n",
      "Setting baseline interval to [0.0, 170.0] sec\n",
      "Applying baseline correction (mode: mean)\n",
      "0 projection items activated\n",
      "Loading data for 3 events and 85001 original time points ...\n",
      "1 bad epochs dropped\n",
      "Not setting metadata\n",
      "Not setting metadata\n",
      "3 matching events found\n",
      "Setting baseline interval to [0.0, 170.0] sec\n",
      "Applying baseline correction (mode: mean)\n",
      "0 projection items activated\n",
      "Loading data for 3 events and 85001 original time points ...\n",
      "1 bad epochs dropped\n"
     ]
    }
   ],
   "source": [
    "reload(epochs_slicing)\n",
    "\n",
    "raw_bundle = [sub1_raw,sub2_raw,sub3_raw,sub4_raw,sub5_raw,sub6_raw,sub7_raw,sub8_raw,sub9_raw,sub10_raw]\n",
    "events_bundle = [sub1_events,sub2_events,sub3_events,sub4_events,sub5_events,sub6_events,sub7_events,sub8_events,sub9_events,sub10_events]\n",
    "\n",
    "epochs(\"_g\",raw_bundle,events_bundle)\n",
    "\n"
   ]
  },
  {
   "cell_type": "code",
   "execution_count": 19,
   "metadata": {
    "scrolled": false
   },
   "outputs": [],
   "source": [
    "def noise_covariance_estimation(subj):\n",
    "    epochs = mne.Epochs(rstate_bundle[subj], rstate_events_bundle[subj], [20,30,90], tmin=0, tmax=20,preload=True,baseline=(0,None))\n",
    "    epochs_resampled = epochs#.resample(250)# Downsampling to 250Hz\n",
    "    print(np.shape(epochs_resampled.load_data())) # Sanity Check\n",
    "\n",
    "\n",
    "    ##################\n",
    "    ###Noise Covariance\n",
    "    ##################\n",
    "    rand = np.random.randint(1,10000,size=500)\n",
    "    np.random.seed(55)\n",
    "    cov = mne.EpochsArray(epochs_resampled['20'][0].get_data()[:,:,rand],info=rstate_bundle[subj].info)\n",
    "\n",
    "    covariance = mne.compute_covariance(cov, method='auto')\n",
    "    return covariance\n"
   ]
  },
  {
   "cell_type": "code",
   "execution_count": 20,
   "metadata": {
    "scrolled": true
   },
   "outputs": [
    {
     "name": "stdout",
     "output_type": "stream",
     "text": [
      "0 files missing from root.txt in /homes/v20subra/mne_data/MNE-fsaverage-data\n",
      "0 files missing from bem.txt in /homes/v20subra/mne_data/MNE-fsaverage-data/fsaverage\n",
      "0 files missing from root.txt in /homes/v20subra/mne_data/MNE-fsaverage-data\n",
      "0 files missing from bem.txt in /homes/v20subra/mne_data/MNE-fsaverage-data/fsaverage\n",
      "Source space          : /homes/v20subra/mne_data/MNE-fsaverage-data/fsaverage/bem/fsaverage-ico-5-src.fif\n",
      "MRI -> head transform : /homes/v20subra/.local/lib/python3.8/site-packages/mne/data/fsaverage/fsaverage-trans.fif\n",
      "Measurement data      : instance of Info\n",
      "Conductor model   : /homes/v20subra/mne_data/MNE-fsaverage-data/fsaverage/bem/fsaverage-5120-5120-5120-bem-sol.fif\n",
      "Accurate field computations\n",
      "Do computations in head coordinates\n",
      "Free source orientations\n",
      "\n",
      "Reading /homes/v20subra/mne_data/MNE-fsaverage-data/fsaverage/bem/fsaverage-ico-5-src.fif...\n",
      "Read 2 source spaces a total of 20484 active source locations\n",
      "\n",
      "Coordinate transformation: MRI (surface RAS) -> head\n",
      "     0.999994  0.003552  0.000202      -1.76 mm\n",
      "    -0.003558  0.998389  0.056626      31.09 mm\n",
      "    -0.000001 -0.056626  0.998395      39.60 mm\n",
      "     0.000000  0.000000  0.000000       1.00\n",
      "\n",
      "Read  91 EEG channels from info\n",
      "Head coordinate coil definitions created.\n",
      "Source spaces are now in head coordinates.\n",
      "\n",
      "Setting up the BEM model using /homes/v20subra/mne_data/MNE-fsaverage-data/fsaverage/bem/fsaverage-5120-5120-5120-bem-sol.fif...\n",
      "\n",
      "Loading surfaces...\n",
      "\n",
      "Loading the solution matrix...\n",
      "\n",
      "Three-layer model surfaces loaded.\n",
      "Loaded linear_collocation BEM solution from /homes/v20subra/mne_data/MNE-fsaverage-data/fsaverage/bem/fsaverage-5120-5120-5120-bem-sol.fif\n",
      "Employing the head->MRI coordinate transform with the BEM model.\n",
      "BEM model fsaverage-5120-5120-5120-bem-sol.fif is now set up\n",
      "\n",
      "Source spaces are in head coordinates.\n",
      "Checking that the sources are inside the surface and at least    3.1 mm away (will take a few...)\n",
      "    Skipping interior check for 2433 sources that fit inside a sphere of radius   47.7 mm\n",
      "    Skipping solid angle check for 0 points using Qhull\n",
      "    Skipping interior check for 2241 sources that fit inside a sphere of radius   47.7 mm\n",
      "    Skipping solid angle check for 0 points using Qhull\n",
      "\n",
      "Setting up for EEG...\n",
      "Computing EEG at 20484 source locations (free orientations)...\n",
      "\n",
      "Finished.\n"
     ]
    }
   ],
   "source": [
    "from Modular_Scripts import inverse_epochs,source_inversion,fwd_model\n",
    "reload(inverse_epochs)\n",
    "reload(source_inversion)\n",
    "from mne.datasets import fetch_fsaverage\n",
    "\n",
    "\n",
    "import os.path as op\n",
    "\n",
    "\n",
    "fs_dir = fetch_fsaverage(verbose=True)\n",
    "subjects_dir = op.dirname(fs_dir)\n",
    "\n",
    "\n",
    "subject = 'fsaverage' # Subject ID for the MRI-head transformation\n",
    "trans = 'fsaverage'  # MNE has a built-in fsaverage transformation\n",
    "source_space = op.join(fs_dir, 'bem', 'fsaverage-ico-5-src.fif') \n",
    "bem = op.join(fs_dir, 'bem', 'fsaverage-5120-5120-5120-bem-sol.fif')\n",
    "\n",
    "\n",
    "\n",
    "forward_model = mne.make_forward_solution(sub1_raw.info, trans=trans, src=source_space, meg=False,bem=bem, eeg=True, mindist=3.1)\n",
    "\n",
    "def source_inversion_bundle(raw,inverse_operator):\n",
    "    stc1 = inverse_epochs.apply(raw,inverse_operator)\n",
    "    \n",
    "    return stc1\n",
    "\n",
    "def indexing_epochs(epochs,index,subjectnum,sub,downsample=False):\n",
    "    indexed_epochs = epochs.get_data()[:,:,index]\n",
    "    #print(np.shape(epochs))\n",
    "    if downsample:\n",
    "        \n",
    "        info_d = mne.create_info(sub1_raw.info['ch_names'],sfreq=125,ch_types = 'eeg')\n",
    "        ep = mne.EpochsArray(indexed_epochs,mne.create_info(sub1_raw.info['ch_names'],sfreq=500,ch_types = 'eeg'))\n",
    "        ep = ep.resample(125)\n",
    "        print(np.shape(ep.get_data()))\n",
    "        raw = mne.io.RawArray(ep.get_data().reshape(91,500),info_d)\n",
    "        raw.set_eeg_reference('average', projection=True)\n",
    "        raw.apply_proj()\n",
    "    else:\n",
    "        ep = mne.EpochsArray(indexed_epochs,mne.create_info(sub.info['ch_names'],sfreq=500,ch_types = 'eeg'))\n",
    "        raw = mne.io.RawArray(ep.get_data().reshape(91,84500),sub.info)\n",
    "        raw.set_eeg_reference(projection=True)\n",
    "\n",
    "    noise_cov = noise_covariance_estimation(subjectnum)\n",
    "    print('yehshsk')\n",
    "    _,inverse_operator = source_inversion.inversion(raw,forward_model,noise_cov)\n",
    "    \n",
    "    return source_inversion_bundle(raw,inverse_operator)\n",
    "\n"
   ]
  },
  {
   "cell_type": "markdown",
   "metadata": {},
   "source": [
    "### GSP - High and Low's spectra on Graph"
   ]
  },
  {
   "cell_type": "code",
   "execution_count": 70,
   "metadata": {},
   "outputs": [
    {
     "name": "stdout",
     "output_type": "stream",
     "text": [
      "0 files missing from root.txt in /homes/v20subra/mne_data/MNE-fsaverage-data\n",
      "0 files missing from bem.txt in /homes/v20subra/mne_data/MNE-fsaverage-data/fsaverage\n"
     ]
    },
    {
     "data": {
      "text/plain": [
       "2000"
      ]
     },
     "execution_count": 70,
     "metadata": {},
     "output_type": "execute_result"
    }
   ],
   "source": [
    "indexes = np.hstack([np.arange(41*500,45*500)])#,np.arange(67*500,72*500),np.arange(77*500,84*500),np.arange(130*500,136*500),np.arange(155*500,165*500)])\n",
    "reload(inverse_epochs)\n",
    "reload(source_inversion)\n",
    "len(indexes)\n"
   ]
  },
  {
   "cell_type": "code",
   "execution_count": 71,
   "metadata": {
    "scrolled": true
   },
   "outputs": [
    {
     "name": "stdout",
     "output_type": "stream",
     "text": [
      "Not setting metadata\n",
      "Not setting metadata\n",
      "1 matching events found\n",
      "No baseline correction applied\n",
      "0 projection items activated\n",
      "0 bad epochs dropped\n",
      "(1, 91, 500)\n",
      "Creating RawArray with float64 data, n_channels=91, n_times=500\n",
      "    Range : 0 ... 499 =      0.000 ...     3.992 secs\n",
      "Ready.\n",
      "Adding average EEG reference projection.\n",
      "1 projection items deactivated\n",
      "Average reference projection was added, but has not been applied yet. Use the apply_proj method to apply it.\n",
      "Created an SSP operator (subspace dimension = 1)\n",
      "1 projection items activated\n",
      "SSP projectors applied...\n",
      "Not setting metadata\n",
      "Not setting metadata\n",
      "12 matching events found\n",
      "Setting baseline interval to [0.0, 20.0] sec\n",
      "Applying baseline correction (mode: mean)\n",
      "0 projection items activated\n",
      "Loading data for 12 events and 10001 original time points ...\n",
      "1 bad epochs dropped\n",
      "(11, 92, 10001)\n",
      "Not setting metadata\n",
      "Not setting metadata\n",
      "1 matching events found\n",
      "No baseline correction applied\n",
      "0 projection items activated\n",
      "0 bad epochs dropped\n",
      "Computing rank from data with rank=None\n",
      "    Using tolerance 3.5e-05 (2.2e-16 eps * 91 dim * 1.7e+09  max singular value)\n",
      "    Estimated rank (eeg): 91\n",
      "    EEG: rank 91 computed from 91 data channels with 0 projectors\n",
      "Reducing data rank from 91 -> 91\n",
      "Estimating covariance using SHRUNK\n"
     ]
    },
    {
     "name": "stderr",
     "output_type": "stream",
     "text": [
      "<ipython-input-19-566e172dd597>:14: RuntimeWarning: Epochs are not baseline corrected, covariance matrix may be inaccurate\n",
      "  covariance = mne.compute_covariance(cov, method='auto')\n"
     ]
    },
    {
     "name": "stdout",
     "output_type": "stream",
     "text": [
      "Done.\n",
      "Estimating covariance using DIAGONAL_FIXED\n",
      "    EEG regularization : 0.1\n",
      "Done.\n",
      "Estimating covariance using EMPIRICAL\n",
      "Done.\n",
      "Using cross-validation to select the best estimator.\n",
      "    EEG regularization : 0.1\n",
      "    EEG regularization : 0.1\n",
      "    EEG regularization : 0.1\n",
      "Number of samples used : 500\n",
      "log-likelihood on unseen data (descending order):\n",
      "   empirical: -1112.196\n",
      "   shrunk: -1290.925\n",
      "   diagonal_fixed: -1458.491\n",
      "selecting best estimator: empirical\n",
      "[done]\n",
      "yehshsk\n",
      "Converting forward solution to surface orientation\n",
      "    No patch info available. The standard source space normals will be employed in the rotation to the local surface coordinates....\n",
      "    Converting to surface-based source orientations...\n",
      "    [done]\n",
      "Computing inverse operator with 91 channels.\n",
      "    91 out of 91 channels remain after picking\n",
      "Selected 91 channels\n",
      "Creating the depth weighting matrix...\n",
      "    91 EEG channels\n",
      "    limit = 20485/20484 = 2.194331\n",
      "    scale = 146509 exp = 0.8\n",
      "Applying loose dipole orientations to surface source spaces: 0.2\n",
      "Whitening the forward solution.\n",
      "    Created an SSP operator (subspace dimension = 1)\n",
      "Computing rank from covariance with rank=None\n",
      "    Using tolerance 0.11 (2.2e-16 eps * 91 dim * 5.3e+12  max singular value)\n",
      "    Estimated rank (eeg): 90\n",
      "    EEG: rank 90 computed from 91 data channels with 1 projector\n",
      "    Setting small EEG eigenvalues to zero (without PCA)\n",
      "Creating the source covariance matrix\n",
      "Adjusting source covariance matrix.\n",
      "Computing SVD of whitened and weighted lead field matrix.\n",
      "    largest singular value = 4.13124\n",
      "    scaling factor to adjust the trace = 2.40214e+16 (nchan = 91 nzero = 1)\n",
      "Preparing the inverse operator for use...\n",
      "    Scaled noise and source covariance from nave = 1 to nave = 1\n",
      "    Created the regularized inverter\n",
      "    Created an SSP operator (subspace dimension = 1)\n",
      "    Created the whitener using a noise covariance matrix with rank 90 (1 small eigenvalues omitted)\n",
      "    Computing optimized source covariance (eLORETA)...\n",
      "        Using independent orientation weights\n",
      "        Fitting up to 20 iterations (this make take a while)...\n",
      "        Converged on iteration 9 (5.6e-07 < 1e-06)\n",
      "        Updating inverse with weighted eigen leads\n",
      "[done]\n",
      "Applying inverse to raw...\n",
      "    Picked 91 channels from the data\n",
      "    Computing inverse...\n",
      "    Eigenleads already weighted ... \n",
      "    combining the current components...\n",
      "[done]\n",
      "Not setting metadata\n",
      "Not setting metadata\n",
      "1 matching events found\n",
      "No baseline correction applied\n",
      "0 projection items activated\n",
      "0 bad epochs dropped\n",
      "(1, 91, 500)\n",
      "Creating RawArray with float64 data, n_channels=91, n_times=500\n",
      "    Range : 0 ... 499 =      0.000 ...     3.992 secs\n",
      "Ready.\n",
      "Adding average EEG reference projection.\n",
      "1 projection items deactivated\n",
      "Average reference projection was added, but has not been applied yet. Use the apply_proj method to apply it.\n",
      "Created an SSP operator (subspace dimension = 1)\n",
      "1 projection items activated\n",
      "SSP projectors applied...\n",
      "Not setting metadata\n",
      "Not setting metadata\n",
      "12 matching events found\n",
      "Setting baseline interval to [0.0, 20.0] sec\n",
      "Applying baseline correction (mode: mean)\n",
      "0 projection items activated\n",
      "Loading data for 12 events and 10001 original time points ...\n",
      "1 bad epochs dropped\n",
      "(11, 92, 10001)\n",
      "Not setting metadata\n",
      "Not setting metadata\n",
      "1 matching events found\n",
      "No baseline correction applied\n",
      "0 projection items activated\n",
      "0 bad epochs dropped\n",
      "Computing rank from data with rank=None\n",
      "    Using tolerance 4.5e-05 (2.2e-16 eps * 91 dim * 2.2e+09  max singular value)\n",
      "    Estimated rank (eeg): 91\n",
      "    EEG: rank 91 computed from 91 data channels with 0 projectors\n",
      "Reducing data rank from 91 -> 91\n",
      "Estimating covariance using SHRUNK\n"
     ]
    },
    {
     "name": "stderr",
     "output_type": "stream",
     "text": [
      "<ipython-input-19-566e172dd597>:14: RuntimeWarning: Epochs are not baseline corrected, covariance matrix may be inaccurate\n",
      "  covariance = mne.compute_covariance(cov, method='auto')\n"
     ]
    },
    {
     "name": "stdout",
     "output_type": "stream",
     "text": [
      "Done.\n",
      "Estimating covariance using DIAGONAL_FIXED\n",
      "    EEG regularization : 0.1\n",
      "Done.\n",
      "Estimating covariance using EMPIRICAL\n",
      "Done.\n",
      "Using cross-validation to select the best estimator.\n",
      "    EEG regularization : 0.1\n",
      "    EEG regularization : 0.1\n",
      "    EEG regularization : 0.1\n",
      "Number of samples used : 500\n",
      "log-likelihood on unseen data (descending order):\n",
      "   empirical: -1153.047\n",
      "   shrunk: -1329.164\n",
      "   diagonal_fixed: -1491.694\n",
      "selecting best estimator: empirical\n",
      "[done]\n",
      "yehshsk\n",
      "Converting forward solution to surface orientation\n",
      "    No patch info available. The standard source space normals will be employed in the rotation to the local surface coordinates....\n",
      "    Converting to surface-based source orientations...\n",
      "    [done]\n",
      "Computing inverse operator with 91 channels.\n",
      "    91 out of 91 channels remain after picking\n",
      "Selected 91 channels\n",
      "Creating the depth weighting matrix...\n",
      "    91 EEG channels\n",
      "    limit = 20485/20484 = 2.194331\n",
      "    scale = 146509 exp = 0.8\n",
      "Applying loose dipole orientations to surface source spaces: 0.2\n",
      "Whitening the forward solution.\n",
      "    Created an SSP operator (subspace dimension = 1)\n",
      "Computing rank from covariance with rank=None\n",
      "    Using tolerance 0.18 (2.2e-16 eps * 91 dim * 9e+12  max singular value)\n",
      "    Estimated rank (eeg): 90\n",
      "    EEG: rank 90 computed from 91 data channels with 1 projector\n",
      "    Setting small EEG eigenvalues to zero (without PCA)\n",
      "Creating the source covariance matrix\n",
      "Adjusting source covariance matrix.\n",
      "Computing SVD of whitened and weighted lead field matrix.\n",
      "    largest singular value = 4.8991\n",
      "    scaling factor to adjust the trace = 9.5416e+15 (nchan = 91 nzero = 1)\n",
      "Preparing the inverse operator for use...\n",
      "    Scaled noise and source covariance from nave = 1 to nave = 1\n",
      "    Created the regularized inverter\n",
      "    Created an SSP operator (subspace dimension = 1)\n",
      "    Created the whitener using a noise covariance matrix with rank 90 (1 small eigenvalues omitted)\n",
      "    Computing optimized source covariance (eLORETA)...\n",
      "        Using independent orientation weights\n",
      "        Fitting up to 20 iterations (this make take a while)...\n",
      "        Converged on iteration 9 (7.7e-07 < 1e-06)\n",
      "        Updating inverse with weighted eigen leads\n",
      "[done]\n",
      "Applying inverse to raw...\n",
      "    Picked 91 channels from the data\n",
      "    Computing inverse...\n",
      "    Eigenleads already weighted ... \n",
      "    combining the current components...\n",
      "[done]\n",
      "Not setting metadata\n",
      "Not setting metadata\n",
      "1 matching events found\n",
      "No baseline correction applied\n",
      "0 projection items activated\n",
      "0 bad epochs dropped\n",
      "(1, 91, 500)\n",
      "Creating RawArray with float64 data, n_channels=91, n_times=500\n",
      "    Range : 0 ... 499 =      0.000 ...     3.992 secs\n",
      "Ready.\n",
      "Adding average EEG reference projection.\n",
      "1 projection items deactivated\n",
      "Average reference projection was added, but has not been applied yet. Use the apply_proj method to apply it.\n",
      "Created an SSP operator (subspace dimension = 1)\n",
      "1 projection items activated\n",
      "SSP projectors applied...\n",
      "Not setting metadata\n",
      "Not setting metadata\n",
      "12 matching events found\n",
      "Setting baseline interval to [0.0, 20.0] sec\n",
      "Applying baseline correction (mode: mean)\n",
      "0 projection items activated\n",
      "Loading data for 12 events and 10001 original time points ...\n",
      "1 bad epochs dropped\n",
      "(11, 92, 10001)\n",
      "Not setting metadata\n",
      "Not setting metadata\n",
      "1 matching events found\n",
      "No baseline correction applied\n",
      "0 projection items activated\n",
      "0 bad epochs dropped\n",
      "Computing rank from data with rank=None\n",
      "    Using tolerance 4.5e-05 (2.2e-16 eps * 91 dim * 2.2e+09  max singular value)\n",
      "    Estimated rank (eeg): 91\n",
      "    EEG: rank 91 computed from 91 data channels with 0 projectors\n",
      "Reducing data rank from 91 -> 91\n",
      "Estimating covariance using SHRUNK\n"
     ]
    },
    {
     "name": "stderr",
     "output_type": "stream",
     "text": [
      "<ipython-input-19-566e172dd597>:14: RuntimeWarning: Epochs are not baseline corrected, covariance matrix may be inaccurate\n",
      "  covariance = mne.compute_covariance(cov, method='auto')\n"
     ]
    },
    {
     "name": "stdout",
     "output_type": "stream",
     "text": [
      "Done.\n",
      "Estimating covariance using DIAGONAL_FIXED\n",
      "    EEG regularization : 0.1\n",
      "Done.\n",
      "Estimating covariance using EMPIRICAL\n",
      "Done.\n",
      "Using cross-validation to select the best estimator.\n",
      "    EEG regularization : 0.1\n",
      "    EEG regularization : 0.1\n",
      "    EEG regularization : 0.1\n",
      "Number of samples used : 500\n",
      "log-likelihood on unseen data (descending order):\n",
      "   empirical: -1153.047\n",
      "   shrunk: -1329.164\n",
      "   diagonal_fixed: -1491.694\n",
      "selecting best estimator: empirical\n",
      "[done]\n",
      "yehshsk\n",
      "Converting forward solution to surface orientation\n",
      "    No patch info available. The standard source space normals will be employed in the rotation to the local surface coordinates....\n",
      "    Converting to surface-based source orientations...\n",
      "    [done]\n",
      "Computing inverse operator with 91 channels.\n",
      "    91 out of 91 channels remain after picking\n",
      "Selected 91 channels\n",
      "Creating the depth weighting matrix...\n",
      "    91 EEG channels\n",
      "    limit = 20485/20484 = 2.194331\n",
      "    scale = 146509 exp = 0.8\n",
      "Applying loose dipole orientations to surface source spaces: 0.2\n",
      "Whitening the forward solution.\n",
      "    Created an SSP operator (subspace dimension = 1)\n",
      "Computing rank from covariance with rank=None\n",
      "    Using tolerance 0.18 (2.2e-16 eps * 91 dim * 9e+12  max singular value)\n",
      "    Estimated rank (eeg): 90\n",
      "    EEG: rank 90 computed from 91 data channels with 1 projector\n",
      "    Setting small EEG eigenvalues to zero (without PCA)\n",
      "Creating the source covariance matrix\n",
      "Adjusting source covariance matrix.\n",
      "Computing SVD of whitened and weighted lead field matrix.\n",
      "    largest singular value = 4.8991\n",
      "    scaling factor to adjust the trace = 9.5416e+15 (nchan = 91 nzero = 1)\n",
      "Preparing the inverse operator for use...\n",
      "    Scaled noise and source covariance from nave = 1 to nave = 1\n",
      "    Created the regularized inverter\n",
      "    Created an SSP operator (subspace dimension = 1)\n",
      "    Created the whitener using a noise covariance matrix with rank 90 (1 small eigenvalues omitted)\n",
      "    Computing optimized source covariance (eLORETA)...\n",
      "        Using independent orientation weights\n",
      "        Fitting up to 20 iterations (this make take a while)...\n",
      "        Converged on iteration 9 (7.7e-07 < 1e-06)\n",
      "        Updating inverse with weighted eigen leads\n",
      "[done]\n",
      "Applying inverse to raw...\n",
      "    Picked 91 channels from the data\n",
      "    Computing inverse...\n",
      "    Eigenleads already weighted ... \n",
      "    combining the current components...\n",
      "[done]\n",
      "Not setting metadata\n",
      "Not setting metadata\n",
      "1 matching events found\n",
      "No baseline correction applied\n",
      "0 projection items activated\n",
      "0 bad epochs dropped\n",
      "(1, 91, 500)\n",
      "Creating RawArray with float64 data, n_channels=91, n_times=500\n",
      "    Range : 0 ... 499 =      0.000 ...     3.992 secs\n",
      "Ready.\n",
      "Adding average EEG reference projection.\n",
      "1 projection items deactivated\n",
      "Average reference projection was added, but has not been applied yet. Use the apply_proj method to apply it.\n",
      "Created an SSP operator (subspace dimension = 1)\n",
      "1 projection items activated\n",
      "SSP projectors applied...\n",
      "Not setting metadata\n",
      "Not setting metadata\n",
      "12 matching events found\n",
      "Setting baseline interval to [0.0, 20.0] sec\n",
      "Applying baseline correction (mode: mean)\n",
      "0 projection items activated\n",
      "Loading data for 12 events and 10001 original time points ...\n",
      "1 bad epochs dropped\n",
      "(11, 92, 10001)\n",
      "Not setting metadata\n",
      "Not setting metadata\n",
      "1 matching events found\n",
      "No baseline correction applied\n",
      "0 projection items activated\n",
      "0 bad epochs dropped\n",
      "Computing rank from data with rank=None\n",
      "    Using tolerance 1.5e-05 (2.2e-16 eps * 91 dim * 7.4e+08  max singular value)\n",
      "    Estimated rank (eeg): 91\n",
      "    EEG: rank 91 computed from 91 data channels with 0 projectors\n",
      "Reducing data rank from 91 -> 91\n",
      "Estimating covariance using SHRUNK\n"
     ]
    },
    {
     "name": "stderr",
     "output_type": "stream",
     "text": [
      "<ipython-input-19-566e172dd597>:14: RuntimeWarning: Epochs are not baseline corrected, covariance matrix may be inaccurate\n",
      "  covariance = mne.compute_covariance(cov, method='auto')\n"
     ]
    },
    {
     "name": "stdout",
     "output_type": "stream",
     "text": [
      "Done.\n",
      "Estimating covariance using DIAGONAL_FIXED\n",
      "    EEG regularization : 0.1\n",
      "Done.\n",
      "Estimating covariance using EMPIRICAL\n",
      "Done.\n",
      "Using cross-validation to select the best estimator.\n",
      "    EEG regularization : 0.1\n",
      "    EEG regularization : 0.1\n",
      "    EEG regularization : 0.1\n",
      "Number of samples used : 500\n",
      "log-likelihood on unseen data (descending order):\n",
      "   empirical: -1073.712\n",
      "   shrunk: -1254.741\n",
      "   diagonal_fixed: -1421.258\n",
      "selecting best estimator: empirical\n",
      "[done]\n",
      "yehshsk\n",
      "Converting forward solution to surface orientation\n",
      "    No patch info available. The standard source space normals will be employed in the rotation to the local surface coordinates....\n",
      "    Converting to surface-based source orientations...\n",
      "    [done]\n",
      "Computing inverse operator with 91 channels.\n",
      "    91 out of 91 channels remain after picking\n",
      "Selected 91 channels\n",
      "Creating the depth weighting matrix...\n",
      "    91 EEG channels\n",
      "    limit = 20485/20484 = 2.194331\n",
      "    scale = 146509 exp = 0.8\n",
      "Applying loose dipole orientations to surface source spaces: 0.2\n",
      "Whitening the forward solution.\n",
      "    Created an SSP operator (subspace dimension = 1)\n",
      "Computing rank from covariance with rank=None\n",
      "    Using tolerance 0.2 (2.2e-16 eps * 91 dim * 1e+13  max singular value)\n",
      "    Estimated rank (eeg): 90\n",
      "    EEG: rank 90 computed from 91 data channels with 1 projector\n",
      "    Setting small EEG eigenvalues to zero (without PCA)\n",
      "Creating the source covariance matrix\n",
      "Adjusting source covariance matrix.\n",
      "Computing SVD of whitened and weighted lead field matrix.\n",
      "    largest singular value = 5.17747\n",
      "    scaling factor to adjust the trace = 4.01371e+16 (nchan = 91 nzero = 1)\n",
      "Preparing the inverse operator for use...\n",
      "    Scaled noise and source covariance from nave = 1 to nave = 1\n",
      "    Created the regularized inverter\n",
      "    Created an SSP operator (subspace dimension = 1)\n",
      "    Created the whitener using a noise covariance matrix with rank 90 (1 small eigenvalues omitted)\n",
      "    Computing optimized source covariance (eLORETA)...\n",
      "        Using independent orientation weights\n",
      "        Fitting up to 20 iterations (this make take a while)...\n",
      "        Converged on iteration 9 (5.1e-07 < 1e-06)\n",
      "        Updating inverse with weighted eigen leads\n",
      "[done]\n",
      "Applying inverse to raw...\n",
      "    Picked 91 channels from the data\n",
      "    Computing inverse...\n",
      "    Eigenleads already weighted ... \n",
      "    combining the current components...\n",
      "[done]\n",
      "Not setting metadata\n",
      "Not setting metadata\n",
      "1 matching events found\n",
      "No baseline correction applied\n",
      "0 projection items activated\n",
      "0 bad epochs dropped\n",
      "(1, 91, 500)\n",
      "Creating RawArray with float64 data, n_channels=91, n_times=500\n",
      "    Range : 0 ... 499 =      0.000 ...     3.992 secs\n",
      "Ready.\n",
      "Adding average EEG reference projection.\n",
      "1 projection items deactivated\n",
      "Average reference projection was added, but has not been applied yet. Use the apply_proj method to apply it.\n",
      "Created an SSP operator (subspace dimension = 1)\n",
      "1 projection items activated\n",
      "SSP projectors applied...\n",
      "Not setting metadata\n",
      "Not setting metadata\n",
      "12 matching events found\n",
      "Setting baseline interval to [0.0, 20.0] sec\n",
      "Applying baseline correction (mode: mean)\n",
      "0 projection items activated\n",
      "Loading data for 12 events and 10001 original time points ...\n",
      "1 bad epochs dropped\n",
      "(11, 92, 10001)\n",
      "Not setting metadata\n",
      "Not setting metadata\n",
      "1 matching events found\n",
      "No baseline correction applied\n",
      "0 projection items activated\n",
      "0 bad epochs dropped\n",
      "Computing rank from data with rank=None\n",
      "    Using tolerance 3.2e-05 (2.2e-16 eps * 91 dim * 1.6e+09  max singular value)\n",
      "    Estimated rank (eeg): 91\n",
      "    EEG: rank 91 computed from 91 data channels with 0 projectors\n",
      "Reducing data rank from 91 -> 91\n",
      "Estimating covariance using SHRUNK\n"
     ]
    },
    {
     "name": "stderr",
     "output_type": "stream",
     "text": [
      "<ipython-input-19-566e172dd597>:14: RuntimeWarning: Epochs are not baseline corrected, covariance matrix may be inaccurate\n",
      "  covariance = mne.compute_covariance(cov, method='auto')\n"
     ]
    },
    {
     "name": "stdout",
     "output_type": "stream",
     "text": [
      "Done.\n",
      "Estimating covariance using DIAGONAL_FIXED\n",
      "    EEG regularization : 0.1\n",
      "Done.\n",
      "Estimating covariance using EMPIRICAL\n",
      "Done.\n",
      "Using cross-validation to select the best estimator.\n",
      "    EEG regularization : 0.1\n",
      "    EEG regularization : 0.1\n",
      "    EEG regularization : 0.1\n",
      "Number of samples used : 500\n",
      "log-likelihood on unseen data (descending order):\n",
      "   empirical: -1077.861\n",
      "   shrunk: -1268.761\n",
      "   diagonal_fixed: -1458.575\n",
      "selecting best estimator: empirical\n",
      "[done]\n",
      "yehshsk\n",
      "Converting forward solution to surface orientation\n",
      "    No patch info available. The standard source space normals will be employed in the rotation to the local surface coordinates....\n",
      "    Converting to surface-based source orientations...\n",
      "    [done]\n",
      "Computing inverse operator with 91 channels.\n",
      "    91 out of 91 channels remain after picking\n",
      "Selected 91 channels\n",
      "Creating the depth weighting matrix...\n",
      "    91 EEG channels\n",
      "    limit = 20485/20484 = 2.194331\n",
      "    scale = 146509 exp = 0.8\n",
      "Applying loose dipole orientations to surface source spaces: 0.2\n",
      "Whitening the forward solution.\n",
      "    Created an SSP operator (subspace dimension = 1)\n",
      "Computing rank from covariance with rank=None\n",
      "    Using tolerance 0.98 (2.2e-16 eps * 91 dim * 4.8e+13  max singular value)\n",
      "    Estimated rank (eeg): 90\n",
      "    EEG: rank 90 computed from 91 data channels with 1 projector\n",
      "    Setting small EEG eigenvalues to zero (without PCA)\n",
      "Creating the source covariance matrix\n",
      "Adjusting source covariance matrix.\n",
      "Computing SVD of whitened and weighted lead field matrix.\n",
      "    largest singular value = 4.45569\n",
      "    scaling factor to adjust the trace = 6.67627e+15 (nchan = 91 nzero = 1)\n",
      "Preparing the inverse operator for use...\n",
      "    Scaled noise and source covariance from nave = 1 to nave = 1\n",
      "    Created the regularized inverter\n",
      "    Created an SSP operator (subspace dimension = 1)\n",
      "    Created the whitener using a noise covariance matrix with rank 90 (1 small eigenvalues omitted)\n",
      "    Computing optimized source covariance (eLORETA)...\n",
      "        Using independent orientation weights\n",
      "        Fitting up to 20 iterations (this make take a while)...\n",
      "        Converged on iteration 9 (6.2e-07 < 1e-06)\n",
      "        Updating inverse with weighted eigen leads\n",
      "[done]\n",
      "Applying inverse to raw...\n",
      "    Picked 91 channels from the data\n",
      "    Computing inverse...\n",
      "    Eigenleads already weighted ... \n",
      "    combining the current components...\n",
      "[done]\n",
      "Not setting metadata\n",
      "Not setting metadata\n",
      "1 matching events found\n",
      "No baseline correction applied\n",
      "0 projection items activated\n",
      "0 bad epochs dropped\n",
      "(1, 91, 500)\n",
      "Creating RawArray with float64 data, n_channels=91, n_times=500\n",
      "    Range : 0 ... 499 =      0.000 ...     3.992 secs\n",
      "Ready.\n",
      "Adding average EEG reference projection.\n",
      "1 projection items deactivated\n",
      "Average reference projection was added, but has not been applied yet. Use the apply_proj method to apply it.\n",
      "Created an SSP operator (subspace dimension = 1)\n",
      "1 projection items activated\n",
      "SSP projectors applied...\n",
      "Not setting metadata\n",
      "Not setting metadata\n",
      "12 matching events found\n",
      "Setting baseline interval to [0.0, 20.0] sec\n",
      "Applying baseline correction (mode: mean)\n",
      "0 projection items activated\n",
      "Loading data for 12 events and 10001 original time points ...\n",
      "1 bad epochs dropped\n",
      "(11, 92, 10001)\n",
      "Not setting metadata\n",
      "Not setting metadata\n",
      "1 matching events found\n",
      "No baseline correction applied\n",
      "0 projection items activated\n",
      "0 bad epochs dropped\n",
      "Computing rank from data with rank=None\n",
      "    Using tolerance 2.9e-05 (2.2e-16 eps * 91 dim * 1.5e+09  max singular value)\n",
      "    Estimated rank (eeg): 91\n",
      "    EEG: rank 91 computed from 91 data channels with 0 projectors\n",
      "Reducing data rank from 91 -> 91\n",
      "Estimating covariance using SHRUNK\n"
     ]
    },
    {
     "name": "stderr",
     "output_type": "stream",
     "text": [
      "<ipython-input-19-566e172dd597>:14: RuntimeWarning: Epochs are not baseline corrected, covariance matrix may be inaccurate\n",
      "  covariance = mne.compute_covariance(cov, method='auto')\n"
     ]
    },
    {
     "name": "stdout",
     "output_type": "stream",
     "text": [
      "Done.\n",
      "Estimating covariance using DIAGONAL_FIXED\n",
      "    EEG regularization : 0.1\n",
      "Done.\n",
      "Estimating covariance using EMPIRICAL\n",
      "Done.\n",
      "Using cross-validation to select the best estimator.\n",
      "    EEG regularization : 0.1\n",
      "    EEG regularization : 0.1\n",
      "    EEG regularization : 0.1\n",
      "Number of samples used : 500\n",
      "log-likelihood on unseen data (descending order):\n",
      "   empirical: -1075.624\n",
      "   shrunk: -1264.010\n",
      "   diagonal_fixed: -1446.088\n",
      "selecting best estimator: empirical\n",
      "[done]\n",
      "yehshsk\n",
      "Converting forward solution to surface orientation\n",
      "    No patch info available. The standard source space normals will be employed in the rotation to the local surface coordinates....\n",
      "    Converting to surface-based source orientations...\n",
      "    [done]\n",
      "Computing inverse operator with 91 channels.\n",
      "    91 out of 91 channels remain after picking\n",
      "Selected 91 channels\n",
      "Creating the depth weighting matrix...\n",
      "    91 EEG channels\n",
      "    limit = 20485/20484 = 2.194331\n",
      "    scale = 146509 exp = 0.8\n",
      "Applying loose dipole orientations to surface source spaces: 0.2\n",
      "Whitening the forward solution.\n",
      "    Created an SSP operator (subspace dimension = 1)\n",
      "Computing rank from covariance with rank=None\n",
      "    Using tolerance 0.57 (2.2e-16 eps * 91 dim * 2.8e+13  max singular value)\n",
      "    Estimated rank (eeg): 90\n",
      "    EEG: rank 90 computed from 91 data channels with 1 projector\n",
      "    Setting small EEG eigenvalues to zero (without PCA)\n",
      "Creating the source covariance matrix\n",
      "Adjusting source covariance matrix.\n",
      "Computing SVD of whitened and weighted lead field matrix.\n",
      "    largest singular value = 4.46705\n",
      "    scaling factor to adjust the trace = 1.70483e+16 (nchan = 91 nzero = 1)\n",
      "Preparing the inverse operator for use...\n",
      "    Scaled noise and source covariance from nave = 1 to nave = 1\n",
      "    Created the regularized inverter\n",
      "    Created an SSP operator (subspace dimension = 1)\n",
      "    Created the whitener using a noise covariance matrix with rank 90 (1 small eigenvalues omitted)\n",
      "    Computing optimized source covariance (eLORETA)...\n",
      "        Using independent orientation weights\n",
      "        Fitting up to 20 iterations (this make take a while)...\n",
      "        Converged on iteration 9 (4.8e-07 < 1e-06)\n",
      "        Updating inverse with weighted eigen leads\n",
      "[done]\n",
      "Applying inverse to raw...\n",
      "    Picked 91 channels from the data\n",
      "    Computing inverse...\n",
      "    Eigenleads already weighted ... \n",
      "    combining the current components...\n",
      "[done]\n",
      "Not setting metadata\n",
      "Not setting metadata\n",
      "1 matching events found\n",
      "No baseline correction applied\n",
      "0 projection items activated\n",
      "0 bad epochs dropped\n",
      "(1, 91, 500)\n",
      "Creating RawArray with float64 data, n_channels=91, n_times=500\n",
      "    Range : 0 ... 499 =      0.000 ...     3.992 secs\n",
      "Ready.\n",
      "Adding average EEG reference projection.\n",
      "1 projection items deactivated\n",
      "Average reference projection was added, but has not been applied yet. Use the apply_proj method to apply it.\n",
      "Created an SSP operator (subspace dimension = 1)\n",
      "1 projection items activated\n",
      "SSP projectors applied...\n",
      "Not setting metadata\n",
      "Not setting metadata\n",
      "12 matching events found\n",
      "Setting baseline interval to [0.0, 20.0] sec\n",
      "Applying baseline correction (mode: mean)\n",
      "0 projection items activated\n",
      "Loading data for 12 events and 10001 original time points ...\n",
      "1 bad epochs dropped\n",
      "(11, 92, 10001)\n",
      "Not setting metadata\n",
      "Not setting metadata\n",
      "1 matching events found\n",
      "No baseline correction applied\n",
      "0 projection items activated\n",
      "0 bad epochs dropped\n",
      "Computing rank from data with rank=None\n",
      "    Using tolerance 2.3e-05 (2.2e-16 eps * 91 dim * 1.1e+09  max singular value)\n",
      "    Estimated rank (eeg): 91\n",
      "    EEG: rank 91 computed from 91 data channels with 0 projectors\n",
      "Reducing data rank from 91 -> 91\n",
      "Estimating covariance using SHRUNK\n"
     ]
    },
    {
     "name": "stderr",
     "output_type": "stream",
     "text": [
      "<ipython-input-19-566e172dd597>:14: RuntimeWarning: Epochs are not baseline corrected, covariance matrix may be inaccurate\n",
      "  covariance = mne.compute_covariance(cov, method='auto')\n"
     ]
    },
    {
     "name": "stdout",
     "output_type": "stream",
     "text": [
      "Done.\n",
      "Estimating covariance using DIAGONAL_FIXED\n",
      "    EEG regularization : 0.1\n",
      "Done.\n",
      "Estimating covariance using EMPIRICAL\n",
      "Done.\n",
      "Using cross-validation to select the best estimator.\n",
      "    EEG regularization : 0.1\n",
      "    EEG regularization : 0.1\n",
      "    EEG regularization : 0.1\n",
      "Number of samples used : 500\n",
      "log-likelihood on unseen data (descending order):\n",
      "   empirical: -1098.813\n",
      "   shrunk: -1273.786\n",
      "   diagonal_fixed: -1436.289\n",
      "selecting best estimator: empirical\n",
      "[done]\n",
      "yehshsk\n",
      "Converting forward solution to surface orientation\n",
      "    No patch info available. The standard source space normals will be employed in the rotation to the local surface coordinates....\n",
      "    Converting to surface-based source orientations...\n",
      "    [done]\n",
      "Computing inverse operator with 91 channels.\n",
      "    91 out of 91 channels remain after picking\n",
      "Selected 91 channels\n",
      "Creating the depth weighting matrix...\n",
      "    91 EEG channels\n",
      "    limit = 20485/20484 = 2.194331\n",
      "    scale = 146509 exp = 0.8\n",
      "Applying loose dipole orientations to surface source spaces: 0.2\n",
      "Whitening the forward solution.\n",
      "    Created an SSP operator (subspace dimension = 1)\n",
      "Computing rank from covariance with rank=None\n",
      "    Using tolerance 0.13 (2.2e-16 eps * 91 dim * 6.4e+12  max singular value)\n",
      "    Estimated rank (eeg): 90\n",
      "    EEG: rank 90 computed from 91 data channels with 1 projector\n",
      "    Setting small EEG eigenvalues to zero (without PCA)\n",
      "Creating the source covariance matrix\n",
      "Adjusting source covariance matrix.\n",
      "Computing SVD of whitened and weighted lead field matrix.\n",
      "    largest singular value = 5.30077\n",
      "    scaling factor to adjust the trace = 4.15895e+16 (nchan = 91 nzero = 1)\n",
      "Preparing the inverse operator for use...\n",
      "    Scaled noise and source covariance from nave = 1 to nave = 1\n",
      "    Created the regularized inverter\n",
      "    Created an SSP operator (subspace dimension = 1)\n",
      "    Created the whitener using a noise covariance matrix with rank 90 (1 small eigenvalues omitted)\n",
      "    Computing optimized source covariance (eLORETA)...\n",
      "        Using independent orientation weights\n",
      "        Fitting up to 20 iterations (this make take a while)...\n",
      "        Converged on iteration 9 (8.7e-07 < 1e-06)\n",
      "        Updating inverse with weighted eigen leads\n",
      "[done]\n",
      "Applying inverse to raw...\n",
      "    Picked 91 channels from the data\n",
      "    Computing inverse...\n",
      "    Eigenleads already weighted ... \n",
      "    combining the current components...\n",
      "[done]\n",
      "Not setting metadata\n",
      "Not setting metadata\n",
      "1 matching events found\n",
      "No baseline correction applied\n",
      "0 projection items activated\n",
      "0 bad epochs dropped\n",
      "(1, 91, 500)\n",
      "Creating RawArray with float64 data, n_channels=91, n_times=500\n",
      "    Range : 0 ... 499 =      0.000 ...     3.992 secs\n",
      "Ready.\n",
      "Adding average EEG reference projection.\n",
      "1 projection items deactivated\n",
      "Average reference projection was added, but has not been applied yet. Use the apply_proj method to apply it.\n",
      "Created an SSP operator (subspace dimension = 1)\n",
      "1 projection items activated\n",
      "SSP projectors applied...\n",
      "Not setting metadata\n",
      "Not setting metadata\n",
      "12 matching events found\n",
      "Setting baseline interval to [0.0, 20.0] sec\n",
      "Applying baseline correction (mode: mean)\n",
      "0 projection items activated\n",
      "Loading data for 12 events and 10001 original time points ...\n",
      "1 bad epochs dropped\n",
      "(11, 92, 10001)\n",
      "Not setting metadata\n",
      "Not setting metadata\n",
      "1 matching events found\n",
      "No baseline correction applied\n",
      "0 projection items activated\n",
      "0 bad epochs dropped\n",
      "Computing rank from data with rank=None\n",
      "    Using tolerance 1.5e-05 (2.2e-16 eps * 91 dim * 7.5e+08  max singular value)\n",
      "    Estimated rank (eeg): 91\n",
      "    EEG: rank 91 computed from 91 data channels with 0 projectors\n",
      "Reducing data rank from 91 -> 91\n",
      "Estimating covariance using SHRUNK\n"
     ]
    },
    {
     "name": "stderr",
     "output_type": "stream",
     "text": [
      "<ipython-input-19-566e172dd597>:14: RuntimeWarning: Epochs are not baseline corrected, covariance matrix may be inaccurate\n",
      "  covariance = mne.compute_covariance(cov, method='auto')\n"
     ]
    },
    {
     "name": "stdout",
     "output_type": "stream",
     "text": [
      "Done.\n",
      "Estimating covariance using DIAGONAL_FIXED\n",
      "    EEG regularization : 0.1\n",
      "Done.\n",
      "Estimating covariance using EMPIRICAL\n",
      "Done.\n",
      "Using cross-validation to select the best estimator.\n",
      "    EEG regularization : 0.1\n",
      "    EEG regularization : 0.1\n",
      "    EEG regularization : 0.1\n",
      "Number of samples used : 500\n",
      "log-likelihood on unseen data (descending order):\n",
      "   empirical: -1027.174\n",
      "   shrunk: -1218.331\n",
      "   diagonal_fixed: -1398.117\n",
      "selecting best estimator: empirical\n",
      "[done]\n",
      "yehshsk\n",
      "Converting forward solution to surface orientation\n",
      "    No patch info available. The standard source space normals will be employed in the rotation to the local surface coordinates....\n",
      "    Converting to surface-based source orientations...\n",
      "    [done]\n",
      "Computing inverse operator with 91 channels.\n",
      "    91 out of 91 channels remain after picking\n",
      "Selected 91 channels\n",
      "Creating the depth weighting matrix...\n",
      "    91 EEG channels\n",
      "    limit = 20485/20484 = 2.194331\n",
      "    scale = 146509 exp = 0.8\n",
      "Applying loose dipole orientations to surface source spaces: 0.2\n",
      "Whitening the forward solution.\n",
      "    Created an SSP operator (subspace dimension = 1)\n",
      "Computing rank from covariance with rank=None\n",
      "    Using tolerance 0.19 (2.2e-16 eps * 91 dim * 9.6e+12  max singular value)\n",
      "    Estimated rank (eeg): 90\n",
      "    EEG: rank 90 computed from 91 data channels with 1 projector\n",
      "    Setting small EEG eigenvalues to zero (without PCA)\n",
      "Creating the source covariance matrix\n",
      "Adjusting source covariance matrix.\n",
      "Computing SVD of whitened and weighted lead field matrix.\n",
      "    largest singular value = 4.64637\n",
      "    scaling factor to adjust the trace = 4.14421e+16 (nchan = 91 nzero = 1)\n",
      "Preparing the inverse operator for use...\n",
      "    Scaled noise and source covariance from nave = 1 to nave = 1\n",
      "    Created the regularized inverter\n",
      "    Created an SSP operator (subspace dimension = 1)\n",
      "    Created the whitener using a noise covariance matrix with rank 90 (1 small eigenvalues omitted)\n",
      "    Computing optimized source covariance (eLORETA)...\n",
      "        Using independent orientation weights\n",
      "        Fitting up to 20 iterations (this make take a while)...\n",
      "        Converged on iteration 9 (6.9e-07 < 1e-06)\n",
      "        Updating inverse with weighted eigen leads\n",
      "[done]\n",
      "Applying inverse to raw...\n",
      "    Picked 91 channels from the data\n",
      "    Computing inverse...\n",
      "    Eigenleads already weighted ... \n",
      "    combining the current components...\n",
      "[done]\n",
      "Not setting metadata\n",
      "Not setting metadata\n",
      "1 matching events found\n",
      "No baseline correction applied\n",
      "0 projection items activated\n",
      "0 bad epochs dropped\n",
      "(1, 91, 500)\n",
      "Creating RawArray with float64 data, n_channels=91, n_times=500\n",
      "    Range : 0 ... 499 =      0.000 ...     3.992 secs\n",
      "Ready.\n",
      "Adding average EEG reference projection.\n",
      "1 projection items deactivated\n",
      "Average reference projection was added, but has not been applied yet. Use the apply_proj method to apply it.\n",
      "Created an SSP operator (subspace dimension = 1)\n",
      "1 projection items activated\n",
      "SSP projectors applied...\n",
      "Not setting metadata\n",
      "Not setting metadata\n",
      "12 matching events found\n",
      "Setting baseline interval to [0.0, 20.0] sec\n",
      "Applying baseline correction (mode: mean)\n",
      "0 projection items activated\n",
      "Loading data for 12 events and 10001 original time points ...\n",
      "1 bad epochs dropped\n",
      "(11, 92, 10001)\n",
      "Not setting metadata\n",
      "Not setting metadata\n",
      "1 matching events found\n",
      "No baseline correction applied\n",
      "0 projection items activated\n",
      "0 bad epochs dropped\n",
      "Computing rank from data with rank=None\n",
      "    Using tolerance 1.5e-05 (2.2e-16 eps * 91 dim * 7.5e+08  max singular value)\n",
      "    Estimated rank (eeg): 91\n",
      "    EEG: rank 91 computed from 91 data channels with 0 projectors\n",
      "Reducing data rank from 91 -> 91\n",
      "Estimating covariance using SHRUNK\n"
     ]
    },
    {
     "name": "stderr",
     "output_type": "stream",
     "text": [
      "<ipython-input-19-566e172dd597>:14: RuntimeWarning: Epochs are not baseline corrected, covariance matrix may be inaccurate\n",
      "  covariance = mne.compute_covariance(cov, method='auto')\n"
     ]
    },
    {
     "name": "stdout",
     "output_type": "stream",
     "text": [
      "Done.\n",
      "Estimating covariance using DIAGONAL_FIXED\n",
      "    EEG regularization : 0.1\n",
      "Done.\n",
      "Estimating covariance using EMPIRICAL\n",
      "Done.\n",
      "Using cross-validation to select the best estimator.\n",
      "    EEG regularization : 0.1\n",
      "    EEG regularization : 0.1\n",
      "    EEG regularization : 0.1\n",
      "Number of samples used : 500\n",
      "log-likelihood on unseen data (descending order):\n",
      "   empirical: -1035.198\n",
      "   shrunk: -1235.497\n",
      "   diagonal_fixed: -1413.711\n",
      "selecting best estimator: empirical\n",
      "[done]\n",
      "yehshsk\n",
      "Converting forward solution to surface orientation\n",
      "    No patch info available. The standard source space normals will be employed in the rotation to the local surface coordinates....\n",
      "    Converting to surface-based source orientations...\n",
      "    [done]\n",
      "Computing inverse operator with 91 channels.\n",
      "    91 out of 91 channels remain after picking\n",
      "Selected 91 channels\n",
      "Creating the depth weighting matrix...\n",
      "    91 EEG channels\n",
      "    limit = 20485/20484 = 2.194331\n",
      "    scale = 146509 exp = 0.8\n",
      "Applying loose dipole orientations to surface source spaces: 0.2\n",
      "Whitening the forward solution.\n",
      "    Created an SSP operator (subspace dimension = 1)\n",
      "Computing rank from covariance with rank=None\n",
      "    Using tolerance 0.21 (2.2e-16 eps * 91 dim * 1e+13  max singular value)\n",
      "    Estimated rank (eeg): 90\n",
      "    EEG: rank 90 computed from 91 data channels with 1 projector\n",
      "    Setting small EEG eigenvalues to zero (without PCA)\n",
      "Creating the source covariance matrix\n",
      "Adjusting source covariance matrix.\n",
      "Computing SVD of whitened and weighted lead field matrix.\n",
      "    largest singular value = 5.61542\n",
      "    scaling factor to adjust the trace = 8.45396e+16 (nchan = 91 nzero = 1)\n",
      "Preparing the inverse operator for use...\n",
      "    Scaled noise and source covariance from nave = 1 to nave = 1\n",
      "    Created the regularized inverter\n",
      "    Created an SSP operator (subspace dimension = 1)\n",
      "    Created the whitener using a noise covariance matrix with rank 90 (1 small eigenvalues omitted)\n",
      "    Computing optimized source covariance (eLORETA)...\n",
      "        Using independent orientation weights\n",
      "        Fitting up to 20 iterations (this make take a while)...\n",
      "        Converged on iteration 9 (3.6e-07 < 1e-06)\n",
      "        Updating inverse with weighted eigen leads\n",
      "[done]\n",
      "Applying inverse to raw...\n",
      "    Picked 91 channels from the data\n",
      "    Computing inverse...\n",
      "    Eigenleads already weighted ... \n",
      "    combining the current components...\n",
      "[done]\n",
      "Not setting metadata\n",
      "Not setting metadata\n",
      "1 matching events found\n",
      "No baseline correction applied\n",
      "0 projection items activated\n",
      "0 bad epochs dropped\n",
      "(1, 91, 500)\n",
      "Creating RawArray with float64 data, n_channels=91, n_times=500\n",
      "    Range : 0 ... 499 =      0.000 ...     3.992 secs\n",
      "Ready.\n",
      "Adding average EEG reference projection.\n",
      "1 projection items deactivated\n",
      "Average reference projection was added, but has not been applied yet. Use the apply_proj method to apply it.\n",
      "Created an SSP operator (subspace dimension = 1)\n",
      "1 projection items activated\n",
      "SSP projectors applied...\n",
      "Not setting metadata\n",
      "Not setting metadata\n",
      "12 matching events found\n",
      "Setting baseline interval to [0.0, 20.0] sec\n",
      "Applying baseline correction (mode: mean)\n",
      "0 projection items activated\n",
      "Loading data for 12 events and 10001 original time points ...\n",
      "1 bad epochs dropped\n",
      "(11, 92, 10001)\n",
      "Not setting metadata\n",
      "Not setting metadata\n",
      "1 matching events found\n",
      "No baseline correction applied\n",
      "0 projection items activated\n",
      "0 bad epochs dropped\n",
      "Computing rank from data with rank=None\n",
      "    Using tolerance 2.8e-05 (2.2e-16 eps * 91 dim * 1.4e+09  max singular value)\n",
      "    Estimated rank (eeg): 91\n",
      "    EEG: rank 91 computed from 91 data channels with 0 projectors\n",
      "Reducing data rank from 91 -> 91\n",
      "Estimating covariance using SHRUNK\n"
     ]
    },
    {
     "name": "stderr",
     "output_type": "stream",
     "text": [
      "<ipython-input-19-566e172dd597>:14: RuntimeWarning: Epochs are not baseline corrected, covariance matrix may be inaccurate\n",
      "  covariance = mne.compute_covariance(cov, method='auto')\n"
     ]
    },
    {
     "name": "stdout",
     "output_type": "stream",
     "text": [
      "Done.\n",
      "Estimating covariance using DIAGONAL_FIXED\n",
      "    EEG regularization : 0.1\n",
      "Done.\n",
      "Estimating covariance using EMPIRICAL\n",
      "Done.\n",
      "Using cross-validation to select the best estimator.\n",
      "    EEG regularization : 0.1\n",
      "    EEG regularization : 0.1\n",
      "    EEG regularization : 0.1\n",
      "Number of samples used : 500\n",
      "log-likelihood on unseen data (descending order):\n",
      "   empirical: -1076.004\n",
      "   shrunk: -1264.940\n",
      "   diagonal_fixed: -1453.019\n",
      "selecting best estimator: empirical\n",
      "[done]\n",
      "yehshsk\n",
      "Converting forward solution to surface orientation\n",
      "    No patch info available. The standard source space normals will be employed in the rotation to the local surface coordinates....\n",
      "    Converting to surface-based source orientations...\n",
      "    [done]\n",
      "Computing inverse operator with 91 channels.\n",
      "    91 out of 91 channels remain after picking\n",
      "Selected 91 channels\n",
      "Creating the depth weighting matrix...\n",
      "    91 EEG channels\n",
      "    limit = 20485/20484 = 2.194331\n",
      "    scale = 146509 exp = 0.8\n",
      "Applying loose dipole orientations to surface source spaces: 0.2\n",
      "Whitening the forward solution.\n",
      "    Created an SSP operator (subspace dimension = 1)\n",
      "Computing rank from covariance with rank=None\n",
      "    Using tolerance 0.7 (2.2e-16 eps * 91 dim * 3.5e+13  max singular value)\n",
      "    Estimated rank (eeg): 90\n",
      "    EEG: rank 90 computed from 91 data channels with 1 projector\n",
      "    Setting small EEG eigenvalues to zero (without PCA)\n",
      "Creating the source covariance matrix\n",
      "Adjusting source covariance matrix.\n",
      "Computing SVD of whitened and weighted lead field matrix.\n",
      "    largest singular value = 4.59274\n",
      "    scaling factor to adjust the trace = 6.88816e+15 (nchan = 91 nzero = 1)\n",
      "Preparing the inverse operator for use...\n",
      "    Scaled noise and source covariance from nave = 1 to nave = 1\n",
      "    Created the regularized inverter\n",
      "    Created an SSP operator (subspace dimension = 1)\n",
      "    Created the whitener using a noise covariance matrix with rank 90 (1 small eigenvalues omitted)\n",
      "    Computing optimized source covariance (eLORETA)...\n",
      "        Using independent orientation weights\n",
      "        Fitting up to 20 iterations (this make take a while)...\n",
      "        Converged on iteration 9 (4.8e-07 < 1e-06)\n",
      "        Updating inverse with weighted eigen leads\n",
      "[done]\n",
      "Applying inverse to raw...\n",
      "    Picked 91 channels from the data\n",
      "    Computing inverse...\n",
      "    Eigenleads already weighted ... \n",
      "    combining the current components...\n",
      "[done]\n"
     ]
    }
   ],
   "source": [
    "src_high1 = indexing_epochs(epochs1_ISC_g,indexes,subjectnum=0,downsample=True,sub=sub1_raw)\n",
    "src_high2 = indexing_epochs(epochs2_ISC_g,indexes,subjectnum=1,downsample=True,sub=sub2_raw)\n",
    "src_high3 = indexing_epochs(epochs3_ISC_g,indexes,subjectnum=1,downsample=True,sub=sub3_raw)\n",
    "src_high4 = indexing_epochs(epochs4_ISC_g,indexes,subjectnum=2,downsample=True,sub=sub4_raw)\n",
    "src_high5 = indexing_epochs(epochs5_ISC_g,indexes,subjectnum=3,downsample=True,sub=sub5_raw)\n",
    "src_high6 = indexing_epochs(epochs6_ISC_g,indexes,subjectnum=4,downsample=True,sub=sub6_raw)\n",
    "src_high7 = indexing_epochs(epochs7_ISC_g,indexes,subjectnum=5,downsample=True,sub=sub7_raw)\n",
    "src_high8 = indexing_epochs(epochs8_ISC_g,indexes,subjectnum=6,downsample=True,sub=sub8_raw)\n",
    "src_high9 = indexing_epochs(epochs9_ISC_g,indexes,subjectnum=7,downsample=True,sub=sub9_raw)\n",
    "src_high10 = indexing_epochs(epochs10_ISC_g,indexes,subjectnum=8,downsample=True,sub=sub10_raw)\n",
    "\n"
   ]
  },
  {
   "cell_type": "code",
   "execution_count": 24,
   "metadata": {},
   "outputs": [],
   "source": [
    "import numpy as np\n",
    "import matplotlib.pyplot as plt\n",
    "from pygsp import graphs, filters\n",
    "from pygsp import plotting as gsp_plt\n",
    "from nilearn import image, plotting, datasets\n"
   ]
  },
  {
   "cell_type": "code",
   "execution_count": 25,
   "metadata": {},
   "outputs": [
    {
     "name": "stdout",
     "output_type": "stream",
     "text": [
      "/homes/v20subra\n"
     ]
    }
   ],
   "source": [
    "cd"
   ]
  },
  {
   "cell_type": "code",
   "execution_count": 26,
   "metadata": {},
   "outputs": [],
   "source": [
    "import numpy as np\n",
    "with np.load(f\"/homes/v20subra/S4B2/GSP/hcp/atlas.npz\") as dobj:\n",
    "    atlas = dict(**dobj)"
   ]
  },
  {
   "cell_type": "code",
   "execution_count": null,
   "metadata": {},
   "outputs": [],
   "source": []
  },
  {
   "cell_type": "code",
   "execution_count": 72,
   "metadata": {},
   "outputs": [],
   "source": [
    "def averaging_by_parcellation(sub):\n",
    "    l =list()\n",
    "    for i in list(set(atlas['labels_L']))[:-1]:\n",
    "        l.append(np.mean(sub.data[10242:][np.where(i== atlas['labels_L'])],axis=0))\n",
    "\n",
    "    for i in list(set(atlas['labels_R']))[:-1]:\n",
    "        l.append(np.mean(sub.data[:10242][np.where(i== atlas['labels_R'])],axis=0))\n",
    "    return l"
   ]
  },
  {
   "cell_type": "markdown",
   "metadata": {},
   "source": [
    "### Recomputation of ISC to probe eLORETA"
   ]
  },
  {
   "cell_type": "code",
   "execution_count": 73,
   "metadata": {},
   "outputs": [],
   "source": [
    "high = [np.array(averaging_by_parcellation(src_high1)),np.array(averaging_by_parcellation(src_high2)), \n",
    "       np.array(averaging_by_parcellation(src_high3)), np.array(averaging_by_parcellation(src_high4)), \n",
    "       np.array(averaging_by_parcellation(src_high5)), np.array(averaging_by_parcellation(src_high6)),\n",
    "       np.array(averaging_by_parcellation(src_high7)), np.array(averaging_by_parcellation(src_high8)), \n",
    "       np.array(averaging_by_parcellation(src_high9)), np.array(averaging_by_parcellation(src_high10))]\n",
    "\n",
    "# high = [np.array((src_high1.data)),np.array((src_high2.data)), \n",
    "#        np.array((src_high3.data)), np.array((src_high4.data)), \n",
    "#        np.array((src_high5.data)), np.array((src_high6.data)),\n",
    "#        np.array((src_high7.data)), np.array((src_high8.data)), \n",
    "#        np.array((src_high9.data)), np.array((src_high10.data))]\n",
    "\n",
    "\n",
    "\n",
    "\n",
    "\n"
   ]
  },
  {
   "cell_type": "code",
   "execution_count": 66,
   "metadata": {},
   "outputs": [
    {
     "data": {
      "text/plain": [
       "(360, 500)"
      ]
     },
     "execution_count": 66,
     "metadata": {},
     "output_type": "execute_result"
    }
   ],
   "source": [
    "np.zeros()"
   ]
  },
  {
   "cell_type": "code",
   "execution_count": 29,
   "metadata": {},
   "outputs": [],
   "source": [
    "# from nilearn import datasets\n",
    "# fsaverage = datasets.fetch_surf_fsaverage()\n",
    "\n",
    "# destrieux_atlas = datasets.fetch_atlas_surf_destrieux()\n",
    "# parcellation = destrieux_atlas['map_right']\n",
    "# from nilearn import plotting\n",
    "# for i in range(10):\n",
    "#     plotting.plot_surf_stat_map(fsaverage.infl_right, np.average(high[i].data,axis=1)[:10242], hemi='right',\n",
    "#                             title='Surface right hemisphere', colorbar=True,\n",
    "#                             bg_map=fsaverage.sulc_right)\n",
    "#     plotting.plot_surf_stat_map(fsaverage.infl_left, np.average(high[i].data,axis=1)[10242:], hemi='left',\n",
    "#                             title='Surface left hemisphere', colorbar=True,\n",
    "#                             bg_map=fsaverage.sulc_left)\n"
   ]
  },
  {
   "cell_type": "code",
   "execution_count": 52,
   "metadata": {},
   "outputs": [
    {
     "name": "stdout",
     "output_type": "stream",
     "text": [
      "[7.40515337e-06]\n",
      "[5.6037438e-06]\n"
     ]
    },
    {
     "name": "stderr",
     "output_type": "stream",
     "text": [
      "/homes/v20subra/.local/lib/python3.8/site-packages/nilearn/plotting/displays.py:880: UserWarning: empty mask\n",
      "  get_mask_bounds(new_img_like(img, not_mask, affine))\n",
      "<ipython-input-52-6ffeb185e2d9>:50: UserWarning: This figure includes Axes that are not compatible with tight_layout, so results might be incorrect.\n",
      "  fig.tight_layout()\n"
     ]
    },
    {
     "data": {
      "text/plain": [
       "Text(0.5, 0.98, 'Brain signature near 155th sec for a 4s window -- steep low to high dB & avg (4s)')"
      ]
     },
     "execution_count": 52,
     "metadata": {},
     "output_type": "execute_result"
    },
    {
     "data": {
      "image/png": "[encoded data removed]",
      "text/plain": [
       "<Figure size 1080x1080 with 12 Axes>"
      ]
     },
     "metadata": {},
     "output_type": "display_data"
    }
   ],
   "source": [
    "from nilearn.regions import signals_to_img_labels  \n",
    "# load nilearn label masker for inverse transform\n",
    "from nilearn.input_data import NiftiLabelsMasker, NiftiMasker\n",
    "from nilearn.datasets import fetch_icbm152_2009\n",
    "from nilearn import image, plotting\n",
    "from nilearn import datasets\n",
    "from os.path import join as opj\n",
    "import matplotlib.pyplot as plt\n",
    "\n",
    "path_Glasser = '/homes/v20subra/S4B2/GSP/Glasser_masker.nii.gz'\n",
    "\n",
    "\n",
    "mnitemp = fetch_icbm152_2009()\n",
    "mask_mni=image.load_img(mnitemp['mask'])\n",
    "glasser_atlas=image.load_img(path_Glasser)\n",
    "\n",
    "\n",
    "\n",
    "fig=plt.figure(figsize = (15, 15))\n",
    "grid = fig.add_gridspec(4,20, wspace =0.2, hspace = 0.3)\n",
    "#grid = gridspec.GridSpec(2,2, wspace =0.3, hspace = 0.8)\n",
    "g1 = fig.add_subplot(grid[0, 0:4])\n",
    "g2 = fig.add_subplot(grid[0, 4:8])\n",
    "g3 = fig.add_subplot(grid[0, 8:12])\n",
    "g4 = fig.add_subplot(grid[0, 12:16])\n",
    "g5 = fig.add_subplot(grid[0, 16:])\n",
    "\n",
    "g6 = fig.add_subplot(grid[1, 0:4])\n",
    "g7 = fig.add_subplot(grid[1, 4:8])\n",
    "g8 = fig.add_subplot(grid[1, 8:12])\n",
    "g9 = fig.add_subplot(grid[1, 12:16])\n",
    "g10 = fig.add_subplot(grid[1, 16:])\n",
    "\n",
    "axes_list = [g1,g2,g3,g4,g5,g6,g7,g8,g9,g10]\n",
    "def brain_plot(data, title, expand,ax):\n",
    "\n",
    "    signal=[]\n",
    "    U0_brain=[]\n",
    "    if expand:\n",
    "        signal=np.expand_dims(data, axis=0) # add dimension 1 to signal array\n",
    "    else:\n",
    "        signal=data # add dimension 1 to signal array\n",
    "    U0_brain = signals_to_img_labels(signal,path_Glasser,mnitemp['mask'])\n",
    "    plotting.plot_glass_brain(U0_brain,title=title,colorbar=True,plot_abs=False,cmap='seismic',display_mode='lr',symmetric_cbar=False,axes=ax)\n",
    "\n",
    "for i in range(1):\n",
    "    \n",
    "    brain_plot(np.reshape(zeroing(high[i],last='last',first=None) - zeroing(high[i],first='first',last=None) ,(1,360)),'Subject {}'.format(i+1),expand=False, ax=axes_list[i])\n",
    "\n",
    "fig.tight_layout()\n",
    "fig.suptitle('Brain signature near 155th sec for a 4s window -- steep low to high dB & avg (4s)')"
   ]
  },
  {
   "cell_type": "code",
   "execution_count": 80,
   "metadata": {},
   "outputs": [],
   "source": [
    "# fig.savefig('/homes/v20subra/S4B2/eLORETA_extensive_validation/155_low_to_high_dB_avg_4s')\n",
    "def zeroing(data,first,last):\n",
    "    if first:\n",
    "        z = np.zeros((360,1))\n",
    "        z[27] = np.average(data[27,0:100],axis=0)\n",
    "        z[207] = np.average(data[207,0:100],axis=0)\n",
    "    if last:\n",
    "        z = np.zeros((360,1))\n",
    "        z[27] = np.average(data[27,-250:],axis=0)\n",
    "        z[207] = np.average(data[207,-250:],axis=0)\n",
    "    return z"
   ]
  },
  {
   "cell_type": "code",
   "execution_count": 83,
   "metadata": {},
   "outputs": [
    {
     "name": "stdout",
     "output_type": "stream",
     "text": [
      "[2.20515665e-06]\n",
      "[2.99608321e-06]\n",
      "[5.34379376e-09]\n",
      "[2.91495067e-06]\n",
      "[1.3980841e-05]\n",
      "[-1.41484339e-06]\n",
      "[-8.16593519e-06]\n",
      "[-3.53593857e-06]\n",
      "[1.69997723e-07]\n",
      "[-2.02727936e-05]\n"
     ]
    }
   ],
   "source": [
    "for i in range(10):\n",
    "    print( (zeroing(high[i],last='last',first=None) - zeroing(high[i],first='first',last=None))[27])\n"
   ]
  },
  {
   "cell_type": "code",
   "execution_count": 41,
   "metadata": {},
   "outputs": [
    {
     "data": {
      "text/plain": [
       "(100,)"
      ]
     },
     "execution_count": 41,
     "metadata": {},
     "output_type": "execute_result"
    }
   ],
   "source": [
    "np.shape(high[0][27,0:100])"
   ]
  },
  {
   "cell_type": "code",
   "execution_count": 21,
   "metadata": {},
   "outputs": [],
   "source": [
    "import nilearn\n",
    "from nilearn import datasets\n",
    "from nilearn import plotting\n",
    "from surfplot import Plot\n",
    "import matplotlib.pyplot as plt\n",
    "import brainspace.mesh\n",
    "\n",
    "fsaverage = datasets.fetch_surf_fsaverage()\n",
    "mesh = brainspace.mesh.mesh_io.read_surface(\n",
    "    'brainnotation/tpl-fsaverage_den-10k_hemi-L_pial.surf.gii')\n",
    "mesh2 = brainspace.mesh.mesh_io.read_surface(\n",
    "    'brainnotation/tpl-fsaverage_den-10k_hemi-R_pial.surf.gii')\n",
    "\n",
    "\n",
    "# def plot(data, title, cmap, view, c_range):\n",
    "p = Plot(mesh,mesh2)\n",
    "p.add_layer(high[0])\n",
    "fig = p.build()\n",
    "plt.title('subj 1')\n",
    "fig.show()\n"
   ]
  },
  {
   "cell_type": "code",
   "execution_count": 80,
   "metadata": {},
   "outputs": [],
   "source": []
  },
  {
   "cell_type": "code",
   "execution_count": 87,
   "metadata": {},
   "outputs": [],
   "source": [
    "np.savez('/users/local/Venkatesh/Generated_Data/noise_baseline_properly-done_eloreta/SI_5s_audio_high',high_isc_averaged = high)\n",
    "#np.savez('/users/local/Venkatesh/Generated_Data/noise_baseline_properly-done_eloreta/low_isc_full',low_isc_averaged = low)"
   ]
  },
  {
   "cell_type": "code",
   "execution_count": 4,
   "metadata": {},
   "outputs": [],
   "source": [
    "high = np.load('/users/local/Venkatesh/Generated_Data/noise_baseline_properly-done_eloreta/SI_full.npz')['high_isc_averaged']"
   ]
  },
  {
   "cell_type": "code",
   "execution_count": 5,
   "metadata": {},
   "outputs": [
    {
     "data": {
      "text/plain": [
       "(10, 360, 21250)"
      ]
     },
     "execution_count": 5,
     "metadata": {},
     "output_type": "execute_result"
    }
   ],
   "source": [
    "dic = dict()\n",
    "dic['condition1'] = np.array(high)\n",
    "np.shape(dic['condition1'])"
   ]
  },
  {
   "cell_type": "code",
   "execution_count": 10,
   "metadata": {},
   "outputs": [
    {
     "name": "stdout",
     "output_type": "stream",
     "text": [
      "train_cca - calculations started. There are 1 conditions\n",
      "Condition has 10 subjects, 360 sensors and 21250 samples\n",
      "Elapsed time: 6 seconds.\n",
      "apply_cca - calculations started\n"
     ]
    }
   ],
   "source": [
    "[W,ISC] = CCA.train_cca(dic)\n",
    "\n",
    "isc_results = dict()\n",
    "for cond_key, cond_values in dic.items():\n",
    "    isc_results[str(cond_key)] = dict(zip(['ISC', 'ISC_persecond', 'ISC_bysubject', 'A'], CCA.apply_cca(cond_values, W, 125)))\n"
   ]
  },
  {
   "cell_type": "code",
   "execution_count": 19,
   "metadata": {},
   "outputs": [],
   "source": [
    "np.savez_compressed('/users/local/Venkatesh/Generated_Data/sourceCCA_ISC',sourceCCA=isc_results['condition1']['ISC_persecond'])\n"
   ]
  },
  {
   "cell_type": "code",
   "execution_count": 3,
   "metadata": {},
   "outputs": [
    {
     "ename": "NameError",
     "evalue": "name 'v' is not defined",
     "output_type": "error",
     "traceback": [
      "\u001b[0;31m---------------------------------------------------------------------------\u001b[0m",
      "\u001b[0;31mNameError\u001b[0m                                 Traceback (most recent call last)",
      "\u001b[0;32m<ipython-input-3-2991b3e737d4>\u001b[0m in \u001b[0;36m<module>\u001b[0;34m\u001b[0m\n\u001b[1;32m      1\u001b[0m \u001b[0misc_result_old\u001b[0m \u001b[0;34m=\u001b[0m \u001b[0mnp\u001b[0m\u001b[0;34m.\u001b[0m\u001b[0mload\u001b[0m\u001b[0;34m(\u001b[0m\u001b[0;34m'/users/local/Venkatesh/Generated_Data/CCA_ISC.npz'\u001b[0m\u001b[0;34m)\u001b[0m\u001b[0;34m[\u001b[0m\u001b[0;34m'CCA_ISC'\u001b[0m\u001b[0;34m]\u001b[0m\u001b[0;34m\u001b[0m\u001b[0;34m\u001b[0m\u001b[0m\n\u001b[0;32m----> 2\u001b[0;31m \u001b[0msignificance\u001b[0m \u001b[0;34m=\u001b[0m \u001b[0mnp\u001b[0m\u001b[0;34m.\u001b[0m\u001b[0marray\u001b[0m\u001b[0;34m(\u001b[0m\u001b[0mnp\u001b[0m\u001b[0;34m.\u001b[0m\u001b[0mwhere\u001b[0m\u001b[0;34m(\u001b[0m\u001b[0mnp\u001b[0m\u001b[0;34m.\u001b[0m\u001b[0mmax\u001b[0m\u001b[0;34m(\u001b[0m\u001b[0mnp\u001b[0m\u001b[0;34m.\u001b[0m\u001b[0marray\u001b[0m\u001b[0;34m(\u001b[0m\u001b[0mv\u001b[0m\u001b[0;34m)\u001b[0m\u001b[0;34m[\u001b[0m\u001b[0;34m:\u001b[0m\u001b[0;34m,\u001b[0m\u001b[0;36m0\u001b[0m\u001b[0;34m,\u001b[0m\u001b[0;34m:\u001b[0m\u001b[0;34m]\u001b[0m\u001b[0;34m,\u001b[0m\u001b[0maxis\u001b[0m\u001b[0;34m=\u001b[0m\u001b[0;36m0\u001b[0m\u001b[0;34m)\u001b[0m\u001b[0;34m<\u001b[0m\u001b[0misc_results\u001b[0m\u001b[0;34m[\u001b[0m\u001b[0;34m'condition1'\u001b[0m\u001b[0;34m]\u001b[0m\u001b[0;34m[\u001b[0m\u001b[0;34m'ISC_persecond'\u001b[0m\u001b[0;34m]\u001b[0m\u001b[0;34m[\u001b[0m\u001b[0;36m0\u001b[0m\u001b[0;34m]\u001b[0m\u001b[0;34m)\u001b[0m\u001b[0;34m)\u001b[0m\u001b[0;34m\u001b[0m\u001b[0;34m\u001b[0m\u001b[0m\n\u001b[0m\u001b[1;32m      3\u001b[0m \u001b[0;34m\u001b[0m\u001b[0m\n\u001b[1;32m      4\u001b[0m \u001b[0mnoise\u001b[0m \u001b[0;34m=\u001b[0m \u001b[0mnp\u001b[0m\u001b[0;34m.\u001b[0m\u001b[0mload\u001b[0m\u001b[0;34m(\u001b[0m\u001b[0;34m'/users/local/Venkatesh/Generated_Data/noise_floor.npz'\u001b[0m\u001b[0;34m)\u001b[0m\u001b[0;34m[\u001b[0m\u001b[0;34m'a'\u001b[0m\u001b[0;34m]\u001b[0m\u001b[0;34m\u001b[0m\u001b[0;34m\u001b[0m\u001b[0m\n\u001b[1;32m      5\u001b[0m \u001b[0msignificance_old\u001b[0m \u001b[0;34m=\u001b[0m \u001b[0mnp\u001b[0m\u001b[0;34m.\u001b[0m\u001b[0marray\u001b[0m\u001b[0;34m(\u001b[0m\u001b[0mnp\u001b[0m\u001b[0;34m.\u001b[0m\u001b[0mwhere\u001b[0m\u001b[0;34m(\u001b[0m\u001b[0mnp\u001b[0m\u001b[0;34m.\u001b[0m\u001b[0mmax\u001b[0m\u001b[0;34m(\u001b[0m\u001b[0mnp\u001b[0m\u001b[0;34m.\u001b[0m\u001b[0marray\u001b[0m\u001b[0;34m(\u001b[0m\u001b[0mnoise\u001b[0m\u001b[0;34m)\u001b[0m\u001b[0;34m[\u001b[0m\u001b[0;34m:\u001b[0m\u001b[0;34m,\u001b[0m\u001b[0;36m0\u001b[0m\u001b[0;34m,\u001b[0m\u001b[0;34m:\u001b[0m\u001b[0;34m]\u001b[0m\u001b[0;34m,\u001b[0m\u001b[0maxis\u001b[0m\u001b[0;34m=\u001b[0m\u001b[0;36m0\u001b[0m\u001b[0;34m)\u001b[0m\u001b[0;34m<\u001b[0m\u001b[0misc_result_old\u001b[0m\u001b[0;34m[\u001b[0m\u001b[0;36m0\u001b[0m\u001b[0;34m]\u001b[0m\u001b[0;34m)\u001b[0m\u001b[0;34m)\u001b[0m\u001b[0;34m\u001b[0m\u001b[0;34m\u001b[0m\u001b[0m\n",
      "\u001b[0;31mNameError\u001b[0m: name 'v' is not defined"
     ]
    }
   ],
   "source": [
    "isc_result_old = np.load('/users/local/Venkatesh/Generated_Data/CCA_ISC.npz')['CCA_ISC']\n",
    "significance = np.array(np.where(np.max(np.array(v)[:,0,:],axis=0)<isc_results['condition1']['ISC_persecond'][0]))\n",
    "\n",
    "noise = np.load('/users/local/Venkatesh/Generated_Data/noise_floor.npz')['a']\n",
    "significance_old = np.array(np.where(np.max(np.array(noise)[:,0,:],axis=0)<isc_result_old[0]))\n",
    "\n",
    "fig = plt.figure(figsize = (10,10))\n",
    "ax1 = plt.subplot(211, frameon=False)\n",
    "ax2 = plt.subplot(212, frameon=False)\n",
    "\n",
    "\n",
    "ax1.plot(range(1,171),isc_result_old[0], label='Scalp-level estimation')\n",
    "ax1.fill_between(range(1,171),np.max(np.array(noise)[:,0,:],axis=0).T,np.min(np.array(noise)[:,0,:],axis=0).T,color ='grey',alpha=0.8)\n",
    "ax1.plot(significance_old,isc_result_old[0][significance_old],\n",
    "              marker='o', ls=\"\",color='red',markersize=4)\n",
    "ax1.legend(loc=\"upper left\")\n",
    "\n",
    "\n",
    "\n",
    "ax2.plot(range(1,171),isc_results['condition1']['ISC_persecond'][0], label='Source-level estimation')\n",
    "ax2.fill_between(range(1,171),np.max(np.array(v)[:,0,:],axis=0).T,np.min(np.array(v)[:,0,:],axis=0).T,color ='grey',alpha=0.8)\n",
    "ax2.plot(significance,isc_results['condition1']['ISC_persecond'][0][significance],\n",
    "              marker='o', ls=\"\",color='red',markersize=4)\n",
    "ax2.legend(loc=\"upper left\")\n",
    "\n",
    "\n",
    "ax1.get_shared_x_axes().join(ax1, ax2)\n",
    "ax1.set_xticklabels([])\n",
    "fig.text(0.5, 0.04, 'time (s)', ha='center')\n",
    "fig.text(0.04, 0.5, 'ISC coefficients', va='center', rotation='vertical')\n",
    "plt.suptitle('First ISC CCA component with noise floor from 5-s bootstrapping window')\n",
    "fig.savefig('/homes/v20subra/S4B2/eLORETA_extensive_validation/scalp_source_noise_floor.jpeg')"
   ]
  },
  {
   "cell_type": "code",
   "execution_count": 316,
   "metadata": {},
   "outputs": [
    {
     "data": {
      "text/plain": [
       "{}"
      ]
     },
     "execution_count": 316,
     "metadata": {},
     "output_type": "execute_result"
    }
   ],
   "source": [
    "plt.fill_between(range(1,171),np.max(np.array(v)[:,0,:],axis=0).T,np.min(np.array(v)[:,0,:],axis=0).T,color ='grey',alpha=0.8)\n",
    "plt.plot(significance,isc_results['condition1']['ISC_persecond'][0][significance],\n",
    "              marker='o', ls=\"\",color='red')\n",
    "plt.title('First component with 5-seconds block')\n",
    "plt.xlabel('time (s)')\n",
    "plt.ylabel('ISC')\n"
   ]
  },
  {
   "cell_type": "code",
   "execution_count": null,
   "metadata": {},
   "outputs": [
    {
     "data": {
      "image/png": "[encoded data removed]",
      "text/plain": [
       "<Figure size 432x288 with 1 Axes>"
      ]
     },
     "metadata": {},
     "output_type": "display_data"
    },
    {
     "data": {
      "image/png": "[encoded data removed]",
      "text/plain": [
       "<Figure size 432x288 with 1 Axes>"
      ]
     },
     "metadata": {},
     "output_type": "display_data"
    }
   ],
   "source": [
    "import matplotlib.pyplot as plt\n",
    "import numpy as np\n",
    "import scipy.signal\n",
    "\n",
    "def plot_isc(isc_all):\n",
    "    # plot ISC as a bar chart\n",
    "    plt.figure()\n",
    "    comp1 = [cond['ISC'][0] for cond in isc_all.values()]\n",
    "    comp2 = [cond['ISC'][1] for cond in isc_all.values()]\n",
    "    comp3 = [cond['ISC'][2] for cond in isc_all.values()]\n",
    "    barWidth = 0.2\n",
    "    r1 = np.arange(len(comp1))\n",
    "    r2 = [x + barWidth for x in r1]\n",
    "    r3 = [x + barWidth for x in r2]\n",
    "    plt.bar(r1, comp1, color='gray', width=barWidth, edgecolor='white', label='Comp1')\n",
    "    plt.bar(r2, comp2, color='green', width=barWidth, edgecolor='white', label='Comp2')\n",
    "    plt.bar(r3, comp3, color='blue', width=barWidth, edgecolor='white', label='Comp3')\n",
    "    plt.xticks([r + barWidth for r in range(len(comp1))], isc_all.keys())\n",
    "    plt.ylabel('ISC', fontweight='bold')\n",
    "    plt.title('ISC for each condition')\n",
    "    plt.legend()\n",
    "    plt.show()\n",
    "\n",
    "    # plot ISC_persecond\n",
    "    for cond in isc_all.values():\n",
    "        for comp_i in range(1):\n",
    "            plt.subplot(3, 1, comp_i+1)\n",
    "            plt.plot(cond['ISC_persecond'][comp_i])\n",
    "            #plt.plot ((np.array(vals)[:,comp_i,:]).T)\n",
    "            #peaks = scipy.signal.find_peaks(isc_results['condition1']['ISC_persecond'][comp_i],distance=15)\n",
    "            plt.subplots_adjust(hspace=1)\n",
    "\n",
    "            plt.plot(isc_results['condition1']['ISC_persecond'][comp_i])\n",
    "            #plt.plot(peaks[0],isc_results['condition1']['ISC_persecond'][comp_i][peaks[0]],marker='o', ls=\"\")\n",
    "\n",
    "            \n",
    "            plt.xlabel('Time (s)')\n",
    "            plt.ylabel('ISC')\n",
    "            \n",
    "\n",
    "            #plt.title('ISC per second for each condition')\n",
    "    \n",
    "plot_isc(isc_results)\n"
   ]
  },
  {
   "cell_type": "markdown",
   "metadata": {},
   "source": [
    "### Noise Floor"
   ]
  },
  {
   "cell_type": "code",
   "execution_count": 310,
   "metadata": {},
   "outputs": [
    {
     "data": {
      "application/vnd.jupyter.widget-view+json": {
       "model_id": "21271796a45a472d8c176f9d26adc3f3",
       "version_major": 2,
       "version_minor": 0
      },
      "text/plain": [
       "  0%|          | 0/3 [00:00<?, ?it/s]"
      ]
     },
     "metadata": {},
     "output_type": "display_data"
    },
    {
     "name": "stdout",
     "output_type": "stream",
     "text": [
      "apply_cca - calculations started\n",
      "apply_cca - calculations started\n",
      "apply_cca - calculations started\n"
     ]
    }
   ],
   "source": [
    "#a = list(range(100))\n",
    "import random\n",
    "from tqdm.notebook import tqdm\n",
    "\n",
    "\n",
    "valstest = []\n",
    "for i in tqdm(range(3)):\n",
    "    shuffled = shuffle(dic)\n",
    "    isc_resultstest_ = dict()\n",
    "    for cond_key, cond_values in shuffled.items():\n",
    "        isc_resultstest_[str(cond_key)] = dict(zip(['ISC', 'ISC_persecond', 'ISC_bysubject', 'A'], CCA.apply_cca(cond_values, W, 125)))\n",
    "        #print(np.mean(isc_results['condition1']['ISC_persecond'][0]))\n",
    "        valstest.append(isc_resultstest_['condition1']['ISC_persecond'])\n",
    "        #print(np.shape(isc_resultstest_['condition1']['ISC_persecond']))\n",
    "#np.append(sub1_raw.get_data()[:91,516:85779].reshape(1,91,85263),sub2_raw.get"
   ]
  },
  {
   "cell_type": "code",
   "execution_count": 309,
   "metadata": {
    "scrolled": true
   },
   "outputs": [],
   "source": [
    "import random\n",
    "from tqdm.notebook import tqdm\n",
    "\n",
    "def shuffle(a):\n",
    "    \n",
    "    for k in (range(10)):\n",
    "        for j in range(360):\n",
    "            np.random.seed(k)\n",
    "            \n",
    "            chunked = chunks(a['condition1'][k][j][:21250])\n",
    "            np.random.shuffle(chunked[0])\n",
    "            chunked = np.reshape(chunked,[21250,])\n",
    "            \n",
    "    return a\n",
    "\n",
    "def chunks(chunk):\n",
    "    chunked = chunk[:21250]\n",
    "    chunked= chunked.reshape(1,34,625) #5s chunk\n",
    "    return chunked\n",
    "\n",
    "        "
   ]
  },
  {
   "cell_type": "code",
   "execution_count": 312,
   "metadata": {},
   "outputs": [
    {
     "data": {
      "application/vnd.jupyter.widget-view+json": {
       "model_id": "d8ef2c06b5d646cdb7d269f14d53e269",
       "version_major": 2,
       "version_minor": 0
      },
      "text/plain": [
       "  0%|          | 0/1000 [00:00<?, ?it/s]"
      ]
     },
     "metadata": {},
     "output_type": "display_data"
    }
   ],
   "source": [
    "from joblib import Parallel, delayed\n",
    "\n",
    "import multiprocessing\n",
    "NB_CPU = multiprocessing.cpu_count()\n",
    "\n",
    "\n",
    "def process(i):\n",
    "    np.random.seed(i)\n",
    "    for subjects in range(10):\n",
    "        rng = np.random.default_rng()\n",
    "        np.random.seed(subjects)\n",
    "        rng.shuffle(\n",
    "                    np.swapaxes(\n",
    "                                dic['condition1'][subjects,:,:].reshape(360,34,625)\n",
    "                    , 0,1))\n",
    "    return dict(zip(['ISC', 'ISC_persecond', 'ISC_bysubject', 'A'], CCA.apply_cca(dic['condition1'], W, 125)))['ISC_persecond']\n",
    "\n",
    "isc_noise_floored= Parallel(n_jobs=NB_CPU-1,max_nbytes=None)(delayed(process)(i) for i in tqdm(range(1000)))\n"
   ]
  },
  {
   "cell_type": "code",
   "execution_count": 275,
   "metadata": {},
   "outputs": [
    {
     "data": {
      "text/plain": [
       "7651875"
      ]
     },
     "execution_count": 275,
     "metadata": {},
     "output_type": "execute_result"
    }
   ],
   "source": [
    "wx[1][0][0] - wx[0][0][0]"
   ]
  },
  {
   "cell_type": "code",
   "execution_count": 271,
   "metadata": {},
   "outputs": [
    {
     "data": {
      "text/plain": [
       "7658750"
      ]
     },
     "execution_count": 271,
     "metadata": {},
     "output_type": "execute_result"
    }
   ],
   "source": []
  },
  {
   "cell_type": "code",
   "execution_count": 274,
   "metadata": {},
   "outputs": [
    {
     "data": {
      "text/plain": [
       "()"
      ]
     },
     "execution_count": 274,
     "metadata": {},
     "output_type": "execute_result"
    }
   ],
   "source": [
    "for q in range(10):\n",
    "    np.random.seed(q)\n",
    "    wqq=np.random.shuffle(np.swapaxes(wx[q,:,:].reshape(360,34,625), 0,1))\n",
    "np.shape(wqq)"
   ]
  },
  {
   "cell_type": "code",
   "execution_count": 212,
   "metadata": {},
   "outputs": [
    {
     "data": {
      "text/plain": [
       "()"
      ]
     },
     "execution_count": 212,
     "metadata": {},
     "output_type": "execute_result"
    }
   ],
   "source": [
    "\n",
    "np.shape (\n",
    "                np.random.shuffle(\n",
    "                    np.swapaxes( \n",
    "                        np.reshape(\n",
    "                            np.array(dic['condition1'])\n",
    "                        ,(10,360,625,34)), \n",
    "                    0,3))\n",
    "           )"
   ]
  },
  {
   "cell_type": "code",
   "execution_count": 213,
   "metadata": {},
   "outputs": [
    {
     "data": {
      "text/plain": [
       "(10, 360, 21250)"
      ]
     },
     "execution_count": 213,
     "metadata": {},
     "output_type": "execute_result"
    }
   ],
   "source": [
    "np.shape(dic['condition1'])"
   ]
  },
  {
   "cell_type": "code",
   "execution_count": 78,
   "metadata": {},
   "outputs": [],
   "source": [
    "arr = np.ones((100,2,2)).T *np.arange(100)"
   ]
  },
  {
   "cell_type": "code",
   "execution_count": 202,
   "metadata": {},
   "outputs": [],
   "source": [
    "np.random.shuffle(arr.T)"
   ]
  },
  {
   "cell_type": "code",
   "execution_count": 317,
   "metadata": {},
   "outputs": [],
   "source": [
    "#significance = np.where(np.max(np.array(valstest)[:,0,:],axis=0)<isc_results['condition1']['ISC_persecond'][0])\n",
    "np.savez_compressed('/users/local/Venkatesh/Generated_Data/noise_floor_1000_on_SI_full', a=v)\n",
    "\n",
    "#np.shape(np.load('noise_floor.npz')['a'])"
   ]
  },
  {
   "cell_type": "code",
   "execution_count": 61,
   "metadata": {
    "scrolled": true
   },
   "outputs": [
    {
     "data": {
      "image/png": "[encoded data removed]",
      "text/plain": [
       "<Figure size 720x720 with 1 Axes>"
      ]
     },
     "metadata": {},
     "output_type": "display_data"
    }
   ],
   "source": [
    "#np.savez('low_isc_averaged',low_isc = low_isc)\n",
    "\n",
    "from nilearn.regions import signals_to_img_labels  \n",
    "# load nilearn label masker for inverse transform\n",
    "from nilearn.input_data import NiftiLabelsMasker, NiftiMasker\n",
    "from nilearn.datasets import fetch_icbm152_2009\n",
    "from nilearn import image, plotting\n",
    "from nilearn import datasets\n",
    "from os.path import join as opj\n",
    "\n",
    "\n",
    "path_Glasser = 'S4B2/GSP/Glasser_masker.nii.gz'\n",
    "\n",
    "\n",
    "mnitemp = fetch_icbm152_2009()\n",
    "mask_mni=image.load_img(mnitemp['mask'])\n",
    "glasser_atlas=image.load_img(path_Glasser)\n",
    "\n",
    "\n",
    "#print(NiftiMasker.__doc__)\n",
    "\n",
    "plt.show()\n",
    "fig,ax = plt.subplots(nrows=1,ncols=1, figsize=(10,10))\n",
    "signal=[]\n",
    "U0_brain=[]\n",
    "signal=np.expand_dims(W[:,0], axis=0) # add dimension 1 to signal array\n",
    "U0_brain = signals_to_img_labels(signal,path_Glasser,mnitemp['mask'])\n",
    "#plotting.plot_glass_brain(U0_brain,title='1st Spatial filter',colorbar=True,plot_abs=False,display_mode='lzr',cmap='seismic',figure=fig,axes=ax)\n",
    "U0_brain.to_filename('1st_spatial_filter.nii.gz')\n",
    "plotting.view_img(U0_brain,threshold=10,title='10%ile').save_as_html(\"10.html\")"
   ]
  },
  {
   "cell_type": "code",
   "execution_count": 46,
   "metadata": {},
   "outputs": [
    {
     "data": {
      "text/plain": [
       "<nilearn.plotting.displays.OrthoSlicer at 0x7f7624a48640>"
      ]
     },
     "execution_count": 46,
     "metadata": {},
     "output_type": "execute_result"
    },
    {
     "data": {
      "image/png": "[encoded data removed]",
      "text/plain": [
       "<Figure size 525.6x187.2 with 5 Axes>"
      ]
     },
     "metadata": {},
     "output_type": "display_data"
    }
   ],
   "source": []
  },
  {
   "cell_type": "code",
   "execution_count": 37,
   "metadata": {},
   "outputs": [
    {
     "data": {
      "text/plain": [
       "(360, 360)"
      ]
     },
     "execution_count": 37,
     "metadata": {},
     "output_type": "execute_result"
    }
   ],
   "source": [
    "\n",
    "np.shape(W)"
   ]
  },
  {
   "cell_type": "code",
   "execution_count": 55,
   "metadata": {},
   "outputs": [
    {
     "data": {
      "text/plain": [
       "(360, 1)"
      ]
     },
     "execution_count": 55,
     "metadata": {},
     "output_type": "execute_result"
    }
   ],
   "source": [
    "np.shape(zeros)"
   ]
  },
  {
   "cell_type": "code",
   "execution_count": null,
   "metadata": {},
   "outputs": [],
   "source": [
    "numpy matplotlib sns mne pandas scipy nilearn surfplot plotly chart_studio"
   ]
  }
 ],
 "metadata": {
  "interpreter": {
   "hash": "efe6c67f6304a6b945c77842a19820b093f93a7087cca5d871effb2b9455b0d2"
  },
  "kernelspec": {
   "display_name": "Python 3.8.10 64-bit",
   "name": "python3"
  },
  "language_info": {
   "codemirror_mode": {
    "name": "ipython",
    "version": 3
   },
   "file_extension": ".py",
   "mimetype": "text/x-python",
   "name": "python",
   "nbconvert_exporter": "python",
   "pygments_lexer": "ipython3",
   "version": "3.8.10"
  }
 },
 "nbformat": 4,
 "nbformat_minor": 4
}
