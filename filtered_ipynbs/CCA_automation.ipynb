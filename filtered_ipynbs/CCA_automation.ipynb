{
 "cells": [
  {
   "cell_type": "code",
   "execution_count": 3,
   "metadata": {},
   "outputs": [],
   "source": [
    "import mne\n",
    "import numpy as np\n",
    "import matplotlib.pyplot as plt\n",
    "import pandas as pd\n",
    "import numpy as np\n",
    "import os\n",
    "os.chdir('/homes/v20subra/S4B2/')\n",
    "\n",
    "from Modular_Scripts import epochs_slicing, CCA_and_noise_floor_automation"
   ]
  },
  {
   "cell_type": "markdown",
   "metadata": {},
   "source": [
    "# This is for the scalp-level CCA automation"
   ]
  },
  {
   "cell_type": "code",
   "execution_count": 15,
   "metadata": {},
   "outputs": [],
   "source": [
    "subject_list = ['NDARAD481FXF', 'NDARAV945MCQ', 'NDARBK669XJQ', 'NDARCD401HGZ', 'NDARDX770PJK', 'NDAREC182WW2',\n",
    " 'NDAREZ098ZPE', 'NDARFB107PVH', 'NDARGY054ENV', 'NDARHF023VG3', 'NDARHP176DPE', 'NDARJP133YL3', 'NDARKH741PL8', 'NDARKW999WZD',\n",
    " 'NDARLB017MBJ', 'NDARMA875ARE', 'NDARMR242UKQ', 'NDARNE511XHU', 'NDARNT042GRA', 'NDARPE596LZL', 'NDARPR768KT4', 'NDARRA733VWX',\n",
    " 'NDARRD720XZK', 'NDARRN619WHY', 'NDARTR840XP1', 'NDARUJ646APQ', 'NDARVN646NZP', 'NDARWJ087HKJ', 'NDARWV470ATB', 'NDARXB704HFD',\n",
    " 'NDARXJ468UGL', 'NDARXJ696AMX', 'NDARXU679ZE8', 'NDARXY337ZH9', 'NDARYM257RR6', 'NDARYX530MZU', 'NDARYY218AGA', 'NDARYZ408VWW',\n",
    " 'NDARZB377WZJ', 'NDARZF288FB7', 'NDARZJ414CAA', 'NDARZT772PU4']\n",
    "\n",
    "##################################\n",
    "# dataset files check#############@\n",
    "\n",
    "\n",
    "data_present = list()\n",
    "for i in range(1, len(subject_list)+1):\n",
    "    path_to_file = '/users/local/Venkatesh/HBN/%s/RestingState_data.csv' % subject_list[i-1]\n",
    "    path_to_file_video = '/users/local/Venkatesh/HBN/%s/Video3_event.csv' % subject_list[i-1]\n",
    "\n",
    "    if (os.path.isfile(path_to_file) and os.path.isfile(path_to_file_video)):\n",
    "        data_present.append (subject_list[i-1])\n",
    "        \n",
    "epochs_bundle_scalp = list()\n",
    "for i in range(len(data_present)):\n",
    "\n",
    "    raw_video,events_video = mne.io.read_raw_fif(f'/users/local/Venkatesh/Generated_Data/importing/video-watching/{data_present[i]}/raw.fif'),np.load(f'/users/local/Venkatesh/Generated_Data/importing/video-watching/{data_present[i]}/events.npz')['video_watching_events']\n",
    "    epochs = epochs_slicing.epochs(raw_video,events_video,[83,103,9999], tmin=0, tmax=170, fs = 500, epochs_to_slice='83')\n",
    "    info_d = mne.create_info(raw_video.info['ch_names'],sfreq=125,ch_types = 'eeg')\n",
    "    indexed_epochs = epochs.get_data()[:,:,:]\n",
    "    globals()[f\"epochs{i}_ISC\"] = (mne.EpochsArray(indexed_epochs,mne.create_info(raw_video.info['ch_names'],sfreq=500,ch_types = 'eeg'))).resample(125)\n",
    "    epochs_bundle_scalp.append(globals()[f\"epochs{i}_ISC\"])"
   ]
  },
  {
   "cell_type": "code",
   "execution_count": 11,
   "metadata": {},
   "outputs": [
    {
     "ename": "NameError",
     "evalue": "name 'epochs_bundle_scalp' is not defined",
     "output_type": "error",
     "traceback": [
      "\u001b[0;31m---------------------------------------------------------------------------\u001b[0m",
      "\u001b[0;31mNameError\u001b[0m                                 Traceback (most recent call last)",
      "\u001b[0;32m<ipython-input-11-09ccaff0693a>\u001b[0m in \u001b[0;36m<module>\u001b[0;34m\u001b[0m\n\u001b[1;32m      1\u001b[0m isc_scalp, nf_scalp = CCA_and_noise_floor_automation.CCAfy( \n\u001b[0;32m----> 2\u001b[0;31m \u001b[0mepochs\u001b[0m\u001b[0;34m=\u001b[0m \u001b[0mnp\u001b[0m\u001b[0;34m.\u001b[0m\u001b[0mreshape\u001b[0m\u001b[0;34m(\u001b[0m\u001b[0mnp\u001b[0m\u001b[0;34m.\u001b[0m\u001b[0marray\u001b[0m\u001b[0;34m(\u001b[0m\u001b[0mepochs_bundle_scalp\u001b[0m\u001b[0;34m)\u001b[0m\u001b[0;34m,\u001b[0m \u001b[0;34m(\u001b[0m\u001b[0;36m25\u001b[0m\u001b[0;34m,\u001b[0m\u001b[0;36m91\u001b[0m\u001b[0;34m,\u001b[0m\u001b[0;36m21250\u001b[0m\u001b[0;34m)\u001b[0m\u001b[0;34m)\u001b[0m\u001b[0;34m,\u001b[0m\u001b[0;34m\u001b[0m\u001b[0;34m\u001b[0m\u001b[0m\n\u001b[0m\u001b[1;32m      3\u001b[0m \u001b[0mhow_many_channels_for_CCA\u001b[0m\u001b[0;34m=\u001b[0m \u001b[0;36m91\u001b[0m\u001b[0;34m,\u001b[0m\u001b[0;34m\u001b[0m\u001b[0;34m\u001b[0m\u001b[0m\n\u001b[1;32m      4\u001b[0m \u001b[0mneed_noise_floor\u001b[0m\u001b[0;34m=\u001b[0m\u001b[0;32mTrue\u001b[0m\u001b[0;34m,\u001b[0m\u001b[0;34m\u001b[0m\u001b[0;34m\u001b[0m\u001b[0m\n\u001b[1;32m      5\u001b[0m \u001b[0mhow_many_subjects\u001b[0m\u001b[0;34m=\u001b[0m\u001b[0;36m25\u001b[0m\u001b[0;34m,\u001b[0m\u001b[0;34m\u001b[0m\u001b[0;34m\u001b[0m\u001b[0m\n",
      "\u001b[0;31mNameError\u001b[0m: name 'epochs_bundle_scalp' is not defined"
     ]
    }
   ],
   "source": [
    "isc_scalp, nf_scalp = CCA_and_noise_floor_automation.CCAfy( \n",
    "epochs= np.reshape(np.array(epochs_bundle_scalp), (25,91,21250)),\n",
    "how_many_channels_for_CCA= 91,\n",
    "need_noise_floor=True,\n",
    "how_many_subjects=25,\n",
    "how_many_trials_for_noise_floor = 10)"
   ]
  },
  {
   "cell_type": "markdown",
   "metadata": {},
   "source": [
    "# This is for the source-level CCA automation"
   ]
  },
  {
   "cell_type": "code",
   "execution_count": 9,
   "metadata": {},
   "outputs": [
    {
     "name": "stdout",
     "output_type": "stream",
     "text": [
      "train_cca - calculations started. There are 1 conditions\n",
      "Condition has 11 subjects, 360 sensors and 21250 samples\n",
      "Elapsed time: 5 seconds.\n",
      "apply_cca - calculations started\n"
     ]
    }
   ],
   "source": [
    "video_watching_bundle_STC = np.load('/users2/local/Venkatesh/Generated_Data/25_subjects/video_watching_bundle_STC_parcellated.npz')['video_watching_bundle_STC_parcellated']\n",
    "\n",
    "\n",
    "isc_source = CCA_and_noise_floor_automation.CCAfy(\n",
    "epochs = video_watching_bundle_STC[indices_data_present],\n",
    "how_many_channels_for_CCA= 360,\n",
    "need_noise_floor = False,\n",
    "how_many_subjects = 10,\n",
    "how_many_trials_for_noise_floor = 1000)"
   ]
  },
  {
   "cell_type": "code",
   "execution_count": 40,
   "metadata": {},
   "outputs": [],
   "source": [
    "# np.savez_compressed('/users/local/Venkatesh/Generated_Data/25_subjects/noise_floor_source',sourceCCA =nf_source)\n",
    "np.savez_compressed('/users/local/Venkatesh/Generated_Data/25_subjects/isc_source_rstate_corrected',sourceISC =isc_source['condition1']['ISC_persecond'])"
   ]
  },
  {
   "cell_type": "code",
   "execution_count": 8,
   "metadata": {},
   "outputs": [
    {
     "data": {
      "text/plain": [
       "(11, 360, 21250)"
      ]
     },
     "execution_count": 8,
     "metadata": {},
     "output_type": "execute_result"
    }
   ],
   "source": [
    "indices_data_present = [0, 1, 4, 6, 7, 8, 10, 11, 12, 16, 17]\n",
    "video_watching_bundle_STC[indices_data_present]"
   ]
  },
  {
   "cell_type": "code",
   "execution_count": 14,
   "metadata": {},
   "outputs": [
    {
     "data": {
      "text/plain": [
       "[<matplotlib.lines.Line2D at 0x7f6404dec760>]"
      ]
     },
     "execution_count": 14,
     "metadata": {},
     "output_type": "execute_result"
    },
    {
     "data": {
      "image/png": "[encoded data removed]",
      "text/plain": [
       "<Figure size 432x288 with 1 Axes>"
      ]
     },
     "metadata": {
      "needs_background": "light"
     },
     "output_type": "display_data"
    }
   ],
   "source": [
    "plt.plot(isc_scalp[0])\n"
   ]
  },
  {
   "cell_type": "code",
   "execution_count": null,
   "metadata": {},
   "outputs": [],
   "source": []
  }
 ],
 "metadata": {
  "interpreter": {
   "hash": "efe6c67f6304a6b945c77842a19820b093f93a7087cca5d871effb2b9455b0d2"
  },
  "kernelspec": {
   "display_name": "Python 3.8.10 64-bit",
   "language": "python",
   "name": "python3"
  },
  "language_info": {
   "codemirror_mode": {
    "name": "ipython",
    "version": 3
   },
   "file_extension": ".py",
   "mimetype": "text/x-python",
   "name": "python",
   "nbconvert_exporter": "python",
   "pygments_lexer": "ipython3",
   "version": "3.8.10"
  },
  "orig_nbformat": 4
 },
 "nbformat": 4,
 "nbformat_minor": 2
}
