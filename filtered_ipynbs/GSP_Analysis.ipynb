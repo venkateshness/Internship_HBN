{
 "cells": [
  {
   "cell_type": "code",
   "execution_count": 1,
   "source": [
    "import numpy as np\n",
    "from matplotlib import pyplot as plt\n",
    "from pygsp import graphs, filters\n",
    "from pygsp import plotting as gsp_plt\n",
    "from nilearn import image, plotting, datasets\n",
    "%matplotlib tk"
   ],
   "outputs": [
    {
     "output_type": "stream",
     "name": "stderr",
     "text": [
      "/homes/v20subra/.local/lib/python3.8/site-packages/nilearn/datasets/__init__.py:86: FutureWarning: Fetchers from the nilearn.datasets module will be updated in version 0.9 to return python strings instead of bytes and Pandas dataframes instead of Numpy arrays.\n",
      "  warn(\"Fetchers from the nilearn.datasets module will be \"\n"
     ]
    }
   ],
   "metadata": {}
  },
  {
   "cell_type": "code",
   "execution_count": 5,
   "source": [
    "cd"
   ],
   "outputs": [
    {
     "output_type": "stream",
     "name": "stdout",
     "text": [
      "/homes/v20subra\n"
     ]
    }
   ],
   "metadata": {}
  },
  {
   "cell_type": "code",
   "execution_count": 6,
   "source": [
    "from pathlib import Path\n",
    "from scipy import io as sio\n",
    "from pygsp import graphs\n",
    "\n",
    "path_Glasser='S4B2/GSP/Glasser_masker.nii.gz'\n",
    "res_path=''\n",
    "\n",
    "# Load structural connectivity matrix\n",
    "connectivity = sio.loadmat('S4B2/GSP/SC_avg56.mat')['SC_avg56']\n",
    "connectivity.shape\n",
    "coordinates = sio.loadmat('S4B2/GSP/Glasser360_2mm_codebook.mat')['codeBook'] # coordinates in brain space\n",
    "\n",
    "\n",
    "#G_Comb = graphs.Graph(connectivity,gtype='HCP subject',lap_type='combinatorial',coords=coordinates)# combinatorial laplacian\n",
    "G=graphs.Graph(connectivity,gtype='HCP subject',lap_type='normalized',coords=coordinates) #\n",
    "#G_RandW=graphs.Graph(connectivity,gtype='HCP subject',lap_type='normalized',coords=coordinates) #\n",
    "print(G.is_connected())\n",
    "\n",
    "\n",
    "G.set_coordinates('spring')\n",
    "#G.plot()   #edges > 10^4 not shown\n",
    "D=np.array(G.dw)\n",
    "D.shape\n"
   ],
   "outputs": [
    {
     "output_type": "stream",
     "name": "stdout",
     "text": [
      "True\n"
     ]
    },
    {
     "output_type": "execute_result",
     "data": {
      "text/plain": [
       "(360,)"
      ]
     },
     "metadata": {},
     "execution_count": 6
    }
   ],
   "metadata": {
    "scrolled": true
   }
  },
  {
   "cell_type": "code",
   "execution_count": 7,
   "source": [
    "G.compute_fourier_basis()"
   ],
   "outputs": [],
   "metadata": {}
  },
  {
   "cell_type": "code",
   "execution_count": 8,
   "source": [
    "import numpy as np\n",
    "with np.load(f\"S4B2/GSP/hcp/atlas.npz\") as dobj:\n",
    "    atlas = dict(**dobj)"
   ],
   "outputs": [],
   "metadata": {}
  },
  {
   "cell_type": "code",
   "execution_count": 9,
   "source": [
    "high = np.load('S4B2/Generated_Data/high_isc_averaged_with_cov.npz')['high_isc_averaged']\n",
    "low = np.load('S4B2/Generated_Data/low_isc_averaged_with_cov.npz')['low_isc_averaged']\n",
    "np.shape(low)"
   ],
   "outputs": [
    {
     "output_type": "execute_result",
     "data": {
      "text/plain": [
       "(10, 360, 500)"
      ]
     },
     "metadata": {},
     "execution_count": 9
    }
   ],
   "metadata": {}
  },
  {
   "cell_type": "code",
   "execution_count": 10,
   "source": [
    "np.shape(low[0])"
   ],
   "outputs": [
    {
     "output_type": "execute_result",
     "data": {
      "text/plain": [
       "(360, 500)"
      ]
     },
     "metadata": {},
     "execution_count": 10
    }
   ],
   "metadata": {}
  },
  {
   "cell_type": "code",
   "execution_count": 11,
   "source": [
    "low_gft = [G.gft(np.array(low[0])),G.gft(np.array(low[1])), \n",
    "       G.gft(np.array(low[2])), G.gft(np.array(low[3])), \n",
    "       G.gft(np.array(low[4])), G.gft(np.array(low[5])),\n",
    "       G.gft(np.array(low[6])), G.gft(np.array(low[7])), \n",
    "       G.gft(np.array(low[8])), G.gft(np.array(low[9]))]\n",
    "\n"
   ],
   "outputs": [],
   "metadata": {}
  },
  {
   "cell_type": "code",
   "execution_count": 12,
   "source": [
    "high_gft = [G.gft(np.array(high[0])),G.gft(np.array(high[1])), \n",
    "       G.gft(np.array(high[2])), G.gft(np.array(high[3])), \n",
    "       G.gft(np.array(high[4])), G.gft(np.array(high[5])),\n",
    "       G.gft(np.array(high[6])), G.gft(np.array(high[7])), \n",
    "       G.gft(np.array(high[8])), G.gft(np.array(high[9]))]\n",
    "\n",
    "differenced = np.array(high_gft) - np.array(low_gft)\n"
   ],
   "outputs": [],
   "metadata": {
    "scrolled": true
   }
  },
  {
   "cell_type": "code",
   "execution_count": 13,
   "source": [
    "differenced_low_freq = differenced[:,1:51,:]\n",
    "differenced_medium_freq = differenced[:,51:200,:]\n",
    "differenced_high_freq = differenced[:,200:,:]"
   ],
   "outputs": [],
   "metadata": {}
  },
  {
   "cell_type": "code",
   "execution_count": 19,
   "source": [
    "\n",
    "import matplotlib\n",
    "import seaborn as sns\n",
    "def heatmap(diff,title,start1,end1,div,start2,end2,operation,ylabel):\n",
    "    plt.figure(figsize=(7,7))\n",
    "    cmap_reversed = matplotlib.cm.get_cmap('Spectral').reversed()\n",
    "    if operation == 'std':\n",
    "        sns.heatmap(np.std(diff,axis=0),cmap=cmap_reversed) \n",
    "    else:\n",
    "        sns.heatmap(np.average(diff,axis=0),cmap=cmap_reversed) \n",
    "    plt.ylabel(ylabel)\n",
    "    plt.xlabel('Time (s)')\n",
    "    plt.xticks(ticks=[0,125,250,375,500],labels=[\"-0.5\",\"-0.25\",\"0\",\"0.25\",\"0.5\"],rotation='horizontal')\n",
    "    plt.yticks(ticks=np.arange(start1,end1,div),labels=np.arange(start2,end2,div),rotation='horizontal')\n",
    "    plt.axvline(x=250, linestyle = '--', color='b')\n",
    "    #plt.axvline(x=132, linestyle = '--', color='b')\n",
    "    plt.title(title)\n",
    "    plt.tight_layout()\n",
    "    plt.show()\n",
    "heatmap(differenced_low_freq,'Spectrogram for 1-50 freqs (averaged thru subjs)',1,50,2,1,50,'AVG','gFreqs')# (differenced high with low & averaged through subjects )\n",
    "heatmap(differenced_medium_freq,'Spectrogram for 50-200 freqs (averaged thru subjs)',1,150,5,50,200,'AVG','gFreqs')# (differenced high with low & averaged through subjects )\n",
    "heatmap(differenced_high_freq,'Spectrogram for 200-360 freqs (averaged thru subjs)',1,160,5,200,360,'AVG','gFreqs')# (differenced high with low & averaged through subjects )\n",
    "\n",
    "\n",
    "heatmap(differenced_low_freq,'Spectrogram for 1-50 freqs (std thru subjs)',1,50,2,1,50,'std','gFreqs')# (differenced high with low & averaged through subjects )\n",
    "heatmap(differenced_medium_freq,'Spectrogram for 50-200 freqs (std thru subjs)',1,150,5,50,200,'std','gFreqs')# (differenced high with low & averaged through subjects )\n",
    "heatmap(differenced_high_freq,'Spectrogram for 200-360 freqs (std thru subjs)',1,160,5,200,360,'AVG','gFreqs')# (differenced high with low & averaged through subjects )\n"
   ],
   "outputs": [],
   "metadata": {
    "scrolled": false
   }
  },
  {
   "cell_type": "markdown",
   "source": [
    "### Subject-wise Spectra, while Time being variability"
   ],
   "metadata": {}
  },
  {
   "cell_type": "code",
   "execution_count": 37,
   "source": [
    "def mean_std(freq,ax):\n",
    "    if ax>2:\n",
    "        d = np.average(np.array(np.abs(freq)),axis=2)[:,1:]\n",
    "    else: d = np.abs(freq[1:,:])\n",
    "    mean_t = np.mean(d,axis=0)\n",
    "    std_t = 2 * np.std(d,axis=0)\n",
    "    top = mean_t + std_t\n",
    "    bottom = mean_t - std_t\n",
    "    \n",
    "    return mean_t,std_t,top,bottom"
   ],
   "outputs": [],
   "metadata": {}
  },
  {
   "cell_type": "code",
   "execution_count": null,
   "source": [],
   "outputs": [],
   "metadata": {
    "scrolled": true
   }
  },
  {
   "cell_type": "markdown",
   "source": [
    "### Power distribution finding"
   ],
   "metadata": {}
  },
  {
   "cell_type": "code",
   "execution_count": 38,
   "source": [
    "values,_,_,_ = mean_std(np.array(low_gft),3)\n",
    "np.sum(values)/2"
   ],
   "outputs": [
    {
     "output_type": "execute_result",
     "data": {
      "text/plain": [
       "0.004102892687667312"
      ]
     },
     "metadata": {},
     "execution_count": 38
    }
   ],
   "metadata": {}
  },
  {
   "cell_type": "code",
   "execution_count": 39,
   "source": [
    "np.sum(values[:142])"
   ],
   "outputs": [
    {
     "output_type": "execute_result",
     "data": {
      "text/plain": [
       "0.0041158380892656"
      ]
     },
     "metadata": {},
     "execution_count": 39
    }
   ],
   "metadata": {}
  },
  {
   "cell_type": "code",
   "execution_count": 42,
   "source": [
    "G.e[143]"
   ],
   "outputs": [
    {
     "output_type": "execute_result",
     "data": {
      "text/plain": [
       "1.0240655747649001"
      ]
     },
     "metadata": {},
     "execution_count": 42
    }
   ],
   "metadata": {}
  },
  {
   "cell_type": "markdown",
   "source": [
    "### Dichotomy "
   ],
   "metadata": {}
  },
  {
   "cell_type": "code",
   "execution_count": 49,
   "source": [
    "#1\n",
    "l = np.where(G.e<=1.024)[0][1:]\n",
    "h = np.where(G.e>1.024)[0]"
   ],
   "outputs": [],
   "metadata": {}
  },
  {
   "cell_type": "code",
   "execution_count": 65,
   "source": [
    "def filters(isc,band,length):\n",
    "    indicator = np.ones([1,length])\n",
    "    cll =list() \n",
    "    cll.append(np.matmul(indicator,np.abs(np.array(isc)[0,band,:]))) # 1 x length & length x time\n",
    "    for i in range(1,10):\n",
    "        cll.append(np.matmul(indicator,np.abs(np.array(isc)[i,band,:])))\n",
    "    cll = np.reshape(cll,[10,500])\n",
    "    return cll"
   ],
   "outputs": [],
   "metadata": {}
  },
  {
   "cell_type": "code",
   "execution_count": 61,
   "source": [],
   "outputs": [],
   "metadata": {}
  },
  {
   "cell_type": "code",
   "execution_count": 66,
   "source": [
    "\n",
    "\n",
    "#def lowISC_high_ISC(*typ):\n",
    "a = 1  # number of rows\n",
    "b = 2  # number of columns\n",
    "c = 1  # initialize plot counter\n",
    "plt.figure(figsize=(15,15))\n",
    "typ = {'High ISC':high_gft,'Low ISC':low_gft}\n",
    "for i in range(2):\n",
    "        \n",
    "        plt.subplot(a, b, c)\n",
    "        cll1 = filters(typ[list(typ.keys())[i]],l,len(l))\n",
    "        cll2 = filters(typ[list(typ.keys())[i]],h,len(h))\n",
    "        mean_t1,std_t1, top1, bottom1= mean_std(cll1,2)\n",
    "        mean_t2,std_t2, top2, bottom2= mean_std(cll2,2)\n",
    "\n",
    "        \n",
    "        plt.legend()\n",
    "        plt.plot(range(500),mean_t1,color='b')\n",
    "        plt.fill_between(range(500),bottom1,top1, color='b', alpha=.1,label='Low')\n",
    "        plt.plot(range(500),mean_t2,color='r')\n",
    "        plt.fill_between(range(500),bottom2, top2, color='r', alpha=.1,label='High')\n",
    "        plt.ylabel('gPSDs sliced using Eigen values')\n",
    "        plt.xlabel('Time (s)',fontsize=10)\n",
    "        plt.title(list(typ.keys())[i])\n",
    "        plt.xticks(ticks=[0,125,250,375,500],labels=[\"-0.5\",\"-0.25\",\"0\",\"0.25\",\"0.5\"],rotation='horizontal')\n",
    "        plt.axvline(x=250, linestyle = '--', color='g')\n",
    "        \n",
    "        #plt.ylabel('log (gPSD)')\n",
    "        c = c + 1\n",
    "plt.suptitle('Dichotomized the eigen values(at 1.02) such that the power distribution is same & sliced the PSD using the same [Low freq = blue] Note: used np.abs while using indicator')\n",
    "plt.show()\n",
    "\n",
    "# ideas:\n",
    "#1. Sub-wise plot\n",
    "#2. Freq-wise plot\n",
    "#3. High - Low \"dicotomized plot\" and compare high - low heatmap\n",
    "\n"
   ],
   "outputs": [
    {
     "output_type": "stream",
     "name": "stderr",
     "text": [
      "No handles with labels found to put in legend.\n",
      "No handles with labels found to put in legend.\n"
     ]
    }
   ],
   "metadata": {
    "scrolled": false
   }
  },
  {
   "cell_type": "markdown",
   "source": [
    "### Frequency-wise\n"
   ],
   "metadata": {}
  },
  {
   "cell_type": "code",
   "execution_count": 54,
   "source": [
    "\n",
    "\n",
    "#def lowISC_high_ISC(*typ):\n",
    "a = 1  # number of rows\n",
    "b = 2  # number of columns\n",
    "c = 1  # initialize plot counter\n",
    "plt.figure(figsize=(15,15))\n",
    "typ = {'High ISC':high_gft,'Low ISC':low_gft}\n",
    "freq = [l,h]\n",
    "title = ['Low Frequency','High Frequency']\n",
    "for i in range(2):\n",
    "        \n",
    "        plt.subplot(a, b, c)\n",
    "        cll1 = filters(typ[list(typ.keys())[0]],freq[i],len(freq[i]))\n",
    "        cll2 = filters(typ[list(typ.keys())[1]],freq[i],len(freq[i]))\n",
    "        mean_t1,std_t1, top1, bottom1= mean_std(cll1,2)\n",
    "        mean_t2,std_t2, top2, bottom2= mean_std(cll2,2)\n",
    "\n",
    "        plt.legend()\n",
    "        plt.plot(range(500),mean_t1,color='b')\n",
    "        plt.fill_between(range(500),bottom1,top1, color='b', alpha=.1,label='High ISC')\n",
    "        plt.plot(range(500),mean_t2,color='r')\n",
    "        plt.fill_between(range(500),bottom2, top2, color='r', alpha=.1,label='Low ISC')\n",
    "        #plt.title('Graph PSD for the conditions (CI = Subjects. Time = 0.6 - 0.7s, 50 samples)')\n",
    "        plt.ylabel('gPSDs sliced using Eigen values')\n",
    "        plt.xlabel('Time (s)',fontsize=10)\n",
    "        plt.title(title[i])\n",
    "        plt.xticks(ticks=[0,125,250,375,500],labels=[\"-0.5\",\"-0.25\",\"0\",\"0.25\",\"0.5\"],rotation='horizontal')\n",
    "        plt.axvline(x=250, linestyle = '--', color='g')\n",
    "    \n",
    "        c = c + 1\n",
    "plt.suptitle('Dichotomized the eigen values(at 1.02) such that the power distribution is same & sliced the PSD using the same [blue = High ISC]')\n",
    "plt.show()\n"
   ],
   "outputs": [
    {
     "output_type": "stream",
     "name": "stderr",
     "text": [
      "No handles with labels found to put in legend.\n",
      "No handles with labels found to put in legend.\n"
     ]
    }
   ],
   "metadata": {}
  },
  {
   "cell_type": "markdown",
   "source": [
    "### Subject-wise"
   ],
   "metadata": {}
  },
  {
   "cell_type": "code",
   "execution_count": 89,
   "source": [
    "%matplotlib qt\n",
    "%gui qt\n",
    "\n",
    "\n",
    "def filters_subj(isc,band,length):\n",
    "    indicator = np.ones([1,length])\n",
    "    cll =list() \n",
    "    cll.append(np.matmul(indicator,np.abs(np.array(isc)[band,:])))\n",
    "    \n",
    "    cll = np.reshape(cll,[1,500])\n",
    "    d = np.abs(freq[1:,:])\n",
    "    #mean_t = np.mean(d,axis=0)\n",
    "    #std_t = 2 * np.std(d,axis=0)\n",
    "    #top = mean_t + std_t\n",
    "    #bottom = mean_t - std_t\n",
    "    \n",
    "    return cll\n",
    "\n",
    "#def lowISC_high_ISC(*typ):\n",
    "a = 2  # number of rows\n",
    "b = 5  # number of columns\n",
    "c = 1  # initialize plot counter\n",
    "plt.figure(figsize=(10,10))\n",
    "typ = {'High ISC':high,'Low ISC':low}\n",
    "freq = [l,h]\n",
    "for i in range(10):\n",
    "        plt.subplot(a, b, c)\n",
    "        cll1 = filters_subj(typ[list(typ.keys())[0]][i],freq[0],len(freq[0]))\n",
    "        cll2 = filters_subj(typ[list(typ.keys())[0]][i],freq[1],len(freq[1]))\n",
    "        \n",
    "        mean_t1,std_t1, top1, bottom1= mean_std(cll1,2)\n",
    "        mean_t2,std_t2, top2, bottom2= mean_std(cll2,2)\n",
    "        \n",
    "        \n",
    "        plt.legend()\n",
    "        plt.plot(range(500),mean_t1,color='b')\n",
    "        plt.fill_between(range(500),bottom1,top1, color='b', alpha=.1,label='Low')\n",
    "        plt.plot(range(500),mean_t2,color='r')\n",
    "        plt.fill_between(range(500),bottom2, top2, color='r', alpha=.1,label='High')\n",
    "        #plt.title('Graph PSD for the conditions (CI = Subjects. Time = 0.6 - 0.7s, 50 samples)')\n",
    "        plt.xticks(ticks=[0,125,250,375,500],labels=[\"-0.5\",\"-0.25\",\"0\",\"0.25\",\"0.5\"],rotation='horizontal')\n",
    "        plt.axvline(x=250, linestyle = '--', color='g')\n",
    "        \n",
    "\n",
    "        plt.ylabel('gPSDs sliced using Eigen values')\n",
    "        plt.xlabel('Time (s)',fontsize=10)\n",
    "        plt.title('Low freq (high ISC = blue)')\n",
    "        #plt.ylabel('log (gPSD)')\n",
    "        c = c + 1\n",
    "plt.suptitle('Dichotomized the eigen values(at 0.8) such that the power distribution is same & sliced the PSD using the same [Low freq = blue]')\n",
    "plt.show()"
   ],
   "outputs": [
    {
     "output_type": "stream",
     "name": "stderr",
     "text": [
      "/opt/campux/virtualenv/deeplearning-u20/lib/python3.8/site-packages/numpy/core/fromnumeric.py:3334: RuntimeWarning: Mean of empty slice.\n",
      "  return _methods._mean(a, axis=axis, dtype=dtype,\n",
      "/opt/campux/virtualenv/deeplearning-u20/lib/python3.8/site-packages/numpy/core/_methods.py:153: RuntimeWarning: invalid value encountered in true_divide\n",
      "  ret = um.true_divide(\n",
      "/opt/campux/virtualenv/deeplearning-u20/lib/python3.8/site-packages/numpy/core/_methods.py:216: RuntimeWarning: Degrees of freedom <= 0 for slice\n",
      "  ret = _var(a, axis=axis, dtype=dtype, out=out, ddof=ddof,\n",
      "/opt/campux/virtualenv/deeplearning-u20/lib/python3.8/site-packages/numpy/core/_methods.py:185: RuntimeWarning: invalid value encountered in true_divide\n",
      "  arrmean = um.true_divide(\n",
      "/opt/campux/virtualenv/deeplearning-u20/lib/python3.8/site-packages/numpy/core/_methods.py:206: RuntimeWarning: invalid value encountered in true_divide\n",
      "  ret = um.true_divide(\n",
      "WARNING:matplotlib.legend:No handles with labels found to put in legend.\n",
      "/opt/campux/virtualenv/deeplearning-u20/lib/python3.8/site-packages/numpy/core/fromnumeric.py:3334: RuntimeWarning: Mean of empty slice.\n",
      "  return _methods._mean(a, axis=axis, dtype=dtype,\n",
      "/opt/campux/virtualenv/deeplearning-u20/lib/python3.8/site-packages/numpy/core/_methods.py:153: RuntimeWarning: invalid value encountered in true_divide\n",
      "  ret = um.true_divide(\n",
      "/opt/campux/virtualenv/deeplearning-u20/lib/python3.8/site-packages/numpy/core/_methods.py:216: RuntimeWarning: Degrees of freedom <= 0 for slice\n",
      "  ret = _var(a, axis=axis, dtype=dtype, out=out, ddof=ddof,\n",
      "/opt/campux/virtualenv/deeplearning-u20/lib/python3.8/site-packages/numpy/core/_methods.py:185: RuntimeWarning: invalid value encountered in true_divide\n",
      "  arrmean = um.true_divide(\n",
      "/opt/campux/virtualenv/deeplearning-u20/lib/python3.8/site-packages/numpy/core/_methods.py:206: RuntimeWarning: invalid value encountered in true_divide\n",
      "  ret = um.true_divide(\n",
      "WARNING:matplotlib.legend:No handles with labels found to put in legend.\n",
      "/opt/campux/virtualenv/deeplearning-u20/lib/python3.8/site-packages/numpy/core/fromnumeric.py:3334: RuntimeWarning: Mean of empty slice.\n",
      "  return _methods._mean(a, axis=axis, dtype=dtype,\n",
      "/opt/campux/virtualenv/deeplearning-u20/lib/python3.8/site-packages/numpy/core/_methods.py:153: RuntimeWarning: invalid value encountered in true_divide\n",
      "  ret = um.true_divide(\n",
      "/opt/campux/virtualenv/deeplearning-u20/lib/python3.8/site-packages/numpy/core/_methods.py:216: RuntimeWarning: Degrees of freedom <= 0 for slice\n",
      "  ret = _var(a, axis=axis, dtype=dtype, out=out, ddof=ddof,\n",
      "/opt/campux/virtualenv/deeplearning-u20/lib/python3.8/site-packages/numpy/core/_methods.py:185: RuntimeWarning: invalid value encountered in true_divide\n",
      "  arrmean = um.true_divide(\n",
      "/opt/campux/virtualenv/deeplearning-u20/lib/python3.8/site-packages/numpy/core/_methods.py:206: RuntimeWarning: invalid value encountered in true_divide\n",
      "  ret = um.true_divide(\n",
      "WARNING:matplotlib.legend:No handles with labels found to put in legend.\n",
      "/opt/campux/virtualenv/deeplearning-u20/lib/python3.8/site-packages/numpy/core/fromnumeric.py:3334: RuntimeWarning: Mean of empty slice.\n",
      "  return _methods._mean(a, axis=axis, dtype=dtype,\n",
      "/opt/campux/virtualenv/deeplearning-u20/lib/python3.8/site-packages/numpy/core/_methods.py:153: RuntimeWarning: invalid value encountered in true_divide\n",
      "  ret = um.true_divide(\n",
      "/opt/campux/virtualenv/deeplearning-u20/lib/python3.8/site-packages/numpy/core/_methods.py:216: RuntimeWarning: Degrees of freedom <= 0 for slice\n",
      "  ret = _var(a, axis=axis, dtype=dtype, out=out, ddof=ddof,\n",
      "/opt/campux/virtualenv/deeplearning-u20/lib/python3.8/site-packages/numpy/core/_methods.py:185: RuntimeWarning: invalid value encountered in true_divide\n",
      "  arrmean = um.true_divide(\n",
      "/opt/campux/virtualenv/deeplearning-u20/lib/python3.8/site-packages/numpy/core/_methods.py:206: RuntimeWarning: invalid value encountered in true_divide\n",
      "  ret = um.true_divide(\n",
      "WARNING:matplotlib.legend:No handles with labels found to put in legend.\n"
     ]
    },
    {
     "output_type": "stream",
     "name": "stdout",
     "text": [
      "(1,)\n",
      "(1,)\n",
      "(1,)\n",
      "(1,)\n",
      "(1,)\n",
      "(1,)\n",
      "(1,)\n",
      "(1,)\n"
     ]
    },
    {
     "output_type": "stream",
     "name": "stderr",
     "text": [
      "/opt/campux/virtualenv/deeplearning-u20/lib/python3.8/site-packages/numpy/core/fromnumeric.py:3334: RuntimeWarning: Mean of empty slice.\n",
      "  return _methods._mean(a, axis=axis, dtype=dtype,\n",
      "/opt/campux/virtualenv/deeplearning-u20/lib/python3.8/site-packages/numpy/core/_methods.py:153: RuntimeWarning: invalid value encountered in true_divide\n",
      "  ret = um.true_divide(\n",
      "/opt/campux/virtualenv/deeplearning-u20/lib/python3.8/site-packages/numpy/core/_methods.py:216: RuntimeWarning: Degrees of freedom <= 0 for slice\n",
      "  ret = _var(a, axis=axis, dtype=dtype, out=out, ddof=ddof,\n",
      "/opt/campux/virtualenv/deeplearning-u20/lib/python3.8/site-packages/numpy/core/_methods.py:185: RuntimeWarning: invalid value encountered in true_divide\n",
      "  arrmean = um.true_divide(\n",
      "/opt/campux/virtualenv/deeplearning-u20/lib/python3.8/site-packages/numpy/core/_methods.py:206: RuntimeWarning: invalid value encountered in true_divide\n",
      "  ret = um.true_divide(\n",
      "WARNING:matplotlib.legend:No handles with labels found to put in legend.\n",
      "/opt/campux/virtualenv/deeplearning-u20/lib/python3.8/site-packages/numpy/core/fromnumeric.py:3334: RuntimeWarning: Mean of empty slice.\n",
      "  return _methods._mean(a, axis=axis, dtype=dtype,\n",
      "/opt/campux/virtualenv/deeplearning-u20/lib/python3.8/site-packages/numpy/core/_methods.py:153: RuntimeWarning: invalid value encountered in true_divide\n",
      "  ret = um.true_divide(\n",
      "/opt/campux/virtualenv/deeplearning-u20/lib/python3.8/site-packages/numpy/core/_methods.py:216: RuntimeWarning: Degrees of freedom <= 0 for slice\n",
      "  ret = _var(a, axis=axis, dtype=dtype, out=out, ddof=ddof,\n",
      "/opt/campux/virtualenv/deeplearning-u20/lib/python3.8/site-packages/numpy/core/_methods.py:185: RuntimeWarning: invalid value encountered in true_divide\n",
      "  arrmean = um.true_divide(\n",
      "/opt/campux/virtualenv/deeplearning-u20/lib/python3.8/site-packages/numpy/core/_methods.py:206: RuntimeWarning: invalid value encountered in true_divide\n",
      "  ret = um.true_divide(\n",
      "WARNING:matplotlib.legend:No handles with labels found to put in legend.\n",
      "/opt/campux/virtualenv/deeplearning-u20/lib/python3.8/site-packages/numpy/core/fromnumeric.py:3334: RuntimeWarning: Mean of empty slice.\n",
      "  return _methods._mean(a, axis=axis, dtype=dtype,\n",
      "/opt/campux/virtualenv/deeplearning-u20/lib/python3.8/site-packages/numpy/core/_methods.py:153: RuntimeWarning: invalid value encountered in true_divide\n",
      "  ret = um.true_divide(\n",
      "/opt/campux/virtualenv/deeplearning-u20/lib/python3.8/site-packages/numpy/core/_methods.py:216: RuntimeWarning: Degrees of freedom <= 0 for slice\n",
      "  ret = _var(a, axis=axis, dtype=dtype, out=out, ddof=ddof,\n",
      "/opt/campux/virtualenv/deeplearning-u20/lib/python3.8/site-packages/numpy/core/_methods.py:185: RuntimeWarning: invalid value encountered in true_divide\n",
      "  arrmean = um.true_divide(\n",
      "/opt/campux/virtualenv/deeplearning-u20/lib/python3.8/site-packages/numpy/core/_methods.py:206: RuntimeWarning: invalid value encountered in true_divide\n",
      "  ret = um.true_divide(\n",
      "WARNING:matplotlib.legend:No handles with labels found to put in legend.\n",
      "/opt/campux/virtualenv/deeplearning-u20/lib/python3.8/site-packages/numpy/core/fromnumeric.py:3334: RuntimeWarning: Mean of empty slice.\n",
      "  return _methods._mean(a, axis=axis, dtype=dtype,\n",
      "/opt/campux/virtualenv/deeplearning-u20/lib/python3.8/site-packages/numpy/core/_methods.py:153: RuntimeWarning: invalid value encountered in true_divide\n",
      "  ret = um.true_divide(\n",
      "/opt/campux/virtualenv/deeplearning-u20/lib/python3.8/site-packages/numpy/core/_methods.py:216: RuntimeWarning: Degrees of freedom <= 0 for slice\n",
      "  ret = _var(a, axis=axis, dtype=dtype, out=out, ddof=ddof,\n",
      "/opt/campux/virtualenv/deeplearning-u20/lib/python3.8/site-packages/numpy/core/_methods.py:185: RuntimeWarning: invalid value encountered in true_divide\n",
      "  arrmean = um.true_divide(\n",
      "/opt/campux/virtualenv/deeplearning-u20/lib/python3.8/site-packages/numpy/core/_methods.py:206: RuntimeWarning: invalid value encountered in true_divide\n",
      "  ret = um.true_divide(\n",
      "WARNING:matplotlib.legend:No handles with labels found to put in legend.\n"
     ]
    },
    {
     "output_type": "stream",
     "name": "stdout",
     "text": [
      "(1,)\n",
      "(1,)\n",
      "(1,)\n",
      "(1,)\n",
      "(1,)\n",
      "(1,)\n",
      "(1,)\n",
      "(1,)\n"
     ]
    },
    {
     "output_type": "stream",
     "name": "stderr",
     "text": [
      "/opt/campux/virtualenv/deeplearning-u20/lib/python3.8/site-packages/numpy/core/fromnumeric.py:3334: RuntimeWarning: Mean of empty slice.\n",
      "  return _methods._mean(a, axis=axis, dtype=dtype,\n",
      "/opt/campux/virtualenv/deeplearning-u20/lib/python3.8/site-packages/numpy/core/_methods.py:153: RuntimeWarning: invalid value encountered in true_divide\n",
      "  ret = um.true_divide(\n",
      "/opt/campux/virtualenv/deeplearning-u20/lib/python3.8/site-packages/numpy/core/_methods.py:216: RuntimeWarning: Degrees of freedom <= 0 for slice\n",
      "  ret = _var(a, axis=axis, dtype=dtype, out=out, ddof=ddof,\n",
      "/opt/campux/virtualenv/deeplearning-u20/lib/python3.8/site-packages/numpy/core/_methods.py:185: RuntimeWarning: invalid value encountered in true_divide\n",
      "  arrmean = um.true_divide(\n",
      "/opt/campux/virtualenv/deeplearning-u20/lib/python3.8/site-packages/numpy/core/_methods.py:206: RuntimeWarning: invalid value encountered in true_divide\n",
      "  ret = um.true_divide(\n",
      "WARNING:matplotlib.legend:No handles with labels found to put in legend.\n",
      "/opt/campux/virtualenv/deeplearning-u20/lib/python3.8/site-packages/numpy/core/fromnumeric.py:3334: RuntimeWarning: Mean of empty slice.\n",
      "  return _methods._mean(a, axis=axis, dtype=dtype,\n",
      "/opt/campux/virtualenv/deeplearning-u20/lib/python3.8/site-packages/numpy/core/_methods.py:153: RuntimeWarning: invalid value encountered in true_divide\n",
      "  ret = um.true_divide(\n",
      "/opt/campux/virtualenv/deeplearning-u20/lib/python3.8/site-packages/numpy/core/_methods.py:216: RuntimeWarning: Degrees of freedom <= 0 for slice\n",
      "  ret = _var(a, axis=axis, dtype=dtype, out=out, ddof=ddof,\n",
      "/opt/campux/virtualenv/deeplearning-u20/lib/python3.8/site-packages/numpy/core/_methods.py:185: RuntimeWarning: invalid value encountered in true_divide\n",
      "  arrmean = um.true_divide(\n",
      "/opt/campux/virtualenv/deeplearning-u20/lib/python3.8/site-packages/numpy/core/_methods.py:206: RuntimeWarning: invalid value encountered in true_divide\n",
      "  ret = um.true_divide(\n",
      "WARNING:matplotlib.legend:No handles with labels found to put in legend.\n"
     ]
    },
    {
     "output_type": "stream",
     "name": "stdout",
     "text": [
      "(1,)\n",
      "(1,)\n",
      "(1,)\n",
      "(1,)\n"
     ]
    }
   ],
   "metadata": {}
  },
  {
   "cell_type": "code",
   "execution_count": 52,
   "source": [
    "np.savez_compressed('data.npz',mean_t1=mean_t1, mean_t2=mean_t2,mean_std=mean_std )\n",
    "\n",
    "\n",
    "high_isc = [(np.array(averaging_by_parcellation(src_high1))),(np.array(averaging_by_parcellation(src_high2))), \n",
    "       (np.array(averaging_by_parcellation(src_high3))), (np.array(averaging_by_parcellation(src_high4))), \n",
    "       (np.array(averaging_by_parcellation(src_high5))), (np.array(averaging_by_parcellation(src_high6))),\n",
    "       (np.array(averaging_by_parcellation(src_high7))), (np.array(averaging_by_parcellation(src_high8))), \n",
    "       (np.array(averaging_by_parcellation(src_high9))), (np.array(averaging_by_parcellation(src_high10)))]\n",
    "\n",
    "low_isc = [(np.array(averaging_by_parcellation(src_low1))),(np.array(averaging_by_parcellation(src_low2))), \n",
    "       (np.array(averaging_by_parcellation(src_low3))), (np.array(averaging_by_parcellation(src_low4))), \n",
    "       (np.array(averaging_by_parcellation(src_low5))), (np.array(averaging_by_parcellation(src_low6))),\n",
    "       (np.array(averaging_by_parcellation(src_low7))), (np.array(averaging_by_parcellation(src_low8))), \n",
    "       (np.array(averaging_by_parcellation(src_low9))), (np.array(averaging_by_parcellation(src_low10)))]\n",
    "\n",
    "\n",
    "diff = np.array(high_isc) - np.array(low_isc)\n",
    "\n",
    "\n"
   ],
   "outputs": [],
   "metadata": {}
  },
  {
   "cell_type": "code",
   "execution_count": 5,
   "source": [],
   "outputs": [
    {
     "output_type": "stream",
     "name": "stdout",
     "text": [
      "Defaulting to user installation because normal site-packages is not writeable\n",
      "Requirement already satisfied: matplotlib in /homes/v20subra/.local/lib/python3.8/site-packages (3.4.2)\n",
      "Requirement already satisfied: cycler>=0.10 in /usr/lib/python3/dist-packages (from matplotlib) (0.10.0)\n",
      "Requirement already satisfied: pyparsing>=2.2.1 in /usr/home/linux/virtualenv/deeplearning-u20/lib/python3.8/site-packages (from matplotlib) (2.4.7)\n",
      "Requirement already satisfied: numpy>=1.16 in /usr/home/linux/virtualenv/deeplearning-u20/lib/python3.8/site-packages (from matplotlib) (1.18.5)\n",
      "Requirement already satisfied: kiwisolver>=1.0.1 in /usr/lib/python3/dist-packages (from matplotlib) (1.0.1)\n",
      "Requirement already satisfied: python-dateutil>=2.7 in /usr/home/linux/virtualenv/deeplearning-u20/lib/python3.8/site-packages (from matplotlib) (2.8.1)\n",
      "Requirement already satisfied: pillow>=6.2.0 in /usr/home/linux/virtualenv/deeplearning-u20/lib/python3.8/site-packages (from matplotlib) (7.2.0)\n",
      "Requirement already satisfied: six>=1.5 in /usr/home/linux/virtualenv/deeplearning-u20/lib/python3.8/site-packages (from python-dateutil>=2.7->matplotlib) (1.15.0)\n",
      "Note: you may need to restart the kernel to use updated packages.\n"
     ]
    }
   ],
   "metadata": {}
  },
  {
   "cell_type": "code",
   "execution_count": null,
   "source": [],
   "outputs": [],
   "metadata": {}
  }
 ],
 "metadata": {
  "kernelspec": {
   "display_name": "Python 3",
   "language": "python",
   "name": "python3"
  },
  "language_info": {
   "codemirror_mode": {
    "name": "ipython",
    "version": 3
   },
   "file_extension": ".py",
   "mimetype": "text/x-python",
   "name": "python",
   "nbconvert_exporter": "python",
   "pygments_lexer": "ipython3",
   "version": "3.8.10"
  }
 },
 "nbformat": 4,
 "nbformat_minor": 4
}